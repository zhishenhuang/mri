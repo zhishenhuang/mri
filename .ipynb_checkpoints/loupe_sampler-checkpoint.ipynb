{
 "cells": [
  {
   "cell_type": "code",
   "execution_count": 1,
   "id": "e0ea85ad",
   "metadata": {},
   "outputs": [],
   "source": [
    "import torch\n",
    "import sys,os\n",
    "import matplotlib.pyplot as plt\n",
    "import numpy as np\n",
    "from torch import nn\n",
    "from torch.nn import functional as Func\n",
    "from importlib import reload\n",
    "import loupe_env.line_sampler\n",
    "from loupe_env.line_sampler import *\n",
    "from loupe_env.loupe_wrap import *\n",
    "import utils\n",
    "from utils import kplot\n",
    "from typing import List\n",
    "sys.path.insert(0,'/home/huangz78/mri/unet/')\n",
    "import unet_model\n",
    "from unet_model import UNet\n",
    "\n",
    "import torch.optim as optim"
   ]
  },
  {
   "cell_type": "code",
   "execution_count": null,
   "id": "dcea4d15",
   "metadata": {},
   "outputs": [],
   "source": [
    "reload(loupe_env.loupe_wrap)\n",
    "from loupe_env.loupe_wrap import *"
   ]
  },
  {
   "cell_type": "code",
   "execution_count": null,
   "id": "7d6a984b",
   "metadata": {},
   "outputs": [],
   "source": [
    "reload(loupe_env.line_sampler)\n",
    "from loupe_env.line_sampler import *"
   ]
  },
  {
   "cell_type": "code",
   "execution_count": null,
   "id": "b3ad131e",
   "metadata": {},
   "outputs": [],
   "source": [
    "shape = [320,320]\n",
    "slope = 5\n",
    "sparsity = .25\n",
    "preselect = True\n",
    "preselect_num = 24\n",
    "sampler = LOUPESampler(shape, slope, sparsity, preselect, preselect_num)"
   ]
  },
  {
   "cell_type": "markdown",
   "id": "cea67959",
   "metadata": {},
   "source": [
    "### sampler test"
   ]
  },
  {
   "cell_type": "code",
   "execution_count": 2,
   "id": "140ad325",
   "metadata": {},
   "outputs": [],
   "source": [
    "traindata  = np.load('/home/huangz78/data/traindata_x.npz')\n",
    "dtyp       = torch.float\n",
    "trainxfull = torch.tensor(traindata['xfull'],dtype=dtyp)\n",
    "testdata   = np.load('/home/huangz78/data/testdata_x.npz')\n",
    "testxfull  = torch.tensor(testdata['xfull'],dtype=dtyp)\n",
    "# fullmask = torch.tensor(data['mask'])"
   ]
  },
  {
   "cell_type": "code",
   "execution_count": null,
   "id": "73975a00",
   "metadata": {},
   "outputs": [],
   "source": [
    "testxfull[0:10].shape"
   ]
  },
  {
   "cell_type": "code",
   "execution_count": null,
   "id": "d5688e15",
   "metadata": {},
   "outputs": [],
   "source": [
    "img   = trainxfull[0:10,:,:].view(10,1,320,320)\n",
    "ystar = torch.fft.fftn(img,dim=(2,3),norm='ortho')\n",
    "# y = torch.fft.fftn(xfull[0:3,:,:],dim=(0,1),norm='ortho')\n",
    "# y = torch.reshape(y,(y.shape[0],-1,y.shape[1],y.shape[2]))\n",
    "print(ystar.shape)"
   ]
  },
  {
   "cell_type": "code",
   "execution_count": null,
   "id": "c7379370",
   "metadata": {
    "scrolled": true
   },
   "outputs": [],
   "source": [
    "sampler = LOUPESampler(shape=shape,slope=slope,sparsity=sparsity,preselect=preselect,preselect_num=preselect_num)\n",
    "sampler(ystar,sparsity)"
   ]
  },
  {
   "cell_type": "code",
   "execution_count": null,
   "id": "47b1eb47",
   "metadata": {},
   "outputs": [],
   "source": [
    "sampler.eval()"
   ]
  },
  {
   "cell_type": "markdown",
   "id": "3832d098",
   "metadata": {},
   "source": [
    "### LOUPE pipeline"
   ]
  },
  {
   "cell_type": "code",
   "execution_count": null,
   "id": "2e29ce95",
   "metadata": {},
   "outputs": [],
   "source": [
    "#     def loss(self, pred_dict, target_dict, loss_type):\n",
    "#         \"\"\"\n",
    "#         Args:\n",
    "#             pred_dict:\n",
    "#                 output: reconstructed image from downsampled kspace measurement\n",
    "#                 energy: negative entropy of the probability mask\n",
    "#                 mask: the binazried sampling mask (used for visualization)\n",
    "#             target_dict:\n",
    "#                 target: original fully sampled image\n",
    "#             meta:\n",
    "#                 recon_weight: weight of reconstruction loss\n",
    "#                 entropy_weight: weight of the entropy loss (to encourage exploration)\n",
    "#         \"\"\"       \n",
    "#         if loss_type == 'l1':\n",
    "#             reconstruction_loss = Func.l1_loss(pred, target, size_average=True) \n",
    "#         elif loss_type == 'ssim':\n",
    "#             reconstruction_loss = -torch.mean(compute_ssim_torch(pred, target))\n",
    "#         elif loss_type == 'psnr':\n",
    "#             reconstruction_loss = - torch.mean(compute_psnr_torch(pred, target))\n",
    "#         else:\n",
    "#             raise NotImplementedError\n",
    "#         loss = reconstruction_loss\n",
    "#         return loss"
   ]
  },
  {
   "cell_type": "code",
   "execution_count": null,
   "id": "b0e67fc5",
   "metadata": {
    "scrolled": true
   },
   "outputs": [],
   "source": [
    "loupe = LOUPE()\n",
    "# img = torch.randn((1,1,320,320))\n",
    "out = loupe(ystar)\n",
    "plt.imshow(out[0,0,:,:].detach().numpy())"
   ]
  },
  {
   "cell_type": "code",
   "execution_count": 6,
   "id": "3e17b458",
   "metadata": {
    "scrolled": false
   },
   "outputs": [
    {
     "name": "stdout",
     "output_type": "stream",
     "text": [
      "[1/1][5/21] training loss: 0.0012243364471942186\n",
      "[1/1][10/21] training loss: 0.2571439743041992\n"
     ]
    },
    {
     "ename": "KeyboardInterrupt",
     "evalue": "",
     "output_type": "error",
     "traceback": [
      "\u001b[0;31m---------------------------------------------------------------------------\u001b[0m",
      "\u001b[0;31mKeyboardInterrupt\u001b[0m                         Traceback (most recent call last)",
      "\u001b[0;32m<ipython-input-6-5c7cf5337808>\u001b[0m in \u001b[0;36m<module>\u001b[0;34m\u001b[0m\n\u001b[0;32m----> 1\u001b[0;31m \u001b[0mloupeTrain\u001b[0m\u001b[0;34m(\u001b[0m\u001b[0mtrainxfull\u001b[0m\u001b[0;34m[\u001b[0m\u001b[0;36m0\u001b[0m\u001b[0;34m:\u001b[0m\u001b[0;36m21\u001b[0m\u001b[0;34m]\u001b[0m\u001b[0;34m,\u001b[0m\u001b[0mtestxfull\u001b[0m\u001b[0;34m[\u001b[0m\u001b[0;36m0\u001b[0m\u001b[0;34m:\u001b[0m\u001b[0;36m10\u001b[0m\u001b[0;34m]\u001b[0m\u001b[0;34m,\u001b[0m\u001b[0mbatchsize_train\u001b[0m\u001b[0;34m=\u001b[0m\u001b[0;36m5\u001b[0m\u001b[0;34m,\u001b[0m\u001b[0mbatchsize_val\u001b[0m\u001b[0;34m=\u001b[0m\u001b[0;36m5\u001b[0m\u001b[0;34m)\u001b[0m\u001b[0;34m\u001b[0m\u001b[0;34m\u001b[0m\u001b[0m\n\u001b[0m",
      "\u001b[0;32m<ipython-input-5-ece1440556ca>\u001b[0m in \u001b[0;36mloupeTrain\u001b[0;34m(traindata, valdata, slope, sparsity, preselect, preselect_num, unet_skip, n_channels, lrm, lru, weight_decay, momentum, epochs, batchsize_train, batchsize_val, count_start, modelpath, save_cp)\u001b[0m\n\u001b[1;32m     55\u001b[0m             \u001b[0mloss_train\u001b[0m \u001b[0;34m=\u001b[0m \u001b[0mcriterion\u001b[0m\u001b[0;34m(\u001b[0m\u001b[0mx_recon\u001b[0m\u001b[0;34m,\u001b[0m\u001b[0mxstar\u001b[0m\u001b[0;34m)\u001b[0m\u001b[0;34m\u001b[0m\u001b[0;34m\u001b[0m\u001b[0m\n\u001b[1;32m     56\u001b[0m             \u001b[0moptimizer\u001b[0m\u001b[0;34m.\u001b[0m\u001b[0mzero_grad\u001b[0m\u001b[0;34m(\u001b[0m\u001b[0;34m)\u001b[0m\u001b[0;34m\u001b[0m\u001b[0;34m\u001b[0m\u001b[0m\n\u001b[0;32m---> 57\u001b[0;31m             \u001b[0mloss_train\u001b[0m\u001b[0;34m.\u001b[0m\u001b[0mbackward\u001b[0m\u001b[0;34m(\u001b[0m\u001b[0;34m)\u001b[0m\u001b[0;34m\u001b[0m\u001b[0;34m\u001b[0m\u001b[0m\n\u001b[0m\u001b[1;32m     58\u001b[0m             \u001b[0moptimizer\u001b[0m\u001b[0;34m.\u001b[0m\u001b[0mstep\u001b[0m\u001b[0;34m(\u001b[0m\u001b[0;34m)\u001b[0m\u001b[0;34m\u001b[0m\u001b[0;34m\u001b[0m\u001b[0m\n\u001b[1;32m     59\u001b[0m             \u001b[0mprogress_str\u001b[0m \u001b[0;34m=\u001b[0m \u001b[0;34mf'[{epoch_count+1}/{epochs}][{min(batchsize_train*(batchind+1),traindata.shape[0])}/{traindata.shape[0]}]'\u001b[0m\u001b[0;34m\u001b[0m\u001b[0;34m\u001b[0m\u001b[0m\n",
      "\u001b[0;32m/opt/anaconda/envs/pyenv/lib/python3.7/site-packages/torch/tensor.py\u001b[0m in \u001b[0;36mbackward\u001b[0;34m(self, gradient, retain_graph, create_graph, inputs)\u001b[0m\n\u001b[1;32m    243\u001b[0m                 \u001b[0mcreate_graph\u001b[0m\u001b[0;34m=\u001b[0m\u001b[0mcreate_graph\u001b[0m\u001b[0;34m,\u001b[0m\u001b[0;34m\u001b[0m\u001b[0;34m\u001b[0m\u001b[0m\n\u001b[1;32m    244\u001b[0m                 inputs=inputs)\n\u001b[0;32m--> 245\u001b[0;31m         \u001b[0mtorch\u001b[0m\u001b[0;34m.\u001b[0m\u001b[0mautograd\u001b[0m\u001b[0;34m.\u001b[0m\u001b[0mbackward\u001b[0m\u001b[0;34m(\u001b[0m\u001b[0mself\u001b[0m\u001b[0;34m,\u001b[0m \u001b[0mgradient\u001b[0m\u001b[0;34m,\u001b[0m \u001b[0mretain_graph\u001b[0m\u001b[0;34m,\u001b[0m \u001b[0mcreate_graph\u001b[0m\u001b[0;34m,\u001b[0m \u001b[0minputs\u001b[0m\u001b[0;34m=\u001b[0m\u001b[0minputs\u001b[0m\u001b[0;34m)\u001b[0m\u001b[0;34m\u001b[0m\u001b[0;34m\u001b[0m\u001b[0m\n\u001b[0m\u001b[1;32m    246\u001b[0m \u001b[0;34m\u001b[0m\u001b[0m\n\u001b[1;32m    247\u001b[0m     \u001b[0;32mdef\u001b[0m \u001b[0mregister_hook\u001b[0m\u001b[0;34m(\u001b[0m\u001b[0mself\u001b[0m\u001b[0;34m,\u001b[0m \u001b[0mhook\u001b[0m\u001b[0;34m)\u001b[0m\u001b[0;34m:\u001b[0m\u001b[0;34m\u001b[0m\u001b[0;34m\u001b[0m\u001b[0m\n",
      "\u001b[0;32m/opt/anaconda/envs/pyenv/lib/python3.7/site-packages/torch/autograd/__init__.py\u001b[0m in \u001b[0;36mbackward\u001b[0;34m(tensors, grad_tensors, retain_graph, create_graph, grad_variables, inputs)\u001b[0m\n\u001b[1;32m    145\u001b[0m     Variable._execution_engine.run_backward(\n\u001b[1;32m    146\u001b[0m         \u001b[0mtensors\u001b[0m\u001b[0;34m,\u001b[0m \u001b[0mgrad_tensors_\u001b[0m\u001b[0;34m,\u001b[0m \u001b[0mretain_graph\u001b[0m\u001b[0;34m,\u001b[0m \u001b[0mcreate_graph\u001b[0m\u001b[0;34m,\u001b[0m \u001b[0minputs\u001b[0m\u001b[0;34m,\u001b[0m\u001b[0;34m\u001b[0m\u001b[0;34m\u001b[0m\u001b[0m\n\u001b[0;32m--> 147\u001b[0;31m         allow_unreachable=True, accumulate_grad=True)  # allow_unreachable flag\n\u001b[0m\u001b[1;32m    148\u001b[0m \u001b[0;34m\u001b[0m\u001b[0m\n\u001b[1;32m    149\u001b[0m \u001b[0;34m\u001b[0m\u001b[0m\n",
      "\u001b[0;32m/opt/anaconda/envs/pyenv/lib/python3.7/site-packages/torch/tensor.py\u001b[0m in \u001b[0;36mretain_grad_hook\u001b[0;34m(grad)\u001b[0m\n\u001b[1;32m    351\u001b[0m         \u001b[0mweak_self\u001b[0m \u001b[0;34m=\u001b[0m \u001b[0mweakref\u001b[0m\u001b[0;34m.\u001b[0m\u001b[0mref\u001b[0m\u001b[0;34m(\u001b[0m\u001b[0mself\u001b[0m\u001b[0;34m)\u001b[0m\u001b[0;34m\u001b[0m\u001b[0;34m\u001b[0m\u001b[0m\n\u001b[1;32m    352\u001b[0m \u001b[0;34m\u001b[0m\u001b[0m\n\u001b[0;32m--> 353\u001b[0;31m         \u001b[0;32mdef\u001b[0m \u001b[0mretain_grad_hook\u001b[0m\u001b[0;34m(\u001b[0m\u001b[0mgrad\u001b[0m\u001b[0;34m)\u001b[0m\u001b[0;34m:\u001b[0m\u001b[0;34m\u001b[0m\u001b[0;34m\u001b[0m\u001b[0m\n\u001b[0m\u001b[1;32m    354\u001b[0m             \u001b[0mvar\u001b[0m \u001b[0;34m=\u001b[0m \u001b[0mweak_self\u001b[0m\u001b[0;34m(\u001b[0m\u001b[0;34m)\u001b[0m\u001b[0;34m\u001b[0m\u001b[0;34m\u001b[0m\u001b[0m\n\u001b[1;32m    355\u001b[0m             \u001b[0;32mif\u001b[0m \u001b[0mvar\u001b[0m \u001b[0;32mis\u001b[0m \u001b[0;32mNone\u001b[0m\u001b[0;34m:\u001b[0m\u001b[0;34m\u001b[0m\u001b[0;34m\u001b[0m\u001b[0m\n",
      "\u001b[0;31mKeyboardInterrupt\u001b[0m: "
     ]
    }
   ],
   "source": [
    "loupeTrain(trainxfull[0:21],testxfull[0:10],batchsize_train=5,batchsize_val=5)"
   ]
  },
  {
   "cell_type": "code",
   "execution_count": 5,
   "id": "c1a0c1fe",
   "metadata": {},
   "outputs": [],
   "source": [
    "def normalize_data(batch):\n",
    "    for img in range(len(batch)):\n",
    "        batch[img,:,:] /= torch.max(torch.abs(batch[img,:,:]))\n",
    "    return batch\n",
    "\n",
    "def loupeTrain(traindata,valdata,\\\n",
    "               slope=5, sparsity=.25, preselect=True, preselect_num=24,\\\n",
    "               unet_skip=True, n_channels=1,\\\n",
    "               lrm=1e-3, lru=1e-4, weight_decay=0, momentum=0,\\\n",
    "               epochs=1, batchsize_train=5, batchsize_val=2, count_start=(0,0),\\\n",
    "               modelpath=None,\\\n",
    "               save_cp=True):\n",
    "    \n",
    "    '''\n",
    "    train and test data are assumed to have the shape [size, heg, wid]\n",
    "    '''\n",
    "    \n",
    "    # load sampler\n",
    "    shape   = traindata.shape[1:3]\n",
    "    \n",
    "    sampler = None\n",
    "    # load unet\n",
    "    UNET = UNet(n_channels=n_channels,n_classes=1,bilinear=(not unet_skip),skip=unet_skip)\n",
    "    unetpath = '/home/huangz78/checkpoints/unet_1_' + str(unet_skip) + '.pth'\n",
    "    checkpoint = torch.load(unetpath)\n",
    "    UNET.load_state_dict(checkpoint['model_state_dict'])\n",
    "\n",
    "    loupe = LOUPE(n_channels=n_channels,unet_skip=unet_skip,shape=shape,slope=slope,sparsity=sparsity,\\\n",
    "                  preselect=preselect,preselect_num=preselect_num,\\\n",
    "                  sampler=sampler,unet=UNET)\n",
    "    if modelpath is not None:\n",
    "        checkpoint = torch.load(modelpath)\n",
    "        loupe.load_state_dict(checkpoint['model_state_dict'])\n",
    "    loupe.train()\n",
    "    \n",
    "    # training\n",
    "    train_loss = []; val_loss = []\n",
    "    epoch_count = count_start[0];  batchind = count_start[1]\n",
    "    batch_nums  = int(np.ceil(traindata.shape[0]/batchsize_train))\n",
    "    \n",
    "    optimizer = optim.RMSprop([\n",
    "                    {'params': loupe.samplers.parameters()},\n",
    "                    {'params': loupe.unet.parameters(),'lr':lru}\n",
    "                ], lr=lrm, weight_decay=weight_decay, momentum=momentum,eps=1e-10)\n",
    "    criterion = nn.L1Loss()\n",
    "    try:\n",
    "        while epoch_count<epochs:\n",
    "            while batchind<batch_nums:\n",
    "                batch = np.arange(batchsize_train*batchind, min(batchsize_train*(batchind+1),traindata.shape[0]))\n",
    "                databatch = normalize_data(traindata[batch,:,:]) if len(batch)>1 else normalize_data(traindata[batch,:,:].view(-1,shape[0],shape[1]))\n",
    "                xstar = traindata[batch,:,:].view(batch.shape[0],-1,shape[0],shape[1])\n",
    "                ystar = F.fftn(xstar,dim=(2,3),norm='ortho')\n",
    "                x_recon = loupe(ystar)\n",
    "                breakpoint()\n",
    "                loss_train = criterion(x_recon,xstar)\n",
    "                optimizer.zero_grad()\n",
    "                loss_train.backward()\n",
    "                optimizer.step()\n",
    "                progress_str = f'[{epoch_count+1}/{epochs}][{min(batchsize_train*(batchind+1),traindata.shape[0])}/{traindata.shape[0]}]'\n",
    "                print(progress_str + f' training loss: {loss_train.item()}')\n",
    "                train_loss.append(loss_train.item())\n",
    "                batchind += 1   \n",
    "\n",
    "            # validation eval\n",
    "            valbatchind = 0\n",
    "            valbatch_nums = int(np.ceil(valdata.shape[0]/batchsize_val))\n",
    "            loupe.eval()\n",
    "            loss_val = 0\n",
    "            while (valbatchind < valbatch_nums):\n",
    "                batch = np.arange(valbatchind*batchind, min(batchsize_val*(valbatchind+1),valdata.shape[0]))\n",
    "                databatch = normalize_data(valdata[batch,:,:]) if len(batch)>1 else normalize_data(valdata[batch,:,:].view(-1,shape[0],shape[1]))\n",
    "                xstar = databatch.view(batch.shape[0],-1,shape[0],shape[1])\n",
    "                ystar = F.fftn(xstar,dim=(2,3),norm='ortho')\n",
    "                x_recon = loupe(ystar)\n",
    "                loss_val += criterion(x_recon,xstar)\n",
    "                valbatchind += 1\n",
    "            progress_str = f'[{epoch_count+1}/{epochs}]'\n",
    "            print('\\n' + progress_str + f' validation loss: {loss_val.item()/valbatch_nums}')\n",
    "            val_loss.append(loss_val.item()/valbatch_nums)\n",
    "            loupe.train()\n",
    "\n",
    "            # saving models\n",
    "            if save_cp:\n",
    "                dir_checkpoint = '/home/huangz78/checkpoints/'\n",
    "                try:\n",
    "                    os.mkdir(dir_checkpoint)\n",
    "                    print('Created checkpoint directory')\n",
    "                except OSError:\n",
    "                    pass\n",
    "                torch.save({'model_state_dict': loupe.state_dict()}, dir_checkpoint + 'loupe_model.pt')\n",
    "                np.savez(dir_checkpoint+'loupe_history.npz',loss_train=train_loss, loss_val=val_loss)\n",
    "                print(f'\\t Checkpoint for Loupe saved after epoch {epoch_count + 1}!' + '\\n')\n",
    "            epoch_count += 1\n",
    "            batchind = 0\n",
    "    except KeyboardInterrupt: # need debug\n",
    "        print('Keyboard Interrupted! Exit ~')\n",
    "        torch.save({'model_state_dict': loupe.state_dict()}, dir_checkpoint + 'loupe_model.pt')\n",
    "        np.savez(dir_checkpoint+'loupe_history.npz',loss_train=train_loss, loss_val=val_loss)\n",
    "        print('Model is saved after keyboard interruption~')\n",
    "        try:\n",
    "            sys.exit(0)\n",
    "        except SystemExit:\n",
    "            os._exit(0)"
   ]
  },
  {
   "cell_type": "code",
   "execution_count": null,
   "id": "4fc7b6f6",
   "metadata": {},
   "outputs": [],
   "source": []
  }
 ],
 "metadata": {
  "kernelspec": {
   "display_name": "Python 3",
   "language": "python",
   "name": "python3"
  },
  "language_info": {
   "codemirror_mode": {
    "name": "ipython",
    "version": 3
   },
   "file_extension": ".py",
   "mimetype": "text/x-python",
   "name": "python",
   "nbconvert_exporter": "python",
   "pygments_lexer": "ipython3",
   "version": "3.7.5"
  }
 },
 "nbformat": 4,
 "nbformat_minor": 5
}
