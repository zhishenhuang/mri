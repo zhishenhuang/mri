{
 "cells": [
  {
   "cell_type": "code",
   "execution_count": 1,
   "id": "90895aa0",
   "metadata": {},
   "outputs": [],
   "source": [
    "import numpy as np\n",
    "import argparse\n",
    "import os\n",
    "import sys\n",
    "import torch\n",
    "import torch.fft as F\n",
    "from importlib import reload\n",
    "from torch.nn.functional import relu\n",
    "import torch.nn as nn\n",
    "import torch.nn.functional as Func\n",
    "import torch.optim as optim\n",
    "import utils\n",
    "from utils import *\n",
    "\n",
    "from matplotlib import pyplot as plt\n",
    "import random\n",
    "import copy\n",
    "from sklearn.model_selection import train_test_split\n",
    "\n",
    "import skimage\n",
    "from mnet import MNet\n",
    "from loupe_env.loupe_wrap import *\n",
    "from mask_backward_v4 import *\n",
    "from sigpy.mri.app import TotalVariationRecon\n",
    "\n",
    "sys.path.insert(0,'/home/huangz78/mri/unet/')\n",
    "from unet_model import UNet\n",
    "\n",
    "torch.manual_seed(0)\n",
    "np.random.seed(0)\n",
    "random.seed(0)"
   ]
  },
  {
   "cell_type": "markdown",
   "id": "57189f66",
   "metadata": {},
   "source": [
    "# Evaluation"
   ]
  },
  {
   "cell_type": "code",
   "execution_count": 5,
   "id": "803652f9",
   "metadata": {},
   "outputs": [
    {
     "name": "stdout",
     "output_type": "stream",
     "text": [
      "test data shape:  torch.Size([1300, 320, 320])\n"
     ]
    }
   ],
   "source": [
    "testdata = torch.tensor(np.load('/mnt/shared_a/data/fastMRI/knee_singlecoil_test.npz')['data'])\n",
    "print('test data shape: ',testdata.shape)"
   ]
  },
  {
   "cell_type": "code",
   "execution_count": 8,
   "id": "ab501591",
   "metadata": {},
   "outputs": [
    {
     "name": "stdout",
     "output_type": "stream",
     "text": [
      "MNet loaded successfully from: /home/huangz78/checkpoints/mnet_split_trained_cf_8_bg_32_unet_in_chan_2.pt\n",
      "Unet loaded successfully from: /home/huangz78/checkpoints/unet_split_trained_cf_8_bg_32_unet_in_chan_2.pt\n",
      "nn's are ready\n",
      "sampling budget =  32\n"
     ]
    }
   ],
   "source": [
    "# load mnet\n",
    "sparsity = .125\n",
    "preselect_num = 8\n",
    "budget = int(testdata.shape[1]*sparsity - preselect_num)\n",
    "unet_skip = False\n",
    "unet_inchannels = 2\n",
    "mnet = MNet(beta=1,in_channels=2,out_size=320-preselect_num, imgsize=(320,320),poolk=3)\n",
    "# mnetpath = '/home/huangz78/checkpoints/mnet_split_trained_cf10_bg_43.pt'\n",
    "# mnetpath = '/home/huangz78/checkpoints/mnet_split_trained_cf16_bg_64.pt'\n",
    "# mnetpath = '/home/huangz78/checkpoints/mnet_split_trained_cf8_bg_32.pt'\n",
    "mnetpath = '/home/huangz78/checkpoints/mnet_split_trained_cf_8_bg_32_unet_in_chan_2.pt'\n",
    "\n",
    "checkpoint = torch.load(mnetpath)\n",
    "mnet.load_state_dict(checkpoint['model_state_dict'])\n",
    "# mnet.apply(mnet_weights_init)\n",
    "mnet.eval()\n",
    "print('MNet loaded successfully from: ' + mnetpath)\n",
    "\n",
    "unet_recon = UNet(n_channels=unet_inchannels,n_classes=1,bilinear=(not unet_skip),skip=unet_skip)\n",
    "unetpath = '/home/huangz78/checkpoints/unet_split_trained_cf_8_bg_32_unet_in_chan_2.pt'\n",
    "# unetpath = '/home/huangz78/checkpoints/unet_split_trained_cf8_bg_32.pt'\n",
    "# unetpath = '/home/huangz78/checkpoints/unet_split_trained_cf16_bg_64.pt'\n",
    "# unetpath = '/home/huangz78/checkpoints/unet_split_trained_cf10_bg_43.pt'\n",
    "checkpoint = torch.load(unetpath)\n",
    "unet_recon.load_state_dict(checkpoint['model_state_dict'])\n",
    "print('Unet loaded successfully from: ' + unetpath )\n",
    "unet_recon.eval()\n",
    "print('nn\\'s are ready')\n",
    "print('sampling budget = ', budget)"
   ]
  },
  {
   "cell_type": "code",
   "execution_count": 11,
   "id": "ba590a48",
   "metadata": {},
   "outputs": [],
   "source": [
    "# load data and eval\n",
    "def mnet_eval(testdata,mnet,unet,budget,batchsize=25,device='cpu'):\n",
    "    for ind in range(testdata.shape[0]):\n",
    "        testdata[ind,:,:] = testdata[ind,:,:]/torch.max(testdata[ind,:,:])\n",
    "    print('test data size:', testdata.shape)\n",
    "    batch_nums  = int(np.ceil(testdata.shape[0]/batchsize))\n",
    "    lowfreqmask = mask_naiveRand(testdata.shape[1],fix=testdata.shape[1]-budget,other=0,roll=True)[0].to(device)\n",
    "    binarize = ThresholdBinarizeMask().apply\n",
    "    \n",
    "    l1err = torch.zeros(testdata.shape[0])\n",
    "    l2err = torch.zeros(testdata.shape[0])\n",
    "    hfens = torch.zeros(testdata.shape[0])\n",
    "    ssims = torch.zeros(testdata.shape[0])\n",
    "    psnrs = torch.zeros(testdata.shape[0])\n",
    "    \n",
    "    batchind = 0\n",
    "    while batchind<batch_nums:\n",
    "        batch = torch.arange(batchsize*batchind, min(batchsize*(batchind+1),testdata.shape[0]))\n",
    "        xstar = testdata[batch,:,:].to(torch.float).to(device)\n",
    "        yfull = torch.fft.fftshift(F.fftn(xstar,dim=(1,2),norm='ortho'),dim=(1,2)) # y is ROLLED!\n",
    "        \n",
    "        y = torch.zeros((yfull.shape[0],2,yfull.shape[1],yfull.shape[2]),dtype=torch.float,device=device)\n",
    "        y[:,0,lowfreqmask==1,:] = torch.real(yfull)[:,lowfreqmask==1,:]\n",
    "        y[:,1,lowfreqmask==1,:] = torch.imag(yfull)[:,lowfreqmask==1,:]\n",
    "        mask_test = mnet_wrapper(mnet,y,budget,(testdata.shape[1],testdata.shape[2]),\\\n",
    "                                 normalize=True,detach=True,device=device)\n",
    "        \n",
    "        z = torch.zeros(xstar.shape,device=device).to(torch.cfloat)\n",
    "        for ind in range(len(xstar)):\n",
    "            z[ind,mask_test[ind,:]==1,:] = y[ind,0,mask_test[ind,:]==1,:] + 1j*y[ind,1,mask_test[ind,:]==1,:]\n",
    "        z = torch.fft.ifftshift(z , dim=(1,2)) \n",
    "        \n",
    "        if unet.n_channels == 1:\n",
    "            x_ifft = torch.abs( F.ifftn(z,dim=(1,2),norm='ortho') )\n",
    "            x_in   = x_ifft.view(len(xstar),1,testdata.shape[1],testdata.shape[2])\n",
    "        elif unet.n_channels == 2:\n",
    "            x_ifft = F.ifftn(z,dim=(1,2),norm='ortho') \n",
    "            x_in   = torch.zeros((len(xstar),2,testdata.shape[1],testdata.shape[2]))\n",
    "            x_in[:,0,:,:] = torch.real(x_ifft)\n",
    "            x_in[:,1,:,:] = torch.imag(x_ifft)\n",
    "        x = torch.squeeze(unet(x_in).detach())\n",
    "           \n",
    "        # to implement various criteria\n",
    "        l1err[batch] = compute_l1err(x,xstar)\n",
    "        l2err[batch] = compute_l2err(x,xstar)\n",
    "        hfens[batch] = torch.tensor(compute_hfen(x,xstar))\n",
    "        ssims[batch] = torch.tensor(compute_ssim(x,xstar))\n",
    "        psnrs[batch] = torch.tensor(compute_psnr(x,xstar))\n",
    "        \n",
    "        batchind += 1\n",
    "    return l1err,l2err,hfens,ssims,psnrs\n",
    "\n",
    "# print eval result"
   ]
  },
  {
   "cell_type": "code",
   "execution_count": 12,
   "id": "afe464a2",
   "metadata": {
    "scrolled": false
   },
   "outputs": [
    {
     "name": "stdout",
     "output_type": "stream",
     "text": [
      "test data size: torch.Size([1300, 320, 320])\n"
     ]
    }
   ],
   "source": [
    "l1err,l2err,hfens,ssims,psnrs = mnet_eval(testdata,mnet,unet_recon,budget,batchsize=15,device='cpu')"
   ]
  },
  {
   "cell_type": "code",
   "execution_count": 13,
   "id": "4b9bfd97",
   "metadata": {},
   "outputs": [
    {
     "data": {
      "image/png": "[encoded data removed]",
      "text/plain": [
       "<Figure size 432x288 with 1 Axes>"
      ]
     },
     "metadata": {
      "needs_background": "light"
     },
     "output_type": "display_data"
    },
    {
     "data": {
      "image/png": "[encoded data removed]",
      "text/plain": [
       "<Figure size 432x288 with 1 Axes>"
      ]
     },
     "metadata": {
      "needs_background": "light"
     },
     "output_type": "display_data"
    },
    {
     "data": {
      "image/png": "[encoded data removed]",
      "text/plain": [
       "<Figure size 432x288 with 1 Axes>"
      ]
     },
     "metadata": {
      "needs_background": "light"
     },
     "output_type": "display_data"
    },
    {
     "data": {
      "image/png": "[encoded data removed]",
      "text/plain": [
       "<Figure size 432x288 with 1 Axes>"
      ]
     },
     "metadata": {
      "needs_background": "light"
     },
     "output_type": "display_data"
    },
    {
     "data": {
      "image/png": "[encoded data removed]",
      "text/plain": [
       "<Figure size 432x288 with 1 Axes>"
      ]
     },
     "metadata": {
      "needs_background": "light"
     },
     "output_type": "display_data"
    }
   ],
   "source": [
    "plt.boxplot(l1err.numpy())\n",
    "plt.title('l1err')\n",
    "plt.show()\n",
    "\n",
    "plt.boxplot(l2err.numpy())\n",
    "plt.title('l2err')\n",
    "plt.show()\n",
    "\n",
    "plt.boxplot(hfens.numpy())\n",
    "plt.title('HFEN')\n",
    "plt.show()\n",
    "\n",
    "plt.boxplot(ssims.numpy())\n",
    "plt.title('SSIM')\n",
    "plt.show()\n",
    "\n",
    "plt.boxplot(psnrs.numpy())\n",
    "plt.title('PSNR')\n",
    "plt.show()"
   ]
  },
  {
   "cell_type": "markdown",
   "id": "f17349c1",
   "metadata": {},
   "source": [
    "# comparison between MNet and Loupe"
   ]
  },
  {
   "cell_type": "code",
   "execution_count": null,
   "id": "32f5108e",
   "metadata": {},
   "outputs": [],
   "source": [
    "dtyp = torch.float\n",
    "testxdata  = np.load('/home/huangz78/data/testdata_x.npz')\n",
    "testydata  = np.load('/home/huangz78/data/testdata_y.npz')\n",
    "testxfull = torch.tensor(testxdata['xfull'],dtype=dtyp)\n",
    "testyfull = torch.tensor(testydata['yfull'],dtype=torch.cfloat)"
   ]
  },
  {
   "cell_type": "code",
   "execution_count": null,
   "id": "408933a5",
   "metadata": {},
   "outputs": [],
   "source": [
    "# sparsity = .25\n",
    "# preselect_num = 24\n",
    "# unet_skip = True\n",
    "\n",
    "sparsity = .125\n",
    "preselect_num = 8\n",
    "unet_skip = True"
   ]
  },
  {
   "cell_type": "code",
   "execution_count": null,
   "id": "ec968394",
   "metadata": {},
   "outputs": [],
   "source": [
    "# load mnet\n",
    "mnet = MNet(beta=1,in_channels=2,out_size=320-preselect_num, imgsize=(320,320),poolk=3)\n",
    "# mnetpath = '/home/huangz78/checkpoints/mnet.pth'\n",
    "mnetpath = '/home/huangz78/checkpoints/mnet_split_trained_cf8_bg_32.pt'\n",
    "checkpoint = torch.load(mnetpath)\n",
    "mnet.load_state_dict(checkpoint['model_state_dict'])\n",
    "mnet.eval()\n",
    "print('MNet loaded successfully from: ' + mnetpath)\n",
    "\n",
    "unet_recon = UNet(n_channels=1,n_classes=1,bilinear=(not unet_skip),skip=unet_skip)\n",
    "unetpath = '/home/huangz78/checkpoints/unet_1_True.pth'\n",
    "checkpoint = torch.load(unetpath)\n",
    "unet_recon.load_state_dict(checkpoint['model_state_dict'])\n",
    "print('Unet loaded successfully from: ' + unetpath )\n",
    "unet_recon.eval()\n",
    "print('nn\\'s are ready')"
   ]
  },
  {
   "cell_type": "code",
   "execution_count": null,
   "id": "a99ae5fd",
   "metadata": {},
   "outputs": [],
   "source": [
    "def mnet_eval(mnet,unet,testdata,preselect_num,sparsity,\\\n",
    "             batchsize=5,mode='unet',\\\n",
    "             Lambda=1e-4,\\\n",
    "             normalize=False):\n",
    "    \n",
    "    # prepare test data for mnet input\n",
    "    nimgs = testdata.shape[0]; heg = testdata.shape[1]; wid = testdata.shape[2]\n",
    "    \n",
    "    data = torch.zeros(nimgs,2,heg,wid)    \n",
    "    lf_mask = mask_naiveRand(heg,fix=preselect_num,other=0,roll=False)\n",
    "    data[:,0,lf_mask==1,:] = torch.real(testdata[:,lf_mask==1,:])\n",
    "    data[:,1,lf_mask==1,:] = torch.imag(testdata[:,lf_mask==1,:])\n",
    "    \n",
    "    pred_mnet = torch.zeros((nimgs,heg))\n",
    "    batchnums = int(np.ceil(nimgs/batchsize))\n",
    "    batchind = 0\n",
    "    while batchind < batchnums:\n",
    "        batch = np.arange(batchsize*batchind, min(batchsize*(batchind+1),nimgs))\n",
    "        databatch = data[batch]\n",
    "        preds = mnet_wrapper(mnet,databatch,budget=int(heg*sparsity)-preselect_num,\\\n",
    "                             imgshape=[heg,wid],normalize=True,detach=True)\n",
    "        pred_mnet[batch] = F.ifftshift(preds,dim=1)\n",
    "        batchind += 1\n",
    "    \n",
    "    observed_kspace = torch.zeros_like(testdata)\n",
    "    for ind in range(len(data)):\n",
    "        observed_kspace[ind,pred_mnet[ind,:]==1,:] = testdata[ind,pred_mnet[ind,:]==1,:]\n",
    "    imgs_recon = torch.zeros(testdata.shape)\n",
    "    \n",
    "    if mode == 'unet':\n",
    "        input_unet = F.ifftn(observed_kspace,dim=(1,2),norm='ortho').abs().view(nimgs,1,heg,wid)\n",
    "        batchind = 0\n",
    "        while batchind < batchnums:\n",
    "            batch = np.arange(batchsize*batchind, min(batchsize*(batchind+1),nimgs))\n",
    "            databatch = input_unet[batch]\n",
    "            if not normalize:\n",
    "                imgs_recon[batch] = torch.squeeze(unet(databatch).detach())\n",
    "            else:\n",
    "                recon_batch = unet(databatch).detach()\n",
    "                for ind in range(len(recon_batch)):\n",
    "                    recon_batch[ind] = recon_batch[ind]/torch.max(torch.abs(torch.flatten(recon_batch[ind])))\n",
    "                imgs_recon[batch] = torch.squeeze(recon_batch)\n",
    "            batchind += 1\n",
    "    elif mode == 'sigpy':\n",
    "        mps = np.ones((1,heg,wid))\n",
    "        for ind in range(len(observed_kspace)):\n",
    "            y_tmp = observed_kspace[ind,:,:].view(-1,heg,wid).numpy()\n",
    "            imgs_recon[ind,:,:] = torch.tensor(\\\n",
    "                       np.fft.ifftshift(np.abs(TotalVariationRecon(y_tmp, mps, Lambda,show_pbar=False).run())) )\n",
    "\n",
    "    ssim = compute_ssim(imgs_recon,testdata)\n",
    "    psnr = compute_psnr(imgs_recon,testdata)\n",
    "    hfen = np.zeros((nimgs))\n",
    "    for ind in range(nimgs):\n",
    "        hfen[ind] = compute_hfen(imgs_recon[ind,:,:].to(torch.cfloat),testdata[ind,:,:].to(torch.cfloat))\n",
    "    rmse = np.zeros((nimgs))\n",
    "    for ind in range(nimgs):\n",
    "        rmse[ind] = torch.norm(imgs_recon[ind,:,:] - testdata[ind,:,:],2)/torch.norm(testdata[ind,:,:],2)\n",
    "    \n",
    "    return ssim,psnr,hfen,rmse"
   ]
  },
  {
   "cell_type": "code",
   "execution_count": null,
   "id": "7deba490",
   "metadata": {
    "scrolled": false
   },
   "outputs": [],
   "source": [
    "mnet_test_mode = 'sigpy'\n",
    "ssim_mnet,psnr_mnet,hfen_mnet,rmse_mnet = mnet_eval(mnet,unet_recon,testyfull,preselect_num=24,sparsity=.25,\\\n",
    "                               batchsize=5,mode=mnet_test_mode,normalize=False)"
   ]
  },
  {
   "cell_type": "code",
   "execution_count": null,
   "id": "5f2c4efa",
   "metadata": {},
   "outputs": [],
   "source": [
    "print('mnet test mode: ',mnet_test_mode)\n",
    "print('ssim mnet: ',np.mean(ssim_mnet))\n",
    "print('psnr mnet: ',np.mean(psnr_mnet))\n",
    "print('hfen mnet: ',np.mean(hfen_mnet))\n",
    "print('rmse mnet: ',np.mean(rmse_mnet))"
   ]
  },
  {
   "cell_type": "code",
   "execution_count": null,
   "id": "9ac3f922",
   "metadata": {},
   "outputs": [],
   "source": [
    "# load unet\n",
    "unet_skip = False\n",
    "UNET = UNet(n_channels=1,n_classes=1,bilinear=(not unet_skip),skip=unet_skip)\n",
    "# load loupe model\n",
    "loupepath = '/home/huangz78/checkpoints/loupe_skipTrue.pt'\n",
    "loupe = LOUPE(n_channels=1,unet_skip=True,shape=[320,320],slope=5,sparsity=sparsity,\\\n",
    "                  preselect=True,preselect_num=preselect_num,\\\n",
    "                  sampler=None,unet=UNET)"
   ]
  },
  {
   "cell_type": "code",
   "execution_count": null,
   "id": "825ddcdc",
   "metadata": {},
   "outputs": [],
   "source": [
    "def loupe_eval(loupe,testdata,preselect_num,sparsity,\\\n",
    "               batchsize=5,mode='unet',\\\n",
    "               Lambda=1e-4):\n",
    "    loupe.eval()\n",
    "    if preselect_num > 0:\n",
    "        assert loupe.preselect\n",
    "        assert loupe.preselect_num == preselect_num\n",
    "    # prepare test data for mnet input\n",
    "    nimgs = testdata.shape[0]; heg = testdata.shape[1]; wid = testdata.shape[2]    \n",
    "    data = torch.reshape(testdata,(nimgs,1,heg,wid))\n",
    "    \n",
    "    pred_loupe = torch.zeros((nimgs,heg,wid)) \n",
    "    batchnums = int(np.ceil(nimgs/batchsize))\n",
    "    batchind = 0    \n",
    "    if mode == 'unet':           \n",
    "        while batchind < batchnums:\n",
    "            batch = np.arange(batchsize*batchind, min(batchsize*(batchind+1),nimgs))\n",
    "            databatch = data[batch]\n",
    "            preds,_ = loupe(databatch)\n",
    "            pred_loupe[batch] = torch.squeeze( preds.detach() )\n",
    "            batchind += 1\n",
    "    elif mode == 'sigpy':\n",
    "        masks_loupe = torch.zeros((batchnums,heg))\n",
    "        while batchind < batchnums:\n",
    "            batch = np.arange(batchsize*batchind, min(batchsize*(batchind+1),nimgs))\n",
    "            databatch = data[batch]\n",
    "            _,mask = loupe.samplers[0](databatch,sparsity)\n",
    "\n",
    "            mask = torch.squeeze(mask.detach())\n",
    "            masks_loupe[batchind,:] = mask\n",
    "            observed_kspace = torch.zeros_like(databatch)\n",
    "            imgs_recon = torch.zeros((len(databatch),heg,wid))\n",
    "            observed_kspace[:,:,mask==1,:] = databatch[:,:,mask==1,:]\n",
    "            \n",
    "            mps = np.ones((1,heg,wid))\n",
    "            for ind in range(len(observed_kspace)):\n",
    "                y_tmp = observed_kspace[ind,0,:,:].view(-1,heg,wid).numpy()\n",
    "                imgs_recon[ind,:,:] = torch.tensor(\\\n",
    "                           np.fft.ifftshift(np.abs(TotalVariationRecon(y_tmp, mps, Lambda,show_pbar=False).run())) )\n",
    "            pred_loupe[batch] = imgs_recon\n",
    "            batchind += 1\n",
    "        \n",
    "    ssim = compute_ssim(pred_loupe,testdata)\n",
    "    psnr = compute_psnr(pred_loupe,testdata)\n",
    "    hfen = np.zeros((nimgs))\n",
    "    for ind in range(nimgs):\n",
    "        hfen[ind] = compute_hfen(pred_loupe[ind,:,:].to(torch.cfloat),testdata[ind,:,:].to(torch.cfloat))\n",
    "    rmse = np.zeros((nimgs))\n",
    "    for ind in range(nimgs):\n",
    "        rmse[ind] = torch.norm(pred_loupe[ind,:,:] - testdata[ind,:,:],2)/torch.norm(testdata[ind,:,:],2)\n",
    "    \n",
    "    return ssim,psnr,hfen,rmse"
   ]
  },
  {
   "cell_type": "code",
   "execution_count": null,
   "id": "0d9fdaee",
   "metadata": {},
   "outputs": [],
   "source": [
    "loupe_test_mode = 'unet'\n",
    "ssim_loupe,psnr_loupe,hfen_loupe,rmse_loupe = loupe_eval(loupe,testyfull,preselect_num=24,sparsity=.25,\\\n",
    "                               batchsize=5,mode=loupe_test_mode)"
   ]
  },
  {
   "cell_type": "code",
   "execution_count": null,
   "id": "7416f220",
   "metadata": {},
   "outputs": [],
   "source": [
    "print('mnet test mode: ',mnet_test_mode)\n",
    "print('ssim loupe: ',np.mean(ssim_loupe))\n",
    "print('psnr loupe: ',np.mean(psnr_loupe))\n",
    "print('hfen loupe: ',np.mean(hfen_loupe))\n",
    "print('rmse loupe: ',np.mean(rmse_loupe))"
   ]
  },
  {
   "cell_type": "markdown",
   "id": "dfd5542b",
   "metadata": {},
   "source": [
    "# main demo: show masks and triviality check"
   ]
  },
  {
   "cell_type": "code",
   "execution_count": 2,
   "id": "d32c8c3a",
   "metadata": {},
   "outputs": [
    {
     "name": "stdout",
     "output_type": "stream",
     "text": [
      "budget is 32\n"
     ]
    }
   ],
   "source": [
    "heg = 320\n",
    "wid = 320\n",
    "sparsity = .125\n",
    "preselect_num = 8\n",
    "budget = int(heg * sparsity - preselect_num)\n",
    "unet_skip = True\n",
    "print(f'budget is {budget}')"
   ]
  },
  {
   "cell_type": "code",
   "execution_count": null,
   "id": "df52537a",
   "metadata": {},
   "outputs": [],
   "source": [
    "# load mnet\n",
    "mnet = MNet(beta=1,in_channels=2,out_size=320-preselect_num, imgsize=(320,320),poolk=3)\n",
    "mnetpath = '/home/huangz78/checkpoints/mnet_split_trained_cf10_bg_43.pt'\n",
    "# mnetpath = '/home/huangz78/checkpoints/mnet_split_trained_cf16_bg_64.pt'\n",
    "# mnetpath = '/home/huangz78/checkpoints/mnet_split_trained_cf8_bg_32.pt'\n",
    "checkpoint = torch.load(mnetpath)\n",
    "mnet.load_state_dict(checkpoint['model_state_dict'])\n",
    "# mnet.apply(mnet_weights_init)\n",
    "mnet.eval()\n",
    "print('MNet loaded successfully from: ' + mnetpath)\n",
    "\n",
    "unet_recon = UNet(n_channels=1,n_classes=1,bilinear=(not unet_skip),skip=unet_skip)\n",
    "# unetpath = '/home/huangz78/checkpoints/unet_split_trained_cf8_bg_32.pt'\n",
    "# unetpath = '/home/huangz78/checkpoints/unet_split_trained_cf16_bg_64.pt'\n",
    "unetpath = '/home/huangz78/checkpoints/unet_split_trained_cf10_bg_43.pt'\n",
    "checkpoint = torch.load(unetpath)\n",
    "unet_recon.load_state_dict(checkpoint['model_state_dict'])\n",
    "print('Unet loaded successfully from: ' + unetpath )\n",
    "unet_recon.eval()\n",
    "print('nn\\'s are ready')"
   ]
  },
  {
   "cell_type": "code",
   "execution_count": null,
   "id": "0b54d220",
   "metadata": {},
   "outputs": [],
   "source": [
    "imgind = 126\n",
    "kimg = testyfull[imgind].view(1,1,heg,heg)\n",
    "\n",
    "_,loupe_mask = loupe.samplers[0](kimg,sparsity)\n",
    "loupe_mask = torch.squeeze(loupe_mask.detach())\n",
    "kplot(loupe_mask,roll=True)"
   ]
  },
  {
   "cell_type": "code",
   "execution_count": 7,
   "id": "e876d67e",
   "metadata": {},
   "outputs": [],
   "source": [
    "# load data\n",
    "imgs = torch.tensor( np.load('/home/huangz78/data/data_gt.npz')['imgdata'] ).permute(2,0,1)\n",
    "labels = torch.tensor( np.load('/home/huangz78/data/data_gt_greedymask.npz')['mask'].T ) # labels are already rolled"
   ]
  },
  {
   "cell_type": "code",
   "execution_count": 9,
   "id": "00783873",
   "metadata": {},
   "outputs": [],
   "source": [
    "imgind_1 = 0\n",
    "img_1  = imgs[imgind_1,:,:].view(1,heg,wid)/torch.max(torch.abs(imgs[imgind_1,:,:]))\n",
    "kimg_1 = F.fftshift(F.fftn(img_1,dim=(1,2),norm='ortho').to(torch.cfloat)) # kspace shifted"
   ]
  },
  {
   "cell_type": "code",
   "execution_count": 20,
   "id": "762c160a",
   "metadata": {},
   "outputs": [],
   "source": [
    "greedymask = labels[imgind_1,:]\n",
    "kin = torch.zeros_like(kimg_1)\n",
    "kin[:,greedymask==1,:] = kimg_1[:,greedymask==1,:]\n",
    "kin = kin.numpy()\n",
    "mps = np.ones((1,heg,wid))\n",
    "x   = np.fft.ifftshift( np.abs(TotalVariationRecon(kin, mps, 1e-4,show_pbar=False).run()) )\n",
    "x = np.reshape(x,(1,heg,wid))"
   ]
  },
  {
   "cell_type": "code",
   "execution_count": 25,
   "id": "57cbe1a9",
   "metadata": {},
   "outputs": [
    {
     "data": {
      "text/plain": [
       "0.07250543556384713"
      ]
     },
     "execution_count": 25,
     "metadata": {},
     "output_type": "execute_result"
    }
   ],
   "source": [
    "np.linalg.norm(x[0,:,:] - img_1[0,:,:].numpy(),ord='fro')/np.linalg.norm(img_1[0,:,:].numpy(),ord='fro')"
   ]
  },
  {
   "cell_type": "code",
   "execution_count": null,
   "id": "e361f97e",
   "metadata": {},
   "outputs": [],
   "source": [
    "imgind_1 = 12\n",
    "img_1 = imgs[imgind_1,:,:].view(1,1,heg,wid)/torch.max(torch.abs(imgs[imgind_1,:,:]))\n",
    "kimg_1 = F.fftshift(F.fftn(img_1,dim=(2,3),norm='ortho').to(torch.cfloat)) # kspace shifted\n",
    "lfmask,_,_ = mask_naiveRand(heg,fix=preselect_num,other=0,roll=True)\n",
    "rdmask,_,_ = mask_naiveRand(heg,fix=preselect_num,other=budget,roll=True)\n",
    "\n",
    "kimg_lf_1 = torch.zeros(1,2,heg,wid)    \n",
    "kimg_lf_1[:,0,lfmask==1,:] = torch.real(kimg_1[:,:,lfmask==1,:])\n",
    "kimg_lf_1[:,1,lfmask==1,:] = torch.imag(kimg_1[:,:,lfmask==1,:])\n",
    "# _,loupe_mask = loupe.samplers[0](kimg,sparsity)\n",
    "# loupe_mask = torch.squeeze(loupe_mask.detach())\n",
    "# kplot(loupe_mask,roll=True)\n",
    "\n",
    "mnet_mask_1 = mnet_wrapper(mnet,kimg_lf_1,budget=int(heg*sparsity)-preselect_num,\\\n",
    "                             imgshape=[heg,wid],normalize=True,detach=True)\n",
    "mnet_mask_1 = torch.squeeze(mnet_mask_1)\n",
    "\n",
    "greedy_mask_1 = labels[imgind_1,:]\n",
    "\n",
    "kplot(mnet_mask_1,roll=False,img_name='mnet mask 1')\n",
    "print('quality of mnet mask for image 1: ', mask_eval(mnet_mask_1.view(-1,320),img_1.view(1,heg,wid),\\\n",
    "              mode='UNET',UNET=unet_recon,dtyp=torch.float,\\\n",
    "              Lambda=10**(-4.3),hfen=False))\n",
    "\n",
    "kplot(greedy_mask_1,roll=False,img_name='greedy mask 1')\n",
    "print('quality of greedy mask for image 1: ',mask_eval(greedy_mask_1.view(-1,320),img_1.view(1,heg,wid),\\\n",
    "              mode='UNET',UNET=unet_recon,dtyp=torch.float,\\\n",
    "              Lambda=10**(-4.3),hfen=False))"
   ]
  },
  {
   "cell_type": "code",
   "execution_count": null,
   "id": "a0269925",
   "metadata": {
    "scrolled": true
   },
   "outputs": [],
   "source": [
    "for imgind_2 in range(20):\n",
    "# imgind_2 = 693\n",
    "    print(imgind_2)\n",
    "    img_2 = imgs[imgind_2,:,:].view(1,1,heg,wid)/torch.max(torch.abs(imgs[imgind_2,:,:]))\n",
    "    kimg_2 = F.fftshift(F.fftn(img_2,dim=(2,3),norm='ortho').to(torch.cfloat)) # kspace shifted\n",
    "\n",
    "    kimg_lf_2 = torch.zeros(1,2,heg,wid)    \n",
    "    kimg_lf_2[:,0,lfmask==1,:] = torch.real(kimg_2[:,:,lfmask==1,:])\n",
    "    kimg_lf_2[:,1,lfmask==1,:] = torch.imag(kimg_2[:,:,lfmask==1,:])\n",
    "\n",
    "    mnet_mask_2 = mnet_wrapper(mnet,kimg_lf_2,budget=int(heg*sparsity)-preselect_num,\\\n",
    "                                 imgshape=[heg,wid],normalize=True,detach=True)\n",
    "    mnet_mask_2 = torch.squeeze(mnet_mask_2)\n",
    "\n",
    "    greedy_mask_2 = labels[imgind_2,:]\n",
    "\n",
    "    \n",
    "    # kplot(greedy_mask_2,roll=False,img_name='greedy mask 2')\n",
    "\n",
    "    slope = 1\n",
    "    if (mnet_mask_1 - mnet_mask_2).abs().sum() > 0:\n",
    "        kplot(mnet_mask_2,roll=False,img_name='mnet mask 2')\n",
    "        print('direct input difference: ',kimg_lf_1[:,:,lfmask==1,:] - kimg_lf_2[:,:,lfmask==1,:])\n",
    "        print('sigmoid mnet output difference: ',torch.sigmoid(slope * mnet(kimg_lf_1)) - torch.sigmoid(slope * mnet(kimg_lf_2)))\n",
    "        print('mask difference: ', mnet_mask_1 - mnet_mask_2) \n",
    "        print('mnet total line count difference: ', (mnet_mask_1 - mnet_mask_2).abs().sum())"
   ]
  },
  {
   "cell_type": "code",
   "execution_count": null,
   "id": "31f06fc3",
   "metadata": {
    "scrolled": false
   },
   "outputs": [],
   "source": [
    "# image reconstruction\n",
    "kimg_mn_1 = torch.zeros(1,1,heg,wid).to(torch.cfloat)   \n",
    "kimg_mn_1[:,:,mnet_mask_1==1,:] = kimg_1[:,:,mnet_mask_1==1,:]\n",
    "xifft_mn_1 = torch.abs( F.ifftn(F.ifftshift(kimg_mn_1),dim=(2,3),norm='ortho') ) # kspace shifted\n",
    "\n",
    "kimg_rd_1 = torch.zeros(1,1,heg,wid).to(torch.cfloat)   \n",
    "kimg_rd_1[:,:,rdmask==1,:] = kimg_1[:,:,rdmask==1,:]\n",
    "xifft_rd_1 = torch.abs( F.ifftn(F.ifftshift(kimg_rd_1),dim=(2,3),norm='ortho') )\n",
    "\n",
    "kimg_gr_1 = torch.zeros(1,1,heg,wid).to(torch.cfloat)  \n",
    "kimg_gr_1[:,:,greedy_mask_1==1,:] = kimg_1[:,:,greedy_mask_1==1,:]\n",
    "xifft_gr_1 = torch.abs( F.ifftn(F.ifftshift(kimg_gr_1),dim=(2,3),norm='ortho') )\n",
    "\n",
    "mode = 'unet'\n",
    "# mode = 'sigpy'\n",
    "if mode == 'unet':\n",
    "    print(f'mode is {mode}')\n",
    "    xrecon_mn_1 = unet_recon(xifft_mn_1).detach()\n",
    "    xrecon_rd_1 = unet_recon(xifft_rd_1).detach()\n",
    "    xrecon_gr_1 = unet_recon(xifft_gr_1).detach()\n",
    "    kplot(xrecon_mn_1[0,0,:,:],img_name='mnet-masked recon by unet')\n",
    "    kplot(xrecon_rd_1[0,0,:,:],img_name='random-masked recon by unet')\n",
    "    kplot(xrecon_gr_1[0,0,:,:],img_name='greedy-masked recon by unet')\n",
    "    kplot(torch.abs(xrecon_mn_1[0,0,:,:] - img_1[0,0,:,:]),img_name='mnet-recon error')\n",
    "    kplot(torch.abs(xrecon_rd_1[0,0,:,:] - img_1[0,0,:,:]),img_name='random-recon error')\n",
    "    kplot(torch.abs(xrecon_gr_1[0,0,:,:] - img_1[0,0,:,:]),img_name='greedy-recon error')\n",
    "    print(f'mode is {mode}')\n",
    "    print('mnet   recon psnr: ',compute_psnr(xrecon_mn_1.view(-1,320,320), img_1.view(-1,320,320)))\n",
    "    print('random recon psnr: ',compute_psnr(xrecon_rd_1.view(-1,320,320), img_1.view(-1,320,320)))\n",
    "    print('greedy recon psnr: ',compute_psnr(xrecon_gr_1.view(-1,320,320), img_1.view(-1,320,320)))\n",
    "    print('\\n')\n",
    "    print('mnet   recon ssim: ',compute_ssim(xrecon_mn_1.view(-1,320,320), img_1.view(-1,320,320)))\n",
    "    print('random recon ssim: ',compute_ssim(xrecon_rd_1.view(-1,320,320), img_1.view(-1,320,320)))\n",
    "    print('greedy recon ssim: ',compute_ssim(xrecon_gr_1.view(-1,320,320), img_1.view(-1,320,320)))\n",
    "    print('\\n')\n",
    "    print('mnet   recon l2 err: ',(torch.norm(xrecon_mn_1-img_1)/torch.norm(img_1)).item())\n",
    "    print('random recon l2 err: ',(torch.norm(xrecon_rd_1-img_1)/torch.norm(img_1)).item())\n",
    "    print('greedy recon l2 err: ',(torch.norm(xrecon_gr_1-img_1)/torch.norm(img_1)).item())\n",
    "    print('\\n')\n",
    "    print('mnet   recon l1 err: ',(torch.norm(xrecon_mn_1-img_1,p=1)/torch.norm(img_1,p=1)).item())\n",
    "    print('random recon l1 err: ',(torch.norm(xrecon_rd_1-img_1,p=1)/torch.norm(img_1,p=1)).item())\n",
    "    print('greedy recon l1 err: ',(torch.norm(xrecon_gr_1-img_1,p=1)/torch.norm(img_1,p=1)).item())\n",
    "    \n",
    "elif mode == 'sigpy':\n",
    "    print(f'mode is {mode}')\n",
    "    mps = np.ones((1,320,320))\n",
    "    Lambda = 1e-4\n",
    "    kimg_mn_1 = kimg_mn_1.view(-1,320,320).numpy()\n",
    "    xrecon_mn_1 = np.fft.ifftshift( np.abs(TotalVariationRecon(kimg_mn_1, mps, Lambda,show_pbar=False).run()) )\n",
    "    \n",
    "    kimg_rd_1 = kimg_rd_1.view(-1,320,320).numpy()\n",
    "    xrecon_rd_1 = np.fft.ifftshift( np.abs(TotalVariationRecon(kimg_rd_1, mps, Lambda,show_pbar=False).run()) )\n",
    "    \n",
    "    kimg_gr_1 = kimg_gr_1.view(-1,320,320).numpy()\n",
    "    xrecon_gr_1 = np.fft.ifftshift( np.abs(TotalVariationRecon(kimg_gr_1, mps, Lambda,show_pbar=False).run()) )\n",
    "    \n",
    "    kplot(xrecon_mn_1,img_name='mnet-masked recon by sigpy')\n",
    "    kplot(xrecon_rd_1,img_name='random-masked recon by sigpy')\n",
    "    kplot(xrecon_gr_1,img_name='greedy-masked recon by sigpy')\n",
    "    kplot(np.abs(xrecon_mn_1 - img_1[0,0,:,:].numpy()),img_name='mnet-recon error')\n",
    "    kplot(np.abs(xrecon_rd_1 - img_1[0,0,:,:].numpy()),img_name='random-recon error')\n",
    "    kplot(np.abs(xrecon_gr_1 - img_1[0,0,:,:].numpy()),img_name='greedy-recon error')\n",
    "    print(f'mode is {mode}')\n",
    "    print('mnet   recon psnr: ',compute_psnr(torch.tensor(xrecon_mn_1).view(-1,320,320), img_1.view(-1,320,320)))\n",
    "    print('random recon psnr: ',compute_psnr(torch.tensor(xrecon_rd_1).view(-1,320,320), img_1.view(-1,320,320)))\n",
    "    print('greedy recon psnr: ',compute_psnr(torch.tensor(xrecon_gr_1).view(-1,320,320), img_1.view(-1,320,320)))\n",
    "    print('\\n')\n",
    "    print('mnet   recon ssim: ',compute_ssim(torch.tensor(xrecon_mn_1).view(-1,320,320), img_1.view(-1,320,320)))\n",
    "    print('random recon ssim: ',compute_ssim(torch.tensor(xrecon_rd_1).view(-1,320,320), img_1.view(-1,320,320)))\n",
    "    print('greedy recon ssim: ',compute_ssim(torch.tensor(xrecon_gr_1).view(-1,320,320), img_1.view(-1,320,320)))\n",
    "    print('\\n')\n",
    "    print('mnet   recon l2 err: ',(torch.norm(torch.tensor(xrecon_mn_1).view(img_1.shape)-img_1)/torch.norm(img_1)).item())\n",
    "    print('random recon l2 err: ',(torch.norm(torch.tensor(xrecon_rd_1).view(img_1.shape)-img_1)/torch.norm(img_1)).item())\n",
    "    print('greedy recon l2 err: ',(torch.norm(torch.tensor(xrecon_gr_1).view(img_1.shape)-img_1)/torch.norm(img_1)).item())\n",
    "    print('\\n')\n",
    "    print('mnet   recon l1 err: ',(torch.norm(torch.tensor(xrecon_mn_1).view(img_1.shape)-img_1,p=1)/torch.norm(img_1,p=1)).item())\n",
    "    print('random recon l1 err: ',(torch.norm(torch.tensor(xrecon_rd_1).view(img_1.shape)-img_1,p=1)/torch.norm(img_1,p=1)).item())\n",
    "    print('greedy recon l1 err: ',(torch.norm(torch.tensor(xrecon_gr_1).view(img_1.shape)-img_1,p=1)/torch.norm(img_1,p=1)).item())\n",
    "    "
   ]
  },
  {
   "cell_type": "markdown",
   "id": "3b8d23d9",
   "metadata": {},
   "source": [
    "# mnet and loupe training error check"
   ]
  },
  {
   "cell_type": "code",
   "execution_count": null,
   "id": "cfc5f8e3",
   "metadata": {},
   "outputs": [],
   "source": [
    "rec = np.load('/home/huangz78/checkpoints/mnet_train_history.npz')\n",
    "print(rec.files)"
   ]
  },
  {
   "cell_type": "code",
   "execution_count": null,
   "id": "5f227b9f",
   "metadata": {},
   "outputs": [],
   "source": [
    "wid1 = 10\n",
    "wid2 = 5\n",
    "plt.figure()\n",
    "plt.plot(rolling_mean(rec['precision_train'],wid1),label='precision')\n",
    "plt.plot(rolling_mean(rec['recall_train'],wid1),label='recall')\n",
    "plt.title('training accuracy')\n",
    "plt.legend()\n",
    "plt.show()\n",
    "\n",
    "plt.figure()\n",
    "plt.title('testing accuracy')\n",
    "plt.plot(rolling_mean(rec['precision_test'],wid2),label='precision')\n",
    "plt.plot(rolling_mean(rec['recall_test'],wid2),label='recall')\n",
    "plt.legend()\n",
    "plt.show()\n",
    "\n",
    "plt.figure()\n",
    "plt.title('train loss in cross entropy')\n",
    "plt.plot(rolling_mean(rec['loss_train'],20),label='train')\n",
    "plt.legend()\n",
    "plt.show()\n",
    "\n",
    "plt.figure()\n",
    "plt.title('test loss in cross entropy')\n",
    "plt.plot(rolling_mean(rec['loss'],8),color='orange',label='test')\n",
    "plt.legend()\n",
    "plt.show()\n"
   ]
  },
  {
   "cell_type": "code",
   "execution_count": null,
   "id": "9a354709",
   "metadata": {},
   "outputs": [],
   "source": [
    "rec = np.load('/home/huangz78/checkpoints/loupe_history.npz')"
   ]
  },
  {
   "cell_type": "code",
   "execution_count": null,
   "id": "dc760791",
   "metadata": {},
   "outputs": [],
   "source": [
    "loss_train = rec['loss_train']\n",
    "loss_val = rec['loss_val']\n",
    "plt.figure()\n",
    "plt.plot(loss_train)\n",
    "plt.xscale('log')\n",
    "plt.yscale('log')\n",
    "plt.title('training loss')\n",
    "plt.show()\n",
    "plt.figure()\n",
    "plt.plot(loss_val)\n",
    "plt.yscale('log')\n",
    "plt.title('validation loss')\n",
    "plt.show()"
   ]
  },
  {
   "cell_type": "code",
   "execution_count": 2,
   "id": "09dd3c90",
   "metadata": {},
   "outputs": [
    {
     "name": "stdout",
     "output_type": "stream",
     "text": [
      "['loss_rand', 'loss_after', 'loss_before', 'loss_val']\n"
     ]
    }
   ],
   "source": [
    "rec = np.load('/home/huangz78/checkpoints/alternating_update_error_track_8fold__unet_in_chan_2.npz')\n",
    "print(rec.files)\n",
    "# loss_vals = list(rec['loss_val'])\n",
    "# loss_vals.append(0.10742834150791167)\n",
    "# print(loss_vals)"
   ]
  },
  {
   "cell_type": "code",
   "execution_count": 3,
   "id": "b38463dd",
   "metadata": {},
   "outputs": [],
   "source": [
    "def rolling_mean(x,window):\n",
    "    window = int(window)\n",
    "#   y = np.zeros(x.size-window)\n",
    "#   for ind in range(y.size):\n",
    "#       y[ind] = np.mean(x[ind:ind+window])\n",
    "\n",
    "    # Stephen: for large data, the above gets a bit slow, so we can do this:\n",
    "#   y = np.convolve(x, np.ones(window)/window, mode='valid')\n",
    "#   return y\n",
    "    # or https://stackoverflow.com/a/27681394\n",
    "    cumsum = np.cumsum(np.insert(x, 0, 0))\n",
    "    return (cumsum[window:] - cumsum[:-window]) / float(window)"
   ]
  },
  {
   "cell_type": "code",
   "execution_count": 4,
   "id": "73dc4508",
   "metadata": {
    "scrolled": false
   },
   "outputs": [
    {
     "data": {
      "image/png": "[encoded data removed]",
      "text/plain": [
       "<Figure size 720x432 with 1 Axes>"
      ]
     },
     "metadata": {
      "needs_background": "light"
     },
     "output_type": "display_data"
    },
    {
     "data": {
      "image/png": "[encoded data removed]",
      "text/plain": [
       "<Figure size 720x432 with 1 Axes>"
      ]
     },
     "metadata": {
      "needs_background": "light"
     },
     "output_type": "display_data"
    },
    {
     "data": {
      "image/png": "[encoded data removed]",
      "text/plain": [
       "<Figure size 720x432 with 1 Axes>"
      ]
     },
     "metadata": {
      "needs_background": "light"
     },
     "output_type": "display_data"
    }
   ],
   "source": [
    "figsize=(10,6)\n",
    "window = 50\n",
    "\n",
    "plt.figure(figsize=figsize)\n",
    "plt.plot(rolling_mean(rec['loss_rand'],window)   ,label='loss random')\n",
    "plt.plot(rolling_mean(rec['loss_before'],window) ,label='loss mnet_pred')\n",
    "plt.plot(rolling_mean(rec['loss_after'],window)  ,label='loss mask_backward')\n",
    "plt.title('training mask loss')\n",
    "# plt.xscale('log')\n",
    "# plt.yscale('log')\n",
    "plt.legend(loc='best')\n",
    "plt.show()\n",
    "\n",
    "\n",
    "plt.figure(figsize=figsize)\n",
    "plt.plot(rolling_mean(rec['loss_before'] - rec['loss_rand'],window)   ,label='mnet_pred - random')\n",
    "plt.plot(rolling_mean(rec['loss_before'] - rec['loss_after'],window)  ,label='mnet_pred - mask_backward')\n",
    "zero_line = np.zeros((len(rec['loss_rand'])))\n",
    "plt.plot(zero_line,'--',label='zero threshold',color='r',linewidth=5)\n",
    "plt.title('training mask loss difference comparison')\n",
    "# plt.xscale('log')\n",
    "# plt.yscale('log')\n",
    "plt.legend(loc='best')\n",
    "plt.show()\n",
    "\n",
    "plt.figure(figsize=figsize)\n",
    "plt.plot(rec['loss_val'])\n",
    "plt.title('validation loss')\n",
    "# plt.xscale('log')\n",
    "plt.yscale('log')\n",
    "plt.show()"
   ]
  },
  {
   "cell_type": "markdown",
   "id": "a29c2274",
   "metadata": {},
   "source": [
    "# mnet quality check: y"
   ]
  },
  {
   "cell_type": "code",
   "execution_count": null,
   "id": "0420f62a",
   "metadata": {
    "scrolled": true
   },
   "outputs": [],
   "source": [
    "net = MNet(beta=1,in_channels=2,out_size=320-24,\\\n",
    "                   imgsize=(320,320),poolk=3)\n",
    "checkpoint = torch.load('/home/huangz78/checkpoints/mnet.pth')\n",
    "net.load_state_dict(checkpoint['model_state_dict'])\n",
    "print('MNet loaded successfully from: ' + '/home/huangz78/checkpoints/mnet.pth')\n",
    "net.eval()\n",
    "\n",
    "imgs = torch.tensor( np.load('/home/huangz78/data/data_gt.npz')['imgdata'] ).permute(2,0,1)\n",
    "base = 24\n",
    "mask_lf,_,_ = mask_naiveRand(imgs.shape[1],fix=base,other=0,roll=True)\n",
    "\n",
    "yfulls = torch.zeros((imgs.shape[0],2,imgs.shape[1],imgs.shape[2]),dtype=torch.float)\n",
    "ys     = torch.zeros((imgs.shape[0],2,imgs.shape[1],imgs.shape[2]),dtype=torch.float)\n",
    "xs     = torch.zeros((imgs.shape[0],1,imgs.shape[1],imgs.shape[2]),dtype=torch.float)\n",
    "for ind in range(imgs.shape[0]):\n",
    "    imgs[ind,:,:] = imgs[ind,:,:]/torch.max(torch.abs(imgs[ind,:,:]))\n",
    "    y = torch.fft.fftshift(F.fftn(imgs[ind,:,:],dim=(0,1),norm='ortho'))\n",
    "    ysub = torch.zeros(y.shape,dtype=y.dtype)\n",
    "    ysub[mask_lf==1,:] = y[mask_lf==1,:]\n",
    "    xs[ind,0,:,:] = torch.abs(F.ifftn(torch.fft.ifftshift(ysub),dim=(0,1),norm='ortho')) \n",
    "\n",
    "    yfulls[ind,0,:,:] = torch.real(y)\n",
    "    yfulls[ind,1,:,:] = torch.imag(y)\n",
    "    ys[ind,:,mask_lf==1,:] = yfulls[ind,:,mask_lf==1,:]\n",
    "\n",
    "labels = torch.tensor( np.load('/home/huangz78/data/data_gt_greedymask.npz')['mask'].T ) # labels are already rolled\n",
    "\n",
    "imgNum = imgs.shape[0]\n",
    "traininds, testinds = train_test_split(np.arange(imgNum),random_state=0,shuffle=True,train_size=round(imgNum*0.8))\n",
    "test_total  = testinds.size\n",
    "\n",
    "traindata   = ys[traininds,:,:,:]\n",
    "valdata     = ys[testinds[0:test_total//2],:,:,:]\n",
    "\n",
    "trainlabels = mask_filter(labels[traininds,:],base=base)\n",
    "vallabels   = mask_filter(labels[testinds[0:test_total//2],:],base=base)"
   ]
  },
  {
   "cell_type": "code",
   "execution_count": null,
   "id": "8fbce09a",
   "metadata": {
    "scrolled": true
   },
   "outputs": [],
   "source": [
    "imgind = 19\n",
    "testimg  = valdata[imgind,:,:,:]\n",
    "output_1 = net(testimg.view(-1,2,320,320))\n",
    "binary_1 = sigmoid_binarize(output_1)[0,:]\n",
    "greedy_1 = vallabels[imgind,:]\n",
    "\n",
    "imgind = 13\n",
    "testimg = valdata[imgind,:,:,:]\n",
    "output_2 = net(testimg.view(-1,2,320,320))\n",
    "binary_2 = sigmoid_binarize(output_2)[0,:]\n",
    "greedy_2 = vallabels[imgind,:]\n",
    "\n",
    "print(torch.sum(torch.abs(binary_1-binary_2)))\n",
    "print(output_1 - output_2)\n",
    "# sigmoid_binarize(output)[0,:]"
   ]
  },
  {
   "cell_type": "code",
   "execution_count": null,
   "id": "0d7cf65d",
   "metadata": {},
   "outputs": [],
   "source": [
    "from utils import mask_complete"
   ]
  },
  {
   "cell_type": "code",
   "execution_count": null,
   "id": "84398c67",
   "metadata": {},
   "outputs": [],
   "source": [
    "mask_1 = mask_complete(binary_1.view(1,-1),320,rolled=True)\n",
    "kplot(mask_1.view(-1))\n",
    "kplot(greedy_1)"
   ]
  },
  {
   "cell_type": "markdown",
   "id": "1dbffa5f",
   "metadata": {},
   "source": [
    "# mnet quality check: x"
   ]
  },
  {
   "cell_type": "code",
   "execution_count": null,
   "id": "fd6550e0",
   "metadata": {},
   "outputs": [],
   "source": [
    "def mnet_weights_init(m):\n",
    "    classname = m.__class__.__name__\n",
    "    print(m)\n",
    "    if classname.find('Conv2d') != -1:\n",
    "        nn.init.normal_(m.weight.data, 0.0, 0.02)\n",
    "    elif classname.find('BatchNorm2d') != -1:\n",
    "        nn.init.normal_(m.weight.data, 1.0, 0.02)\n",
    "        nn.init.constant_(m.bias.data, 0)\n",
    "    elif classname.find('Linear') != -1:\n",
    "        nn.init.normal_(m.weight.data, 0.0, 0.02)\n",
    "        nn.init.constant_(m.bias.data, 0)"
   ]
  },
  {
   "cell_type": "code",
   "execution_count": null,
   "id": "e12a7600",
   "metadata": {
    "scrolled": true
   },
   "outputs": [],
   "source": [
    "# generate a mnet mask as an example\n",
    "\n",
    "mnet = MNet(out_size=320-24)\n",
    "checkpoint = torch.load('/home/huangz78/checkpoints/mnet_split_trained.pth')\n",
    "mnet.load_state_dict(checkpoint['model_state_dict'])\n",
    "print('MNet loaded successfully from: ' + '/home/huangz78/checkpoints/mnet_split_trained.pth')\n",
    "\n",
    "test_dir = '/home/huangz78/data/testdata_x.npz'\n",
    "# testimg  = torch.tensor(np.load(test_dir)['x']) \n",
    "# print(testimg.shape)\n",
    "# test_sub  = test_sub[0:10,:,:]\n",
    "test_full = torch.tensor(np.load(test_dir)['xfull']) \n",
    "mask_greedy = np.load('/home/huangz78/data/data_gt_greedymask.npz')\n",
    "mask_greedy = mask_greedy['mask'].T # this greedy mask is rolled"
   ]
  },
  {
   "cell_type": "code",
   "execution_count": null,
   "id": "8cca645f",
   "metadata": {},
   "outputs": [],
   "source": [
    "reload(utils)\n",
    "from utils import mnet_wrapper"
   ]
  },
  {
   "cell_type": "code",
   "execution_count": null,
   "id": "23d93b73",
   "metadata": {},
   "outputs": [],
   "source": [
    "# imgind = np.random.randint(test_full.shape[0])\n",
    "mnet.train()\n",
    "imgind1 = np.random.randint(199)\n",
    "print('current selected image is indexed: ',imgind1)\n",
    "img1 = test_full[imgind1,:,:]\n",
    "imgind2 = np.random.randint(199)\n",
    "print('current selected image is indexed: ',imgind2)\n",
    "img2 = test_full[imgind2,:,:]\n",
    "# plt.imshow(img)\n",
    "# plt.show()\n",
    "\n",
    "budget = 56\n",
    "lowfreqmask,_,_ = mask_naiveRand(img1.shape[0],fix=24,other=0,roll=True)\n",
    "# randmask,_,_ = mask_naiveRand(img.shape[0],fix=24,other=budget,roll=True)\n",
    "# kplot(randmask)\n",
    "\n",
    "yfull1 = torch.fft.fftshift(F.fftn(img1,dim=(0,1),norm='ortho')) # y is ROLLED in this line!\n",
    "yfull2 = torch.fft.fftshift(F.fftn(img2,dim=(0,1),norm='ortho')) # y is ROLLED!\n",
    "yfull  = torch.stack((yfull1,yfull2),dim=0)\n",
    "# x_lf_minus      = -x_lf.clone()\n",
    "x_lf   = get_x_f_from_yfull(lowfreqmask,yfull,DTyp=torch.cfloat)"
   ]
  },
  {
   "cell_type": "code",
   "execution_count": null,
   "id": "f3640812",
   "metadata": {},
   "outputs": [],
   "source": [
    "mnet( x_lf.view(x_lf.shape[0],1,img1.shape[0],img1.shape[1]) ).shape"
   ]
  },
  {
   "cell_type": "code",
   "execution_count": null,
   "id": "ad138d59",
   "metadata": {},
   "outputs": [],
   "source": [
    "yfull1.shape"
   ]
  },
  {
   "cell_type": "code",
   "execution_count": null,
   "id": "fab56904",
   "metadata": {},
   "outputs": [],
   "source": [
    "mnet.eval()\n",
    "mnetmask = mnet( 1e3*torch.randn(10,1,img1.shape[0],img1.shape[1]) )\n",
    "# x_lf =  1e3*torch.randn(10,img1.shape[0],img1.shape[1]) \n",
    "# highmask_raw = mnet( x_lf.view(x_lf.shape[0],1,img1.shape[0],img1.shape[1]) )\n",
    "# mnetmask = mnet_wrapper(mnet,x_lf,budget,img1.shape)\n",
    "print(mnetmask.shape)\n",
    "\n",
    "torch.sum( torch.abs( mnetmask[0,:] - mnetmask[1,:] ) )"
   ]
  },
  {
   "cell_type": "code",
   "execution_count": null,
   "id": "b27bbb3d",
   "metadata": {},
   "outputs": [],
   "source": [
    "a = torch.randn(2,2,4,5)\n",
    "b = torch.randn(2,2,4,5)\n",
    "c = a[:,0,:,:] + b[:,1,:,:]\n",
    "print(c.shape)"
   ]
  },
  {
   "cell_type": "code",
   "execution_count": null,
   "id": "47c4d478",
   "metadata": {
    "scrolled": false
   },
   "outputs": [],
   "source": [
    "highmask_raw  = mnet( x_lf.view(x_lf.shape[0],1,img1.shape[0],img1.shape[1]) ).view(-1)  # no sigmoid \n",
    "# highmask_raw  = mnet( 1e10*torch.randn(1,1,img.shape[0],img.shape[1]) ).view(-1)  # no sigmoid \n",
    "# print('highmask_raw = ', highmask_raw)\n",
    "plt.plot(highmask_raw.detach().numpy())\n",
    "plt.show()\n",
    "mnetmask = mnet_wrapper(mnet,x_lf,budget,img.shape)\n",
    "kplot(mnetmask)\n",
    "kplot(mask_greedy[imgind,:])"
   ]
  },
  {
   "cell_type": "code",
   "execution_count": null,
   "id": "0921fce1",
   "metadata": {
    "scrolled": true
   },
   "outputs": [],
   "source": [
    "print(mnet.)"
   ]
  },
  {
   "cell_type": "code",
   "execution_count": null,
   "id": "e6accb3a",
   "metadata": {
    "scrolled": true
   },
   "outputs": [],
   "source": [
    "for param in mnet.named_parameters():\n",
    "      print(param)"
   ]
  },
  {
   "cell_type": "code",
   "execution_count": null,
   "id": "493c3d17",
   "metadata": {},
   "outputs": [],
   "source": [
    "mnetmask_old = mnetmask.clone()\n",
    "mnetmask - mnetmask_old"
   ]
  },
  {
   "cell_type": "code",
   "execution_count": null,
   "id": "ee057055",
   "metadata": {
    "scrolled": true
   },
   "outputs": [],
   "source": [
    "randqual[1:]"
   ]
  },
  {
   "cell_type": "code",
   "execution_count": null,
   "id": "178d51e1",
   "metadata": {},
   "outputs": [],
   "source": [
    "# show quality of mnet\n",
    "filepath = '/home/huangz78/checkpoints/alternating_update_error_track.npz'\n",
    "data_loss = np.load(filepath)\n",
    "\n",
    "print(data_loss.files)\n",
    "\n",
    "randqual   = data_loss['randqual']\n",
    "mnetqual   = data_loss['mnetqual']\n",
    "greedyqual = data_loss['greedyqual']\n",
    "randspar   = data_loss['randspar']\n",
    "mnetspar   = data_loss['mnetspar']\n",
    "\n",
    "try:\n",
    "    visualization(randqual[1:],mnetqual[1:],greedyqual=greedyqual,\\\n",
    "             randspar=randspar,mnetspar=mnetspar,greedyspar=greedyspar*np.ones(len(greedyqual)))\n",
    "except Exception:\n",
    "    visualization(randqual[1:],mnetqual[1:],randspar=randspar,mnetspar=mnetspar,log1=True)"
   ]
  }
 ],
 "metadata": {
  "kernelspec": {
   "display_name": "Python 3",
   "language": "python",
   "name": "python3"
  },
  "language_info": {
   "codemirror_mode": {
    "name": "ipython",
    "version": 3
   },
   "file_extension": ".py",
   "mimetype": "text/x-python",
   "name": "python",
   "nbconvert_exporter": "python",
   "pygments_lexer": "ipython3",
   "version": "3.7.5"
  }
 },
 "nbformat": 4,
 "nbformat_minor": 5
}
