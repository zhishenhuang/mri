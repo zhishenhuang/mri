{
 "cells": [
  {
   "cell_type": "code",
   "execution_count": 1,
   "id": "cab4c798",
   "metadata": {},
   "outputs": [],
   "source": [
    "import torch\n",
    "from MoDL import *"
   ]
  },
  {
   "cell_type": "code",
   "execution_count": 11,
   "id": "389b6964",
   "metadata": {},
   "outputs": [],
   "source": [
    "modl = MoDL(CG_steps=5,CG_tol=5e-5)"
   ]
  },
  {
   "cell_type": "code",
   "execution_count": 9,
   "id": "7117cc8f",
   "metadata": {},
   "outputs": [],
   "source": [
    "data = torch.randn(1,2,320,320)\n",
    "smap = torch.ones(data.shape[0],15,data.shape[1],data.shape[2],data.shape[3])\n",
    "mask = torch.ones(data.shape)"
   ]
  },
  {
   "cell_type": "code",
   "execution_count": 14,
   "id": "c8a2d9ef",
   "metadata": {},
   "outputs": [
    {
     "name": "stdout",
     "output_type": "stream",
     "text": [
      "torch.Size([1, 2, 320, 320])\n"
     ]
    }
   ],
   "source": [
    "with torch.no_grad():\n",
    "    print(modl(data,smap,mask).shape)"
   ]
  },
  {
   "cell_type": "code",
   "execution_count": 18,
   "id": "740263b5",
   "metadata": {},
   "outputs": [
    {
     "name": "stdout",
     "output_type": "stream",
     "text": [
      "model.down_sample_layers.0.layers.0.weight\n",
      "model.down_sample_layers.0.layers.4.weight\n",
      "model.down_sample_layers.1.layers.0.weight\n",
      "model.down_sample_layers.1.layers.4.weight\n",
      "model.down_sample_layers.2.layers.0.weight\n",
      "model.down_sample_layers.2.layers.4.weight\n",
      "model.down_sample_layers.3.layers.0.weight\n",
      "model.down_sample_layers.3.layers.4.weight\n",
      "model.conv.layers.0.weight\n",
      "model.conv.layers.4.weight\n",
      "model.up_conv.0.layers.0.weight\n",
      "model.up_conv.0.layers.4.weight\n",
      "model.up_conv.1.layers.0.weight\n",
      "model.up_conv.1.layers.4.weight\n",
      "model.up_conv.2.layers.0.weight\n",
      "model.up_conv.2.layers.4.weight\n",
      "model.up_conv.3.0.layers.0.weight\n",
      "model.up_conv.3.0.layers.4.weight\n",
      "model.up_conv.3.1.weight\n",
      "model.up_conv.3.1.bias\n",
      "model.up_transpose_conv.0.layers.0.weight\n",
      "model.up_transpose_conv.1.layers.0.weight\n",
      "model.up_transpose_conv.2.layers.0.weight\n",
      "model.up_transpose_conv.3.layers.0.weight\n"
     ]
    }
   ],
   "source": [
    "for name, param in modl.named_parameters():\n",
    "    if param.requires_grad:\n",
    "        print(name)"
   ]
  }
 ],
 "metadata": {
  "kernelspec": {
   "display_name": "Python 3 (ipykernel)",
   "language": "python",
   "name": "python3"
  },
  "language_info": {
   "codemirror_mode": {
    "name": "ipython",
    "version": 3
   },
   "file_extension": ".py",
   "mimetype": "text/x-python",
   "name": "python",
   "nbconvert_exporter": "python",
   "pygments_lexer": "ipython3",
   "version": "3.9.5"
  }
 },
 "nbformat": 4,
 "nbformat_minor": 5
}
