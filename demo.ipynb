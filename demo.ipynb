{
 "cells": [
  {
   "cell_type": "code",
   "execution_count": 1,
   "id": "60b4cdb0",
   "metadata": {},
   "outputs": [],
   "source": [
    "# generate a mnet mask as an example"
   ]
  },
  {
   "cell_type": "code",
   "execution_count": null,
   "id": "2da90eb2",
   "metadata": {},
   "outputs": [],
   "source": [
    "# show quality of mnet"
   ]
  }
 ],
 "metadata": {
  "kernelspec": {
   "display_name": "Python 3",
   "language": "python",
   "name": "python3"
  },
  "language_info": {
   "codemirror_mode": {
    "name": "ipython",
    "version": 3
   },
   "file_extension": ".py",
   "mimetype": "text/x-python",
   "name": "python",
   "nbconvert_exporter": "python",
   "pygments_lexer": "ipython3",
   "version": "3.7.5"
  }
 },
 "nbformat": 4,
 "nbformat_minor": 5
}
