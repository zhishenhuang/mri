{
 "cells": [
  {
   "cell_type": "code",
   "execution_count": 1,
   "id": "851fcda2",
   "metadata": {},
   "outputs": [],
   "source": [
    "import numpy as np\n",
    "import argparse\n",
    "import os\n",
    "import sys\n",
    "import random\n",
    "import torch\n",
    "import torch.fft as F\n",
    "from importlib import reload\n",
    "from torch.nn.functional import relu\n",
    "import torch.nn as nn\n",
    "import torch.nn.functional as Func\n",
    "import torch.optim as optim\n",
    "import utils\n",
    "import mask_backward_v4\n",
    "import matplotlib.pyplot as plt\n",
    "# from mask_backward_v1 import mask_backward, mask_eval\n",
    "# from mask_backward_v2 import mask_backward, mask_eval\n",
    "from mask_backward_v4 import mask_backward, mask_eval\n",
    "from utils import *\n",
    "from mnet import MNet\n",
    "sys.path.insert(0,'/home/huangz78/mri/unet/')\n",
    "from unet_model import UNet\n",
    "\n",
    "torch.manual_seed(0)\n",
    "np.random.seed(0)\n",
    "random.seed(0)"
   ]
  },
  {
   "cell_type": "code",
   "execution_count": 5,
   "id": "9338b575",
   "metadata": {},
   "outputs": [
    {
     "name": "stdout",
     "output_type": "stream",
     "text": [
      "10\n",
      "10.0\n",
      "True\n"
     ]
    }
   ],
   "source": [
    "c = 0\n",
    "n = 5\n",
    "for i in range(n-1):\n",
    "    for j in range(i+1,n):\n",
    "        c += 1\n",
    "print(c)\n",
    "print(n*(n-1)/2)\n",
    "print(c == n*(n-1)/2)"
   ]
  },
  {
   "cell_type": "markdown",
   "id": "68672fe3",
   "metadata": {},
   "source": [
    "#### import data to test mask_backward function"
   ]
  },
  {
   "cell_type": "code",
   "execution_count": 2,
   "id": "2abafc5b",
   "metadata": {},
   "outputs": [
    {
     "name": "stdout",
     "output_type": "stream",
     "text": [
      "torch.Size([12649, 320, 320])\n"
     ]
    }
   ],
   "source": [
    "# data_gt = np.load('/home/huangz78/data/data_gt.npz')\n",
    "# data = np.load('/home/huangz78/data/traindata_x.npz')\n",
    "# xfull = torch.tensor(data['xfull'],dtype=dtyp)\n",
    "# fullmask = torch.tensor(data['mask']) # a random mask\n",
    "\n",
    "dtyp = torch.float\n",
    "datafornn = np.load('/mnt/shared_a/data/fastMRI/knee_singlecoil_train.npz')['data']\n",
    "xfull = torch.tensor(datafornn,dtype=dtyp)\n",
    "\n",
    "# shuffle_inds = torch.randperm(xfull.shape[0])\n",
    "# xfull = xfull[shuffle_inds,:,:]\n",
    "print(xfull.shape)"
   ]
  },
  {
   "cell_type": "markdown",
   "id": "1dbc1438",
   "metadata": {},
   "source": [
    "# 8-fold check"
   ]
  },
  {
   "cell_type": "code",
   "execution_count": 3,
   "id": "bfb42a57",
   "metadata": {
    "scrolled": true
   },
   "outputs": [
    {
     "name": "stdout",
     "output_type": "stream",
     "text": [
      "mnet is randomly initialized by PyTorch default setting~\n"
     ]
    }
   ],
   "source": [
    "corefreq = 8\n",
    "budget   = 32\n",
    "\n",
    "mnet = MNet(beta=1,in_channels=2,out_size=320-corefreq, imgsize=(320,320),poolk=3)\n",
    "# mnet.apply(weights_init)\n",
    "mnet.eval()\n",
    "print('mnet is randomly initialized by PyTorch default setting~')"
   ]
  },
  {
   "cell_type": "code",
   "execution_count": 8,
   "id": "7b4ea148",
   "metadata": {},
   "outputs": [
    {
     "name": "stdout",
     "output_type": "stream",
     "text": [
      "alpha grid:  tensor([3.1623e-06, 3.9811e-06, 5.0119e-06, 6.3096e-06, 7.9433e-06, 1.0000e-05,\n",
      "        1.2589e-05, 1.5849e-05, 1.9953e-05, 2.5119e-05, 3.1623e-05, 3.9811e-05,\n",
      "        5.0119e-05, 6.3096e-05, 7.9433e-05, 1.0000e-04])\n",
      "c     grid:  [0.0005]\n"
     ]
    }
   ],
   "source": [
    "# batchind = 3\n",
    "# batchsize = 5\n",
    "# batch = torch.arange((batchind-1)*batchsize,batchind*batchsize,1)\n",
    "# print(shuffle_inds[batch])\n",
    "batch = torch.tensor([7022, 11548,  4056, 11480,  3944])\n",
    "xstar = xfull[batch,:,:]\n",
    "\n",
    "for ind in range(xstar.shape[0]):\n",
    "    xstar[ind,:,:] = xstar[ind,:,:]/xstar[ind,:,:].max()\n",
    "\n",
    "NN         = 21\n",
    "# alpha_grid = 10**(np.array([-4,-3.5,-3,-2.5,-2]))\n",
    "alpha_grid = 10**torch.arange(-5.5,-3.91,.1)\n",
    "c_grid     = np.array([5e-4])\n",
    "# c_grid     = np.array([1e-4,1e-3,1e-2])\n",
    "print('alpha grid: ',alpha_grid)\n",
    "print('c     grid: ',c_grid)\n",
    "l2loss   = np.zeros((NN,len(c_grid)))\n",
    "hfen     = np.zeros((NN,len(c_grid)))\n",
    "sparsity = np.zeros((NN,len(c_grid)))"
   ]
  },
  {
   "cell_type": "code",
   "execution_count": 5,
   "id": "1622b007",
   "metadata": {},
   "outputs": [
    {
     "name": "stderr",
     "output_type": "stream",
     "text": [
      "/opt/anaconda/envs/pyenv/lib/python3.7/site-packages/torch/nn/functional.py:718: UserWarning: Named tensors and all their associated APIs are an experimental feature and subject to change. Please do not use them for anything important until they are released as stable. (Triggered internally at  /opt/conda/conda-bld/pytorch_1623448224956/work/c10/core/TensorImpl.h:1156.)\n",
      "  return torch.max_pool2d(input, kernel_size, stride, padding, dilation, ceil_mode)\n"
     ]
    }
   ],
   "source": [
    "lowfreqmask = mask_naiveRand(xstar.shape[1],fix=corefreq,other=0,roll=True)[0]\n",
    "\n",
    "yfull = torch.fft.fftshift(F.fftn(xstar,dim=(1,2),norm='ortho'),dim=(1,2)) # y is ROLLED!\n",
    "y = torch.zeros((yfull.shape[0],2,yfull.shape[1],yfull.shape[2]),dtype=torch.float,device='cpu')\n",
    "y[:,0,lowfreqmask==1,:] = torch.real(yfull)[:,lowfreqmask==1,:]\n",
    "y[:,1,lowfreqmask==1,:] = torch.imag(yfull)[:,lowfreqmask==1,:]\n",
    "mnet.to('cpu')\n",
    "highmask = mnet(y).detach()\n",
    "# highmask = torch.sigmoid( mnet(y) ).detach()\n",
    "# highmask = mask_makebinary(raw_normalize(highmask,budget,threshold=0.5),threshold=0.5,sigma=False)"
   ]
  },
  {
   "cell_type": "code",
   "execution_count": 6,
   "id": "6580ddb2",
   "metadata": {},
   "outputs": [
    {
     "data": {
      "image/png": "[encoded data removed]",
      "text/plain": [
       "<Figure size 360x360 with 1 Axes>"
      ]
     },
     "metadata": {
      "needs_background": "light"
     },
     "output_type": "display_data"
    }
   ],
   "source": [
    "highmask_view = mask_makebinary(raw_normalize(torch.sigmoid(highmask),budget,threshold=0.5),threshold=0.5,sigma=False)\n",
    "fullmask      = mask_complete(highmask_view,320)\n",
    "kplot(fullmask[0,:])"
   ]
  },
  {
   "cell_type": "code",
   "execution_count": 9,
   "id": "ee099b4d",
   "metadata": {
    "scrolled": false
   },
   "outputs": [
    {
     "name": "stdout",
     "output_type": "stream",
     "text": [
      "lr_mb =  0.005\n",
      "lr_u  =  0.0005\n",
      "c_ind 1 out of 1\n",
      "alpha_ind 1 out of 16\n",
      "Unet loaded successfully from: /home/huangz78/checkpoints/unet_1_True_8frand.pt\n",
      "loss of the input mask:  (0.26429836750030516, 0.8848102927207947)\n",
      "Iter 1, rows added: 0.0, rows reducted: 23.0, current samp. ratio: 0.053125\n",
      "Iter 2, rows added: 46.8, rows reducted: 3.2, current samp. ratio: 0.189375\n",
      "Iter 3, rows added: 41.4, rows reducted: 1.0, current samp. ratio: 0.315625\n",
      "Iter 4, rows added: 25.0, rows reducted: 6.8, current samp. ratio: 0.3725\n",
      "Iter 5, rows added: 13.2, rows reducted: 19.4, current samp. ratio: 0.353125\n",
      "Iter 6, rows added: 29.6, rows reducted: 0.6, current samp. ratio: 0.44375\n",
      "Iter 7, rows added: 14.8, rows reducted: 13.2, current samp. ratio: 0.44875\n",
      "Iter 8, rows added: 25.4, rows reducted: 17.2, current samp. ratio: 0.474375\n",
      "Iter 9, rows added: 33.6, rows reducted: 4.0, current samp. ratio: 0.566875\n",
      "Iter 10, rows added: 20.0, rows reducted: 37.2, current samp. ratio: 0.513125\n",
      "Iter 11, rows added: 35.0, rows reducted: 1.4, current samp. ratio: 0.618125\n",
      "Iter 12, rows added: 18.0, rows reducted: 40.8, current samp. ratio: 0.546875\n",
      "Iter 13, rows added: 34.4, rows reducted: 1.0, current samp. ratio: 0.65125\n",
      "Iter 14, rows added: 16.8, rows reducted: 41.4, current samp. ratio: 0.574375\n",
      "Iter 15, rows added: 42.4, rows reducted: 1.8, current samp. ratio: 0.70125\n",
      "Iter 16, rows added: 15.6, rows reducted: 42.4, current samp. ratio: 0.6175\n",
      "Iter 17, rows added: 53.4, rows reducted: 3.4, current samp. ratio: 0.77375\n",
      "Iter 18, rows added: 10.6, rows reducted: 29.4, current samp. ratio: 0.715\n",
      "Iter 19, rows added: 35.6, rows reducted: 17.4, current samp. ratio: 0.771875\n",
      "Iter 20, rows added: 24.0, rows reducted: 11.4, current samp. ratio: 0.81125\n",
      "\n",
      "return at Iter ind:  20\n",
      "samp. ratio: 0.125, loss of returned mask: (0.2591784119606018, 0.843659245967865) \n",
      "\n",
      "alpha_ind 2 out of 16\n",
      "Unet loaded successfully from: /home/huangz78/checkpoints/unet_1_True_8frand.pt\n",
      "loss of the input mask:  (0.2642983376979828, 0.8848100781440735)\n",
      "Iter 1, rows added: 0.0, rows reducted: 23.0, current samp. ratio: 0.053125\n",
      "Iter 2, rows added: 40.4, rows reducted: 3.2, current samp. ratio: 0.169375\n",
      "Iter 3, rows added: 38.0, rows reducted: 1.0, current samp. ratio: 0.285\n",
      "Iter 4, rows added: 25.6, rows reducted: 5.8, current samp. ratio: 0.346875\n",
      "Iter 5, rows added: 11.0, rows reducted: 18.8, current samp. ratio: 0.3225\n",
      "Iter 6, rows added: 27.0, rows reducted: 0.2, current samp. ratio: 0.40625\n",
      "Iter 7, rows added: 16.6, rows reducted: 10.0, current samp. ratio: 0.426875\n",
      "Iter 8, rows added: 22.2, rows reducted: 17.6, current samp. ratio: 0.44125\n",
      "Iter 9, rows added: 31.2, rows reducted: 3.4, current samp. ratio: 0.528125\n",
      "Iter 10, rows added: 20.6, rows reducted: 35.4, current samp. ratio: 0.481875\n",
      "Iter 11, rows added: 34.4, rows reducted: 1.2, current samp. ratio: 0.585625\n",
      "Iter 12, rows added: 17.6, rows reducted: 37.6, current samp. ratio: 0.523125\n",
      "Iter 13, rows added: 36.8, rows reducted: 1.4, current samp. ratio: 0.63375\n",
      "Iter 14, rows added: 17.6, rows reducted: 39.4, current samp. ratio: 0.565625\n",
      "Iter 15, rows added: 43.2, rows reducted: 2.2, current samp. ratio: 0.69375\n",
      "Iter 16, rows added: 17.0, rows reducted: 44.2, current samp. ratio: 0.60875\n",
      "Iter 17, rows added: 53.8, rows reducted: 5.6, current samp. ratio: 0.759375\n",
      "Iter 18, rows added: 16.2, rows reducted: 30.6, current samp. ratio: 0.714375\n",
      "Iter 19, rows added: 35.2, rows reducted: 19.4, current samp. ratio: 0.76375\n",
      "Iter 20, rows added: 25.8, rows reducted: 17.2, current samp. ratio: 0.790625\n",
      "\n",
      "return at Iter ind:  20\n",
      "samp. ratio: 0.125, loss of returned mask: (0.25938006639480593, 0.8447222471237182) \n",
      "\n",
      "alpha_ind 3 out of 16\n",
      "Unet loaded successfully from: /home/huangz78/checkpoints/unet_1_True_8frand.pt\n"
     ]
    },
    {
     "ename": "KeyboardInterrupt",
     "evalue": "",
     "output_type": "error",
     "traceback": [
      "\u001b[0;31m---------------------------------------------------------------------------\u001b[0m",
      "\u001b[0;31mKeyboardInterrupt\u001b[0m                         Traceback (most recent call last)",
      "\u001b[0;32m<ipython-input-9-10ae29e635f8>\u001b[0m in \u001b[0;36m<module>\u001b[0;34m\u001b[0m\n\u001b[1;32m     33\u001b[0m                           \u001b[0mmode\u001b[0m\u001b[0;34m=\u001b[0m\u001b[0;34m'UNET'\u001b[0m\u001b[0;34m,\u001b[0m\u001b[0mbudget\u001b[0m\u001b[0;34m=\u001b[0m\u001b[0mbudget\u001b[0m\u001b[0;34m,\u001b[0m\u001b[0mnormalize\u001b[0m\u001b[0;34m=\u001b[0m\u001b[0;32mTrue\u001b[0m\u001b[0;34m,\u001b[0m\u001b[0;31m\\\u001b[0m\u001b[0;34m\u001b[0m\u001b[0;34m\u001b[0m\u001b[0m\n\u001b[1;32m     34\u001b[0m                           \u001b[0mdtyp\u001b[0m\u001b[0;34m=\u001b[0m\u001b[0mtorch\u001b[0m\u001b[0;34m.\u001b[0m\u001b[0mfloat\u001b[0m\u001b[0;34m,\u001b[0m\u001b[0mverbose\u001b[0m\u001b[0;34m=\u001b[0m\u001b[0;32mTrue\u001b[0m\u001b[0;34m,\u001b[0m\u001b[0mtestmode\u001b[0m\u001b[0;34m=\u001b[0m\u001b[0;34m'sigpy'\u001b[0m\u001b[0;34m,\u001b[0m\u001b[0mhfen\u001b[0m\u001b[0;34m=\u001b[0m\u001b[0;32mTrue\u001b[0m\u001b[0;34m,\u001b[0m\u001b[0;31m\\\u001b[0m\u001b[0;34m\u001b[0m\u001b[0;34m\u001b[0m\u001b[0m\n\u001b[0;32m---> 35\u001b[0;31m                           return_loss_only=True,save_cp=False,device=device)\n\u001b[0m\u001b[1;32m     36\u001b[0m         \u001b[0ma_ind\u001b[0m \u001b[0;34m+=\u001b[0m \u001b[0;36m1\u001b[0m\u001b[0;34m\u001b[0m\u001b[0;34m\u001b[0m\u001b[0m\n\u001b[1;32m     37\u001b[0m     \u001b[0mprint\u001b[0m\u001b[0;34m(\u001b[0m\u001b[0;34m'\\n'\u001b[0m\u001b[0;34m)\u001b[0m\u001b[0;34m\u001b[0m\u001b[0;34m\u001b[0m\u001b[0m\n",
      "\u001b[0;32m~/mri/mask_backward_v4.py\u001b[0m in \u001b[0;36mmask_backward\u001b[0;34m(highmask, xstar, maxIter, seed, eps, normalize, budget, lr, lru, weight_decay, momentum, beta, alpha, c, slope, mode, unet_mode, unet, mnet, break_limit, print_every, verbose, save_cp, dtyp, testmode, hfen, return_loss_only, device)\u001b[0m\n\u001b[1;32m    229\u001b[0m         \u001b[0minit_mask_loss\u001b[0m \u001b[0;34m=\u001b[0m \u001b[0mmask_eval\u001b[0m\u001b[0;34m(\u001b[0m\u001b[0mfullmask_b\u001b[0m\u001b[0;34m.\u001b[0m\u001b[0mclone\u001b[0m\u001b[0;34m(\u001b[0m\u001b[0;34m)\u001b[0m\u001b[0;34m.\u001b[0m\u001b[0mdetach\u001b[0m\u001b[0;34m(\u001b[0m\u001b[0;34m)\u001b[0m\u001b[0;34m,\u001b[0m\u001b[0mxstar\u001b[0m\u001b[0;34m,\u001b[0m\u001b[0mmode\u001b[0m\u001b[0;34m=\u001b[0m\u001b[0;34m'UNET'\u001b[0m\u001b[0;34m,\u001b[0m\u001b[0mUNET\u001b[0m\u001b[0;34m=\u001b[0m\u001b[0munet\u001b[0m\u001b[0;34m,\u001b[0m\u001b[0mdtyp\u001b[0m\u001b[0;34m=\u001b[0m\u001b[0mdtyp\u001b[0m\u001b[0;34m,\u001b[0m\u001b[0mhfen\u001b[0m\u001b[0;34m=\u001b[0m\u001b[0mhfen\u001b[0m\u001b[0;34m,\u001b[0m\u001b[0mdevice\u001b[0m\u001b[0;34m=\u001b[0m\u001b[0mdevice\u001b[0m\u001b[0;34m)\u001b[0m\u001b[0;34m\u001b[0m\u001b[0;34m\u001b[0m\u001b[0m\n\u001b[1;32m    230\u001b[0m     \u001b[0;32melif\u001b[0m \u001b[0mtestmode\u001b[0m \u001b[0;34m==\u001b[0m \u001b[0;34m'sigpy'\u001b[0m\u001b[0;34m:\u001b[0m\u001b[0;34m\u001b[0m\u001b[0;34m\u001b[0m\u001b[0m\n\u001b[0;32m--> 231\u001b[0;31m         \u001b[0minit_mask_loss\u001b[0m \u001b[0;34m=\u001b[0m \u001b[0mmask_eval\u001b[0m\u001b[0;34m(\u001b[0m\u001b[0mfullmask_b\u001b[0m\u001b[0;34m.\u001b[0m\u001b[0mclone\u001b[0m\u001b[0;34m(\u001b[0m\u001b[0;34m)\u001b[0m\u001b[0;34m.\u001b[0m\u001b[0mdetach\u001b[0m\u001b[0;34m(\u001b[0m\u001b[0;34m)\u001b[0m\u001b[0;34m,\u001b[0m\u001b[0mxstar\u001b[0m\u001b[0;34m.\u001b[0m\u001b[0mto\u001b[0m\u001b[0;34m(\u001b[0m\u001b[0;34m'cpu'\u001b[0m\u001b[0;34m)\u001b[0m\u001b[0;34m,\u001b[0m\u001b[0mmode\u001b[0m\u001b[0;34m=\u001b[0m\u001b[0;34m'sigpy'\u001b[0m\u001b[0;34m,\u001b[0m\u001b[0mhfen\u001b[0m\u001b[0;34m=\u001b[0m\u001b[0mhfen\u001b[0m\u001b[0;34m,\u001b[0m\u001b[0mdevice\u001b[0m\u001b[0;34m=\u001b[0m\u001b[0;34m'cpu'\u001b[0m\u001b[0;34m)\u001b[0m\u001b[0;34m\u001b[0m\u001b[0;34m\u001b[0m\u001b[0m\n\u001b[0m\u001b[1;32m    232\u001b[0m     \u001b[0;32mif\u001b[0m \u001b[0;34m(\u001b[0m\u001b[0mtestmode\u001b[0m \u001b[0;32mis\u001b[0m \u001b[0;32mnot\u001b[0m \u001b[0;32mNone\u001b[0m\u001b[0;34m)\u001b[0m \u001b[0;32mand\u001b[0m \u001b[0mverbose\u001b[0m\u001b[0;34m:\u001b[0m\u001b[0;34m\u001b[0m\u001b[0;34m\u001b[0m\u001b[0m\n\u001b[1;32m    233\u001b[0m         \u001b[0mprint\u001b[0m\u001b[0;34m(\u001b[0m\u001b[0;34m'loss of the input mask: '\u001b[0m\u001b[0;34m,\u001b[0m \u001b[0minit_mask_loss\u001b[0m\u001b[0;34m)\u001b[0m\u001b[0;34m\u001b[0m\u001b[0;34m\u001b[0m\u001b[0m\n",
      "\u001b[0;32m~/mri/mask_backward_v4.py\u001b[0m in \u001b[0;36mmask_eval\u001b[0;34m(fullmask, xstar, mode, UNET, dtyp, Lambda, hfen, device)\u001b[0m\n\u001b[1;32m    111\u001b[0m             \u001b[0;32mfor\u001b[0m \u001b[0mind\u001b[0m \u001b[0;32min\u001b[0m \u001b[0mrange\u001b[0m\u001b[0;34m(\u001b[0m\u001b[0mbatchsize\u001b[0m\u001b[0;34m)\u001b[0m\u001b[0;34m:\u001b[0m\u001b[0;34m\u001b[0m\u001b[0;34m\u001b[0m\u001b[0m\n\u001b[1;32m    112\u001b[0m                 \u001b[0my_tmp\u001b[0m    \u001b[0;34m=\u001b[0m \u001b[0mz\u001b[0m\u001b[0;34m[\u001b[0m\u001b[0mind\u001b[0m\u001b[0;34m,\u001b[0m\u001b[0;34m:\u001b[0m\u001b[0;34m,\u001b[0m\u001b[0;34m:\u001b[0m\u001b[0;34m]\u001b[0m\u001b[0;34m.\u001b[0m\u001b[0mview\u001b[0m\u001b[0;34m(\u001b[0m\u001b[0;34m-\u001b[0m\u001b[0;36m1\u001b[0m\u001b[0;34m,\u001b[0m\u001b[0mimgHeg\u001b[0m\u001b[0;34m,\u001b[0m\u001b[0mimgWid\u001b[0m\u001b[0;34m)\u001b[0m\u001b[0;34m.\u001b[0m\u001b[0mnumpy\u001b[0m\u001b[0;34m(\u001b[0m\u001b[0;34m)\u001b[0m\u001b[0;34m\u001b[0m\u001b[0;34m\u001b[0m\u001b[0m\n\u001b[0;32m--> 113\u001b[0;31m                 \u001b[0mx_tmp\u001b[0m    \u001b[0;34m=\u001b[0m \u001b[0mnp\u001b[0m\u001b[0;34m.\u001b[0m\u001b[0mfft\u001b[0m\u001b[0;34m.\u001b[0m\u001b[0mifftshift\u001b[0m\u001b[0;34m(\u001b[0m \u001b[0mnp\u001b[0m\u001b[0;34m.\u001b[0m\u001b[0mabs\u001b[0m\u001b[0;34m(\u001b[0m\u001b[0mTotalVariationRecon\u001b[0m\u001b[0;34m(\u001b[0m\u001b[0my_tmp\u001b[0m\u001b[0;34m,\u001b[0m \u001b[0mmps\u001b[0m\u001b[0;34m,\u001b[0m \u001b[0mLambda\u001b[0m\u001b[0;34m,\u001b[0m\u001b[0mshow_pbar\u001b[0m\u001b[0;34m=\u001b[0m\u001b[0;32mFalse\u001b[0m\u001b[0;34m)\u001b[0m\u001b[0;34m.\u001b[0m\u001b[0mrun\u001b[0m\u001b[0;34m(\u001b[0m\u001b[0;34m)\u001b[0m\u001b[0;34m)\u001b[0m \u001b[0;34m)\u001b[0m\u001b[0;34m\u001b[0m\u001b[0;34m\u001b[0m\u001b[0m\n\u001b[0m\u001b[1;32m    114\u001b[0m                 \u001b[0merr\u001b[0m\u001b[0;34m[\u001b[0m\u001b[0mind\u001b[0m\u001b[0;34m]\u001b[0m \u001b[0;34m=\u001b[0m \u001b[0mnp\u001b[0m\u001b[0;34m.\u001b[0m\u001b[0mlinalg\u001b[0m\u001b[0;34m.\u001b[0m\u001b[0mnorm\u001b[0m\u001b[0;34m(\u001b[0m\u001b[0mx_tmp\u001b[0m \u001b[0;34m-\u001b[0m \u001b[0mxstar\u001b[0m\u001b[0;34m[\u001b[0m\u001b[0mind\u001b[0m\u001b[0;34m,\u001b[0m\u001b[0;34m:\u001b[0m\u001b[0;34m,\u001b[0m\u001b[0;34m:\u001b[0m\u001b[0;34m]\u001b[0m\u001b[0;34m,\u001b[0m\u001b[0;34m'fro'\u001b[0m\u001b[0;34m)\u001b[0m\u001b[0;34m/\u001b[0m\u001b[0mnp\u001b[0m\u001b[0;34m.\u001b[0m\u001b[0mlinalg\u001b[0m\u001b[0;34m.\u001b[0m\u001b[0mnorm\u001b[0m\u001b[0;34m(\u001b[0m\u001b[0mxstar\u001b[0m\u001b[0;34m[\u001b[0m\u001b[0mind\u001b[0m\u001b[0;34m,\u001b[0m\u001b[0;34m:\u001b[0m\u001b[0;34m,\u001b[0m\u001b[0;34m:\u001b[0m\u001b[0;34m]\u001b[0m\u001b[0;34m,\u001b[0m\u001b[0;34m'fro'\u001b[0m\u001b[0;34m)\u001b[0m\u001b[0;34m\u001b[0m\u001b[0;34m\u001b[0m\u001b[0m\n\u001b[1;32m    115\u001b[0m                 \u001b[0;32mif\u001b[0m \u001b[0mhfen\u001b[0m\u001b[0;34m:\u001b[0m\u001b[0;34m\u001b[0m\u001b[0;34m\u001b[0m\u001b[0m\n",
      "\u001b[0;32m/opt/anaconda/envs/pyenv/lib/python3.7/site-packages/sigpy/app.py\u001b[0m in \u001b[0;36mrun\u001b[0;34m(self)\u001b[0m\n\u001b[1;32m     83\u001b[0m \u001b[0;34m\u001b[0m\u001b[0m\n\u001b[1;32m     84\u001b[0m             \u001b[0mself\u001b[0m\u001b[0;34m.\u001b[0m\u001b[0m_pre_update\u001b[0m\u001b[0;34m(\u001b[0m\u001b[0;34m)\u001b[0m\u001b[0;34m\u001b[0m\u001b[0;34m\u001b[0m\u001b[0m\n\u001b[0;32m---> 85\u001b[0;31m             \u001b[0mself\u001b[0m\u001b[0;34m.\u001b[0m\u001b[0malg\u001b[0m\u001b[0;34m.\u001b[0m\u001b[0mupdate\u001b[0m\u001b[0;34m(\u001b[0m\u001b[0;34m)\u001b[0m\u001b[0;34m\u001b[0m\u001b[0;34m\u001b[0m\u001b[0m\n\u001b[0m\u001b[1;32m     86\u001b[0m             \u001b[0mself\u001b[0m\u001b[0;34m.\u001b[0m\u001b[0m_post_update\u001b[0m\u001b[0;34m(\u001b[0m\u001b[0;34m)\u001b[0m\u001b[0;34m\u001b[0m\u001b[0;34m\u001b[0m\u001b[0m\n\u001b[1;32m     87\u001b[0m \u001b[0;34m\u001b[0m\u001b[0m\n",
      "\u001b[0;32m/opt/anaconda/envs/pyenv/lib/python3.7/site-packages/sigpy/alg.py\u001b[0m in \u001b[0;36mupdate\u001b[0;34m(self)\u001b[0m\n\u001b[1;32m     61\u001b[0m         \u001b[0mCall\u001b[0m \u001b[0mthe\u001b[0m \u001b[0muser\u001b[0m\u001b[0;34m-\u001b[0m\u001b[0mdefined\u001b[0m \u001b[0m_update\u001b[0m\u001b[0;34m(\u001b[0m\u001b[0;34m)\u001b[0m \u001b[0mfunction\u001b[0m \u001b[0;32mand\u001b[0m \u001b[0mincrement\u001b[0m \u001b[0miter\u001b[0m\u001b[0;34m.\u001b[0m\u001b[0;34m\u001b[0m\u001b[0;34m\u001b[0m\u001b[0m\n\u001b[1;32m     62\u001b[0m         \"\"\"\n\u001b[0;32m---> 63\u001b[0;31m         \u001b[0mself\u001b[0m\u001b[0;34m.\u001b[0m\u001b[0m_update\u001b[0m\u001b[0;34m(\u001b[0m\u001b[0;34m)\u001b[0m\u001b[0;34m\u001b[0m\u001b[0;34m\u001b[0m\u001b[0m\n\u001b[0m\u001b[1;32m     64\u001b[0m         \u001b[0mself\u001b[0m\u001b[0;34m.\u001b[0m\u001b[0miter\u001b[0m \u001b[0;34m+=\u001b[0m \u001b[0;36m1\u001b[0m\u001b[0;34m\u001b[0m\u001b[0;34m\u001b[0m\u001b[0m\n\u001b[1;32m     65\u001b[0m \u001b[0;34m\u001b[0m\u001b[0m\n",
      "\u001b[0;32m/opt/anaconda/envs/pyenv/lib/python3.7/site-packages/sigpy/alg.py\u001b[0m in \u001b[0;36m_update\u001b[0;34m(self)\u001b[0m\n\u001b[1;32m    360\u001b[0m         \u001b[0;32mwith\u001b[0m \u001b[0mself\u001b[0m\u001b[0;34m.\u001b[0m\u001b[0mx_device\u001b[0m\u001b[0;34m:\u001b[0m\u001b[0;34m\u001b[0m\u001b[0;34m\u001b[0m\u001b[0m\n\u001b[1;32m    361\u001b[0m             \u001b[0mx_old\u001b[0m \u001b[0;34m=\u001b[0m \u001b[0mself\u001b[0m\u001b[0;34m.\u001b[0m\u001b[0mx\u001b[0m\u001b[0;34m.\u001b[0m\u001b[0mcopy\u001b[0m\u001b[0;34m(\u001b[0m\u001b[0;34m)\u001b[0m\u001b[0;34m\u001b[0m\u001b[0;34m\u001b[0m\u001b[0m\n\u001b[0;32m--> 362\u001b[0;31m             \u001b[0mutil\u001b[0m\u001b[0;34m.\u001b[0m\u001b[0maxpy\u001b[0m\u001b[0;34m(\u001b[0m\u001b[0mself\u001b[0m\u001b[0;34m.\u001b[0m\u001b[0mx\u001b[0m\u001b[0;34m,\u001b[0m \u001b[0;34m-\u001b[0m\u001b[0mself\u001b[0m\u001b[0;34m.\u001b[0m\u001b[0mtau\u001b[0m\u001b[0;34m,\u001b[0m \u001b[0mself\u001b[0m\u001b[0;34m.\u001b[0m\u001b[0mAH\u001b[0m\u001b[0;34m(\u001b[0m\u001b[0mself\u001b[0m\u001b[0;34m.\u001b[0m\u001b[0mu\u001b[0m\u001b[0;34m)\u001b[0m\u001b[0;34m)\u001b[0m\u001b[0;34m\u001b[0m\u001b[0;34m\u001b[0m\u001b[0m\n\u001b[0m\u001b[1;32m    363\u001b[0m             \u001b[0mbackend\u001b[0m\u001b[0;34m.\u001b[0m\u001b[0mcopyto\u001b[0m\u001b[0;34m(\u001b[0m\u001b[0mself\u001b[0m\u001b[0;34m.\u001b[0m\u001b[0mx\u001b[0m\u001b[0;34m,\u001b[0m \u001b[0mself\u001b[0m\u001b[0;34m.\u001b[0m\u001b[0mproxg\u001b[0m\u001b[0;34m(\u001b[0m\u001b[0mself\u001b[0m\u001b[0;34m.\u001b[0m\u001b[0mtau\u001b[0m\u001b[0;34m,\u001b[0m \u001b[0mself\u001b[0m\u001b[0;34m.\u001b[0m\u001b[0mx\u001b[0m\u001b[0;34m)\u001b[0m\u001b[0;34m)\u001b[0m\u001b[0;34m\u001b[0m\u001b[0;34m\u001b[0m\u001b[0m\n\u001b[1;32m    364\u001b[0m \u001b[0;34m\u001b[0m\u001b[0m\n",
      "\u001b[0;32m/opt/anaconda/envs/pyenv/lib/python3.7/site-packages/sigpy/linop.py\u001b[0m in \u001b[0;36m__call__\u001b[0;34m(self, input)\u001b[0m\n\u001b[1;32m    120\u001b[0m \u001b[0;34m\u001b[0m\u001b[0m\n\u001b[1;32m    121\u001b[0m     \u001b[0;32mdef\u001b[0m \u001b[0m__call__\u001b[0m\u001b[0;34m(\u001b[0m\u001b[0mself\u001b[0m\u001b[0;34m,\u001b[0m \u001b[0minput\u001b[0m\u001b[0;34m)\u001b[0m\u001b[0;34m:\u001b[0m\u001b[0;34m\u001b[0m\u001b[0;34m\u001b[0m\u001b[0m\n\u001b[0;32m--> 122\u001b[0;31m         \u001b[0;32mreturn\u001b[0m \u001b[0mself\u001b[0m\u001b[0;34m.\u001b[0m\u001b[0m__mul__\u001b[0m\u001b[0;34m(\u001b[0m\u001b[0minput\u001b[0m\u001b[0;34m)\u001b[0m\u001b[0;34m\u001b[0m\u001b[0;34m\u001b[0m\u001b[0m\n\u001b[0m\u001b[1;32m    123\u001b[0m \u001b[0;34m\u001b[0m\u001b[0m\n\u001b[1;32m    124\u001b[0m     \u001b[0;32mdef\u001b[0m \u001b[0m__mul__\u001b[0m\u001b[0;34m(\u001b[0m\u001b[0mself\u001b[0m\u001b[0;34m,\u001b[0m \u001b[0minput\u001b[0m\u001b[0;34m)\u001b[0m\u001b[0;34m:\u001b[0m\u001b[0;34m\u001b[0m\u001b[0;34m\u001b[0m\u001b[0m\n",
      "\u001b[0;32m/opt/anaconda/envs/pyenv/lib/python3.7/site-packages/sigpy/linop.py\u001b[0m in \u001b[0;36m__mul__\u001b[0;34m(self, input)\u001b[0m\n\u001b[1;32m    129\u001b[0m             \u001b[0;32mreturn\u001b[0m \u001b[0mCompose\u001b[0m\u001b[0;34m(\u001b[0m\u001b[0;34m[\u001b[0m\u001b[0mself\u001b[0m\u001b[0;34m,\u001b[0m \u001b[0mM\u001b[0m\u001b[0;34m]\u001b[0m\u001b[0;34m)\u001b[0m\u001b[0;34m\u001b[0m\u001b[0;34m\u001b[0m\u001b[0m\n\u001b[1;32m    130\u001b[0m         \u001b[0;32melif\u001b[0m \u001b[0misinstance\u001b[0m\u001b[0;34m(\u001b[0m\u001b[0minput\u001b[0m\u001b[0;34m,\u001b[0m \u001b[0mbackend\u001b[0m\u001b[0;34m.\u001b[0m\u001b[0mget_array_module\u001b[0m\u001b[0;34m(\u001b[0m\u001b[0minput\u001b[0m\u001b[0;34m)\u001b[0m\u001b[0;34m.\u001b[0m\u001b[0mndarray\u001b[0m\u001b[0;34m)\u001b[0m\u001b[0;34m:\u001b[0m\u001b[0;34m\u001b[0m\u001b[0;34m\u001b[0m\u001b[0m\n\u001b[0;32m--> 131\u001b[0;31m             \u001b[0;32mreturn\u001b[0m \u001b[0mself\u001b[0m\u001b[0;34m.\u001b[0m\u001b[0mapply\u001b[0m\u001b[0;34m(\u001b[0m\u001b[0minput\u001b[0m\u001b[0;34m)\u001b[0m\u001b[0;34m\u001b[0m\u001b[0;34m\u001b[0m\u001b[0m\n\u001b[0m\u001b[1;32m    132\u001b[0m \u001b[0;34m\u001b[0m\u001b[0m\n\u001b[1;32m    133\u001b[0m         \u001b[0;32mreturn\u001b[0m \u001b[0mNotImplemented\u001b[0m\u001b[0;34m\u001b[0m\u001b[0;34m\u001b[0m\u001b[0m\n",
      "\u001b[0;32m/opt/anaconda/envs/pyenv/lib/python3.7/site-packages/sigpy/linop.py\u001b[0m in \u001b[0;36mapply\u001b[0;34m(self, input)\u001b[0m\n\u001b[1;32m     93\u001b[0m         \u001b[0;32mtry\u001b[0m\u001b[0;34m:\u001b[0m\u001b[0;34m\u001b[0m\u001b[0;34m\u001b[0m\u001b[0m\n\u001b[1;32m     94\u001b[0m             \u001b[0mself\u001b[0m\u001b[0;34m.\u001b[0m\u001b[0m_check_ishape\u001b[0m\u001b[0;34m(\u001b[0m\u001b[0minput\u001b[0m\u001b[0;34m)\u001b[0m\u001b[0;34m\u001b[0m\u001b[0;34m\u001b[0m\u001b[0m\n\u001b[0;32m---> 95\u001b[0;31m             \u001b[0moutput\u001b[0m \u001b[0;34m=\u001b[0m \u001b[0mself\u001b[0m\u001b[0;34m.\u001b[0m\u001b[0m_apply\u001b[0m\u001b[0;34m(\u001b[0m\u001b[0minput\u001b[0m\u001b[0;34m)\u001b[0m\u001b[0;34m\u001b[0m\u001b[0;34m\u001b[0m\u001b[0m\n\u001b[0m\u001b[1;32m     96\u001b[0m             \u001b[0mself\u001b[0m\u001b[0;34m.\u001b[0m\u001b[0m_check_oshape\u001b[0m\u001b[0;34m(\u001b[0m\u001b[0moutput\u001b[0m\u001b[0;34m)\u001b[0m\u001b[0;34m\u001b[0m\u001b[0;34m\u001b[0m\u001b[0m\n\u001b[1;32m     97\u001b[0m         \u001b[0;32mexcept\u001b[0m \u001b[0mException\u001b[0m \u001b[0;32mas\u001b[0m \u001b[0me\u001b[0m\u001b[0;34m:\u001b[0m\u001b[0;34m\u001b[0m\u001b[0;34m\u001b[0m\u001b[0m\n",
      "\u001b[0;32m/opt/anaconda/envs/pyenv/lib/python3.7/site-packages/sigpy/linop.py\u001b[0m in \u001b[0;36m_apply\u001b[0;34m(self, input)\u001b[0m\n\u001b[1;32m    455\u001b[0m \u001b[0;34m\u001b[0m\u001b[0m\n\u001b[1;32m    456\u001b[0m                 \u001b[0;32mif\u001b[0m \u001b[0mself\u001b[0m\u001b[0;34m.\u001b[0m\u001b[0maxis\u001b[0m \u001b[0;32mis\u001b[0m \u001b[0;32mNone\u001b[0m\u001b[0;34m:\u001b[0m\u001b[0;34m\u001b[0m\u001b[0;34m\u001b[0m\u001b[0m\n\u001b[0;32m--> 457\u001b[0;31m                     \u001b[0moutput\u001b[0m \u001b[0;34m+=\u001b[0m \u001b[0mlinop\u001b[0m\u001b[0;34m(\u001b[0m\u001b[0minput\u001b[0m\u001b[0;34m[\u001b[0m\u001b[0mstart\u001b[0m\u001b[0;34m:\u001b[0m\u001b[0mend\u001b[0m\u001b[0;34m]\u001b[0m\u001b[0;34m.\u001b[0m\u001b[0mreshape\u001b[0m\u001b[0;34m(\u001b[0m\u001b[0mlinop\u001b[0m\u001b[0;34m.\u001b[0m\u001b[0mishape\u001b[0m\u001b[0;34m)\u001b[0m\u001b[0;34m)\u001b[0m\u001b[0;34m\u001b[0m\u001b[0;34m\u001b[0m\u001b[0m\n\u001b[0m\u001b[1;32m    458\u001b[0m                 \u001b[0;32melse\u001b[0m\u001b[0;34m:\u001b[0m\u001b[0;34m\u001b[0m\u001b[0;34m\u001b[0m\u001b[0m\n\u001b[1;32m    459\u001b[0m                     \u001b[0mndim\u001b[0m \u001b[0;34m=\u001b[0m \u001b[0mlen\u001b[0m\u001b[0;34m(\u001b[0m\u001b[0mlinop\u001b[0m\u001b[0;34m.\u001b[0m\u001b[0mishape\u001b[0m\u001b[0;34m)\u001b[0m\u001b[0;34m\u001b[0m\u001b[0;34m\u001b[0m\u001b[0m\n",
      "\u001b[0;32m/opt/anaconda/envs/pyenv/lib/python3.7/site-packages/sigpy/linop.py\u001b[0m in \u001b[0;36m__call__\u001b[0;34m(self, input)\u001b[0m\n\u001b[1;32m    120\u001b[0m \u001b[0;34m\u001b[0m\u001b[0m\n\u001b[1;32m    121\u001b[0m     \u001b[0;32mdef\u001b[0m \u001b[0m__call__\u001b[0m\u001b[0;34m(\u001b[0m\u001b[0mself\u001b[0m\u001b[0;34m,\u001b[0m \u001b[0minput\u001b[0m\u001b[0;34m)\u001b[0m\u001b[0;34m:\u001b[0m\u001b[0;34m\u001b[0m\u001b[0;34m\u001b[0m\u001b[0m\n\u001b[0;32m--> 122\u001b[0;31m         \u001b[0;32mreturn\u001b[0m \u001b[0mself\u001b[0m\u001b[0;34m.\u001b[0m\u001b[0m__mul__\u001b[0m\u001b[0;34m(\u001b[0m\u001b[0minput\u001b[0m\u001b[0;34m)\u001b[0m\u001b[0;34m\u001b[0m\u001b[0;34m\u001b[0m\u001b[0m\n\u001b[0m\u001b[1;32m    123\u001b[0m \u001b[0;34m\u001b[0m\u001b[0m\n\u001b[1;32m    124\u001b[0m     \u001b[0;32mdef\u001b[0m \u001b[0m__mul__\u001b[0m\u001b[0;34m(\u001b[0m\u001b[0mself\u001b[0m\u001b[0;34m,\u001b[0m \u001b[0minput\u001b[0m\u001b[0;34m)\u001b[0m\u001b[0;34m:\u001b[0m\u001b[0;34m\u001b[0m\u001b[0;34m\u001b[0m\u001b[0m\n",
      "\u001b[0;32m/opt/anaconda/envs/pyenv/lib/python3.7/site-packages/sigpy/linop.py\u001b[0m in \u001b[0;36m__mul__\u001b[0;34m(self, input)\u001b[0m\n\u001b[1;32m    129\u001b[0m             \u001b[0;32mreturn\u001b[0m \u001b[0mCompose\u001b[0m\u001b[0;34m(\u001b[0m\u001b[0;34m[\u001b[0m\u001b[0mself\u001b[0m\u001b[0;34m,\u001b[0m \u001b[0mM\u001b[0m\u001b[0;34m]\u001b[0m\u001b[0;34m)\u001b[0m\u001b[0;34m\u001b[0m\u001b[0;34m\u001b[0m\u001b[0m\n\u001b[1;32m    130\u001b[0m         \u001b[0;32melif\u001b[0m \u001b[0misinstance\u001b[0m\u001b[0;34m(\u001b[0m\u001b[0minput\u001b[0m\u001b[0;34m,\u001b[0m \u001b[0mbackend\u001b[0m\u001b[0;34m.\u001b[0m\u001b[0mget_array_module\u001b[0m\u001b[0;34m(\u001b[0m\u001b[0minput\u001b[0m\u001b[0;34m)\u001b[0m\u001b[0;34m.\u001b[0m\u001b[0mndarray\u001b[0m\u001b[0;34m)\u001b[0m\u001b[0;34m:\u001b[0m\u001b[0;34m\u001b[0m\u001b[0;34m\u001b[0m\u001b[0m\n\u001b[0;32m--> 131\u001b[0;31m             \u001b[0;32mreturn\u001b[0m \u001b[0mself\u001b[0m\u001b[0;34m.\u001b[0m\u001b[0mapply\u001b[0m\u001b[0;34m(\u001b[0m\u001b[0minput\u001b[0m\u001b[0;34m)\u001b[0m\u001b[0;34m\u001b[0m\u001b[0;34m\u001b[0m\u001b[0m\n\u001b[0m\u001b[1;32m    132\u001b[0m \u001b[0;34m\u001b[0m\u001b[0m\n\u001b[1;32m    133\u001b[0m         \u001b[0;32mreturn\u001b[0m \u001b[0mNotImplemented\u001b[0m\u001b[0;34m\u001b[0m\u001b[0;34m\u001b[0m\u001b[0m\n",
      "\u001b[0;32m/opt/anaconda/envs/pyenv/lib/python3.7/site-packages/sigpy/linop.py\u001b[0m in \u001b[0;36mapply\u001b[0;34m(self, input)\u001b[0m\n\u001b[1;32m     93\u001b[0m         \u001b[0;32mtry\u001b[0m\u001b[0;34m:\u001b[0m\u001b[0;34m\u001b[0m\u001b[0;34m\u001b[0m\u001b[0m\n\u001b[1;32m     94\u001b[0m             \u001b[0mself\u001b[0m\u001b[0;34m.\u001b[0m\u001b[0m_check_ishape\u001b[0m\u001b[0;34m(\u001b[0m\u001b[0minput\u001b[0m\u001b[0;34m)\u001b[0m\u001b[0;34m\u001b[0m\u001b[0;34m\u001b[0m\u001b[0m\n\u001b[0;32m---> 95\u001b[0;31m             \u001b[0moutput\u001b[0m \u001b[0;34m=\u001b[0m \u001b[0mself\u001b[0m\u001b[0;34m.\u001b[0m\u001b[0m_apply\u001b[0m\u001b[0;34m(\u001b[0m\u001b[0minput\u001b[0m\u001b[0;34m)\u001b[0m\u001b[0;34m\u001b[0m\u001b[0;34m\u001b[0m\u001b[0m\n\u001b[0m\u001b[1;32m     96\u001b[0m             \u001b[0mself\u001b[0m\u001b[0;34m.\u001b[0m\u001b[0m_check_oshape\u001b[0m\u001b[0;34m(\u001b[0m\u001b[0moutput\u001b[0m\u001b[0;34m)\u001b[0m\u001b[0;34m\u001b[0m\u001b[0;34m\u001b[0m\u001b[0m\n\u001b[1;32m     97\u001b[0m         \u001b[0;32mexcept\u001b[0m \u001b[0mException\u001b[0m \u001b[0;32mas\u001b[0m \u001b[0me\u001b[0m\u001b[0;34m:\u001b[0m\u001b[0;34m\u001b[0m\u001b[0;34m\u001b[0m\u001b[0m\n",
      "\u001b[0;32m/opt/anaconda/envs/pyenv/lib/python3.7/site-packages/sigpy/linop.py\u001b[0m in \u001b[0;36m_apply\u001b[0;34m(self, input)\u001b[0m\n\u001b[1;32m    360\u001b[0m         \u001b[0moutput\u001b[0m \u001b[0;34m=\u001b[0m \u001b[0minput\u001b[0m\u001b[0;34m\u001b[0m\u001b[0;34m\u001b[0m\u001b[0m\n\u001b[1;32m    361\u001b[0m         \u001b[0;32mfor\u001b[0m \u001b[0mlinop\u001b[0m \u001b[0;32min\u001b[0m \u001b[0mself\u001b[0m\u001b[0;34m.\u001b[0m\u001b[0mlinops\u001b[0m\u001b[0;34m[\u001b[0m\u001b[0;34m:\u001b[0m\u001b[0;34m:\u001b[0m\u001b[0;34m-\u001b[0m\u001b[0;36m1\u001b[0m\u001b[0;34m]\u001b[0m\u001b[0;34m:\u001b[0m\u001b[0;34m\u001b[0m\u001b[0;34m\u001b[0m\u001b[0m\n\u001b[0;32m--> 362\u001b[0;31m             \u001b[0moutput\u001b[0m \u001b[0;34m=\u001b[0m \u001b[0mlinop\u001b[0m\u001b[0;34m(\u001b[0m\u001b[0moutput\u001b[0m\u001b[0;34m)\u001b[0m\u001b[0;34m\u001b[0m\u001b[0;34m\u001b[0m\u001b[0m\n\u001b[0m\u001b[1;32m    363\u001b[0m \u001b[0;34m\u001b[0m\u001b[0m\n\u001b[1;32m    364\u001b[0m         \u001b[0;32mreturn\u001b[0m \u001b[0moutput\u001b[0m\u001b[0;34m\u001b[0m\u001b[0;34m\u001b[0m\u001b[0m\n",
      "\u001b[0;32m/opt/anaconda/envs/pyenv/lib/python3.7/site-packages/sigpy/linop.py\u001b[0m in \u001b[0;36m__call__\u001b[0;34m(self, input)\u001b[0m\n\u001b[1;32m    120\u001b[0m \u001b[0;34m\u001b[0m\u001b[0m\n\u001b[1;32m    121\u001b[0m     \u001b[0;32mdef\u001b[0m \u001b[0m__call__\u001b[0m\u001b[0;34m(\u001b[0m\u001b[0mself\u001b[0m\u001b[0;34m,\u001b[0m \u001b[0minput\u001b[0m\u001b[0;34m)\u001b[0m\u001b[0;34m:\u001b[0m\u001b[0;34m\u001b[0m\u001b[0;34m\u001b[0m\u001b[0m\n\u001b[0;32m--> 122\u001b[0;31m         \u001b[0;32mreturn\u001b[0m \u001b[0mself\u001b[0m\u001b[0;34m.\u001b[0m\u001b[0m__mul__\u001b[0m\u001b[0;34m(\u001b[0m\u001b[0minput\u001b[0m\u001b[0;34m)\u001b[0m\u001b[0;34m\u001b[0m\u001b[0;34m\u001b[0m\u001b[0m\n\u001b[0m\u001b[1;32m    123\u001b[0m \u001b[0;34m\u001b[0m\u001b[0m\n\u001b[1;32m    124\u001b[0m     \u001b[0;32mdef\u001b[0m \u001b[0m__mul__\u001b[0m\u001b[0;34m(\u001b[0m\u001b[0mself\u001b[0m\u001b[0;34m,\u001b[0m \u001b[0minput\u001b[0m\u001b[0;34m)\u001b[0m\u001b[0;34m:\u001b[0m\u001b[0;34m\u001b[0m\u001b[0;34m\u001b[0m\u001b[0m\n",
      "\u001b[0;32m/opt/anaconda/envs/pyenv/lib/python3.7/site-packages/sigpy/linop.py\u001b[0m in \u001b[0;36m__mul__\u001b[0;34m(self, input)\u001b[0m\n\u001b[1;32m    129\u001b[0m             \u001b[0;32mreturn\u001b[0m \u001b[0mCompose\u001b[0m\u001b[0;34m(\u001b[0m\u001b[0;34m[\u001b[0m\u001b[0mself\u001b[0m\u001b[0;34m,\u001b[0m \u001b[0mM\u001b[0m\u001b[0;34m]\u001b[0m\u001b[0;34m)\u001b[0m\u001b[0;34m\u001b[0m\u001b[0;34m\u001b[0m\u001b[0m\n\u001b[1;32m    130\u001b[0m         \u001b[0;32melif\u001b[0m \u001b[0misinstance\u001b[0m\u001b[0;34m(\u001b[0m\u001b[0minput\u001b[0m\u001b[0;34m,\u001b[0m \u001b[0mbackend\u001b[0m\u001b[0;34m.\u001b[0m\u001b[0mget_array_module\u001b[0m\u001b[0;34m(\u001b[0m\u001b[0minput\u001b[0m\u001b[0;34m)\u001b[0m\u001b[0;34m.\u001b[0m\u001b[0mndarray\u001b[0m\u001b[0;34m)\u001b[0m\u001b[0;34m:\u001b[0m\u001b[0;34m\u001b[0m\u001b[0;34m\u001b[0m\u001b[0m\n\u001b[0;32m--> 131\u001b[0;31m             \u001b[0;32mreturn\u001b[0m \u001b[0mself\u001b[0m\u001b[0;34m.\u001b[0m\u001b[0mapply\u001b[0m\u001b[0;34m(\u001b[0m\u001b[0minput\u001b[0m\u001b[0;34m)\u001b[0m\u001b[0;34m\u001b[0m\u001b[0;34m\u001b[0m\u001b[0m\n\u001b[0m\u001b[1;32m    132\u001b[0m \u001b[0;34m\u001b[0m\u001b[0m\n\u001b[1;32m    133\u001b[0m         \u001b[0;32mreturn\u001b[0m \u001b[0mNotImplemented\u001b[0m\u001b[0;34m\u001b[0m\u001b[0;34m\u001b[0m\u001b[0m\n",
      "\u001b[0;32m/opt/anaconda/envs/pyenv/lib/python3.7/site-packages/sigpy/linop.py\u001b[0m in \u001b[0;36mapply\u001b[0;34m(self, input)\u001b[0m\n\u001b[1;32m     93\u001b[0m         \u001b[0;32mtry\u001b[0m\u001b[0;34m:\u001b[0m\u001b[0;34m\u001b[0m\u001b[0;34m\u001b[0m\u001b[0m\n\u001b[1;32m     94\u001b[0m             \u001b[0mself\u001b[0m\u001b[0;34m.\u001b[0m\u001b[0m_check_ishape\u001b[0m\u001b[0;34m(\u001b[0m\u001b[0minput\u001b[0m\u001b[0;34m)\u001b[0m\u001b[0;34m\u001b[0m\u001b[0;34m\u001b[0m\u001b[0m\n\u001b[0;32m---> 95\u001b[0;31m             \u001b[0moutput\u001b[0m \u001b[0;34m=\u001b[0m \u001b[0mself\u001b[0m\u001b[0;34m.\u001b[0m\u001b[0m_apply\u001b[0m\u001b[0;34m(\u001b[0m\u001b[0minput\u001b[0m\u001b[0;34m)\u001b[0m\u001b[0;34m\u001b[0m\u001b[0;34m\u001b[0m\u001b[0m\n\u001b[0m\u001b[1;32m     96\u001b[0m             \u001b[0mself\u001b[0m\u001b[0;34m.\u001b[0m\u001b[0m_check_oshape\u001b[0m\u001b[0;34m(\u001b[0m\u001b[0moutput\u001b[0m\u001b[0;34m)\u001b[0m\u001b[0;34m\u001b[0m\u001b[0;34m\u001b[0m\u001b[0m\n\u001b[1;32m     97\u001b[0m         \u001b[0;32mexcept\u001b[0m \u001b[0mException\u001b[0m \u001b[0;32mas\u001b[0m \u001b[0me\u001b[0m\u001b[0;34m:\u001b[0m\u001b[0;34m\u001b[0m\u001b[0;34m\u001b[0m\u001b[0m\n",
      "\u001b[0;32m/opt/anaconda/envs/pyenv/lib/python3.7/site-packages/sigpy/linop.py\u001b[0m in \u001b[0;36m_apply\u001b[0;34m(self, input)\u001b[0m\n\u001b[1;32m    734\u001b[0m     \u001b[0;32mdef\u001b[0m \u001b[0m_apply\u001b[0m\u001b[0;34m(\u001b[0m\u001b[0mself\u001b[0m\u001b[0;34m,\u001b[0m \u001b[0minput\u001b[0m\u001b[0;34m)\u001b[0m\u001b[0;34m:\u001b[0m\u001b[0;34m\u001b[0m\u001b[0;34m\u001b[0m\u001b[0m\n\u001b[1;32m    735\u001b[0m         \u001b[0;32mwith\u001b[0m \u001b[0mbackend\u001b[0m\u001b[0;34m.\u001b[0m\u001b[0mget_device\u001b[0m\u001b[0;34m(\u001b[0m\u001b[0minput\u001b[0m\u001b[0;34m)\u001b[0m\u001b[0;34m:\u001b[0m\u001b[0;34m\u001b[0m\u001b[0;34m\u001b[0m\u001b[0m\n\u001b[0;32m--> 736\u001b[0;31m             \u001b[0;32mreturn\u001b[0m \u001b[0mfourier\u001b[0m\u001b[0;34m.\u001b[0m\u001b[0mifft\u001b[0m\u001b[0;34m(\u001b[0m\u001b[0minput\u001b[0m\u001b[0;34m,\u001b[0m \u001b[0maxes\u001b[0m\u001b[0;34m=\u001b[0m\u001b[0mself\u001b[0m\u001b[0;34m.\u001b[0m\u001b[0maxes\u001b[0m\u001b[0;34m,\u001b[0m \u001b[0mcenter\u001b[0m\u001b[0;34m=\u001b[0m\u001b[0mself\u001b[0m\u001b[0;34m.\u001b[0m\u001b[0mcenter\u001b[0m\u001b[0;34m)\u001b[0m\u001b[0;34m\u001b[0m\u001b[0;34m\u001b[0m\u001b[0m\n\u001b[0m\u001b[1;32m    737\u001b[0m \u001b[0;34m\u001b[0m\u001b[0m\n\u001b[1;32m    738\u001b[0m     \u001b[0;32mdef\u001b[0m \u001b[0m_adjoint_linop\u001b[0m\u001b[0;34m(\u001b[0m\u001b[0mself\u001b[0m\u001b[0;34m)\u001b[0m\u001b[0;34m:\u001b[0m\u001b[0;34m\u001b[0m\u001b[0;34m\u001b[0m\u001b[0m\n",
      "\u001b[0;32m/opt/anaconda/envs/pyenv/lib/python3.7/site-packages/sigpy/fourier.py\u001b[0m in \u001b[0;36mifft\u001b[0;34m(input, oshape, axes, center, norm)\u001b[0m\n\u001b[1;32m     66\u001b[0m \u001b[0;34m\u001b[0m\u001b[0m\n\u001b[1;32m     67\u001b[0m     \u001b[0;32mif\u001b[0m \u001b[0mcenter\u001b[0m\u001b[0;34m:\u001b[0m\u001b[0;34m\u001b[0m\u001b[0;34m\u001b[0m\u001b[0m\n\u001b[0;32m---> 68\u001b[0;31m         \u001b[0moutput\u001b[0m \u001b[0;34m=\u001b[0m \u001b[0m_ifftc\u001b[0m\u001b[0;34m(\u001b[0m\u001b[0minput\u001b[0m\u001b[0;34m,\u001b[0m \u001b[0moshape\u001b[0m\u001b[0;34m=\u001b[0m\u001b[0moshape\u001b[0m\u001b[0;34m,\u001b[0m \u001b[0maxes\u001b[0m\u001b[0;34m=\u001b[0m\u001b[0maxes\u001b[0m\u001b[0;34m,\u001b[0m \u001b[0mnorm\u001b[0m\u001b[0;34m=\u001b[0m\u001b[0mnorm\u001b[0m\u001b[0;34m)\u001b[0m\u001b[0;34m\u001b[0m\u001b[0;34m\u001b[0m\u001b[0m\n\u001b[0m\u001b[1;32m     69\u001b[0m     \u001b[0;32melse\u001b[0m\u001b[0;34m:\u001b[0m\u001b[0;34m\u001b[0m\u001b[0;34m\u001b[0m\u001b[0m\n\u001b[1;32m     70\u001b[0m         \u001b[0moutput\u001b[0m \u001b[0;34m=\u001b[0m \u001b[0mxp\u001b[0m\u001b[0;34m.\u001b[0m\u001b[0mfft\u001b[0m\u001b[0;34m.\u001b[0m\u001b[0mifftn\u001b[0m\u001b[0;34m(\u001b[0m\u001b[0minput\u001b[0m\u001b[0;34m,\u001b[0m \u001b[0ms\u001b[0m\u001b[0;34m=\u001b[0m\u001b[0moshape\u001b[0m\u001b[0;34m,\u001b[0m \u001b[0maxes\u001b[0m\u001b[0;34m=\u001b[0m\u001b[0maxes\u001b[0m\u001b[0;34m,\u001b[0m \u001b[0mnorm\u001b[0m\u001b[0;34m=\u001b[0m\u001b[0mnorm\u001b[0m\u001b[0;34m)\u001b[0m\u001b[0;34m\u001b[0m\u001b[0;34m\u001b[0m\u001b[0m\n",
      "\u001b[0;32m/opt/anaconda/envs/pyenv/lib/python3.7/site-packages/sigpy/fourier.py\u001b[0m in \u001b[0;36m_ifftc\u001b[0;34m(input, oshape, axes, norm)\u001b[0m\n\u001b[1;32m    231\u001b[0m     \u001b[0mtmp\u001b[0m \u001b[0;34m=\u001b[0m \u001b[0mutil\u001b[0m\u001b[0;34m.\u001b[0m\u001b[0mresize\u001b[0m\u001b[0;34m(\u001b[0m\u001b[0minput\u001b[0m\u001b[0;34m,\u001b[0m \u001b[0moshape\u001b[0m\u001b[0;34m)\u001b[0m\u001b[0;34m\u001b[0m\u001b[0;34m\u001b[0m\u001b[0m\n\u001b[1;32m    232\u001b[0m     \u001b[0mtmp\u001b[0m \u001b[0;34m=\u001b[0m \u001b[0mxp\u001b[0m\u001b[0;34m.\u001b[0m\u001b[0mfft\u001b[0m\u001b[0;34m.\u001b[0m\u001b[0mifftshift\u001b[0m\u001b[0;34m(\u001b[0m\u001b[0mtmp\u001b[0m\u001b[0;34m,\u001b[0m \u001b[0maxes\u001b[0m\u001b[0;34m=\u001b[0m\u001b[0maxes\u001b[0m\u001b[0;34m)\u001b[0m\u001b[0;34m\u001b[0m\u001b[0;34m\u001b[0m\u001b[0m\n\u001b[0;32m--> 233\u001b[0;31m     \u001b[0mtmp\u001b[0m \u001b[0;34m=\u001b[0m \u001b[0mxp\u001b[0m\u001b[0;34m.\u001b[0m\u001b[0mfft\u001b[0m\u001b[0;34m.\u001b[0m\u001b[0mifftn\u001b[0m\u001b[0;34m(\u001b[0m\u001b[0mtmp\u001b[0m\u001b[0;34m,\u001b[0m \u001b[0maxes\u001b[0m\u001b[0;34m=\u001b[0m\u001b[0maxes\u001b[0m\u001b[0;34m,\u001b[0m \u001b[0mnorm\u001b[0m\u001b[0;34m=\u001b[0m\u001b[0mnorm\u001b[0m\u001b[0;34m)\u001b[0m\u001b[0;34m\u001b[0m\u001b[0;34m\u001b[0m\u001b[0m\n\u001b[0m\u001b[1;32m    234\u001b[0m     \u001b[0moutput\u001b[0m \u001b[0;34m=\u001b[0m \u001b[0mxp\u001b[0m\u001b[0;34m.\u001b[0m\u001b[0mfft\u001b[0m\u001b[0;34m.\u001b[0m\u001b[0mfftshift\u001b[0m\u001b[0;34m(\u001b[0m\u001b[0mtmp\u001b[0m\u001b[0;34m,\u001b[0m \u001b[0maxes\u001b[0m\u001b[0;34m=\u001b[0m\u001b[0maxes\u001b[0m\u001b[0;34m)\u001b[0m\u001b[0;34m\u001b[0m\u001b[0;34m\u001b[0m\u001b[0m\n\u001b[1;32m    235\u001b[0m     \u001b[0;32mreturn\u001b[0m \u001b[0moutput\u001b[0m\u001b[0;34m\u001b[0m\u001b[0;34m\u001b[0m\u001b[0m\n",
      "\u001b[0;32m<__array_function__ internals>\u001b[0m in \u001b[0;36mifftn\u001b[0;34m(*args, **kwargs)\u001b[0m\n",
      "\u001b[0;32m/opt/anaconda/envs/pyenv/lib/python3.7/site-packages/numpy/fft/_pocketfft.py\u001b[0m in \u001b[0;36mifftn\u001b[0;34m(a, s, axes, norm)\u001b[0m\n\u001b[1;32m    914\u001b[0m \u001b[0;34m\u001b[0m\u001b[0m\n\u001b[1;32m    915\u001b[0m     \"\"\"\n\u001b[0;32m--> 916\u001b[0;31m     \u001b[0;32mreturn\u001b[0m \u001b[0m_raw_fftnd\u001b[0m\u001b[0;34m(\u001b[0m\u001b[0ma\u001b[0m\u001b[0;34m,\u001b[0m \u001b[0ms\u001b[0m\u001b[0;34m,\u001b[0m \u001b[0maxes\u001b[0m\u001b[0;34m,\u001b[0m \u001b[0mifft\u001b[0m\u001b[0;34m,\u001b[0m \u001b[0mnorm\u001b[0m\u001b[0;34m)\u001b[0m\u001b[0;34m\u001b[0m\u001b[0;34m\u001b[0m\u001b[0m\n\u001b[0m\u001b[1;32m    917\u001b[0m \u001b[0;34m\u001b[0m\u001b[0m\n\u001b[1;32m    918\u001b[0m \u001b[0;34m\u001b[0m\u001b[0m\n",
      "\u001b[0;32m/opt/anaconda/envs/pyenv/lib/python3.7/site-packages/numpy/fft/_pocketfft.py\u001b[0m in \u001b[0;36m_raw_fftnd\u001b[0;34m(a, s, axes, function, norm)\u001b[0m\n\u001b[1;32m    703\u001b[0m     \u001b[0mitl\u001b[0m\u001b[0;34m.\u001b[0m\u001b[0mreverse\u001b[0m\u001b[0;34m(\u001b[0m\u001b[0;34m)\u001b[0m\u001b[0;34m\u001b[0m\u001b[0;34m\u001b[0m\u001b[0m\n\u001b[1;32m    704\u001b[0m     \u001b[0;32mfor\u001b[0m \u001b[0mii\u001b[0m \u001b[0;32min\u001b[0m \u001b[0mitl\u001b[0m\u001b[0;34m:\u001b[0m\u001b[0;34m\u001b[0m\u001b[0;34m\u001b[0m\u001b[0m\n\u001b[0;32m--> 705\u001b[0;31m         \u001b[0ma\u001b[0m \u001b[0;34m=\u001b[0m \u001b[0mfunction\u001b[0m\u001b[0;34m(\u001b[0m\u001b[0ma\u001b[0m\u001b[0;34m,\u001b[0m \u001b[0mn\u001b[0m\u001b[0;34m=\u001b[0m\u001b[0ms\u001b[0m\u001b[0;34m[\u001b[0m\u001b[0mii\u001b[0m\u001b[0;34m]\u001b[0m\u001b[0;34m,\u001b[0m \u001b[0maxis\u001b[0m\u001b[0;34m=\u001b[0m\u001b[0maxes\u001b[0m\u001b[0;34m[\u001b[0m\u001b[0mii\u001b[0m\u001b[0;34m]\u001b[0m\u001b[0;34m,\u001b[0m \u001b[0mnorm\u001b[0m\u001b[0;34m=\u001b[0m\u001b[0mnorm\u001b[0m\u001b[0;34m)\u001b[0m\u001b[0;34m\u001b[0m\u001b[0;34m\u001b[0m\u001b[0m\n\u001b[0m\u001b[1;32m    706\u001b[0m     \u001b[0;32mreturn\u001b[0m \u001b[0ma\u001b[0m\u001b[0;34m\u001b[0m\u001b[0;34m\u001b[0m\u001b[0m\n\u001b[1;32m    707\u001b[0m \u001b[0;34m\u001b[0m\u001b[0m\n",
      "\u001b[0;32m<__array_function__ internals>\u001b[0m in \u001b[0;36mifft\u001b[0;34m(*args, **kwargs)\u001b[0m\n",
      "\u001b[0;32m/opt/anaconda/envs/pyenv/lib/python3.7/site-packages/numpy/fft/_pocketfft.py\u001b[0m in \u001b[0;36mifft\u001b[0;34m(a, n, axis, norm)\u001b[0m\n\u001b[1;32m    312\u001b[0m         \u001b[0mn\u001b[0m \u001b[0;34m=\u001b[0m \u001b[0ma\u001b[0m\u001b[0;34m.\u001b[0m\u001b[0mshape\u001b[0m\u001b[0;34m[\u001b[0m\u001b[0maxis\u001b[0m\u001b[0;34m]\u001b[0m\u001b[0;34m\u001b[0m\u001b[0;34m\u001b[0m\u001b[0m\n\u001b[1;32m    313\u001b[0m     \u001b[0minv_norm\u001b[0m \u001b[0;34m=\u001b[0m \u001b[0m_get_backward_norm\u001b[0m\u001b[0;34m(\u001b[0m\u001b[0mn\u001b[0m\u001b[0;34m,\u001b[0m \u001b[0mnorm\u001b[0m\u001b[0;34m)\u001b[0m\u001b[0;34m\u001b[0m\u001b[0;34m\u001b[0m\u001b[0m\n\u001b[0;32m--> 314\u001b[0;31m     \u001b[0moutput\u001b[0m \u001b[0;34m=\u001b[0m \u001b[0m_raw_fft\u001b[0m\u001b[0;34m(\u001b[0m\u001b[0ma\u001b[0m\u001b[0;34m,\u001b[0m \u001b[0mn\u001b[0m\u001b[0;34m,\u001b[0m \u001b[0maxis\u001b[0m\u001b[0;34m,\u001b[0m \u001b[0;32mFalse\u001b[0m\u001b[0;34m,\u001b[0m \u001b[0;32mFalse\u001b[0m\u001b[0;34m,\u001b[0m \u001b[0minv_norm\u001b[0m\u001b[0;34m)\u001b[0m\u001b[0;34m\u001b[0m\u001b[0;34m\u001b[0m\u001b[0m\n\u001b[0m\u001b[1;32m    315\u001b[0m     \u001b[0;32mreturn\u001b[0m \u001b[0moutput\u001b[0m\u001b[0;34m\u001b[0m\u001b[0;34m\u001b[0m\u001b[0m\n\u001b[1;32m    316\u001b[0m \u001b[0;34m\u001b[0m\u001b[0m\n",
      "\u001b[0;32m/opt/anaconda/envs/pyenv/lib/python3.7/site-packages/numpy/fft/_pocketfft.py\u001b[0m in \u001b[0;36m_raw_fft\u001b[0;34m(a, n, axis, is_real, is_forward, inv_norm)\u001b[0m\n\u001b[1;32m     68\u001b[0m \u001b[0;34m\u001b[0m\u001b[0m\n\u001b[1;32m     69\u001b[0m     \u001b[0;32mif\u001b[0m \u001b[0maxis\u001b[0m \u001b[0;34m==\u001b[0m \u001b[0ma\u001b[0m\u001b[0;34m.\u001b[0m\u001b[0mndim\u001b[0m\u001b[0;34m-\u001b[0m\u001b[0;36m1\u001b[0m\u001b[0;34m:\u001b[0m\u001b[0;34m\u001b[0m\u001b[0;34m\u001b[0m\u001b[0m\n\u001b[0;32m---> 70\u001b[0;31m         \u001b[0mr\u001b[0m \u001b[0;34m=\u001b[0m \u001b[0mpfi\u001b[0m\u001b[0;34m.\u001b[0m\u001b[0mexecute\u001b[0m\u001b[0;34m(\u001b[0m\u001b[0ma\u001b[0m\u001b[0;34m,\u001b[0m \u001b[0mis_real\u001b[0m\u001b[0;34m,\u001b[0m \u001b[0mis_forward\u001b[0m\u001b[0;34m,\u001b[0m \u001b[0mfct\u001b[0m\u001b[0;34m)\u001b[0m\u001b[0;34m\u001b[0m\u001b[0;34m\u001b[0m\u001b[0m\n\u001b[0m\u001b[1;32m     71\u001b[0m     \u001b[0;32melse\u001b[0m\u001b[0;34m:\u001b[0m\u001b[0;34m\u001b[0m\u001b[0;34m\u001b[0m\u001b[0m\n\u001b[1;32m     72\u001b[0m         \u001b[0ma\u001b[0m \u001b[0;34m=\u001b[0m \u001b[0mswapaxes\u001b[0m\u001b[0;34m(\u001b[0m\u001b[0ma\u001b[0m\u001b[0;34m,\u001b[0m \u001b[0maxis\u001b[0m\u001b[0;34m,\u001b[0m \u001b[0;34m-\u001b[0m\u001b[0;36m1\u001b[0m\u001b[0;34m)\u001b[0m\u001b[0;34m\u001b[0m\u001b[0;34m\u001b[0m\u001b[0m\n",
      "\u001b[0;31mKeyboardInterrupt\u001b[0m: "
     ]
    }
   ],
   "source": [
    "# highmask = mask_filter(mask_naiveRand(320,fix=corefreq,other=1.5*budget,roll=True)[0],base=corefreq,roll=True)\n",
    "# highmask = highmask.repeat(5,1)\n",
    "\n",
    "maxIter_mb = 20\n",
    "lr_mb      = 5e-3 # 1e-1\n",
    "lr_u       = 5e-4 # 1e-3 # what actually influences the performance\n",
    "unet_skip  = True\n",
    "print('lr_mb = ', lr_mb)\n",
    "print('lr_u  = ', lr_u)\n",
    "\n",
    "device='cuda:0'\n",
    "\n",
    "c_ind = 0\n",
    "for c in c_grid:\n",
    "    print(f'c_ind {c_ind+1} out of {len(c_grid)}')\n",
    "    a_ind = 0\n",
    "    for alpha in alpha_grid:\n",
    "        print(f'alpha_ind {a_ind+1} out of {len(alpha_grid)}')\n",
    "        ### load a unet for maskbackward\n",
    "#         UNET = UNet(n_channels=2,n_classes=1,bilinear=(not unet_skip),skip=unet_skip)\n",
    "#         unetpath = '/home/huangz78/checkpoints/unet_2_'+str(unet_skip)+'_rand'+'.pt'\n",
    "        UNET = UNet(n_channels=1,n_classes=1,bilinear=(not unet_skip),skip=unet_skip).to(device)\n",
    "        unetpath = '/home/huangz78/checkpoints/unet_1_'+str(unet_skip)+'_8frand'+'.pt'\n",
    "        checkpoint = torch.load(unetpath)\n",
    "        UNET.load_state_dict(checkpoint['model_state_dict'])\n",
    "        print('Unet loaded successfully from: ' + unetpath )\n",
    "        UNET.train()\n",
    "        (l2loss[a_ind,c_ind],hfen[a_ind,c_ind]),sparsity[a_ind,c_ind] =\\\n",
    "                        mask_backward(highmask.to(device),xstar.to(device),unet=UNET, mnet=mnet.to(device),\\\n",
    "                          beta=1.,alpha=alpha,c=c,\\\n",
    "                          maxIter=maxIter_mb,seed=0,break_limit=np.inf,\\\n",
    "                          lr=lr_mb,lru=lr_u,\\\n",
    "                          mode='UNET',budget=budget,normalize=True,\\\n",
    "                          dtyp=torch.float,verbose=True,testmode='sigpy',hfen=True,\\\n",
    "                          return_loss_only=True,save_cp=False,device=device)\n",
    "        a_ind += 1\n",
    "    print('\\n')\n",
    "    c_ind += 1"
   ]
  },
  {
   "cell_type": "code",
   "execution_count": 12,
   "id": "794a7113",
   "metadata": {},
   "outputs": [],
   "source": [
    "# highmask = sigmoid_binarize(raw_normalize(mnet(z),budget=budget))\n",
    "randmask = torch.zeros(highmask.shape)\n",
    "for ind in range(highmask.shape[0]):\n",
    "    sampinds = np.random.choice(highmask.shape[1],budget,replace=False)\n",
    "    randmask[ind,sampinds] = 1\n",
    "lowfmask,_,_ = mask_naiveRand(xstar.shape[1]-corefreq,fix=budget,other=0,roll=True)\n",
    "lowfmask = lowfmask.repeat(highmask.shape[0],1)"
   ]
  },
  {
   "cell_type": "code",
   "execution_count": 13,
   "id": "c5c14643",
   "metadata": {},
   "outputs": [
    {
     "name": "stdout",
     "output_type": "stream",
     "text": [
      "mode = sigpy\n",
      "0.20706025063991546\n",
      "0.1452158883213997\n"
     ]
    }
   ],
   "source": [
    "# full_highmask = mask_complete(highmask,320)\n",
    "full_randmask = mask_complete(randmask,320)\n",
    "full_lowfmask = mask_complete(lowfmask,320)\n",
    "\n",
    "(rand_l2,rand_hfen) = mask_eval(full_randmask,xstar,mode='sigpy',hfen=True)\n",
    "(lowf_l2,lowf_hfen) = mask_eval(full_lowfmask,xstar,mode='sigpy',hfen=True)\n",
    "# (gred_l2,gred_hfen) = mask_eval(full_gredmask.to(torch.float),xstar,mode='sigpy',hfen=True)\n",
    "print('mode = sigpy')\n",
    "\n",
    "print(rand_l2)\n",
    "print(lowf_l2)\n",
    "# print(gred_l2)"
   ]
  },
  {
   "cell_type": "code",
   "execution_count": 11,
   "id": "99ff8a74",
   "metadata": {},
   "outputs": [
    {
     "name": "stdout",
     "output_type": "stream",
     "text": [
      "-4.2\n",
      "1.0001452938517008\n"
     ]
    }
   ],
   "source": [
    "print(np.log10(alpha_grid[4]))\n",
    "print(10**(alpha_grid[4]))"
   ]
  },
  {
   "cell_type": "code",
   "execution_count": 14,
   "id": "17415928",
   "metadata": {},
   "outputs": [
    {
     "data": {
      "text/plain": [
       "Text(0.5, 0, 'alpha')"
      ]
     },
     "execution_count": 14,
     "metadata": {},
     "output_type": "execute_result"
    },
    {
     "data": {
      "image/png": "[encoded data removed]",
      "text/plain": [
       "<Figure size 720x576 with 1 Axes>"
      ]
     },
     "metadata": {
      "needs_background": "light"
     },
     "output_type": "display_data"
    },
    {
     "data": {
      "image/png": "[encoded data removed]",
      "text/plain": [
       "<Figure size 720x576 with 1 Axes>"
      ]
     },
     "metadata": {
      "needs_background": "light"
     },
     "output_type": "display_data"
    },
    {
     "data": {
      "image/png": "[encoded data removed]",
      "text/plain": [
       "<Figure size 720x576 with 1 Axes>"
      ]
     },
     "metadata": {
      "needs_background": "light"
     },
     "output_type": "display_data"
    }
   ],
   "source": [
    "markers = ['H', 'D', 'P', 'X','+']\n",
    "plt.figure(figsize=(10,8))\n",
    "for c_ind in range(len(c_grid)):\n",
    "    plt.plot(alpha_grid,l2loss[:,c_ind],label='c='+str(c_grid[c_ind]),marker=markers[c_ind],markersize=7)\n",
    "plt.plot(alpha_grid,np.ones(alpha_grid.shape)*rand_l2,color='r',label='rand',linestyle = 'dotted')\n",
    "plt.plot(alpha_grid,np.ones(alpha_grid.shape)*lowf_l2,color='g',label='low freq.',linestyle = 'dotted')\n",
    "plt.title('l2 loss of masks')\n",
    "plt.xlabel('alpha')\n",
    "plt.xscale('log')\n",
    "plt.legend(loc='best')\n",
    "\n",
    "plt.figure(figsize=(10,8))\n",
    "for c_ind in range(len(c_grid)):\n",
    "    plt.plot(alpha_grid,hfen[:,c_ind],label='c='+str(c_grid[c_ind]),marker=markers[c_ind],markersize=7)\n",
    "plt.plot(alpha_grid,np.ones(alpha_grid.shape)*rand_hfen,color='r',label='rand',linestyle = 'dotted')\n",
    "plt.plot(alpha_grid,np.ones(alpha_grid.shape)*lowf_hfen,color='g',label='low freq.',linestyle = 'dotted')\n",
    "plt.title('HFEN of masks')\n",
    "plt.xscale('log')\n",
    "plt.legend(loc='best')\n",
    "\n",
    "plt.figure(figsize=(10,8))\n",
    "for c_ind in range(len(c_grid)):\n",
    "    plt.plot(alpha_grid,sparsity[:,c_ind],label='c='+str(c_grid[c_ind]),marker=markers[c_ind],markersize=7)\n",
    "plt.plot(alpha_grid,(corefreq+budget)/320*np.ones(alpha_grid.shape),'-.',label='target')\n",
    "plt.title('mask sparsity')\n",
    "plt.xscale('log')\n",
    "plt.legend(loc='best')\n",
    "plt.xlabel('alpha')"
   ]
  },
  {
   "cell_type": "markdown",
   "id": "7c8702d1",
   "metadata": {},
   "source": [
    "# 4-fold check"
   ]
  },
  {
   "cell_type": "code",
   "execution_count": null,
   "id": "31a8fe8f",
   "metadata": {
    "scrolled": true
   },
   "outputs": [],
   "source": [
    "corefreq = 16\n",
    "budget   = 64\n",
    "from mnet import MNet\n",
    "mnet = MNet(beta=1,in_channels=2,out_size=320-corefreq, imgsize=(320,320),poolk=3)\n",
    "mnet.apply(weights_init)\n",
    "mnet.eval()\n",
    "print('mnet is initialized')"
   ]
  },
  {
   "cell_type": "code",
   "execution_count": null,
   "id": "e0ccedee",
   "metadata": {},
   "outputs": [],
   "source": [
    "xstar = xfull[0:5,:,:]\n",
    "for ind in range(xstar.shape[0]):\n",
    "    xstar[ind,:,:] = xstar[ind,:,:]/xstar[ind,:,:].max()\n",
    "\n",
    "NN         = 11\n",
    "alpha_grid = 10**(np.linspace(-4.5,-3.5,NN))\n",
    "c_grid     = np.array([1e-4,1e-3,1e-2,1e-1])\n",
    "\n",
    "l2loss   = np.zeros((NN,5))\n",
    "hfen     = np.zeros((NN,5))\n",
    "sparsity = np.zeros((NN,5))\n",
    "\n",
    "maxIter_mb = 30\n",
    "lr_mb      = 1e-2\n",
    "\n",
    "unet_skip = True"
   ]
  },
  {
   "cell_type": "code",
   "execution_count": null,
   "id": "b5cd9068",
   "metadata": {
    "scrolled": true
   },
   "outputs": [],
   "source": [
    "highmask = mask_filter(mask_naiveRand(320,fix=corefreq,other=1.5*budget,roll=True)[0],base=corefreq,roll=True)\n",
    "highmask = highmask.repeat(5,1)\n",
    "\n",
    "c_ind = 0\n",
    "for c in c_grid:\n",
    "    print(f'c_ind {c_ind+1} out of {len(c_grid)}')\n",
    "    a_ind = 0\n",
    "    for alpha in alpha_grid:\n",
    "        print(f'alpha_ind {a_ind+1} out of {len(alpha_grid)}')\n",
    "        # load a unet for maskbackward\n",
    "        UNET = UNet(n_channels=1,n_classes=1,bilinear=True,skip=False)\n",
    "        unetpath = '/home/huangz78/checkpoints/unet_1_False.pth'\n",
    "        checkpoint = torch.load(unetpath)\n",
    "        UNET.load_state_dict(checkpoint['model_state_dict'])\n",
    "        UNET.train()\n",
    "    # highmask_refined,unet = mask_backward(highmask,xstar,unet=UNET, mnet=mnet,\\\n",
    "    #                   beta=1.,alpha=alpha,c=c,\\\n",
    "    #                   maxIter=maxIter_mb,seed=0,break_limit=maxIter_mb*3//5,\\\n",
    "    #                   lr=lr_mb,mode='UNET',budget=budget,normalize=False,\\\n",
    "    #                   verbose=True,dtyp=torch.float)\n",
    "        (l2loss[a_ind,c_ind],hfen[a_ind,c_ind]),sparsity[a_ind,c_ind] =\\\n",
    "                        mask_backward(highmask,xstar,unet=UNET, mnet=mnet,\\\n",
    "                          beta=1.,alpha=alpha,c=c,\\\n",
    "                          maxIter=maxIter_mb,seed=0,break_limit=np.inf,\\\n",
    "                          lr=lr_mb,mode='UNET',budget=budget,normalize=False,\\\n",
    "                          dtyp=torch.float,verbose=True,testmode='sigpy',hfen=True,\\\n",
    "                          return_loss_only=True)\n",
    "        a_ind += 1\n",
    "    print('\\n')\n",
    "    c_ind += 1"
   ]
  },
  {
   "cell_type": "code",
   "execution_count": null,
   "id": "0b6d5d62",
   "metadata": {},
   "outputs": [],
   "source": [
    "# highmask = sigmoid_binarize(raw_normalize(mnet(z),budget=budget))\n",
    "randmask = torch.zeros(highmask.shape)\n",
    "for ind in range(highmask.shape[0]):\n",
    "    sampinds = np.random.choice(highmask.shape[1],budget,replace=False)\n",
    "    randmask[ind,sampinds] = 1\n",
    "lowfmask,_,_ = mask_naiveRand(xstar.shape[1]-corefreq,fix=budget,other=0,roll=True)\n",
    "lowfmask = lowfmask.repeat(highmask.shape[0],1)"
   ]
  },
  {
   "cell_type": "code",
   "execution_count": null,
   "id": "ff07b888",
   "metadata": {
    "scrolled": true
   },
   "outputs": [],
   "source": [
    "# full_highmask = mask_complete(highmask,320)\n",
    "full_randmask = mask_complete(randmask,320)\n",
    "full_lowfmask = mask_complete(lowfmask,320)\n",
    "\n",
    "(rand_l2,rand_hfen) = mask_eval(full_randmask,xstar,mode='sigpy',hfen=True)\n",
    "(lowf_l2,lowf_hfen) = mask_eval(full_lowfmask,xstar,mode='sigpy',hfen=True)\n",
    "# (gred_l2,gred_hfen) = mask_eval(full_gredmask.to(torch.float),xstar,mode='sigpy',hfen=True)\n",
    "print('mode = sigpy')\n",
    "\n",
    "print(rand_l2)\n",
    "print(lowf_l2)\n",
    "# print(gred_l2)"
   ]
  },
  {
   "cell_type": "code",
   "execution_count": null,
   "id": "2e858dbe",
   "metadata": {},
   "outputs": [],
   "source": [
    "# mnet_loss = mask_eval(full_highmask,xstar,mode='UNET',UNET=UNET)\n",
    "# rand_loss = mask_eval(full_randmask,xstar,mode='UNET',UNET=UNET)\n",
    "# lowf_loss = mask_eval(full_lowfmask,xstar,mode='UNET',UNET=UNET)\n",
    "# print('mode = UNet')\n",
    "# mnet_loss = mask_eval(full_highmask,xstar,mode='sigpy')\n",
    "(rand_l2,rand_hfen) = mask_eval(full_randmask,xstar,mode='sigpy',hfen=True)\n",
    "(lowf_l2,lowf_hfen) = mask_eval(full_lowfmask,xstar,mode='sigpy',hfen=True)\n",
    "(gred_l2,gred_hfen) = mask_eval(full_gredmask.to(torch.float),xstar,mode='sigpy',hfen=True)\n",
    "print('mode = sigpy')\n",
    "# print(mnet_loss)\n",
    "\n",
    "print(rand_l2)\n",
    "print(lowf_l2)\n",
    "print(gred_l2)"
   ]
  },
  {
   "cell_type": "code",
   "execution_count": null,
   "id": "23dc651a",
   "metadata": {
    "scrolled": true
   },
   "outputs": [],
   "source": [
    "plt.figure()\n",
    "plt.plot(alpha_grid,l2loss)\n",
    "plt.plot(alpha_grid,np.ones(alpha_grid.shape)*rand_l2,label='rand')\n",
    "plt.plot(alpha_grid,np.ones(alpha_grid.shape)*lowf_l2,label='low freq.')\n",
    "plt.plot(alpha_grid,np.ones(alpha_grid.shape)*gred_l2,label='greedy')\n",
    "plt.title('l2 loss of masks')\n",
    "plt.xscale('log')\n",
    "plt.legend(loc='best')\n",
    "\n",
    "plt.figure()\n",
    "plt.plot(alpha_grid,hfen)\n",
    "plt.plot(alpha_grid,np.ones(alpha_grid.shape)*rand_hfen,label='rand')\n",
    "plt.plot(alpha_grid,np.ones(alpha_grid.shape)*lowf_hfen,label='low freq.')\n",
    "plt.plot(alpha_grid,np.ones(alpha_grid.shape)*gred_hfen,label='greedy')\n",
    "plt.title('HFEN of masks')\n",
    "plt.xscale('log')\n",
    "plt.legend(loc='best')\n",
    "\n",
    "plt.figure()\n",
    "plt.plot(alpha_grid,sparsity,label='actual')\n",
    "plt.plot(alpha_grid,(corefreq+budget)/320*np.ones(alpha_grid.shape),label='target')\n",
    "plt.title('mask sparsity')\n",
    "plt.xscale('log')\n",
    "plt.legend(loc='best')"
   ]
  },
  {
   "cell_type": "code",
   "execution_count": null,
   "id": "99ce6ad0",
   "metadata": {},
   "outputs": [],
   "source": [
    "markers = ['H', 'D', 'P', 'X','+']\n",
    "plt.figure(figsize=(10,8))\n",
    "for c_ind in range(len(c_grid)):\n",
    "    plt.plot(alpha_grid,l2loss[:,c_ind],label='c='+str(c_grid[c_ind]),marker=markers[c_ind],markersize=7)\n",
    "plt.plot(alpha_grid,np.ones(alpha_grid.shape)*rand_l2,color='r',label='rand')\n",
    "plt.plot(alpha_grid,np.ones(alpha_grid.shape)*lowf_l2,color='g',label='low freq.')\n",
    "# plt.plot(alpha_grid,np.ones(alpha_grid.shape)*gred_l2,color='k',label='greedy')\n",
    "plt.title('l2 loss of masks')\n",
    "plt.xlabel('alpha')\n",
    "plt.xscale('log')\n",
    "plt.legend(loc='best')\n",
    "\n",
    "plt.figure(figsize=(10,8))\n",
    "for c_ind in range(len(c_grid)):\n",
    "    plt.plot(alpha_grid,hfen[:,c_ind],label='c='+str(c_grid[c_ind]),marker=markers[c_ind],markersize=7)\n",
    "plt.plot(alpha_grid,np.ones(alpha_grid.shape)*rand_hfen,color='r',label='rand')\n",
    "plt.plot(alpha_grid,np.ones(alpha_grid.shape)*lowf_hfen,color='g',label='low freq.')\n",
    "# plt.plot(alpha_grid,np.ones(alpha_grid.shape)*gred_hfen,color='k',label='greedy')\n",
    "plt.title('HFEN of masks')\n",
    "plt.xscale('log')\n",
    "plt.legend(loc='best')\n",
    "\n",
    "plt.figure(figsize=(10,8))\n",
    "for c_ind in range(len(c_grid)):\n",
    "    plt.plot(alpha_grid,sparsity[:,c_ind],label='c='+str(c_grid[c_ind]),marker=markers[c_ind],markersize=7)\n",
    "plt.plot(alpha_grid,(corefreq+budget)/320*np.ones(alpha_grid.shape),'-.',label='target')\n",
    "plt.title('mask sparsity')\n",
    "plt.xscale('log')\n",
    "plt.legend(loc='best')\n",
    "plt.xlabel('alpha')"
   ]
  },
  {
   "cell_type": "code",
   "execution_count": null,
   "id": "19bfee72",
   "metadata": {},
   "outputs": [],
   "source": [
    "np.log10(alpha_grid[-5])"
   ]
  },
  {
   "cell_type": "code",
   "execution_count": null,
   "id": "3217eb17",
   "metadata": {},
   "outputs": [],
   "source": [
    "from sigpy.mri.app import TotalVariationRecon\n",
    "xstar = imgs[0,:,:]/torch.max(torch.abs(imgs[0,:,:].flatten()))\n",
    "imgHeg, imgWid = xstar.shape[0], xstar.shape[1]\n",
    "mps = np.ones((1,imgHeg,imgWid))\n",
    "imgind = 15\n",
    "\n",
    "NN = 15\n",
    "Lambda_grid = 10**(np.linspace(-4,-2.5,NN))\n",
    "errors = np.zeros((NN))\n",
    "\n",
    "y = torch.fft.fftshift(F.fftn(xstar,dim=(0,1),norm='ortho'),dim=(0,1))    \n",
    "z = torch.zeros(y.shape).to(y.dtype)\n",
    "z[masks[imgind,:]==1,:] = y[masks[imgind,:]==1,:]  \n",
    "y_tmp = z.view(-1,imgHeg,imgWid).numpy()\n",
    "\n",
    "xstar = xstar.numpy()\n",
    "\n",
    "ind = 0\n",
    "for Lambda in Lambda_grid:    \n",
    "    x_tmp = np.fft.ifftshift( np.abs(TotalVariationRecon(y_tmp, mps, Lambda, show_pbar=False).run()) )  \n",
    "    errors[ind] = np.linalg.norm(x_tmp - xstar,'fro')/np.linalg.norm(xstar,'fro')\n",
    "    ind += 1\n",
    "    \n",
    "plt.figure()\n",
    "plt.plot(Lambda_grid,errors)\n",
    "plt.xscale('log')\n",
    "plt.show()"
   ]
  },
  {
   "cell_type": "markdown",
   "id": "d93085e1",
   "metadata": {},
   "source": [
    "### tune weight initialization function"
   ]
  },
  {
   "cell_type": "code",
   "execution_count": null,
   "id": "f7aeeaba",
   "metadata": {},
   "outputs": [],
   "source": [
    "def mnet_weights_init(m):\n",
    "    classname = m.__class__.__name__\n",
    "    print(m)\n",
    "    if classname.find('Conv2d') != -1:\n",
    "        nn.init.normal_(m.weight.data, 0.0, 0.02)\n",
    "    elif classname.find('BatchNorm2d') != -1:\n",
    "        nn.init.normal_(m.weight.data, 1.0, 0.02)\n",
    "        nn.init.constant_(m.bias.data, 0)\n",
    "    elif classname.find('Linear') != -1:\n",
    "        nn.init.normal_(m.weight.data, 0.0, 0.02)\n",
    "        nn.init.constant_(m.bias.data, 0)"
   ]
  },
  {
   "cell_type": "code",
   "execution_count": null,
   "id": "60bb1004",
   "metadata": {},
   "outputs": [],
   "source": [
    "# reload(utils)\n",
    "# from utils import mnet_weights_init"
   ]
  },
  {
   "cell_type": "code",
   "execution_count": null,
   "id": "b33b6629",
   "metadata": {},
   "outputs": [],
   "source": [
    "corefreq = 8\n",
    "budget = 32\n",
    "\n",
    "mnet = MNet(beta=1,in_channels=2,out_size=320-corefreq, imgsize=(320,320),poolk=3)\n",
    "# mnet.apply(mnet_weights_init)\n",
    "# mnet.eval()\n",
    "mnet(torch.randn(1,2,320,320))"
   ]
  },
  {
   "cell_type": "markdown",
   "id": "fb7e5f14",
   "metadata": {},
   "source": [
    "### old tests"
   ]
  },
  {
   "cell_type": "code",
   "execution_count": null,
   "id": "786959a0",
   "metadata": {},
   "outputs": [],
   "source": [
    "from mask_backward_v3 import ThresholdBinarizeMask"
   ]
  },
  {
   "cell_type": "code",
   "execution_count": null,
   "id": "5649bf78",
   "metadata": {},
   "outputs": [],
   "source": [
    "binarize = ThresholdBinarizeMask.apply\n",
    "x = torch.tensor([0.5,-0.5],requires_grad=True)"
   ]
  },
  {
   "cell_type": "code",
   "execution_count": null,
   "id": "dcbad87c",
   "metadata": {},
   "outputs": [],
   "source": [
    "y = binarize(torch.sigmoid(3*x))\n",
    "ystar = torch.tensor([0.,1.])\n",
    "print(y)"
   ]
  },
  {
   "cell_type": "code",
   "execution_count": null,
   "id": "b446840a",
   "metadata": {},
   "outputs": [],
   "source": [
    "loss = 1/2*torch.norm(y - ystar,p=2)\n",
    "optimizer = optim.SGD([{'params': x}], lr=1e-2, momentum=0)\n",
    "optimizer.zero_grad()\n",
    "loss.backward()"
   ]
  },
  {
   "cell_type": "code",
   "execution_count": null,
   "id": "f2b7791a",
   "metadata": {},
   "outputs": [],
   "source": [
    "x.grad"
   ]
  },
  {
   "cell_type": "code",
   "execution_count": null,
   "id": "9e629a99",
   "metadata": {
    "scrolled": false
   },
   "outputs": [],
   "source": [
    "data_gt = np.load('/home/huangz78/data/data_gt.npz')\n",
    "picind = np.random.randint(199)\n",
    "xstar = data_gt['imgdata'][:,:,27]\n",
    "xstar = xstar/np.max(np.abs(xstar))\n",
    "# highmask = datafornn['labels'][picind,:]\n",
    "plt.figure()\n",
    "plt.imshow(xstar)\n",
    "plt.colorbar()\n",
    "plt.show()"
   ]
  },
  {
   "cell_type": "code",
   "execution_count": null,
   "id": "6d810b0e",
   "metadata": {},
   "outputs": [],
   "source": [
    "# reload(maskbackward)\n",
    "# from maskbackward import mask_backward\n",
    "\n",
    "#mode UNET:\n",
    "\n",
    "reload(mask_backward_new)\n",
    "from mask_backward_new import mask_backward,mask_eval\n",
    "\n",
    "dtyp = torch.float\n",
    "# unroll_block = 8; Lambda=6.1e-4; rho=1e1\n",
    "\n",
    "# base = .05; expand = .15\n",
    "# highmask = torch.zeros((round(320*(1-base))),dtype=torch.double)\n",
    "# highmask[np.random.choice(round(320*(1-base)),round(320*expand),replace=False)] = 1\n",
    "\n",
    "highmask = mask_filter(fullmask,base=round(320*0.05),roll=True)\n",
    "print(highmask.shape)"
   ]
  },
  {
   "cell_type": "code",
   "execution_count": null,
   "id": "2c977955",
   "metadata": {},
   "outputs": [],
   "source": [
    "n_channels = 1\n",
    "UNET =  UNet(n_channels=n_channels,n_classes=n_channels,bilinear=True,skip=False)\n",
    "checkpoint = torch.load('/home/huangz78/checkpoints/unet_' + str(n_channels) + '.pth')\n",
    "UNET.load_state_dict(checkpoint['model_state_dict'])\n",
    "UNET.eval()"
   ]
  },
  {
   "cell_type": "code",
   "execution_count": null,
   "id": "4667dba8",
   "metadata": {},
   "outputs": [],
   "source": [
    "## quick comparison between ifft recon and unet recon\n",
    "imgHeg = 320; imgWid = 320\n",
    "fullmask = torch.tensor( mask_complete(highmask,imgHeg,dtyp=torch.float) )\n",
    "kplot(fullmask)\n",
    "print('sparsity of fullmask = ',fullmask.sum().item()/imgHeg)"
   ]
  },
  {
   "cell_type": "code",
   "execution_count": null,
   "id": "abde1d0f",
   "metadata": {
    "scrolled": true
   },
   "outputs": [],
   "source": [
    "xstar = torch.tensor(xstar,dtype=dtyp)\n",
    "DTyp = torch.cfloat if dtyp==torch.float else torch.cdouble\n",
    "y = torch.fft.fftshift(F.fftn(xstar,dim=(0,1),norm='ortho'))\n",
    "z = torch.fft.ifftshift(torch.tensordot(torch.diag(fullmask).to(DTyp),y,dims=([1],[0])))\n",
    "kplot(y,roll=False,log=True)\n",
    "kplot(z,roll=True,log=True)"
   ]
  },
  {
   "cell_type": "code",
   "execution_count": null,
   "id": "aa8f465c",
   "metadata": {},
   "outputs": [],
   "source": [
    "imgHeg = 320; imgWid = 320\n",
    "x_ifft = torch.abs(F.ifftn(z,dim=(0,1),norm='ortho')).to(dtyp)\n",
    "x_unet = UNET(x_ifft.view(1,1,imgHeg,imgWid)).detach()\n",
    "\n",
    "print('error of x_ifft = ', torch.norm(torch.flatten(x_ifft)-torch.flatten(xstar),'fro')/torch.norm(xstar,'fro') )\n",
    "print('error of x_unet = ', torch.norm(torch.flatten(x_unet)-torch.flatten(xstar),'fro')/torch.norm(xstar,'fro') )"
   ]
  },
  {
   "cell_type": "code",
   "execution_count": null,
   "id": "5de0edd8",
   "metadata": {},
   "outputs": [],
   "source": [
    "from sigpy.mri.app import TotalVariationRecon\n",
    "NN = 50\n",
    "Lambda_grid = 10**np.linspace(-3.5,-3,NN)\n",
    "errRec = np.zeros((NN))\n",
    "ind = 1\n",
    "\n",
    "mps  = np.ones((1,imgHeg,imgWid))\n",
    "y_sp = np.reshape(z.numpy(),(-1,imgHeg,imgWid))\n",
    "for Lambda in Lambda_grid:\n",
    "# Lambda = 10**(-6.31) \n",
    "# Lambda = 10**(-3.2755) # np.log10(Lambda_grid[np.argmin(errRec)])\n",
    "    print('{} out of {}'.format(ind,NN))\n",
    "    x_sp = np.fft.fftshift( np.abs(TotalVariationRecon(y_sp, mps, Lambda,show_pbar=False).run()) ) \n",
    "    x_sp = torch.tensor(x_sp)\n",
    "    errRec[ind-1] = torch.norm(torch.flatten(x_sp)-torch.flatten(xstar),'fro')/torch.norm(xstar,'fro')\n",
    "    ind += 1\n",
    "#     print('error of x_sp = ', torch.norm(torch.flatten(x_sp)-torch.flatten(xstar),'fro')/torch.norm(xstar,'fro'))\n",
    "\n",
    "plt.figure()\n",
    "plt.xscale('log')\n",
    "plt.plot(Lambda_grid,errRec)"
   ]
  },
  {
   "cell_type": "code",
   "execution_count": null,
   "id": "ec30fdf8",
   "metadata": {
    "scrolled": true
   },
   "outputs": [],
   "source": [
    "np.linspace(-6,-4,gridnum)[8]"
   ]
  },
  {
   "cell_type": "code",
   "execution_count": null,
   "id": "996e3afa",
   "metadata": {
    "scrolled": true
   },
   "outputs": [],
   "source": [
    "reload(mask_backward_new)\n",
    "from mask_backward_new import mask_backward,mask_eval\n",
    "\n",
    "maxIter = 200\n",
    "gridnum = 10\n",
    "alpha_grid = 10**np.linspace(-4.6,-4.5,gridnum)\n",
    "sr_rec = np.zeros((gridnum))\n",
    "mloss_rec = np.zeros(gridnum)\n",
    "\n",
    "ind = 0\n",
    "for alpha in alpha_grid:\n",
    "    print('[{}/{}]  alpha {}'.format(ind+1,gridnum,alpha))\n",
    "    highmask_refined,refine_mloss,init_loss = mask_backward(highmask,xstar,\\\n",
    "                          beta=1., alpha=alpha,maxIter=maxIter,seed=0,break_limit=maxIter//2,\\\n",
    "                          lr=5e-4,mode='UNET',\\\n",
    "                          verbose=False,dtyp=dtyp)\n",
    "    print('Difference between masks: \\n',highmask_refined - highmask)\n",
    "#     print('Refined mask is: \\n',highmask_refined)\n",
    "    mloss_rec[ind] = refine_mloss\n",
    "    sr_rec[ind] = (torch.sum(highmask_refined).item() + 24)/320\n",
    "    ind += 1"
   ]
  },
  {
   "cell_type": "code",
   "execution_count": null,
   "id": "4aad9bc7",
   "metadata": {},
   "outputs": [],
   "source": [
    "plt.figure()\n",
    "plt.scatter(alpha_grid,mloss_rec,label='refined')\n",
    "plt.scatter(alpha_grid,init_loss*np.ones(mloss_rec.shape),label='init.')\n",
    "plt.title('mask loss')\n",
    "plt.xscale('log')\n",
    "plt.legend(loc='best')\n",
    "plt.show()\n",
    "\n",
    "plt.figure()\n",
    "plt.scatter(alpha_grid,sr_rec,label='refined')\n",
    "plt.scatter(alpha_grid,0.25*np.ones(mloss_rec.shape),label='init.')\n",
    "plt.title('mask sampling ratio')\n",
    "plt.xscale('log')\n",
    "plt.legend(loc='best')\n",
    "plt.show()"
   ]
  },
  {
   "cell_type": "markdown",
   "id": "5965033e",
   "metadata": {},
   "source": [
    "### mask binarize test"
   ]
  },
  {
   "cell_type": "code",
   "execution_count": null,
   "id": "ea1b2e1b",
   "metadata": {},
   "outputs": [],
   "source": [
    "from torch.autograd import Function\n",
    "class ThresholdBinarizeMask(Function):\n",
    "    def __init__(self):\n",
    "        \"\"\"\n",
    "            Straight through estimator.\n",
    "            The forward step binarizes the real-valued mask.\n",
    "            The backward step estimate the non differentiable > operator using sigmoid with large slope (10).\n",
    "        \"\"\"\n",
    "        super(ThresholdBinarizeMask, self).__init__()\n",
    "\n",
    "    @staticmethod\n",
    "    def forward(ctx, input):\n",
    "        batch_size = len(input)\n",
    "        results = [] \n",
    "\n",
    "        for i in range(batch_size):\n",
    "            x = input[i:i+1]\n",
    "            result = (x > .5).float()\n",
    "            results.append(result)\n",
    "\n",
    "        results = torch.cat(results, dim=0)\n",
    "#         ctx.save_for_backward(input)\n",
    "        return results  \n",
    "\n",
    "    @staticmethod\n",
    "    def backward(ctx, grad_output):\n",
    "        slope = 1\n",
    "#         input = ctx.saved_tensors\n",
    "\n",
    "        # derivative of M\n",
    "        current_grad = slope\n",
    "\n",
    "        return current_grad * grad_output"
   ]
  },
  {
   "cell_type": "code",
   "execution_count": null,
   "id": "0f544ede",
   "metadata": {},
   "outputs": [],
   "source": [
    "threshold = ThresholdBinarizeMask.apply"
   ]
  },
  {
   "cell_type": "code",
   "execution_count": null,
   "id": "0bbc3f8e",
   "metadata": {},
   "outputs": [],
   "source": [
    "x = torch.tensor([.1,.3,.7,.9,.6,.5,.21,.43])\n",
    "x.requires_grad = True\n",
    "b = threshold(x)"
   ]
  },
  {
   "cell_type": "code",
   "execution_count": null,
   "id": "1290d1d5",
   "metadata": {},
   "outputs": [],
   "source": [
    "y = torch.tensor([1., 1., 1., 1., 0., 1., 0., 1.])\n",
    "loss = torch.norm((y-b),p=2)**2"
   ]
  },
  {
   "cell_type": "code",
   "execution_count": null,
   "id": "628d0b23",
   "metadata": {},
   "outputs": [],
   "source": [
    "optimizer = optim.SGD([{'params': x}], lr=1e-2)"
   ]
  },
  {
   "cell_type": "code",
   "execution_count": null,
   "id": "7cc84b07",
   "metadata": {},
   "outputs": [],
   "source": [
    "optimizer.zero_grad()\n",
    "loss.backward()\n",
    "print('old x: ', x)\n",
    "print('grad: ', x.grad)\n",
    "optimizer.step()\n",
    "print('updated x: ', x)"
   ]
  },
  {
   "cell_type": "markdown",
   "id": "de924ac1",
   "metadata": {},
   "source": [
    "### arXiv"
   ]
  },
  {
   "cell_type": "code",
   "execution_count": null,
   "id": "d9528417",
   "metadata": {},
   "outputs": [],
   "source": [
    "reload(mask_backward_new)\n",
    "from mask_backward_new import mask_backward\n",
    "\n",
    "# mode ADMM:\n",
    "\n",
    "highmask = torch.zeros((round(320*0.9)))\n",
    "highmask[np.random.choice(round(320*0.9),int(320*.1),replace=False)] = 1\n",
    "\n",
    "naive_mloss = mask_eval(mask_complete(highmask.to(torch.double),320),xstar,unroll_block=unroll_block,Lambda=Lambda,rho=rho) * 100\n",
    "highmask_refined,refine_mloss = mask_backward(highmask,xstar,\\\n",
    "                          beta=1., alpha=1e1,maxIter=200,unroll_block=unroll_block,seed=0,break_limit=100,\\\n",
    "                          lr=5e-4,mode='ADMM',Lambda=Lambda,rho=rho,\\\n",
    "                          verbose=True,perturb=False,perturb_freq=5,eps=1e-2)"
   ]
  },
  {
   "cell_type": "code",
   "execution_count": null,
   "id": "3e20ba17",
   "metadata": {},
   "outputs": [],
   "source": [
    "# vary sampling ratio, observe RMSE for the same image.\n",
    "reload(mask_backward_new)\n",
    "from mask_backward_new import mask_backward\n",
    "\n",
    "base=0.1\n",
    "r_grid = np.array([0.1,0.15,0.2])\n",
    "naive_mloss = np.zeros((r_grid.size))\n",
    "refine_mloss = np.zeros((r_grid.size))\n",
    "\n",
    "sampRatio = np.zeros((r_grid.size))\n",
    "\n",
    "unroll_block = 6; Lambda=6.1e-4; rho=1e1; lr = 5e-2\n",
    "maxIter = 300; break_limit = round(maxIter/3)\n",
    "\n",
    "np.random.seed(0)\n",
    "\n",
    "ind = 0\n",
    "for r in r_grid:\n",
    "    print('\\n r {}, the {} item out of {}'.format(r,ind+1,r_grid.size))\n",
    "    highmask = torch.zeros((round(320*(1-base))))\n",
    "    highmask[np.random.choice(round(320*(1-base)),int(320*r),replace=False)] = 1\n",
    "    \n",
    "    naive_mloss[ind] = mask_eval(mask_complete(highmask.to(torch.double),320),xstar,unroll_block=unroll_block,Lambda=Lambda,rho=rho) * 100\n",
    "    highmask_refined,refine_mloss[ind] = mask_backward(highmask,xstar,seed=0,\\\n",
    "                              beta=1., alpha=9.5e0,maxIter=maxIter,unroll_block=unroll_block,break_limit=break_limit,\\\n",
    "                              lr=lr,mode='ADMM',Lambda=Lambda,rho=rho,\\\n",
    "                              verbose=True,perturb=False,perturb_freq=5,eps=1e-2)\n",
    "    sampRatio[ind] = (highmask_refined.sum().item() + round(320*0.1))/320\n",
    "    ind += 1"
   ]
  },
  {
   "cell_type": "code",
   "execution_count": null,
   "id": "7a11c551",
   "metadata": {
    "scrolled": true
   },
   "outputs": [],
   "source": [
    "print('sampRatio: ',sampRatio)\n",
    "plt.figure()\n",
    "plt.scatter(r_grid,naive_mloss,label='naive')\n",
    "plt.scatter(sampRatio,refine_mloss,label='refined')\n",
    "plt.legend(bbox_to_anchor=(1.04,0.5), loc=\"center left\")"
   ]
  },
  {
   "cell_type": "code",
   "execution_count": null,
   "id": "51682d9b",
   "metadata": {
    "scrolled": true
   },
   "outputs": [],
   "source": [
    "## find a good alpha for l1 penalty\n",
    "reload(mask_backward_new); reload(utils);\n",
    "from mask_backward_new import mask_backward\n",
    "alpha_grid = np.linspace(1,10,10)\n",
    "sparsity_ = np.zeros(alpha_grid.size)\n",
    "change_count = np.zeros(alpha_grid.size)\n",
    "\n",
    "unroll_block = 6; Lambda=6.1e-4; rho=1e1; lr = 5e-2\n",
    "maxIter = 300; break_limit = round(maxIter/2)\n",
    "# add samp. ratio. = .1 ---> best alpha = ?\n",
    "# add samp. ratio. = .2 ---> best alpha = ?\n",
    "# add samp. ratio. = .2 ---> best alpha = ?\n",
    "\n",
    "base = 0.05\n",
    "additional = 0.125\n",
    "\n",
    "highmask = torch.zeros((round(320*(1-base))))\n",
    "highmask[np.random.choice(round(320*(1-base)),round(320*additional),replace=False)] = 1\n",
    "\n",
    "ind = 0\n",
    "for alpha in alpha_grid:\n",
    "    print('\\n\\talpha = {}'.format(alpha))\n",
    "    highmask_refined,_ = mask_backward(highmask,xstar,\\\n",
    "                  beta=1, alpha=alpha,maxIter=maxIter,unroll_block=unroll_block,seed=0,break_limit=break_limit,\\\n",
    "                  lr=lr,mode='ADMM',Lambda=Lambda,rho=rho,\\\n",
    "                  perturb=False,perturb_freq=10,verbose=True)\n",
    "    sparsity_[ind] = mask_complete(highmask_refined.to(torch.double),320).sum().item()/320\n",
    "    change_count[ind] = torch.abs(highmask_refined - highmask).sum().item()\n",
    "    ind += 1"
   ]
  },
  {
   "cell_type": "code",
   "execution_count": null,
   "id": "db130dd5",
   "metadata": {},
   "outputs": [],
   "source": [
    "plt.figure()\n",
    "plt.scatter(alpha_grid,sparsity_,label='end')\n",
    "plt.scatter(alpha_grid,(base+additional)*np.ones(alpha_grid.size),label='start')\n",
    "plt.title('sparsity')\n",
    "# plt.xscale('log')\n",
    "plt.legend(bbox_to_anchor=(1.04,0.5), loc=\"center left\")\n",
    "\n",
    "plt.figure()\n",
    "plt.scatter(alpha_grid,change_count)\n",
    "# plt.xscale('log')\n",
    "plt.title('change count')"
   ]
  },
  {
   "cell_type": "code",
   "execution_count": null,
   "id": "36e701ca",
   "metadata": {},
   "outputs": [],
   "source": [
    "naive_mloss = mask_eval(mask_complete(highmask,imgHeg,dtyp=dtyp),xstar,mode='UNET',UNET=UNET,dtyp=dtyp) * 100\n",
    "print('naive mask loss = ',naive_mloss)"
   ]
  },
  {
   "cell_type": "code",
   "execution_count": null,
   "id": "5aaeed03",
   "metadata": {
    "scrolled": true
   },
   "outputs": [],
   "source": [
    "### verify that UNET works fine\n",
    "z = apply_mask(full_gredmask,yfull,mode='c')\n",
    "xs = torch.abs(F.ifftn(F.ifftshift(z),dim=(1,2),norm='ortho'))\n",
    "xs = torch.reshape(xs,(xs.shape[0],1,xs.shape[1],xs.shape[2]))\n",
    "\n",
    "UNET.eval()\n",
    "imgind = 0\n",
    "xrecon = UNET(xs)\n",
    "plt.figure()\n",
    "plt.title('recon')\n",
    "plt.imshow(xrecon.detach().numpy()[imgind,0,:,:])\n",
    "plt.colorbar()\n",
    "plt.show()\n",
    "\n",
    "plt.figure()\n",
    "plt.title('gt')\n",
    "plt.imshow(xstar.detach().numpy()[imgind,:,:])\n",
    "plt.colorbar()\n",
    "plt.show()\n",
    "print(torch.norm(xrecon[imgind,0,:,:]-xstar[imgind,:,:],'fro')/torch.norm(xstar[imgind,:,:],'fro').item())"
   ]
  },
  {
   "cell_type": "code",
   "execution_count": null,
   "id": "460c2230",
   "metadata": {},
   "outputs": [],
   "source": [
    "reload(utils)\n",
    "from utils import hfen"
   ]
  },
  {
   "cell_type": "code",
   "execution_count": null,
   "id": "9a07d2ef",
   "metadata": {},
   "outputs": [],
   "source": [
    "torch.squeeze(xrecon)[0,:,:].shape"
   ]
  },
  {
   "cell_type": "code",
   "execution_count": null,
   "id": "9c4d0ec0",
   "metadata": {
    "scrolled": true
   },
   "outputs": [],
   "source": [
    "hfen(torch.squeeze(xrecon)[imgind,:,:],xstar[imgind,:,:],base=0)"
   ]
  }
 ],
 "metadata": {
  "kernelspec": {
   "display_name": "Python 3",
   "language": "python",
   "name": "python3"
  },
  "language_info": {
   "codemirror_mode": {
    "name": "ipython",
    "version": 3
   },
   "file_extension": ".py",
   "mimetype": "text/x-python",
   "name": "python",
   "nbconvert_exporter": "python",
   "pygments_lexer": "ipython3",
   "version": "3.7.5"
  }
 },
 "nbformat": 4,
 "nbformat_minor": 5
}
