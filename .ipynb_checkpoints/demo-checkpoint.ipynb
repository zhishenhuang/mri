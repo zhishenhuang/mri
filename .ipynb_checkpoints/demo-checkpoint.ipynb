{
 "cells": [
  {
   "cell_type": "code",
   "execution_count": 1,
   "id": "ef5b3a81",
   "metadata": {},
   "outputs": [],
   "source": [
    "import numpy as np\n",
    "import argparse\n",
    "import os\n",
    "import sys\n",
    "import torch\n",
    "import torch.fft as F\n",
    "from importlib import reload\n",
    "from torch.nn.functional import relu\n",
    "import torch.nn as nn\n",
    "import torch.nn.functional as Func\n",
    "import torch.optim as optim\n",
    "import utils\n",
    "from utils import *\n",
    "\n",
    "from matplotlib import pyplot as plt\n",
    "import random\n",
    "import copy\n",
    "from sklearn.model_selection import train_test_split\n",
    "\n",
    "import skimage\n",
    "from mnet import MNet\n",
    "from loupe_env.loupe_wrap import *\n",
    "from mask_backward_new import mask_backward, mask_eval\n",
    "from sigpy.mri.app import TotalVariationRecon\n",
    "\n",
    "sys.path.insert(0,'/home/huangz78/mri/unet/')\n",
    "from unet_model import UNet\n",
    "\n",
    "torch.manual_seed(0)\n",
    "np.random.seed(0)\n",
    "random.seed(0)"
   ]
  },
  {
   "cell_type": "markdown",
   "id": "cfcba4d1",
   "metadata": {},
   "source": [
    "# comparison between MNet and Loupe"
   ]
  },
  {
   "cell_type": "code",
   "execution_count": 25,
   "id": "4203ffb1",
   "metadata": {},
   "outputs": [],
   "source": [
    "dtyp = torch.float\n",
    "testxdata  = np.load('/home/huangz78/data/testdata_x.npz')\n",
    "testydata  = np.load('/home/huangz78/data/testdata_y.npz')\n",
    "testxfull = torch.tensor(testxdata['xfull'],dtype=dtyp)\n",
    "testyfull = torch.tensor(testydata['yfull'],dtype=torch.cfloat)"
   ]
  },
  {
   "cell_type": "code",
   "execution_count": 26,
   "id": "054ca16f",
   "metadata": {},
   "outputs": [],
   "source": [
    "sparsity = .25\n",
    "preselect_num = 24\n",
    "unet_skip = True"
   ]
  },
  {
   "cell_type": "code",
   "execution_count": 47,
   "id": "67187410",
   "metadata": {},
   "outputs": [
    {
     "name": "stdout",
     "output_type": "stream",
     "text": [
      "MNet loaded successfully from: /home/huangz78/checkpoints/mnet_split_trained.pth\n",
      "Unet loaded successfully from: /home/huangz78/checkpoints/unet_split_trained.pth\n",
      "nn's are ready\n"
     ]
    }
   ],
   "source": [
    "# load mnet\n",
    "mnet = MNet(beta=1,in_channels=2,out_size=320-preselect_num, imgsize=(320,320),poolk=3)\n",
    "mnetpath = '/home/huangz78/checkpoints/mnet_split_trained.pth'\n",
    "checkpoint = torch.load(mnetpath)\n",
    "mnet.load_state_dict(checkpoint['model_state_dict'])\n",
    "mnet.eval()\n",
    "print('MNet loaded successfully from: ' + mnetpath)\n",
    "\n",
    "unet_recon = UNet(n_channels=1,n_classes=1,bilinear=(not unet_skip),skip=unet_skip)\n",
    "unetpath = '/home/huangz78/checkpoints/unet_split_trained.pth'\n",
    "checkpoint = torch.load(unetpath)\n",
    "unet_recon.load_state_dict(checkpoint['model_state_dict'])\n",
    "print('Unet loaded successfully from: ' + unetpath )\n",
    "unet_recon.eval()\n",
    "print('nn\\'s are ready')"
   ]
  },
  {
   "cell_type": "code",
   "execution_count": 28,
   "id": "60041c91",
   "metadata": {},
   "outputs": [],
   "source": [
    "def mnet_eval(mnet,unet,testdata,preselect_num,sparsity,\\\n",
    "             batchsize=5,mode='unet',\\\n",
    "             Lambda=1e-4,\\\n",
    "             normalize=False):\n",
    "    \n",
    "    # prepare test data for mnet input\n",
    "    nimgs = testdata.shape[0]; heg = testdata.shape[1]; wid = testdata.shape[2]\n",
    "    \n",
    "    data = torch.zeros(nimgs,2,heg,wid)    \n",
    "    lf_mask = mask_naiveRand(heg,fix=preselect_num,other=0,roll=False)\n",
    "    data[:,0,lf_mask==1,:] = torch.real(testdata[:,lf_mask==1,:])\n",
    "    data[:,1,lf_mask==1,:] = torch.imag(testdata[:,lf_mask==1,:])\n",
    "    \n",
    "    pred_mnet = torch.zeros((nimgs,heg))\n",
    "    batchnums = int(np.ceil(nimgs/batchsize))\n",
    "    batchind = 0\n",
    "    while batchind < batchnums:\n",
    "        batch = np.arange(batchsize*batchind, min(batchsize*(batchind+1),nimgs))\n",
    "        databatch = data[batch]\n",
    "        preds = mnet_wrapper(mnet,databatch,budget=int(heg*sparsity)-preselect_num,\\\n",
    "                             imgshape=[heg,wid],normalize=True,detach=True)\n",
    "        pred_mnet[batch] = F.ifftshift(preds,dim=1)\n",
    "        batchind += 1\n",
    "    \n",
    "    observed_kspace = torch.zeros_like(testdata)\n",
    "    for ind in range(len(data)):\n",
    "        observed_kspace[ind,pred_mnet[ind,:]==1,:] = testdata[ind,pred_mnet[ind,:]==1,:]\n",
    "    imgs_recon = torch.zeros(testdata.shape)\n",
    "    \n",
    "    if mode == 'unet':\n",
    "        input_unet = F.ifftn(observed_kspace,dim=(1,2),norm='ortho').abs().view(nimgs,1,heg,wid)\n",
    "        batchind = 0\n",
    "        while batchind < batchnums:\n",
    "            batch = np.arange(batchsize*batchind, min(batchsize*(batchind+1),nimgs))\n",
    "            databatch = input_unet[batch]\n",
    "            if not normalize:\n",
    "                imgs_recon[batch] = torch.squeeze(unet(databatch).detach())\n",
    "            else:\n",
    "                recon_batch = unet(databatch).detach()\n",
    "                for ind in range(len(recon_batch)):\n",
    "                    recon_batch[ind] = recon_batch[ind]/torch.max(torch.abs(torch.flatten(recon_batch[ind])))\n",
    "                imgs_recon[batch] = torch.squeeze(recon_batch)\n",
    "            batchind += 1\n",
    "    elif mode == 'sigpy':\n",
    "        mps = np.ones((1,heg,wid))\n",
    "        for ind in range(len(observed_kspace)):\n",
    "            y_tmp = observed_kspace[ind,:,:].view(-1,heg,wid).numpy()\n",
    "            imgs_recon[ind,:,:] = torch.tensor(\\\n",
    "                       np.fft.ifftshift(np.abs(TotalVariationRecon(y_tmp, mps, Lambda,show_pbar=False).run())) )\n",
    "\n",
    "    ssim = compute_ssim(imgs_recon,testdata)\n",
    "    psnr = compute_psnr(imgs_recon,testdata)\n",
    "    hfen = np.zeros((nimgs))\n",
    "    for ind in range(nimgs):\n",
    "        hfen[ind] = compute_hfen(imgs_recon[ind,:,:].to(torch.cfloat),testdata[ind,:,:].to(torch.cfloat))\n",
    "    rmse = np.zeros((nimgs))\n",
    "    for ind in range(nimgs):\n",
    "        rmse[ind] = torch.norm(imgs_recon[ind,:,:] - testdata[ind,:,:],2)/torch.norm(testdata[ind,:,:],2)\n",
    "    \n",
    "    return ssim,psnr,hfen,rmse"
   ]
  },
  {
   "cell_type": "code",
   "execution_count": 31,
   "id": "81fc4387",
   "metadata": {
    "scrolled": false
   },
   "outputs": [],
   "source": [
    "mnet_test_mode = 'unet'\n",
    "ssim_mnet,psnr_mnet,hfen_mnet,rmse_mnet = mnet_eval(mnet,unet_recon,testyfull,preselect_num=24,sparsity=.25,\\\n",
    "                               batchsize=5,mode=mnet_test_mode,normalize=False)"
   ]
  },
  {
   "cell_type": "code",
   "execution_count": 32,
   "id": "f84b8f60",
   "metadata": {},
   "outputs": [
    {
     "name": "stdout",
     "output_type": "stream",
     "text": [
      "mnet test mode:  unet\n",
      "ssim mnet:  0.9116505\n",
      "psnr mnet:  46.677307\n",
      "hfen mnet:  1.0059348081224528\n",
      "rmse mnet:  1.3622640335380132\n"
     ]
    }
   ],
   "source": [
    "print('mnet test mode: ',mnet_test_mode)\n",
    "print('ssim mnet: ',np.mean(ssim_mnet))\n",
    "print('psnr mnet: ',np.mean(psnr_mnet))\n",
    "print('hfen mnet: ',np.mean(hfen_mnet))\n",
    "print('rmse mnet: ',np.mean(rmse_mnet))"
   ]
  },
  {
   "cell_type": "code",
   "execution_count": 42,
   "id": "0470bde1",
   "metadata": {},
   "outputs": [],
   "source": [
    "# load unet\n",
    "UNET = UNet(n_channels=1,n_classes=1,bilinear=(not unet_skip),skip=unet_skip)\n",
    "# load loupe model\n",
    "loupepath = '/home/huangz78/checkpoints/loupe_model.pt'\n",
    "loupe = LOUPE(n_channels=1,unet_skip=True,shape=[320,320],slope=5,sparsity=sparsity,\\\n",
    "                  preselect=True,preselect_num=preselect_num,\\\n",
    "                  sampler=None,unet=UNET)"
   ]
  },
  {
   "cell_type": "code",
   "execution_count": 89,
   "id": "a33600d4",
   "metadata": {},
   "outputs": [],
   "source": [
    "def loupe_eval(loupe,testdata,preselect_num,sparsity,\\\n",
    "               batchsize=5,mode='unet',\\\n",
    "               Lambda=1e-4):\n",
    "    loupe.eval()\n",
    "    if preselect_num > 0:\n",
    "        assert loupe.preselect\n",
    "        assert loupe.preselect_num == preselect_num\n",
    "    # prepare test data for mnet input\n",
    "    nimgs = testdata.shape[0]; heg = testdata.shape[1]; wid = testdata.shape[2]    \n",
    "    data = torch.reshape(testdata,(nimgs,1,heg,wid))\n",
    "    \n",
    "    pred_loupe = torch.zeros((nimgs,heg,wid)) \n",
    "    batchnums = int(np.ceil(nimgs/batchsize))\n",
    "    batchind = 0    \n",
    "    if mode == 'unet':           \n",
    "        while batchind < batchnums:\n",
    "            batch = np.arange(batchsize*batchind, min(batchsize*(batchind+1),nimgs))\n",
    "            databatch = data[batch]\n",
    "            preds,_ = loupe(databatch)\n",
    "            pred_loupe[batch] = torch.squeeze( preds.detach() )\n",
    "            batchind += 1\n",
    "    elif mode == 'sigpy':\n",
    "        masks_loupe = torch.zeros((batchnums,heg))\n",
    "        while batchind < batchnums:\n",
    "            batch = np.arange(batchsize*batchind, min(batchsize*(batchind+1),nimgs))\n",
    "            databatch = data[batch]\n",
    "            _,mask = loupe.samplers[0](databatch,sparsity)\n",
    "\n",
    "            mask = torch.squeeze(mask.detach())\n",
    "            masks_loupe[batchind,:] = mask\n",
    "            observed_kspace = torch.zeros_like(databatch)\n",
    "            imgs_recon = torch.zeros((len(databatch),heg,wid))\n",
    "            observed_kspace[:,:,mask==1,:] = databatch[:,:,mask==1,:]\n",
    "            \n",
    "            mps = np.ones((1,heg,wid))\n",
    "            for ind in range(len(observed_kspace)):\n",
    "                y_tmp = observed_kspace[ind,0,:,:].view(-1,heg,wid).numpy()\n",
    "                imgs_recon[ind,:,:] = torch.tensor(\\\n",
    "                           np.fft.ifftshift(np.abs(TotalVariationRecon(y_tmp, mps, Lambda,show_pbar=False).run())) )\n",
    "            pred_loupe[batch] = imgs_recon\n",
    "            batchind += 1\n",
    "        \n",
    "    ssim = compute_ssim(pred_loupe,testdata)\n",
    "    psnr = compute_psnr(pred_loupe,testdata)\n",
    "    hfen = np.zeros((nimgs))\n",
    "    for ind in range(nimgs):\n",
    "        hfen[ind] = compute_hfen(pred_loupe[ind,:,:].to(torch.cfloat),testdata[ind,:,:].to(torch.cfloat))\n",
    "    rmse = np.zeros((nimgs))\n",
    "    for ind in range(nimgs):\n",
    "        rmse[ind] = torch.norm(pred_loupe[ind,:,:] - testdata[ind,:,:],2)/torch.norm(testdata[ind,:,:],2)\n",
    "    \n",
    "    return ssim,psnr,hfen,rmse"
   ]
  },
  {
   "cell_type": "code",
   "execution_count": 90,
   "id": "59eb9477",
   "metadata": {},
   "outputs": [
    {
     "name": "stderr",
     "output_type": "stream",
     "text": [
      "/home/huangz78/mri/utils.py:380: ComplexWarning: Casting complex values to real discards the imaginary part\n",
      "  \n",
      "/home/huangz78/mri/utils.py:392: ComplexWarning: Casting complex values to real discards the imaginary part\n",
      "  \n"
     ]
    }
   ],
   "source": [
    "loupe_test_mode = 'unet'\n",
    "ssim_loupe,psnr_loupe,hfen_loupe,rmse_loupe = loupe_eval(loupe,testyfull,preselect_num=24,sparsity=.25,\\\n",
    "                               batchsize=5,mode=loupe_test_mode)"
   ]
  },
  {
   "cell_type": "code",
   "execution_count": 91,
   "id": "438aedb3",
   "metadata": {},
   "outputs": [
    {
     "name": "stdout",
     "output_type": "stream",
     "text": [
      "mnet test mode:  unet\n",
      "ssim loupe:  0.872116\n",
      "psnr loupe:  45.6678\n",
      "hfen loupe:  1.0049172280421808\n",
      "rmse loupe:  1.5112594366073608\n"
     ]
    }
   ],
   "source": [
    "print('mnet test mode: ',mnet_test_mode)\n",
    "print('ssim loupe: ',np.mean(ssim_loupe))\n",
    "print('psnr loupe: ',np.mean(psnr_loupe))\n",
    "print('hfen loupe: ',np.mean(hfen_loupe))\n",
    "print('rmse loupe: ',np.mean(rmse_loupe))"
   ]
  },
  {
   "cell_type": "markdown",
   "id": "d1038355",
   "metadata": {},
   "source": [
    "# show masks"
   ]
  },
  {
   "cell_type": "code",
   "execution_count": 50,
   "id": "16a5a9e7",
   "metadata": {},
   "outputs": [],
   "source": [
    "heg = 320\n",
    "wid = 320\n",
    "sparsity = .25\n",
    "preselect_num = 24"
   ]
  },
  {
   "cell_type": "code",
   "execution_count": 109,
   "id": "d6f6f89a",
   "metadata": {},
   "outputs": [
    {
     "data": {
      "image/png": "[encoded data removed]",
      "text/plain": [
       "<Figure size 360x360 with 1 Axes>"
      ]
     },
     "metadata": {
      "needs_background": "light"
     },
     "output_type": "display_data"
    }
   ],
   "source": [
    "_,loupe_mask = loupe.samplers[0](kimg,sparsity)\n",
    "loupe_mask = torch.squeeze(loupe_mask.detach())\n",
    "kplot(loupe_mask,roll=True)"
   ]
  },
  {
   "cell_type": "code",
   "execution_count": 115,
   "id": "affa57f7",
   "metadata": {},
   "outputs": [
    {
     "data": {
      "image/png": "[encoded data removed]",
      "text/plain": [
       "<Figure size 360x360 with 1 Axes>"
      ]
     },
     "metadata": {
      "needs_background": "light"
     },
     "output_type": "display_data"
    }
   ],
   "source": [
    "imgind = 126\n",
    "kimg_1 = testyfull[imgind].view(1,1,heg,heg)\n",
    "lfmask,_,_ = mask_naiveRand(heg,fix=preselect_num,other=0,roll=False)\n",
    "\n",
    "kimg_lf_1 = torch.zeros(1,2,heg,wid)    \n",
    "kimg_lf_1[:,0,lfmask==1,:] = torch.real(kimg_1[:,:,lfmask==1,:])\n",
    "kimg_lf_1[:,1,lfmask==1,:] = torch.imag(kimg_1[:,:,lfmask==1,:])\n",
    "\n",
    "# _,loupe_mask = loupe.samplers[0](kimg,sparsity)\n",
    "# loupe_mask = torch.squeeze(loupe_mask.detach())\n",
    "# kplot(loupe_mask,roll=True)\n",
    "\n",
    "mnet_mask_1 = mnet_wrapper(mnet,kimg_lf_1,budget=int(heg*sparsity)-preselect_num,\\\n",
    "                             imgshape=[heg,wid],normalize=False,detach=True)\n",
    "mnet_mask_1 = torch.squeeze(mnet_mask_1)\n",
    "kplot(mnet_mask_1,roll=False)"
   ]
  },
  {
   "cell_type": "code",
   "execution_count": 116,
   "id": "a24c44cb",
   "metadata": {},
   "outputs": [
    {
     "data": {
      "image/png": "[encoded data removed]",
      "text/plain": [
       "<Figure size 360x360 with 1 Axes>"
      ]
     },
     "metadata": {
      "needs_background": "light"
     },
     "output_type": "display_data"
    }
   ],
   "source": [
    "imgind = 36\n",
    "kimg_2 = testyfull[imgind].view(1,1,heg,heg)\n",
    "\n",
    "kimg_lf_2 = torch.zeros(1,2,heg,wid)    \n",
    "kimg_lf_2[:,0,lfmask==1,:] = torch.real(kimg_2[:,:,lfmask==1,:])\n",
    "kimg_lf_2[:,1,lfmask==1,:] = torch.imag(kimg_2[:,:,lfmask==1,:])\n",
    "\n",
    "# _,loupe_mask = loupe.samplers[0](kimg,sparsity)\n",
    "# loupe_mask = torch.squeeze(loupe_mask.detach())\n",
    "# kplot(loupe_mask,roll=True)\n",
    "\n",
    "mnet_mask_2 = mnet_wrapper(mnet,kimg_lf_2,budget=int(heg*sparsity)-preselect_num,\\\n",
    "                             imgshape=[heg,wid],normalize=False,detach=True)\n",
    "mnet_mask_2 = torch.squeeze(mnet_mask_2)\n",
    "kplot(mnet_mask_2,roll=False)"
   ]
  },
  {
   "cell_type": "code",
   "execution_count": 117,
   "id": "c84d84b5",
   "metadata": {},
   "outputs": [
    {
     "data": {
      "text/plain": [
       "tensor([0., 0., 0., 0., 0., 0., 0., 0., 0., 0., 0., 0., 0., 0., 0., 0., 0., 0., 0., 0., 0., 0., 0., 0.,\n",
       "        0., 0., 0., 0., 0., 0., 0., 0., 0., 0., 0., 0., 0., 0., 0., 0., 0., 0., 0., 0., 0., 0., 0., 0.,\n",
       "        0., 0., 0., 0., 0., 0., 0., 0., 0., 0., 0., 0., 0., 0., 0., 0., 0., 0., 0., 0., 0., 0., 0., 0.,\n",
       "        0., 0., 0., 0., 0., 0., 0., 0., 0., 0., 0., 0., 0., 0., 0., 0., 0., 0., 0., 0., 0., 0., 0., 0.,\n",
       "        0., 0., 0., 0., 0., 0., 0., 0., 0., 0., 0., 0., 0., 0., 0., 0., 0., 0., 0., 0., 0., 0., 0., 0.,\n",
       "        0., 0., 0., 0., 0., 0., 0., 0., 0., 0., 0., 0., 0., 0., 0., 0., 0., 0., 0., 0., 0., 0., 0., 0.,\n",
       "        0., 0., 0., 0., 0., 0., 0., 0., 0., 0., 0., 0., 0., 0., 0., 0., 0., 0., 0., 0., 0., 0., 0., 0.,\n",
       "        0., 0., 0., 0., 0., 0., 0., 0., 0., 0., 0., 0., 0., 0., 0., 0., 0., 0., 0., 0., 0., 0., 0., 0.,\n",
       "        0., 0., 0., 0., 0., 0., 0., 0., 0., 0., 0., 0., 0., 0., 0., 0., 0., 0., 0., 0., 0., 0., 0., 0.,\n",
       "        0., 0., 0., 0., 0., 0., 0., 0., 0., 0., 0., 0., 0., 0., 0., 0., 0., 0., 0., 0., 0., 0., 0., 0.,\n",
       "        0., 0., 0., 0., 0., 0., 0., 0., 0., 0., 0., 0., 0., 0., 0., 0., 0., 0., 0., 0., 0., 0., 0., 0.,\n",
       "        0., 0., 0., 0., 0., 0., 0., 0., 0., 0., 0., 0., 0., 0., 0., 0., 0., 0., 0., 0., 0., 0., 0., 0.,\n",
       "        0., 0., 0., 0., 0., 0., 0., 0., 0., 0., 0., 0., 0., 0., 0., 0., 0., 0., 0., 0., 0., 0., 0., 0.,\n",
       "        0., 0., 0., 0., 0., 0., 0., 0.])"
      ]
     },
     "execution_count": 117,
     "metadata": {},
     "output_type": "execute_result"
    }
   ],
   "source": [
    "mnet_mask_1 - mnet_mask_2"
   ]
  },
  {
   "cell_type": "code",
   "execution_count": 114,
   "id": "0b760a0c",
   "metadata": {},
   "outputs": [
    {
     "data": {
      "text/plain": [
       "tensor([[[[ 41.6377,   1.9276,  -2.7062,  ..., -13.0655,  -2.7062,   1.9276],\n",
       "          [  6.6936,  -3.6715,   4.4591,  ...,  -7.6111,   1.0839,  -0.5949],\n",
       "          [ -1.6467,  -1.4262,   0.8060,  ...,  -1.1578,  -0.0865,   0.6762],\n",
       "          ...,\n",
       "          [ -5.1692,   3.4111,   1.5353,  ...,   2.2926,   1.7272,  -1.9030],\n",
       "          [ -1.6467,   0.6762,  -0.0865,  ...,   6.3253,   0.8060,  -1.4262],\n",
       "          [  6.6936,  -0.5949,   1.0839,  ...,   3.7968,   4.4591,  -3.6715]],\n",
       "\n",
       "         [[  0.0000,  -4.2498,  -5.4097,  ...,   5.0442,   5.4097,   4.2498],\n",
       "          [  3.1000,   2.5610,   1.0784,  ...,  -0.0869,   1.0914,   3.5216],\n",
       "          [  1.1286,   1.5147,   1.9038,  ...,   0.3866,   1.2476,   0.9357],\n",
       "          ...,\n",
       "          [ -4.5040,   4.2709,  -0.4760,  ...,  -3.1117,  -0.5989,   0.9476],\n",
       "          [ -1.1286,  -0.9357,  -1.2476,  ...,  -1.3224,  -1.9038,  -1.5147],\n",
       "          [ -3.1000,  -3.5216,  -1.0914,  ...,   1.9317,  -1.0784,  -2.5610]]]])"
      ]
     },
     "execution_count": 114,
     "metadata": {},
     "output_type": "execute_result"
    }
   ],
   "source": [
    "kimg_lf_1 - kimg_lf_2"
   ]
  },
  {
   "cell_type": "markdown",
   "id": "08d413b2",
   "metadata": {},
   "source": [
    "# mnet and loupe training error check"
   ]
  },
  {
   "cell_type": "code",
   "execution_count": 2,
   "id": "1b357f02",
   "metadata": {},
   "outputs": [
    {
     "name": "stdout",
     "output_type": "stream",
     "text": [
      "['loss_train', 'loss', 'precision_train', 'recall_train', 'precision_test', 'recall_test']\n"
     ]
    }
   ],
   "source": [
    "rec = np.load('/home/huangz78/checkpoints/mnet_train_history.npz')\n",
    "print(rec.files)"
   ]
  },
  {
   "cell_type": "code",
   "execution_count": null,
   "id": "29b152b3",
   "metadata": {},
   "outputs": [],
   "source": [
    "wid1 = 10\n",
    "wid2 = 5\n",
    "plt.figure()\n",
    "plt.plot(rolling_mean(rec['precision_train'],wid1),label='precision')\n",
    "plt.plot(rolling_mean(rec['recall_train'],wid1),label='recall')\n",
    "plt.title('training accuracy')\n",
    "plt.legend()\n",
    "plt.show()\n",
    "\n",
    "plt.figure()\n",
    "plt.title('testing accuracy')\n",
    "plt.plot(rolling_mean(rec['precision_test'],wid2),label='precision')\n",
    "plt.plot(rolling_mean(rec['recall_test'],wid2),label='recall')\n",
    "plt.legend()\n",
    "plt.show()\n",
    "\n",
    "plt.figure()\n",
    "plt.title('train loss in cross entropy')\n",
    "plt.plot(rolling_mean(rec['loss_train'],20),label='train')\n",
    "plt.legend()\n",
    "plt.show()\n",
    "\n",
    "plt.figure()\n",
    "plt.title('test loss in cross entropy')\n",
    "plt.plot(rolling_mean(rec['loss'],8),color='orange',label='test')\n",
    "plt.legend()\n",
    "plt.show()\n"
   ]
  },
  {
   "cell_type": "code",
   "execution_count": 23,
   "id": "253ab77d",
   "metadata": {},
   "outputs": [],
   "source": [
    "rec = np.load('/home/huangz78/checkpoints/loupe_history.npz')"
   ]
  },
  {
   "cell_type": "code",
   "execution_count": 24,
   "id": "73c30a30",
   "metadata": {},
   "outputs": [
    {
     "data": {
      "image/png": "[encoded data removed]",
      "text/plain": [
       "<Figure size 432x288 with 1 Axes>"
      ]
     },
     "metadata": {
      "needs_background": "light"
     },
     "output_type": "display_data"
    },
    {
     "data": {
      "image/png": "[encoded data removed]",
      "text/plain": [
       "<Figure size 432x288 with 1 Axes>"
      ]
     },
     "metadata": {
      "needs_background": "light"
     },
     "output_type": "display_data"
    }
   ],
   "source": [
    "loss_train = rec['loss_train']\n",
    "loss_val = rec['loss_val']\n",
    "plt.figure()\n",
    "plt.plot(loss_train)\n",
    "plt.xscale('log')\n",
    "plt.yscale('log')\n",
    "plt.title('training loss')\n",
    "plt.show()\n",
    "plt.figure()\n",
    "plt.plot(loss_val)\n",
    "plt.yscale('log')\n",
    "plt.title('validation loss')\n",
    "plt.show()"
   ]
  },
  {
   "cell_type": "code",
   "execution_count": 13,
   "id": "1fe60e6c",
   "metadata": {},
   "outputs": [
    {
     "name": "stdout",
     "output_type": "stream",
     "text": [
      "['loss_rand', 'loss_after', 'loss_before', 'freqs']\n"
     ]
    }
   ],
   "source": [
    "rec = np.load('/home/huangz78/checkpoints/alternating_update_error_track.npz')\n",
    "print(rec.files)"
   ]
  },
  {
   "cell_type": "code",
   "execution_count": 20,
   "id": "97a5f074",
   "metadata": {},
   "outputs": [
    {
     "data": {
      "image/png": "[encoded data removed]",
      "text/plain": [
       "<Figure size 432x288 with 1 Axes>"
      ]
     },
     "metadata": {
      "needs_background": "light"
     },
     "output_type": "display_data"
    }
   ],
   "source": [
    "plt.figure()\n",
    "plt.plot(rec['loss_rand']   ,label='loss rand')\n",
    "plt.plot(rec['loss_before'] ,label='loss before')\n",
    "plt.plot(rec['loss_after']  ,label='loss after')\n",
    "plt.title('loss')\n",
    "# plt.xscale('log')\n",
    "plt.yscale('log')\n",
    "plt.legend(loc='best')\n",
    "plt.show()"
   ]
  },
  {
   "cell_type": "markdown",
   "id": "ac5d87c4",
   "metadata": {},
   "source": [
    "# mnet quality check: y"
   ]
  },
  {
   "cell_type": "code",
   "execution_count": null,
   "id": "d70b082e",
   "metadata": {
    "scrolled": true
   },
   "outputs": [],
   "source": [
    "net = MNet(beta=1,in_channels=2,out_size=320-24,\\\n",
    "                   imgsize=(320,320),poolk=3)\n",
    "checkpoint = torch.load('/home/huangz78/checkpoints/mnet.pth')\n",
    "net.load_state_dict(checkpoint['model_state_dict'])\n",
    "print('MNet loaded successfully from: ' + '/home/huangz78/checkpoints/mnet.pth')\n",
    "net.eval()\n",
    "\n",
    "imgs = torch.tensor( np.load('/home/huangz78/data/data_gt.npz')['imgdata'] ).permute(2,0,1)\n",
    "base = 24\n",
    "mask_lf,_,_ = mask_naiveRand(imgs.shape[1],fix=base,other=0,roll=True)\n",
    "\n",
    "yfulls = torch.zeros((imgs.shape[0],2,imgs.shape[1],imgs.shape[2]),dtype=torch.float)\n",
    "ys     = torch.zeros((imgs.shape[0],2,imgs.shape[1],imgs.shape[2]),dtype=torch.float)\n",
    "xs     = torch.zeros((imgs.shape[0],1,imgs.shape[1],imgs.shape[2]),dtype=torch.float)\n",
    "for ind in range(imgs.shape[0]):\n",
    "    imgs[ind,:,:] = imgs[ind,:,:]/torch.max(torch.abs(imgs[ind,:,:]))\n",
    "    y = torch.fft.fftshift(F.fftn(imgs[ind,:,:],dim=(0,1),norm='ortho'))\n",
    "    ysub = torch.zeros(y.shape,dtype=y.dtype)\n",
    "    ysub[mask_lf==1,:] = y[mask_lf==1,:]\n",
    "    xs[ind,0,:,:] = torch.abs(F.ifftn(torch.fft.ifftshift(ysub),dim=(0,1),norm='ortho')) \n",
    "\n",
    "    yfulls[ind,0,:,:] = torch.real(y)\n",
    "    yfulls[ind,1,:,:] = torch.imag(y)\n",
    "    ys[ind,:,mask_lf==1,:] = yfulls[ind,:,mask_lf==1,:]\n",
    "\n",
    "labels = torch.tensor( np.load('/home/huangz78/data/data_gt_greedymask.npz')['mask'].T ) # labels are already rolled\n",
    "\n",
    "imgNum = imgs.shape[0]\n",
    "traininds, testinds = train_test_split(np.arange(imgNum),random_state=0,shuffle=True,train_size=round(imgNum*0.8))\n",
    "test_total  = testinds.size\n",
    "\n",
    "traindata   = ys[traininds,:,:,:]\n",
    "valdata     = ys[testinds[0:test_total//2],:,:,:]\n",
    "\n",
    "trainlabels = mask_filter(labels[traininds,:],base=base)\n",
    "vallabels   = mask_filter(labels[testinds[0:test_total//2],:],base=base)"
   ]
  },
  {
   "cell_type": "code",
   "execution_count": null,
   "id": "1da8426e",
   "metadata": {
    "scrolled": true
   },
   "outputs": [],
   "source": [
    "imgind = 19\n",
    "testimg  = valdata[imgind,:,:,:]\n",
    "output_1 = net(testimg.view(-1,2,320,320))\n",
    "binary_1 = sigmoid_binarize(output_1)[0,:]\n",
    "greedy_1 = vallabels[imgind,:]\n",
    "\n",
    "imgind = 13\n",
    "testimg = valdata[imgind,:,:,:]\n",
    "output_2 = net(testimg.view(-1,2,320,320))\n",
    "binary_2 = sigmoid_binarize(output_2)[0,:]\n",
    "greedy_2 = vallabels[imgind,:]\n",
    "\n",
    "print(torch.sum(torch.abs(binary_1-binary_2)))\n",
    "print(output_1 - output_2)\n",
    "# sigmoid_binarize(output)[0,:]"
   ]
  },
  {
   "cell_type": "code",
   "execution_count": null,
   "id": "dd98fbb1",
   "metadata": {},
   "outputs": [],
   "source": [
    "from utils import mask_complete"
   ]
  },
  {
   "cell_type": "code",
   "execution_count": null,
   "id": "20dd8371",
   "metadata": {},
   "outputs": [],
   "source": [
    "mask_1 = mask_complete(binary_1.view(1,-1),320,rolled=True)\n",
    "kplot(mask_1.view(-1))\n",
    "kplot(greedy_1)"
   ]
  },
  {
   "cell_type": "markdown",
   "id": "6457dd94",
   "metadata": {},
   "source": [
    "# mnet quality check: x"
   ]
  },
  {
   "cell_type": "code",
   "execution_count": null,
   "id": "acef9f43",
   "metadata": {
    "scrolled": true
   },
   "outputs": [],
   "source": [
    "# generate a mnet mask as an example\n",
    "\n",
    "mnet = MNet(out_size=320-24)\n",
    "checkpoint = torch.load('/home/huangz78/checkpoints/mnet_split_trained.pth')\n",
    "mnet.load_state_dict(checkpoint['model_state_dict'])\n",
    "print('MNet loaded successfully from: ' + '/home/huangz78/checkpoints/mnet_split_trained.pth')\n",
    "\n",
    "test_dir = '/home/huangz78/data/testdata_x.npz'\n",
    "# testimg  = torch.tensor(np.load(test_dir)['x']) \n",
    "# print(testimg.shape)\n",
    "# test_sub  = test_sub[0:10,:,:]\n",
    "test_full = torch.tensor(np.load(test_dir)['xfull']) \n",
    "mask_greedy = np.load('/home/huangz78/data/data_gt_greedymask.npz')\n",
    "mask_greedy = mask_greedy['mask'].T # this greedy mask is rolled"
   ]
  },
  {
   "cell_type": "code",
   "execution_count": null,
   "id": "2733c603",
   "metadata": {},
   "outputs": [],
   "source": [
    "reload(utils)\n",
    "from utils import mnet_wrapper"
   ]
  },
  {
   "cell_type": "code",
   "execution_count": null,
   "id": "3bdff586",
   "metadata": {},
   "outputs": [],
   "source": [
    "# imgind = np.random.randint(test_full.shape[0])\n",
    "mnet.train()\n",
    "imgind1 = np.random.randint(199)\n",
    "print('current selected image is indexed: ',imgind1)\n",
    "img1 = test_full[imgind1,:,:]\n",
    "imgind2 = np.random.randint(199)\n",
    "print('current selected image is indexed: ',imgind2)\n",
    "img2 = test_full[imgind2,:,:]\n",
    "# plt.imshow(img)\n",
    "# plt.show()\n",
    "\n",
    "budget = 56\n",
    "lowfreqmask,_,_ = mask_naiveRand(img1.shape[0],fix=24,other=0,roll=True)\n",
    "# randmask,_,_ = mask_naiveRand(img.shape[0],fix=24,other=budget,roll=True)\n",
    "# kplot(randmask)\n",
    "\n",
    "yfull1 = torch.fft.fftshift(F.fftn(img1,dim=(0,1),norm='ortho')) # y is ROLLED in this line!\n",
    "yfull2 = torch.fft.fftshift(F.fftn(img2,dim=(0,1),norm='ortho')) # y is ROLLED!\n",
    "yfull  = torch.stack((yfull1,yfull2),dim=0)\n",
    "# x_lf_minus      = -x_lf.clone()\n",
    "x_lf   = get_x_f_from_yfull(lowfreqmask,yfull,DTyp=torch.cfloat)"
   ]
  },
  {
   "cell_type": "code",
   "execution_count": null,
   "id": "8150bc08",
   "metadata": {},
   "outputs": [],
   "source": [
    "mnet( x_lf.view(x_lf.shape[0],1,img1.shape[0],img1.shape[1]) ).shape"
   ]
  },
  {
   "cell_type": "code",
   "execution_count": null,
   "id": "d31b173b",
   "metadata": {},
   "outputs": [],
   "source": [
    "yfull1.shape"
   ]
  },
  {
   "cell_type": "code",
   "execution_count": null,
   "id": "c8e67433",
   "metadata": {},
   "outputs": [],
   "source": [
    "mnet.eval()\n",
    "mnetmask = mnet( 1e3*torch.randn(10,1,img1.shape[0],img1.shape[1]) )\n",
    "# x_lf =  1e3*torch.randn(10,img1.shape[0],img1.shape[1]) \n",
    "# highmask_raw = mnet( x_lf.view(x_lf.shape[0],1,img1.shape[0],img1.shape[1]) )\n",
    "# mnetmask = mnet_wrapper(mnet,x_lf,budget,img1.shape)\n",
    "print(mnetmask.shape)\n",
    "\n",
    "torch.sum( torch.abs( mnetmask[0,:] - mnetmask[1,:] ) )"
   ]
  },
  {
   "cell_type": "code",
   "execution_count": null,
   "id": "0acb1242",
   "metadata": {},
   "outputs": [],
   "source": [
    "a = torch.randn(2,2,4,5)\n",
    "b = torch.randn(2,2,4,5)\n",
    "c = a[:,0,:,:] + b[:,1,:,:]\n",
    "print(c.shape)"
   ]
  },
  {
   "cell_type": "code",
   "execution_count": null,
   "id": "d7cab09e",
   "metadata": {
    "scrolled": false
   },
   "outputs": [],
   "source": [
    "highmask_raw  = mnet( x_lf.view(x_lf.shape[0],1,img1.shape[0],img1.shape[1]) ).view(-1)  # no sigmoid \n",
    "# highmask_raw  = mnet( 1e10*torch.randn(1,1,img.shape[0],img.shape[1]) ).view(-1)  # no sigmoid \n",
    "# print('highmask_raw = ', highmask_raw)\n",
    "plt.plot(highmask_raw.detach().numpy())\n",
    "plt.show()\n",
    "mnetmask = mnet_wrapper(mnet,x_lf,budget,img.shape)\n",
    "kplot(mnetmask)\n",
    "kplot(mask_greedy[imgind,:])"
   ]
  },
  {
   "cell_type": "code",
   "execution_count": null,
   "id": "0d12ba3c",
   "metadata": {
    "scrolled": true
   },
   "outputs": [],
   "source": [
    "print(mnet.)"
   ]
  },
  {
   "cell_type": "code",
   "execution_count": null,
   "id": "2aab4a20",
   "metadata": {
    "scrolled": true
   },
   "outputs": [],
   "source": [
    "for param in mnet.named_parameters():\n",
    "      print(param)"
   ]
  },
  {
   "cell_type": "code",
   "execution_count": null,
   "id": "26a9cdf8",
   "metadata": {},
   "outputs": [],
   "source": [
    "mnetmask_old = mnetmask.clone()\n",
    "mnetmask - mnetmask_old"
   ]
  },
  {
   "cell_type": "code",
   "execution_count": null,
   "id": "0c58f205",
   "metadata": {
    "scrolled": true
   },
   "outputs": [],
   "source": [
    "randqual[1:]"
   ]
  },
  {
   "cell_type": "code",
   "execution_count": null,
   "id": "88c1af47",
   "metadata": {},
   "outputs": [],
   "source": [
    "# show quality of mnet\n",
    "filepath = '/home/huangz78/checkpoints/alternating_update_error_track.npz'\n",
    "data_loss = np.load(filepath)\n",
    "\n",
    "print(data_loss.files)\n",
    "\n",
    "randqual   = data_loss['randqual']\n",
    "mnetqual   = data_loss['mnetqual']\n",
    "greedyqual = data_loss['greedyqual']\n",
    "randspar   = data_loss['randspar']\n",
    "mnetspar   = data_loss['mnetspar']\n",
    "\n",
    "try:\n",
    "    visualization(randqual[1:],mnetqual[1:],greedyqual=greedyqual,\\\n",
    "             randspar=randspar,mnetspar=mnetspar,greedyspar=greedyspar*np.ones(len(greedyqual)))\n",
    "except Exception:\n",
    "    visualization(randqual[1:],mnetqual[1:],randspar=randspar,mnetspar=mnetspar,log1=True)"
   ]
  }
 ],
 "metadata": {
  "kernelspec": {
   "display_name": "Python 3",
   "language": "python",
   "name": "python3"
  },
  "language_info": {
   "codemirror_mode": {
    "name": "ipython",
    "version": 3
   },
   "file_extension": ".py",
   "mimetype": "text/x-python",
   "name": "python",
   "nbconvert_exporter": "python",
   "pygments_lexer": "ipython3",
   "version": "3.7.5"
  }
 },
 "nbformat": 4,
 "nbformat_minor": 5
}
