{
 "cells": [
  {
   "cell_type": "code",
   "execution_count": 1,
   "id": "ee1073d0",
   "metadata": {},
   "outputs": [],
   "source": [
    "import numpy as np\n",
    "import argparse\n",
    "import os\n",
    "import sys\n",
    "import torch\n",
    "import torch.fft as F\n",
    "from importlib import reload\n",
    "from torch.nn.functional import relu\n",
    "import torch.nn as nn\n",
    "import torch.nn.functional as Func\n",
    "import torch.optim as optim\n",
    "import utils\n",
    "from utils import *\n",
    "\n",
    "from matplotlib import pyplot as plt\n",
    "import random\n",
    "import copy\n",
    "from sklearn.model_selection import train_test_split\n",
    "\n",
    "import skimage\n",
    "from mnet import MNet\n",
    "from loupe_env.loupe_wrap import *\n",
    "from mask_backward_v4 import *\n",
    "from sigpy.mri.app import TotalVariationRecon\n",
    "\n",
    "sys.path.insert(0,'/home/huangz78/mri/unet/')\n",
    "from unet_model import UNet\n",
    "\n",
    "torch.manual_seed(0)\n",
    "np.random.seed(0)\n",
    "random.seed(0)"
   ]
  },
  {
   "cell_type": "markdown",
   "id": "2c066c67",
   "metadata": {},
   "source": [
    "# Evaluation"
   ]
  },
  {
   "cell_type": "code",
   "execution_count": null,
   "id": "0f6c0859",
   "metadata": {},
   "outputs": [],
   "source": [
    "testdata = torch.tensor(np.load('/mnt/shared_a/data/fastMRI/knee_singlecoil_test.npz')['data'])\n",
    "print('test data shape: ',testdata.shape)"
   ]
  },
  {
   "cell_type": "code",
   "execution_count": 3,
   "id": "f3398601",
   "metadata": {},
   "outputs": [
    {
     "name": "stdout",
     "output_type": "stream",
     "text": [
      "MNet loaded successfully from: /home/huangz78/checkpoints/mnet_split_trained_cf_8_bg_32_unet_in_chan_1.pt\n",
      "Unet loaded successfully from: /home/huangz78/checkpoints/unet_split_trained_cf_8_bg_32_unet_in_chan_1.pt\n",
      "nn's are ready\n",
      "sampling budget =  32\n"
     ]
    }
   ],
   "source": [
    "# load mnet\n",
    "sparsity = .125\n",
    "preselect_num = 8\n",
    "budget = int(testdata.shape[1]*sparsity - preselect_num)\n",
    "unet_skip = True\n",
    "unet_inchannels = 1\n",
    "mnet = MNet(beta=1,in_channels=2,out_size=320-preselect_num, imgsize=(320,320),poolk=3)\n",
    "# mnetpath = '/home/huangz78/checkpoints/mnet_split_trained_cf10_bg_43.pt'\n",
    "# mnetpath = '/home/huangz78/checkpoints/mnet_split_trained_cf16_bg_64.pt'\n",
    "# mnetpath = '/home/huangz78/checkpoints/mnet_split_trained_cf8_bg_32.pt'\n",
    "mnetpath = '/home/huangz78/checkpoints/mnet_split_trained_cf_8_bg_32_unet_in_chan_'+str(unet_inchannels)+'.pt'\n",
    "\n",
    "checkpoint = torch.load(mnetpath)\n",
    "mnet.load_state_dict(checkpoint['model_state_dict'])\n",
    "# mnet.apply(mnet_weights_init)\n",
    "mnet.eval()\n",
    "print('MNet loaded successfully from: ' + mnetpath)\n",
    "\n",
    "unet_recon = UNet(n_channels=unet_inchannels,n_classes=1,bilinear=(not unet_skip),skip=unet_skip)\n",
    "unetpath = '/home/huangz78/checkpoints/unet_split_trained_cf_8_bg_32_unet_in_chan_'+str(unet_inchannels)+'.pt'\n",
    "# unetpath = '/home/huangz78/checkpoints/unet_split_trained_cf8_bg_32.pt'\n",
    "# unetpath = '/home/huangz78/checkpoints/unet_split_trained_cf16_bg_64.pt'\n",
    "# unetpath = '/home/huangz78/checkpoints/unet_split_trained_cf10_bg_43.pt'\n",
    "checkpoint = torch.load(unetpath)\n",
    "unet_recon.load_state_dict(checkpoint['model_state_dict'])\n",
    "print('Unet loaded successfully from: ' + unetpath )\n",
    "unet_recon.eval()\n",
    "print('nn\\'s are ready')\n",
    "print('sampling budget = ', budget)"
   ]
  },
  {
   "cell_type": "code",
   "execution_count": null,
   "id": "e86bd98b",
   "metadata": {},
   "outputs": [],
   "source": [
    "# load data and eval\n",
    "def mnet_eval(testdata,mnet,unet,budget,batchsize=25,device='cpu'):\n",
    "    for ind in range(testdata.shape[0]):\n",
    "        testdata[ind,:,:] = testdata[ind,:,:]/torch.max(testdata[ind,:,:])\n",
    "    print('test data size:', testdata.shape)\n",
    "    batch_nums  = int(np.ceil(testdata.shape[0]/batchsize))\n",
    "    lowfreqmask = mask_naiveRand(testdata.shape[1],fix=testdata.shape[1]-budget,other=0,roll=True)[0].to(device)\n",
    "    binarize = ThresholdBinarizeMask().apply\n",
    "    \n",
    "    l1err = torch.zeros(testdata.shape[0])\n",
    "    l2err = torch.zeros(testdata.shape[0])\n",
    "    hfens = torch.zeros(testdata.shape[0])\n",
    "    ssims = torch.zeros(testdata.shape[0])\n",
    "    psnrs = torch.zeros(testdata.shape[0])\n",
    "    \n",
    "    batchind = 0\n",
    "    while batchind<batch_nums:\n",
    "        batch = torch.arange(batchsize*batchind, min(batchsize*(batchind+1),testdata.shape[0]))\n",
    "        xstar = testdata[batch,:,:].to(torch.float).to(device)\n",
    "        yfull = torch.fft.fftshift(F.fftn(xstar,dim=(1,2),norm='ortho'),dim=(1,2)) # y is ROLLED!\n",
    "        \n",
    "        y = torch.zeros((yfull.shape[0],2,yfull.shape[1],yfull.shape[2]),dtype=torch.float,device=device)\n",
    "        y[:,0,lowfreqmask==1,:] = torch.real(yfull)[:,lowfreqmask==1,:]\n",
    "        y[:,1,lowfreqmask==1,:] = torch.imag(yfull)[:,lowfreqmask==1,:]\n",
    "        mask_test = mnet_wrapper(mnet,y,budget,(testdata.shape[1],testdata.shape[2]),\\\n",
    "                                 normalize=True,detach=True,device=device)\n",
    "        \n",
    "        z = torch.zeros(xstar.shape,device=device).to(torch.cfloat)\n",
    "        for ind in range(len(xstar)):\n",
    "            z[ind,mask_test[ind,:]==1,:] = y[ind,0,mask_test[ind,:]==1,:] + 1j*y[ind,1,mask_test[ind,:]==1,:]\n",
    "        z = torch.fft.ifftshift(z , dim=(1,2)) \n",
    "        \n",
    "        if unet.n_channels == 1:\n",
    "            x_ifft = torch.abs( F.ifftn(z,dim=(1,2),norm='ortho') )\n",
    "            x_in   = x_ifft.view(len(xstar),1,testdata.shape[1],testdata.shape[2])\n",
    "        elif unet.n_channels == 2:\n",
    "            x_ifft = F.ifftn(z,dim=(1,2),norm='ortho') \n",
    "            x_in   = torch.zeros((len(xstar),2,testdata.shape[1],testdata.shape[2]))\n",
    "            x_in[:,0,:,:] = torch.real(x_ifft)\n",
    "            x_in[:,1,:,:] = torch.imag(x_ifft)\n",
    "        x = torch.squeeze(unet(x_in).detach())\n",
    "           \n",
    "        # to implement various criteria\n",
    "        l1err[batch] = compute_l1err(x,xstar)\n",
    "        l2err[batch] = compute_l2err(x,xstar)\n",
    "        hfens[batch] = torch.tensor(compute_hfen(x,xstar))\n",
    "        ssims[batch] = torch.tensor(compute_ssim(x,xstar))\n",
    "        psnrs[batch] = torch.tensor(compute_psnr(x,xstar))\n",
    "        \n",
    "        batchind += 1\n",
    "    return l1err,l2err,hfens,ssims,psnrs\n",
    "\n",
    "# print eval result"
   ]
  },
  {
   "cell_type": "code",
   "execution_count": null,
   "id": "c65a1588",
   "metadata": {
    "scrolled": false
   },
   "outputs": [],
   "source": [
    "l1err,l2err,hfens,ssims,psnrs = mnet_eval(testdata,mnet,unet_recon,budget,batchsize=15,device='cpu')"
   ]
  },
  {
   "cell_type": "code",
   "execution_count": null,
   "id": "3ee9d7a0",
   "metadata": {},
   "outputs": [],
   "source": [
    "plt.boxplot(l1err.numpy())\n",
    "plt.title('l1err')\n",
    "plt.show()\n",
    "\n",
    "plt.boxplot(l2err.numpy())\n",
    "plt.title('l2err')\n",
    "plt.show()\n",
    "\n",
    "plt.boxplot(hfens.numpy())\n",
    "plt.title('HFEN')\n",
    "plt.show()\n",
    "\n",
    "plt.boxplot(ssims.numpy())\n",
    "plt.title('SSIM')\n",
    "plt.show()\n",
    "\n",
    "plt.boxplot(psnrs.numpy())\n",
    "plt.title('PSNR')\n",
    "plt.show()"
   ]
  },
  {
   "cell_type": "markdown",
   "id": "96febebc",
   "metadata": {},
   "source": [
    "# comparison between MNet and Loupe"
   ]
  },
  {
   "cell_type": "code",
   "execution_count": null,
   "id": "38d7351b",
   "metadata": {},
   "outputs": [],
   "source": [
    "dtyp = torch.float\n",
    "testxdata  = np.load('/home/huangz78/data/testdata_x.npz')\n",
    "testydata  = np.load('/home/huangz78/data/testdata_y.npz')\n",
    "testxfull = torch.tensor(testxdata['xfull'],dtype=dtyp)\n",
    "testyfull = torch.tensor(testydata['yfull'],dtype=torch.cfloat)"
   ]
  },
  {
   "cell_type": "code",
   "execution_count": null,
   "id": "6e55a665",
   "metadata": {},
   "outputs": [],
   "source": [
    "# sparsity = .25\n",
    "# preselect_num = 24\n",
    "# unet_skip = True\n",
    "\n",
    "sparsity = .125\n",
    "preselect_num = 8\n",
    "unet_skip = True"
   ]
  },
  {
   "cell_type": "code",
   "execution_count": null,
   "id": "efe2c5b9",
   "metadata": {},
   "outputs": [],
   "source": [
    "# load mnet\n",
    "mnet = MNet(beta=1,in_channels=2,out_size=320-preselect_num, imgsize=(320,320),poolk=3)\n",
    "# mnetpath = '/home/huangz78/checkpoints/mnet.pth'\n",
    "mnetpath = '/home/huangz78/checkpoints/mnet_split_trained_cf8_bg_32.pt'\n",
    "checkpoint = torch.load(mnetpath)\n",
    "mnet.load_state_dict(checkpoint['model_state_dict'])\n",
    "mnet.eval()\n",
    "print('MNet loaded successfully from: ' + mnetpath)\n",
    "\n",
    "unet_recon = UNet(n_channels=1,n_classes=1,bilinear=(not unet_skip),skip=unet_skip)\n",
    "unetpath = '/home/huangz78/checkpoints/unet_1_True.pth'\n",
    "checkpoint = torch.load(unetpath)\n",
    "unet_recon.load_state_dict(checkpoint['model_state_dict'])\n",
    "print('Unet loaded successfully from: ' + unetpath )\n",
    "unet_recon.eval()\n",
    "print('nn\\'s are ready')"
   ]
  },
  {
   "cell_type": "code",
   "execution_count": null,
   "id": "ce7b039c",
   "metadata": {},
   "outputs": [],
   "source": [
    "def mnet_eval(mnet,unet,testdata,preselect_num,sparsity,\\\n",
    "             batchsize=5,mode='unet',\\\n",
    "             Lambda=1e-4,\\\n",
    "             normalize=False):\n",
    "    \n",
    "    # prepare test data for mnet input\n",
    "    nimgs = testdata.shape[0]; heg = testdata.shape[1]; wid = testdata.shape[2]\n",
    "    \n",
    "    data = torch.zeros(nimgs,2,heg,wid)    \n",
    "    lf_mask = mask_naiveRand(heg,fix=preselect_num,other=0,roll=False)\n",
    "    data[:,0,lf_mask==1,:] = torch.real(testdata[:,lf_mask==1,:])\n",
    "    data[:,1,lf_mask==1,:] = torch.imag(testdata[:,lf_mask==1,:])\n",
    "    \n",
    "    pred_mnet = torch.zeros((nimgs,heg))\n",
    "    batchnums = int(np.ceil(nimgs/batchsize))\n",
    "    batchind = 0\n",
    "    while batchind < batchnums:\n",
    "        batch = np.arange(batchsize*batchind, min(batchsize*(batchind+1),nimgs))\n",
    "        databatch = data[batch]\n",
    "        preds = mnet_wrapper(mnet,databatch,budget=int(heg*sparsity)-preselect_num,\\\n",
    "                             imgshape=[heg,wid],normalize=True,detach=True)\n",
    "        pred_mnet[batch] = F.ifftshift(preds,dim=1)\n",
    "        batchind += 1\n",
    "    \n",
    "    observed_kspace = torch.zeros_like(testdata)\n",
    "    for ind in range(len(data)):\n",
    "        observed_kspace[ind,pred_mnet[ind,:]==1,:] = testdata[ind,pred_mnet[ind,:]==1,:]\n",
    "    imgs_recon = torch.zeros(testdata.shape)\n",
    "    \n",
    "    if mode == 'unet':\n",
    "        input_unet = F.ifftn(observed_kspace,dim=(1,2),norm='ortho').abs().view(nimgs,1,heg,wid)\n",
    "        batchind = 0\n",
    "        while batchind < batchnums:\n",
    "            batch = np.arange(batchsize*batchind, min(batchsize*(batchind+1),nimgs))\n",
    "            databatch = input_unet[batch]\n",
    "            if not normalize:\n",
    "                imgs_recon[batch] = torch.squeeze(unet(databatch).detach())\n",
    "            else:\n",
    "                recon_batch = unet(databatch).detach()\n",
    "                for ind in range(len(recon_batch)):\n",
    "                    recon_batch[ind] = recon_batch[ind]/torch.max(torch.abs(torch.flatten(recon_batch[ind])))\n",
    "                imgs_recon[batch] = torch.squeeze(recon_batch)\n",
    "            batchind += 1\n",
    "    elif mode == 'sigpy':\n",
    "        mps = np.ones((1,heg,wid))\n",
    "        for ind in range(len(observed_kspace)):\n",
    "            y_tmp = observed_kspace[ind,:,:].view(-1,heg,wid).numpy()\n",
    "            imgs_recon[ind,:,:] = torch.tensor(\\\n",
    "                       np.fft.ifftshift(np.abs(TotalVariationRecon(y_tmp, mps, Lambda,show_pbar=False).run())) )\n",
    "\n",
    "    ssim = compute_ssim(imgs_recon,testdata)\n",
    "    psnr = compute_psnr(imgs_recon,testdata)\n",
    "    hfen = np.zeros((nimgs))\n",
    "    for ind in range(nimgs):\n",
    "        hfen[ind] = compute_hfen(imgs_recon[ind,:,:].to(torch.cfloat),testdata[ind,:,:].to(torch.cfloat))\n",
    "    rmse = np.zeros((nimgs))\n",
    "    for ind in range(nimgs):\n",
    "        rmse[ind] = torch.norm(imgs_recon[ind,:,:] - testdata[ind,:,:],2)/torch.norm(testdata[ind,:,:],2)\n",
    "    \n",
    "    return ssim,psnr,hfen,rmse"
   ]
  },
  {
   "cell_type": "code",
   "execution_count": null,
   "id": "b0415c7a",
   "metadata": {
    "scrolled": false
   },
   "outputs": [],
   "source": [
    "mnet_test_mode = 'sigpy'\n",
    "ssim_mnet,psnr_mnet,hfen_mnet,rmse_mnet = mnet_eval(mnet,unet_recon,testyfull,preselect_num=24,sparsity=.25,\\\n",
    "                               batchsize=5,mode=mnet_test_mode,normalize=False)"
   ]
  },
  {
   "cell_type": "code",
   "execution_count": null,
   "id": "cdefca68",
   "metadata": {},
   "outputs": [],
   "source": [
    "print('mnet test mode: ',mnet_test_mode)\n",
    "print('ssim mnet: ',np.mean(ssim_mnet))\n",
    "print('psnr mnet: ',np.mean(psnr_mnet))\n",
    "print('hfen mnet: ',np.mean(hfen_mnet))\n",
    "print('rmse mnet: ',np.mean(rmse_mnet))"
   ]
  },
  {
   "cell_type": "code",
   "execution_count": null,
   "id": "578d7aba",
   "metadata": {},
   "outputs": [],
   "source": [
    "# load unet\n",
    "unet_skip = False\n",
    "UNET = UNet(n_channels=1,n_classes=1,bilinear=(not unet_skip),skip=unet_skip)\n",
    "# load loupe model\n",
    "loupepath = '/home/huangz78/checkpoints/loupe_skipTrue.pt'\n",
    "loupe = LOUPE(n_channels=1,unet_skip=True,shape=[320,320],slope=5,sparsity=sparsity,\\\n",
    "                  preselect=True,preselect_num=preselect_num,\\\n",
    "                  sampler=None,unet=UNET)"
   ]
  },
  {
   "cell_type": "code",
   "execution_count": null,
   "id": "0e1237fe",
   "metadata": {},
   "outputs": [],
   "source": [
    "def loupe_eval(loupe,testdata,preselect_num,sparsity,\\\n",
    "               batchsize=5,mode='unet',\\\n",
    "               Lambda=1e-4):\n",
    "    loupe.eval()\n",
    "    if preselect_num > 0:\n",
    "        assert loupe.preselect\n",
    "        assert loupe.preselect_num == preselect_num\n",
    "    # prepare test data for mnet input\n",
    "    nimgs = testdata.shape[0]; heg = testdata.shape[1]; wid = testdata.shape[2]    \n",
    "    data = torch.reshape(testdata,(nimgs,1,heg,wid))\n",
    "    \n",
    "    pred_loupe = torch.zeros((nimgs,heg,wid)) \n",
    "    batchnums = int(np.ceil(nimgs/batchsize))\n",
    "    batchind = 0    \n",
    "    if mode == 'unet':           \n",
    "        while batchind < batchnums:\n",
    "            batch = np.arange(batchsize*batchind, min(batchsize*(batchind+1),nimgs))\n",
    "            databatch = data[batch]\n",
    "            preds,_ = loupe(databatch)\n",
    "            pred_loupe[batch] = torch.squeeze( preds.detach() )\n",
    "            batchind += 1\n",
    "    elif mode == 'sigpy':\n",
    "        masks_loupe = torch.zeros((batchnums,heg))\n",
    "        while batchind < batchnums:\n",
    "            batch = np.arange(batchsize*batchind, min(batchsize*(batchind+1),nimgs))\n",
    "            databatch = data[batch]\n",
    "            _,mask = loupe.samplers[0](databatch,sparsity)\n",
    "\n",
    "            mask = torch.squeeze(mask.detach())\n",
    "            masks_loupe[batchind,:] = mask\n",
    "            observed_kspace = torch.zeros_like(databatch)\n",
    "            imgs_recon = torch.zeros((len(databatch),heg,wid))\n",
    "            observed_kspace[:,:,mask==1,:] = databatch[:,:,mask==1,:]\n",
    "            \n",
    "            mps = np.ones((1,heg,wid))\n",
    "            for ind in range(len(observed_kspace)):\n",
    "                y_tmp = observed_kspace[ind,0,:,:].view(-1,heg,wid).numpy()\n",
    "                imgs_recon[ind,:,:] = torch.tensor(\\\n",
    "                           np.fft.ifftshift(np.abs(TotalVariationRecon(y_tmp, mps, Lambda,show_pbar=False).run())) )\n",
    "            pred_loupe[batch] = imgs_recon\n",
    "            batchind += 1\n",
    "        \n",
    "    ssim = compute_ssim(pred_loupe,testdata)\n",
    "    psnr = compute_psnr(pred_loupe,testdata)\n",
    "    hfen = np.zeros((nimgs))\n",
    "    for ind in range(nimgs):\n",
    "        hfen[ind] = compute_hfen(pred_loupe[ind,:,:].to(torch.cfloat),testdata[ind,:,:].to(torch.cfloat))\n",
    "    rmse = np.zeros((nimgs))\n",
    "    for ind in range(nimgs):\n",
    "        rmse[ind] = torch.norm(pred_loupe[ind,:,:] - testdata[ind,:,:],2)/torch.norm(testdata[ind,:,:],2)\n",
    "    \n",
    "    return ssim,psnr,hfen,rmse"
   ]
  },
  {
   "cell_type": "code",
   "execution_count": null,
   "id": "32f5cb86",
   "metadata": {},
   "outputs": [],
   "source": [
    "loupe_test_mode = 'unet'\n",
    "ssim_loupe,psnr_loupe,hfen_loupe,rmse_loupe = loupe_eval(loupe,testyfull,preselect_num=24,sparsity=.25,\\\n",
    "                               batchsize=5,mode=loupe_test_mode)"
   ]
  },
  {
   "cell_type": "code",
   "execution_count": null,
   "id": "43eecaaf",
   "metadata": {},
   "outputs": [],
   "source": [
    "print('mnet test mode: ',mnet_test_mode)\n",
    "print('ssim loupe: ',np.mean(ssim_loupe))\n",
    "print('psnr loupe: ',np.mean(psnr_loupe))\n",
    "print('hfen loupe: ',np.mean(hfen_loupe))\n",
    "print('rmse loupe: ',np.mean(rmse_loupe))"
   ]
  },
  {
   "cell_type": "markdown",
   "id": "16b6f0b8",
   "metadata": {},
   "source": [
    "# main demo: show masks and triviality check"
   ]
  },
  {
   "cell_type": "code",
   "execution_count": null,
   "id": "1cc054c9",
   "metadata": {},
   "outputs": [],
   "source": [
    "heg = 320\n",
    "wid = 320\n",
    "sparsity = .125\n",
    "preselect_num = 8\n",
    "budget = int(heg * sparsity - preselect_num)\n",
    "unet_skip = True\n",
    "print(f'budget is {budget}')"
   ]
  },
  {
   "cell_type": "code",
   "execution_count": null,
   "id": "e80c472e",
   "metadata": {},
   "outputs": [],
   "source": [
    "# load mnet\n",
    "mnet = MNet(beta=1,in_channels=2,out_size=320-preselect_num, imgsize=(320,320),poolk=3)\n",
    "# mnetpath = '/home/huangz78/checkpoints/mnet_split_trained_cf_10_bg_43.pt'\n",
    "# mnetpath = '/home/huangz78/checkpoints/mnet_split_trained_cf_16_bg_64.pt'\n",
    "mnetpath = '/home/huangz78/checkpoints/mnet_split_trained_cf_8_bg_32_unet_in_chan_1.pt'\n",
    "# checkpoint = torch.load(mnetpath)\n",
    "# mnet.load_state_dict(checkpoint['model_state_dict'])\n",
    "# mnet.apply(mnet_weights_init)\n",
    "mnet.eval()\n",
    "# print('MNet loaded successfully from: ' + mnetpath)\n",
    "\n",
    "unet_recon = UNet(n_channels=1,n_classes=1,bilinear=(not unet_skip),skip=unet_skip)\n",
    "unetpath = '/home/huangz78/checkpoints/unet_split_trained_cf_8_bg_32_unet_in_chan_1.pt'\n",
    "# unetpath = '/home/huangz78/checkpoints/unet_split_trained_cf16_bg_64.pt'\n",
    "# unetpath = '/home/huangz78/checkpoints/unet_split_trained_cf10_bg_43.pt'\n",
    "checkpoint = torch.load(unetpath)\n",
    "unet_recon.load_state_dict(checkpoint['model_state_dict'])\n",
    "print('Unet loaded successfully from: ' + unetpath )\n",
    "unet_recon.eval()\n",
    "print('nn\\'s are ready')"
   ]
  },
  {
   "cell_type": "code",
   "execution_count": 4,
   "id": "8cd3a16d",
   "metadata": {},
   "outputs": [],
   "source": [
    "# load data\n",
    "imgs = testdata\n",
    "heg = 320\n",
    "wid = 320\n",
    "# imgs = torch.tensor( np.load('/home/huangz78/data/data_gt.npz')['imgdata'] ).permute(2,0,1)\n",
    "# labels = torch.tensor( np.load('/home/huangz78/data/data_gt_greedymask.npz')['mask'].T ) # labels are already rolled"
   ]
  },
  {
   "cell_type": "code",
   "execution_count": 5,
   "id": "46db0ed4",
   "metadata": {},
   "outputs": [],
   "source": [
    "imgind_1 = 6\n",
    "img_1  = imgs[imgind_1,:,:].view(1,heg,wid)/torch.max(torch.abs(imgs[imgind_1,:,:]))\n",
    "kimg_1 = F.fftshift(F.fftn(img_1,dim=(1,2),norm='ortho').to(torch.cfloat),dim=(1,2)) # kspace shifted"
   ]
  },
  {
   "cell_type": "code",
   "execution_count": 6,
   "id": "6dde9b51",
   "metadata": {},
   "outputs": [],
   "source": [
    "# greedymask = labels[imgind_1,:]\n",
    "# mask = greedymask\n",
    "lowfreqmask = mask_naiveRand(img_1.shape[1],fix=preselect_num,other=budget,roll=True)[0]\n",
    "mask = lowfreqmask\n",
    "kin = torch.zeros_like(kimg_1)\n",
    "kin[:,mask==1,:] = kimg_1[:,mask==1,:]"
   ]
  },
  {
   "cell_type": "code",
   "execution_count": 7,
   "id": "3618c808",
   "metadata": {},
   "outputs": [
    {
     "name": "stderr",
     "output_type": "stream",
     "text": [
      "/opt/anaconda/envs/pyenv/lib/python3.7/site-packages/torch/nn/functional.py:718: UserWarning: Named tensors and all their associated APIs are an experimental feature and subject to change. Please do not use them for anything important until they are released as stable. (Triggered internally at  /opt/conda/conda-bld/pytorch_1623448224956/work/c10/core/TensorImpl.h:1156.)\n",
      "  return torch.max_pool2d(input, kernel_size, stride, padding, dilation, ceil_mode)\n"
     ]
    }
   ],
   "source": [
    "x_ifft = torch.abs( F.ifftn(F.ifftshift(kin,dim=(1,2)),dim=(1,2),norm='ortho') )\n",
    "x_unet = unet_recon(x_ifft.view(1,1,heg,wid)).detach().view(1,heg,wid)\n",
    "\n",
    "kin = F.ifftshift(kin,dim=(1,2)).numpy()\n",
    "mps = np.ones((1,heg,wid))\n",
    "x_sigpy = np.fft.ifftshift( np.abs(TotalVariationRecon(kin, mps, 1e-4,show_pbar=False).run()) )\n",
    "x_sigpy = torch.tensor(np.reshape(x_sigpy,(1,heg,wid)))"
   ]
  },
  {
   "cell_type": "code",
   "execution_count": 8,
   "id": "f21e752d",
   "metadata": {},
   "outputs": [
    {
     "name": "stdout",
     "output_type": "stream",
     "text": [
      "sigpy recon\n",
      "rel. l2 err =  tensor(0.2226, dtype=torch.float64)\n",
      "ssim =  [0.48070452]\n"
     ]
    }
   ],
   "source": [
    "print('sigpy recon')\n",
    "print('rel. l2 err = ', torch.norm(x_sigpy - img_1,p='fro')/torch.norm(img_1,p='fro') )\n",
    "print('ssim = ', compute_ssim(x_sigpy,img_1))"
   ]
  },
  {
   "cell_type": "code",
   "execution_count": 9,
   "id": "d330cdde",
   "metadata": {},
   "outputs": [
    {
     "name": "stdout",
     "output_type": "stream",
     "text": [
      "unet recon\n",
      "rel. l2 err =  tensor(0.1875, dtype=torch.float64)\n",
      "ssim = , [0.54150563]\n"
     ]
    }
   ],
   "source": [
    "print('unet recon')\n",
    "print('rel. l2 err = ', torch.norm(x_unet - img_1,p='fro')/torch.norm(img_1,p='fro') )\n",
    "print('ssim = ,', compute_ssim(x_unet,img_1))"
   ]
  },
  {
   "cell_type": "code",
   "execution_count": null,
   "id": "e616f579",
   "metadata": {},
   "outputs": [],
   "source": [
    "imgind = 126\n",
    "kimg = testyfull[imgind].view(1,1,heg,heg)\n",
    "\n",
    "_,loupe_mask = loupe.samplers[0](kimg,sparsity)\n",
    "loupe_mask = torch.squeeze(loupe_mask.detach())\n",
    "kplot(loupe_mask,roll=True)"
   ]
  },
  {
   "cell_type": "code",
   "execution_count": 10,
   "id": "6767ce7d",
   "metadata": {},
   "outputs": [
    {
     "data": {
      "image/png": "[encoded data removed]",
      "text/plain": [
       "<Figure size 360x360 with 1 Axes>"
      ]
     },
     "metadata": {
      "needs_background": "light"
     },
     "output_type": "display_data"
    },
    {
     "name": "stdout",
     "output_type": "stream",
     "text": [
      "quality of mnet mask for image 1:  0.17813581693052558\n"
     ]
    }
   ],
   "source": [
    "img_1  = imgs[imgind_1,:,:].view(1,1,heg,wid)/torch.max(torch.abs(imgs[imgind_1,:,:]))\n",
    "kimg_1 = F.fftshift(F.fftn(img_1,dim=(2,3),norm='ortho').to(torch.cfloat)) # kspace shifted\n",
    "lfmask,_,_ = mask_naiveRand(heg,fix=preselect_num,other=0,roll=True)\n",
    "rdmask,_,_ = mask_naiveRand(heg,fix=preselect_num,other=budget,roll=True)\n",
    "\n",
    "kimg_lf_1 = torch.zeros(1,2,heg,wid)    \n",
    "kimg_lf_1[:,0,lfmask==1,:] = torch.real(kimg_1[:,:,lfmask==1,:])\n",
    "kimg_lf_1[:,1,lfmask==1,:] = torch.imag(kimg_1[:,:,lfmask==1,:])\n",
    "# _,loupe_mask = loupe.samplers[0](kimg,sparsity)\n",
    "# loupe_mask = torch.squeeze(loupe_mask.detach())\n",
    "# kplot(loupe_mask,roll=True)\n",
    "\n",
    "mnet_mask_1 = mnet_wrapper(mnet,kimg_lf_1,budget=int(heg*sparsity)-preselect_num,\\\n",
    "                             imgshape=[heg,wid],normalize=True,detach=True)\n",
    "mnet_mask_1 = torch.squeeze(mnet_mask_1)\n",
    "\n",
    "# greedy_mask_1 = labels[imgind_1,:]\n",
    "\n",
    "kplot(mnet_mask_1,roll=False,img_name='mnet mask 1')\n",
    "print('quality of mnet mask for image 1: ', mask_eval(mnet_mask_1.view(-1,320),img_1.view(1,heg,wid),\\\n",
    "              mode='UNET',UNET=unet_recon,dtyp=torch.float,\\\n",
    "              Lambda=10**(-4.3),hfen=False))\n",
    "\n",
    "# kplot(greedy_mask_1,roll=False,img_name='greedy mask 1')\n",
    "# print('quality of greedy mask for image 1: ',mask_eval(greedy_mask_1.view(-1,320),img_1.view(1,heg,wid),\\\n",
    "#               mode='UNET',UNET=unet_recon,dtyp=torch.float,\\\n",
    "#               Lambda=10**(-4.3),hfen=False))"
   ]
  },
  {
   "cell_type": "code",
   "execution_count": 11,
   "id": "feae2b2b",
   "metadata": {
    "scrolled": false
   },
   "outputs": [
    {
     "name": "stdout",
     "output_type": "stream",
     "text": [
      "224\n"
     ]
    },
    {
     "data": {
      "image/png": "[encoded data removed]",
      "text/plain": [
       "<Figure size 360x360 with 1 Axes>"
      ]
     },
     "metadata": {
      "needs_background": "light"
     },
     "output_type": "display_data"
    },
    {
     "name": "stdout",
     "output_type": "stream",
     "text": [
      "direct input difference:  tensor([[[[ 0.0263,  0.0263,  0.0289,  ..., -0.0192, -0.0022, -0.0121],\n",
      "          [-0.0188, -0.0201, -0.0384,  ...,  0.0235, -0.0053, -0.0159],\n",
      "          [-0.0152, -0.0319,  0.0022,  ...,  0.0368,  0.0346, -0.0275],\n",
      "          ...,\n",
      "          [ 0.0164,  0.0141, -0.0081,  ...,  0.0286,  0.0054,  0.0137],\n",
      "          [-0.0152, -0.0275,  0.0346,  ..., -0.0108,  0.0022, -0.0319],\n",
      "          [-0.0188, -0.0159, -0.0053,  ..., -0.0177, -0.0384, -0.0201]],\n",
      "\n",
      "         [[-0.0062, -0.0079,  0.0050,  ...,  0.0008,  0.0372,  0.0308],\n",
      "          [-0.0139, -0.0059, -0.0054,  ...,  0.0043,  0.0011,  0.0289],\n",
      "          [ 0.0037,  0.0212,  0.0067,  ..., -0.0149, -0.0233, -0.0063],\n",
      "          ...,\n",
      "          [ 0.0058,  0.0165,  0.0244,  ..., -0.0003, -0.0148, -0.0245],\n",
      "          [-0.0037,  0.0063,  0.0233,  ...,  0.0230, -0.0067, -0.0212],\n",
      "          [ 0.0139, -0.0289, -0.0011,  ..., -0.0042,  0.0054,  0.0059]]]])\n",
      "sigmoid mnet output difference:  tensor([[-1.7378e-24, -1.4153e-15, -7.7222e-16, -6.6815e-10, -3.4123e-11,\n",
      "         -1.4143e-18, -2.5034e-06, -6.6919e-18, -6.7157e-17, -2.0361e-24,\n",
      "         -3.4823e-18, -2.6821e-17, -4.0289e-09, -2.4599e-19, -7.4049e-21,\n",
      "         -4.4195e-10, -3.3169e-15, -3.1263e-18, -9.5303e-07, -1.3724e-24,\n",
      "         -4.0518e-14, -9.7587e-26, -2.2976e-22, -5.4065e-19, -2.4883e-13,\n",
      "         -5.8343e-22, -2.9980e-16, -1.5717e-14, -1.8415e-14, -3.2581e-24,\n",
      "         -1.9539e-13, -1.9060e-16, -1.8782e-27, -2.4561e-12, -2.3990e-18,\n",
      "         -1.5806e-09, -6.8006e-17, -1.1505e-17, -3.4892e-19, -5.1282e-04,\n",
      "         -3.4575e-23, -4.0170e-23, -7.7705e-05, -3.7038e-14, -2.9668e-28,\n",
      "         -1.9405e-19, -1.5899e-19, -1.3712e-20, -1.5288e-12, -1.3222e-06,\n",
      "         -9.0010e-01, -7.0982e-18, -1.0000e+00, -5.0991e-24, -9.5057e-13,\n",
      "         -7.0049e-18, -2.2887e-19, -1.0357e-10, -1.7155e-26, -3.1804e-17,\n",
      "         -3.1784e-15, -1.2965e-16, -2.0848e-11, -8.0154e-10, -4.0938e-08,\n",
      "         -2.2224e-13, -6.6325e-07, -4.0623e-15, -1.5436e-13, -2.4259e-18,\n",
      "         -4.6418e-11, -6.5177e-20, -1.0513e-16, -5.9217e-17, -7.3061e-24,\n",
      "         -5.7203e-04, -5.5054e-06, -3.2713e-10, -1.1059e-19, -3.5281e-07,\n",
      "         -1.8053e-26, -7.7434e-18, -3.2828e-18, -9.8504e-08, -9.1360e-09,\n",
      "         -5.8566e-29, -3.0859e-17, -1.3595e-21, -8.4257e-08, -1.1092e-25,\n",
      "         -1.2498e-13, -2.7828e-16, -9.9986e-01, -7.2894e-25, -4.3403e-25,\n",
      "         -1.3431e-07, -7.6686e-11, -3.8763e-07, -6.4289e-29, -5.6681e-06,\n",
      "         -5.1577e-25, -2.9106e-28, -1.0697e-09, -7.5723e-16, -3.4595e-22,\n",
      "         -2.5603e-13, -7.1526e-07, -5.4049e-12, -7.1276e-18, -5.8797e-19,\n",
      "         -3.1028e-24, -5.8292e-16, -8.6072e-17, -3.5685e-22, -1.0570e-16,\n",
      "         -2.8669e-06, -9.9986e-01, -1.9763e-07, -7.2655e-06, -4.4372e-34,\n",
      "         -1.4382e-13, -1.0492e-31, -9.9999e-01, -4.1263e-12, -1.9100e-12,\n",
      "         -1.2803e-14, -4.9434e-21, -2.3923e-21, -1.2800e-15, -1.2085e-19,\n",
      "         -9.9223e-01, -8.7085e-28, -3.0973e-28, -2.9652e-25, -1.2122e-12,\n",
      "         -1.6250e-11, -6.8525e-20, -1.3536e-15, -8.6704e-01, -1.3833e-18,\n",
      "         -1.2669e-15, -7.6544e-08, -1.4661e-20, -2.0106e-12, -6.2459e-16,\n",
      "         -3.4297e-11, -4.4812e-09, -1.1314e-21, -3.7046e-17, -6.7949e-06,\n",
      "         -5.4418e-23, -1.1479e-07, -1.4294e-20, -2.2611e-11,  6.3513e-01,\n",
      "          2.4921e-04, -5.9605e-07, -4.6764e-12, -3.3748e-12, -3.3922e-08,\n",
      "         -5.9848e-15, -4.8432e-13, -1.1559e-11, -8.0729e-16, -5.4354e-14,\n",
      "         -1.8381e-16, -6.6609e-16, -9.5170e-20, -1.0538e-14, -8.7395e-23,\n",
      "         -1.0383e-23, -4.9738e-11, -7.0971e-19, -1.4914e-16, -1.4158e-23,\n",
      "         -6.5896e-11, -7.6019e-15, -1.7238e-16, -4.9040e-05, -3.3866e-27,\n",
      "         -7.6357e-08, -9.9619e-08, -4.8802e-12, -5.2556e-33, -1.0802e-22,\n",
      "         -1.2085e-11, -6.1247e-01, -2.1394e-20, -1.2842e-06,  1.1082e-05,\n",
      "         -3.9528e-09, -4.1593e-20, -6.6785e-02, -9.6503e-21, -1.1409e-13,\n",
      "         -2.5452e-12, -3.6513e-02, -2.2365e-08, -1.3896e-03, -1.6046e-19,\n",
      "         -2.0058e-12, -1.0000e+00, -1.7691e-19, -3.9010e-17, -1.3947e-18,\n",
      "         -8.3711e-13, -1.7972e-19, -8.9124e-15, -4.8020e-07, -6.5427e-11,\n",
      "          2.1117e-12,  0.0000e+00, -3.2902e-18, -1.2764e-17, -3.6345e-16,\n",
      "         -9.2860e-28, -3.5230e-17, -2.3683e-01, -9.3893e-06, -7.7340e-20,\n",
      "         -4.5026e-33,  0.0000e+00, -1.1417e-19, -2.6052e-09, -9.3228e-15,\n",
      "          4.9855e-17,  9.9986e-01,  0.0000e+00,  8.1193e-18,  2.9640e-05,\n",
      "         -3.2395e-12, -1.2009e-13,  1.9073e-06,  0.0000e+00, -7.5662e-16,\n",
      "          1.5974e-05,  7.0371e-01,  7.0570e-01,  2.0536e-06,  5.7764e-01,\n",
      "          0.0000e+00,  4.7138e-06, -9.3447e-11,  0.0000e+00,  9.6278e-01,\n",
      "         -7.0566e-13,  5.7507e-01,  0.0000e+00,  4.7684e-07,  0.0000e+00,\n",
      "          6.7546e-01, -1.4822e-16, -4.6916e-15,  4.6551e-14, -2.2709e-02,\n",
      "         -8.6862e-11, -1.2233e-13, -7.8261e-10, -1.1675e-30, -2.3687e-18,\n",
      "         -3.8611e-22, -4.7113e-12, -3.4901e-14, -4.8990e-11, -7.0939e-16,\n",
      "         -1.9957e-24, -1.2217e-17, -1.8313e-14, -1.5222e-17, -9.6642e-24,\n",
      "         -9.8607e-20, -1.6730e-20, -9.1539e-20, -9.0616e-09, -1.8288e-15,\n",
      "         -1.4633e-17, -2.1421e-21, -1.7244e-20, -1.9047e-06, -1.7550e-06,\n",
      "         -5.6667e-18, -2.7140e-13, -2.3808e-05, -1.0098e-19, -5.0332e-23,\n",
      "         -1.9249e-16, -5.4790e-21, -4.5811e-20, -1.1592e-19, -2.9388e-16,\n",
      "         -3.9999e-09, -1.1149e-15, -1.0000e+00, -1.0000e+00, -4.8739e-17,\n",
      "         -7.2322e-22, -1.1377e-20, -2.2557e-17, -2.1257e-19, -2.0072e-15,\n",
      "         -2.3571e-14, -2.0442e-14, -8.4180e-15, -1.6381e-12, -6.6760e-13,\n",
      "         -3.4833e-11, -7.5604e-05, -2.9593e-13, -1.0692e-10, -2.3589e-12,\n",
      "         -2.2809e-20, -1.3602e-16]], grad_fn=<SubBackward0>)\n",
      "mask difference:  tensor([ 0.,  0.,  0.,  0.,  0.,  0.,  0.,  0.,  0.,  0.,  0.,  0.,  0.,  0.,\n",
      "         0.,  0.,  0.,  0.,  0.,  0.,  0.,  0.,  0.,  0.,  0.,  0.,  0.,  0.,\n",
      "         0.,  0.,  0.,  0.,  0.,  0.,  0.,  0.,  0.,  0.,  0.,  0.,  0.,  0.,\n",
      "         0.,  0.,  0.,  0.,  0.,  0.,  0.,  0., -1.,  0., -1.,  0.,  0.,  0.,\n",
      "         0.,  0.,  0.,  0.,  0.,  0.,  0.,  0.,  0.,  0.,  0.,  0.,  0.,  0.,\n",
      "         0.,  0.,  0.,  0.,  0.,  0.,  0.,  0.,  0.,  0.,  0.,  0.,  0.,  0.,\n",
      "         0.,  0.,  0.,  0.,  0.,  0.,  0.,  0.,  0.,  0.,  0.,  0.,  0.,  0.,\n",
      "         0.,  0.,  0.,  0.,  0.,  0.,  0.,  0.,  0.,  0.,  0.,  0.,  0.,  0.,\n",
      "         0.,  0.,  0.,  0.,  0.,  0.,  0.,  0.,  0.,  0., -1.,  0.,  0.,  0.,\n",
      "         0.,  0.,  0.,  0.,  0.,  0.,  0.,  0.,  0.,  0.,  0.,  0., -1.,  0.,\n",
      "         0.,  0.,  0.,  0.,  0.,  0.,  0.,  0.,  0.,  0.,  0.,  0.,  0.,  0.,\n",
      "         1.,  0.,  0.,  0.,  0.,  0.,  0.,  0.,  0.,  0.,  0.,  0.,  0.,  0.,\n",
      "         0.,  0.,  0.,  0.,  0.,  0.,  0.,  0.,  0.,  0.,  0.,  0.,  0.,  0.,\n",
      "         0.,  0.,  0.,  0.,  0.,  0.,  0.,  0.,  0.,  0.,  0.,  0., -1.,  0.,\n",
      "         0.,  0.,  0.,  0.,  0.,  0.,  0.,  0.,  0.,  0.,  0.,  0.,  0., -1.,\n",
      "         0.,  0.,  0.,  0.,  0.,  0.,  0.,  0.,  0.,  0.,  0.,  0.,  0.,  0.,\n",
      "         0.,  0.,  0.,  0.,  0.,  0.,  0.,  0.,  0.,  0.,  1.,  0.,  0.,  1.,\n",
      "         0.,  0.,  0.,  0.,  0.,  0.,  1.,  1.,  0.,  1.,  0.,  0.,  0.,  0.,\n",
      "         1.,  0.,  0.,  0.,  0.,  0.,  1.,  0.,  0.,  0.,  0.,  0.,  0.,  0.,\n",
      "         0.,  0.,  0.,  0.,  0.,  0.,  0.,  0.,  0.,  0.,  0.,  0.,  0.,  0.,\n",
      "         0.,  0.,  0.,  0.,  0.,  0.,  0.,  0.,  0.,  0.,  0.,  0.,  0.,  0.,\n",
      "         0.,  0.,  0.,  0.,  0.,  0., -1., -1.,  0.,  0.,  0.,  0.,  0.,  0.,\n",
      "         0.,  0.,  0.,  0.,  0.,  0.,  0.,  0.,  0.,  0.,  0.,  0.])\n",
      "mnet total line count difference:  tensor(16.)\n",
      "700\n"
     ]
    },
    {
     "data": {
      "image/png": "[encoded data removed]",
      "text/plain": [
       "<Figure size 360x360 with 1 Axes>"
      ]
     },
     "metadata": {
      "needs_background": "light"
     },
     "output_type": "display_data"
    },
    {
     "name": "stdout",
     "output_type": "stream",
     "text": [
      "direct input difference:  tensor([[[[ 0.0290,  0.0091,  0.0038,  ..., -0.0147, -0.0090, -0.0022],\n",
      "          [-0.0122, -0.0099, -0.0186,  ...,  0.0123, -0.0033, -0.0198],\n",
      "          [-0.0165, -0.0310, -0.0030,  ...,  0.0198,  0.0155, -0.0233],\n",
      "          ...,\n",
      "          [ 0.0068,  0.0046, -0.0055,  ...,  0.0288,  0.0066,  0.0102],\n",
      "          [-0.0165, -0.0233,  0.0155,  ..., -0.0099, -0.0030, -0.0310],\n",
      "          [-0.0122, -0.0198, -0.0033,  ..., -0.0025, -0.0186, -0.0099]],\n",
      "\n",
      "         [[-0.0075,  0.0010,  0.0103,  ..., -0.0201,  0.0225,  0.0285],\n",
      "          [-0.0115, -0.0105,  0.0087,  ..., -0.0214, -0.0111,  0.0048],\n",
      "          [ 0.0214,  0.0403,  0.0148,  ..., -0.0016, -0.0127, -0.0038],\n",
      "          ...,\n",
      "          [ 0.0183,  0.0292,  0.0217,  ...,  0.0291,  0.0163,  0.0124],\n",
      "          [-0.0214,  0.0038,  0.0127,  ...,  0.0151, -0.0148, -0.0403],\n",
      "          [ 0.0115, -0.0048,  0.0111,  ..., -0.0161, -0.0087,  0.0105]]]])\n",
      "sigmoid mnet output difference:  tensor([[-6.7828e-31, -2.1271e-23, -2.1419e-24, -9.7775e-20, -9.6976e-15,\n",
      "         -6.1277e-23, -1.8835e-05, -2.6069e-22, -1.5718e-21, -3.2602e-29,\n",
      "         -6.2628e-24, -1.1224e-25, -5.5711e-18, -1.0396e-23, -1.0964e-20,\n",
      "         -8.7549e-15, -1.5380e-26, -5.8190e-28, -1.4967e-21, -1.3948e-22,\n",
      "         -7.4173e-23, -1.8161e-36, -8.8958e-29, -1.1539e-24, -3.2229e-20,\n",
      "         -3.7176e-32, -2.3607e-23, -1.3864e-16, -9.5474e-29, -5.7351e-33,\n",
      "         -5.2611e-22, -3.5387e-20, -3.7090e-23, -5.1892e-19, -6.9972e-26,\n",
      "         -1.9306e-16, -5.4220e-26, -7.0667e-27, -9.4911e-25, -8.9359e-15,\n",
      "         -1.2319e-21, -3.7468e-32, -5.6300e-15, -6.0261e-19, -1.0071e-35,\n",
      "         -3.6480e-16, -6.3846e-27, -1.6191e-29, -5.3051e-18, -1.0791e-16,\n",
      "         -9.7646e-10, -3.3808e-26, -5.2739e-05, -3.1197e-37, -3.4871e-16,\n",
      "         -4.1283e-24, -5.0827e-19, -1.1138e-24, -5.9234e-33, -4.5112e-18,\n",
      "         -7.9707e-25, -5.0761e-21, -3.8519e-11, -2.1712e-11, -7.1768e-19,\n",
      "         -8.7871e-19, -7.0542e-13, -7.5130e-21, -1.7270e-25, -5.2511e-27,\n",
      "         -6.1408e-22, -7.8515e-25, -2.4544e-22, -6.2773e-22, -5.1590e-29,\n",
      "         -5.7131e-04, -5.0409e-21, -5.2205e-13, -3.4610e-28, -6.0680e-18,\n",
      "         -1.6997e-32, -4.7521e-27, -7.0279e-20, -7.1971e-16, -1.4883e-10,\n",
      "         -5.4388e-37, -2.6541e-26, -4.3451e-28, -3.9927e-19, -1.4009e-34,\n",
      "         -9.6863e-18, -1.1083e-27, -9.9857e-01, -7.5941e-34, -3.3126e-36,\n",
      "         -2.2296e-16, -6.4609e-14, -3.4189e-21, -1.3092e-38, -2.7605e-13,\n",
      "         -3.0304e-22, -3.9891e-30, -2.0996e-15, -7.0298e-17, -5.8386e-37,\n",
      "         -8.9406e-16, -7.1526e-07, -7.3396e-17, -3.2046e-27, -1.9920e-22,\n",
      "         -4.9589e-31, -5.7041e-21, -1.0916e-16, -2.0363e-24, -5.9830e-17,\n",
      "         -7.5153e-17, -6.7974e-03, -1.0086e-15, -1.2036e-14, -8.8538e-38,\n",
      "         -4.9775e-15, -1.1953e-29, -9.9991e-01, -1.0364e-15, -7.5182e-21,\n",
      "         -5.8185e-16, -4.2236e-31, -5.0800e-33, -2.0296e-17, -2.7802e-28,\n",
      "         -9.9082e-01, -1.5519e-37, -2.2142e-30,  0.0000e+00, -9.6367e-25,\n",
      "         -5.9411e-18, -1.1271e-29, -6.4352e-24, -1.1648e-10, -1.6440e-25,\n",
      "         -2.7985e-23, -3.4891e-21, -1.1028e-32, -1.4921e-20, -5.6388e-24,\n",
      "         -1.4596e-15, -4.7634e-20, -1.5424e-26, -4.8102e-23, -6.7949e-06,\n",
      "         -2.4418e-26, -4.8809e-10, -3.3516e-27, -7.9156e-13, -3.6464e-01,\n",
      "         -1.2159e-05, -5.9605e-07, -2.0021e-17, -2.2988e-09, -3.7528e-14,\n",
      "         -3.9586e-24, -6.4940e-20, -1.2855e-20, -1.6234e-19, -1.4038e-19,\n",
      "         -7.2811e-24, -8.4362e-19, -3.8028e-31, -1.0090e-19, -5.0623e-26,\n",
      "         -1.7989e-31, -4.4913e-12, -1.9381e-31, -4.4999e-26, -1.5565e-34,\n",
      "         -3.7465e-23, -1.0509e-19, -3.1655e-24, -1.1352e-13, -1.2821e-32,\n",
      "         -6.0871e-16, -4.6547e-18, -2.9082e-14,  0.0000e+00, -3.5357e-31,\n",
      "         -8.6716e-12, -5.8721e-09, -1.0143e-35, -1.0387e-17, -1.1762e-04,\n",
      "         -2.7114e-16, -1.7786e-27, -6.6774e-02, -1.0046e-19, -6.6218e-22,\n",
      "         -2.2165e-16, -3.6452e-02, -3.5631e-15, -1.0103e-08, -8.6675e-25,\n",
      "         -1.0505e-17, -1.9001e-09, -2.1807e-26, -2.9713e-21, -1.3861e-34,\n",
      "         -1.6631e-17, -1.2383e-25, -2.8149e-22, -5.0628e-09, -1.3518e-15,\n",
      "         -2.4752e-09,  0.0000e+00, -2.4037e-27, -1.2050e-16, -1.3550e-20,\n",
      "         -4.5915e-31, -8.3831e-24, -1.6120e-11, -1.6142e-12, -4.2082e-21,\n",
      "          0.0000e+00,  0.0000e+00, -1.7266e-25, -1.5537e-16, -3.0730e-13,\n",
      "         -2.9562e-12, -1.3113e-04,  0.0000e+00, -1.7535e-14, -6.0586e-04,\n",
      "         -2.4107e-13, -3.0627e-13,  0.0000e+00,  0.0000e+00, -8.1310e-13,\n",
      "          0.0000e+00, -2.4600e-01,  0.0000e+00, -4.7900e-05, -1.1456e-02,\n",
      "          0.0000e+00, -2.4179e-01,  1.0902e-12,  0.0000e+00, -1.0366e-02,\n",
      "         -8.1453e-15, -4.2677e-05,  0.0000e+00,  0.0000e+00,  0.0000e+00,\n",
      "         -1.9354e-04, -1.2403e-17, -2.1105e-13, -7.3384e-10, -2.2691e-02,\n",
      "         -1.8380e-12, -1.0911e-27, -6.2124e-19, -6.2664e-33, -1.9253e-26,\n",
      "         -4.1674e-28, -1.0047e-17, -2.3202e-16, -3.4968e-17, -1.2558e-27,\n",
      "         -1.3225e-24, -2.5454e-29, -8.8481e-19, -5.0419e-30, -2.4275e-32,\n",
      "         -4.0844e-26, -3.7408e-24, -2.1232e-25, -1.1026e-14, -5.3387e-23,\n",
      "         -2.3681e-23, -3.5861e-25, -1.9390e-26, -8.3289e-13, -7.2953e-17,\n",
      "         -2.5887e-27, -3.5133e-15, -9.5549e-16, -3.9048e-30, -4.5181e-38,\n",
      "         -9.7554e-23, -5.1062e-25, -7.8890e-25, -2.0235e-26, -7.4405e-21,\n",
      "         -4.6466e-16, -3.4672e-23, -6.3607e-03, -1.8827e-08, -3.8006e-24,\n",
      "         -1.6930e-19, -1.7069e-23, -1.5073e-21, -2.1295e-28, -8.0752e-25,\n",
      "         -1.7409e-17, -2.3196e-26, -1.1889e-21, -3.2571e-18, -2.1123e-19,\n",
      "         -2.3069e-21, -4.1224e-16, -1.8734e-16, -8.6689e-14, -2.5415e-19,\n",
      "         -4.0493e-28, -6.2692e-23]], grad_fn=<SubBackward0>)\n",
      "mask difference:  tensor([ 0.,  0.,  0.,  0.,  0.,  0.,  0.,  0.,  0.,  0.,  0.,  0.,  0.,  0.,\n",
      "         0.,  0.,  0.,  0.,  0.,  0.,  0.,  0.,  0.,  0.,  0.,  0.,  0.,  0.,\n",
      "         0.,  0.,  0.,  0.,  0.,  0.,  0.,  0.,  0.,  0.,  0.,  0.,  0.,  0.,\n",
      "         0.,  0.,  0.,  0.,  0.,  0.,  0.,  0.,  0.,  0.,  0.,  0.,  0.,  0.,\n",
      "         0.,  0.,  0.,  0.,  0.,  0.,  0.,  0.,  0.,  0.,  0.,  0.,  0.,  0.,\n",
      "         0.,  0.,  0.,  0.,  0.,  0.,  0.,  0.,  0.,  0.,  0.,  0.,  0.,  0.,\n",
      "         0.,  0.,  0.,  0.,  0.,  0.,  0.,  0.,  0.,  0.,  0.,  0.,  0.,  0.,\n",
      "         0.,  0.,  0.,  0.,  0.,  0.,  0.,  0.,  0.,  0.,  0.,  0.,  0.,  0.,\n",
      "         0.,  0.,  0.,  0.,  1.,  0.,  0.,  0.,  0.,  0., -1.,  0.,  0.,  0.,\n",
      "         0.,  0.,  0.,  0.,  0.,  0.,  0.,  0.,  0.,  0.,  0.,  0.,  0.,  0.,\n",
      "         0.,  0.,  0.,  0.,  0.,  0.,  0.,  0.,  0.,  0.,  0.,  0.,  0.,  0.,\n",
      "         0.,  0.,  0.,  0.,  0.,  0.,  0.,  0.,  0.,  0.,  0.,  0.,  0.,  0.,\n",
      "         0.,  0.,  0.,  0.,  0.,  0.,  0.,  0.,  0.,  0.,  0.,  0.,  0.,  0.,\n",
      "         0.,  0.,  0.,  0.,  0.,  0.,  0.,  0.,  0.,  0.,  0.,  0.,  0.,  0.,\n",
      "         0.,  0.,  0.,  0.,  0.,  0.,  0.,  0.,  0.,  0.,  0.,  0.,  0.,  0.,\n",
      "         0.,  0.,  0.,  0.,  0.,  0.,  0.,  0.,  0.,  0.,  0.,  0.,  0.,  0.,\n",
      "         0.,  0.,  0.,  0.,  0.,  0.,  0.,  0.,  0.,  0.,  0.,  0.,  0.,  1.,\n",
      "         0.,  0.,  0.,  0.,  0.,  0.,  0.,  0.,  0.,  0.,  0., -1.,  0.,  0.,\n",
      "         0.,  0.,  0.,  0.,  0.,  0.,  0.,  0.,  0.,  0.,  0.,  0.,  0.,  0.,\n",
      "         0.,  0.,  0.,  0.,  0.,  0.,  0.,  0.,  0.,  0.,  0.,  0.,  0.,  0.,\n",
      "         0.,  0.,  0.,  0.,  0.,  0.,  0.,  0.,  0.,  0.,  0.,  0.,  0.,  0.,\n",
      "         0.,  0.,  0.,  0.,  0.,  0.,  0.,  0.,  0.,  0.,  0.,  0.,  0.,  0.,\n",
      "         0.,  0.,  0.,  0.,  0.,  0.,  0.,  0.,  0.,  0.,  0.,  0.])\n",
      "mnet total line count difference:  tensor(4.)\n",
      "1101\n"
     ]
    },
    {
     "data": {
      "image/png": "[encoded data removed]",
      "text/plain": [
       "<Figure size 360x360 with 1 Axes>"
      ]
     },
     "metadata": {
      "needs_background": "light"
     },
     "output_type": "display_data"
    },
    {
     "name": "stdout",
     "output_type": "stream",
     "text": [
      "direct input difference:  tensor([[[[ 0.0151,  0.0051,  0.0278,  ...,  0.0137, -0.0054, -0.0032],\n",
      "          [-0.0076,  0.0067, -0.0110,  ...,  0.0075, -0.0235, -0.0239],\n",
      "          [ 0.0205,  0.0165,  0.0339,  ...,  0.0138,  0.0208, -0.0125],\n",
      "          ...,\n",
      "          [ 0.0225,  0.0285,  0.0054,  ...,  0.0146,  0.0047,  0.0233],\n",
      "          [ 0.0205, -0.0125,  0.0208,  ...,  0.0285,  0.0339,  0.0165],\n",
      "          [-0.0076, -0.0239, -0.0235,  ..., -0.0108, -0.0110,  0.0067]],\n",
      "\n",
      "         [[ 0.0232,  0.0525,  0.0368,  ...,  0.0069,  0.0224,  0.0500],\n",
      "          [ 0.0010, -0.0204, -0.0327,  ..., -0.0186, -0.0066,  0.0036],\n",
      "          [-0.0174, -0.0086,  0.0031,  ..., -0.0274, -0.0357, -0.0343],\n",
      "          ...,\n",
      "          [ 0.0265,  0.0370,  0.0259,  ...,  0.0353,  0.0091,  0.0268],\n",
      "          [ 0.0174,  0.0343,  0.0357,  ...,  0.0103, -0.0031,  0.0086],\n",
      "          [-0.0010, -0.0036,  0.0066,  ...,  0.0174,  0.0327,  0.0204]]]])\n",
      "sigmoid mnet output difference:  tensor([[-2.0631e-19, -4.0485e-20, -3.1629e-12, -7.7632e-15, -8.7432e-16,\n",
      "         -6.5295e-14,  9.9891e-01, -8.5828e-18, -3.6747e-20, -2.2333e-19,\n",
      "         -4.4863e-15, -2.6994e-15, -1.0534e-12, -4.6946e-13, -1.8216e-25,\n",
      "         -1.2621e-14, -8.7220e-16, -1.8439e-19, -1.0106e-17, -6.4931e-28,\n",
      "         -1.4235e-10, -4.3197e-22, -4.8905e-12, -5.6283e-19, -2.7792e-13,\n",
      "         -9.7772e-20, -1.4598e-10, -1.9884e-09, -1.2044e-09, -2.2307e-19,\n",
      "         -1.7781e-14, -1.4150e-25, -8.6612e-25, -5.2146e-12, -1.6591e-15,\n",
      "         -2.3587e-09, -3.5516e-16, -1.8927e-16, -2.5113e-13, -3.4922e-11,\n",
      "         -7.8288e-19, -2.1164e-19, -6.0736e-10, -8.6126e-17, -2.5061e-26,\n",
      "         -2.6930e-13, -9.0511e-06, -3.3407e-18, -3.1533e-12, -2.9224e-07,\n",
      "         -1.0000e+00, -7.3785e-15, -1.0000e+00, -5.9857e-25, -1.4032e-12,\n",
      "         -3.2065e-19, -9.9204e-16, -4.0472e-13, -9.5394e-23, -8.8688e-23,\n",
      "         -1.1842e-09, -3.6055e-19,  8.0011e-14, -9.6803e-12, -6.2514e-17,\n",
      "         -1.1150e-12, -5.2799e-11, -3.9506e-12, -4.6207e-18, -4.3139e-15,\n",
      "         -1.3185e-14, -3.3503e-18, -1.1226e-14, -1.9691e-24, -4.1076e-25,\n",
      "          5.9855e-04, -2.3196e-10, -6.2064e-19, -4.3242e-14, -9.9978e-01,\n",
      "         -9.0685e-21, -3.5120e-13, -8.1178e-18, -4.1725e-14, -1.6321e-15,\n",
      "         -2.4996e-26, -2.3523e-20, -2.0030e-13, -6.4476e-10, -2.4164e-20,\n",
      "         -1.7839e-07, -3.7010e-11, -9.9985e-01, -7.6120e-24, -1.9652e-27,\n",
      "         -6.4600e-16, -3.7747e-14, -8.1371e-09, -2.5940e-27, -9.9680e-01,\n",
      "          6.4997e-30, -4.3691e-27, -1.9465e-03, -9.7625e-16, -1.8523e-15,\n",
      "         -6.7716e-19, -7.1526e-07, -1.1885e-14, -1.2440e-18, -4.9083e-26,\n",
      "          2.0593e-36, -1.8779e-15, -5.9298e-14, -7.3195e-22,  6.6892e-20,\n",
      "         -2.1815e-18, -9.9986e-01, -3.8864e-09, -2.7226e-10, -1.9051e-25,\n",
      "          3.7719e-22,  2.2454e-38, -1.3367e-03, -7.4379e-19, -3.6766e-13,\n",
      "         -3.0101e-15, -5.1002e-15, -3.0859e-14, -1.3146e-22, -1.1393e-07,\n",
      "         -9.9223e-01, -7.9780e-24, -5.2299e-24, -1.5957e-14, -7.8201e-11,\n",
      "         -2.1101e-13, -3.3628e-18, -2.6398e-16, -9.9999e-01, -3.8936e-19,\n",
      "         -9.9630e-13, -2.4683e-12, -1.0325e-26, -1.2200e-14, -4.3206e-19,\n",
      "         -5.8530e-22, -9.8158e-12, -2.8769e-24, -1.3751e-17,  1.0887e-02,\n",
      "         -3.1448e-29,  3.2900e-17, -2.0472e-18, -4.5192e-16,  6.3513e-01,\n",
      "          9.9999e-01,  1.0000e+00, -4.9312e-13,  4.8738e-16, -1.0232e-15,\n",
      "         -2.5147e-19, -4.0389e-17, -9.6040e-11, -1.1494e-22, -1.7643e-13,\n",
      "         -1.1286e-17, -1.0685e-13, -1.5249e-20, -3.2833e-09, -1.4448e-15,\n",
      "         -1.1891e-31, -4.3805e-16, -9.1848e-19, -1.0737e-16, -3.2818e-20,\n",
      "         -1.4336e-08, -7.7599e-16, -5.1819e-14, -9.9988e-01, -2.9523e-20,\n",
      "         -7.2449e-16, -9.9960e-01, -2.2237e-12, -9.6121e-29, -7.1980e-17,\n",
      "          9.9292e-13, -9.9999e-01, -8.8478e-27, -2.2262e-12,  1.1082e-05,\n",
      "         -2.8313e-13, -7.0734e-17, -6.6785e-02, -1.8532e-20, -2.3051e-03,\n",
      "         -9.0632e-13, -3.6513e-02, -1.5800e-09, -1.0000e+00, -1.0898e-14,\n",
      "         -2.2570e-09, -1.0000e+00, -8.2318e-18, -3.4427e-17, -5.4559e-18,\n",
      "         -6.6393e-03, -2.1431e-12, -5.4228e-14, -3.3517e-11, -9.9998e-01,\n",
      "         -7.3001e-13,  0.0000e+00, -1.4239e-13, -6.3902e-23, -1.5486e-14,\n",
      "         -3.1318e-28, -2.9223e-25, -1.0000e+00, -1.5137e-13, -4.6301e-20,\n",
      "         -3.3438e-34,  1.9551e-02, -1.1396e-16, -5.8471e-14, -7.8477e-14,\n",
      "          5.1283e-17,  9.9986e-01,  1.0000e+00, -5.6991e-14,  2.9823e-05,\n",
      "         -1.5719e-05, -5.9920e-09,  9.9949e-01,  0.0000e+00, -1.0757e-14,\n",
      "          0.0000e+00,  7.0371e-01,  1.0000e+00,  2.0546e-06,  9.8852e-01,\n",
      "          2.6429e-03,  4.6981e-06, -6.5693e-12,  0.0000e+00,  9.6278e-01,\n",
      "         -1.3383e-11,  9.9996e-01,  1.1325e-05,  0.0000e+00,  0.0000e+00,\n",
      "          9.9981e-01, -2.7049e-11,  3.8083e-17, -4.8353e-12, -2.2709e-02,\n",
      "         -5.2027e-11, -1.7788e-11, -1.7371e-15, -3.7386e-27, -2.0128e-17,\n",
      "         -4.6024e-15, -7.3249e-10, -2.3637e-22, -3.0579e-10, -1.6776e-12,\n",
      "         -6.8900e-19, -1.3747e-12, -7.1350e-14, -4.9759e-17, -1.2051e-22,\n",
      "         -7.8004e-18, -1.1995e-14, -3.0670e-17, -9.1004e-14, -9.6193e-18,\n",
      "         -2.6540e-12, -1.4663e-12, -5.5459e-16, -2.1656e-11, -4.7614e-11,\n",
      "         -3.9407e-12, -5.4117e-15, -3.5197e-05, -1.4034e-12, -4.8856e-23,\n",
      "         -1.2217e-22, -2.6335e-18, -2.0486e-15, -6.7003e-18, -6.6965e-13,\n",
      "         -4.0040e-09, -1.9274e-16, -1.0000e+00, -1.0000e+00, -9.1556e-15,\n",
      "         -1.1567e-19, -2.6902e-14, -1.0057e-12, -2.0474e-24, -1.2485e-12,\n",
      "          1.0838e-24, -1.9654e-09, -2.3746e-16, -1.0254e-14, -3.7439e-14,\n",
      "         -2.9806e-13, -2.3674e-12, -1.9324e-16, -1.1696e-08, -9.5378e-16,\n",
      "         -6.1901e-14, -2.3657e-11]], grad_fn=<SubBackward0>)\n",
      "mask difference:  tensor([ 0.,  0.,  0.,  0.,  0.,  0.,  1.,  0.,  0.,  0.,  0.,  0.,  0.,  0.,\n",
      "         0.,  0.,  0.,  0.,  0.,  0.,  0.,  0.,  0.,  0.,  0.,  0.,  0.,  0.,\n",
      "         0.,  0.,  0.,  0.,  0.,  0.,  0.,  0.,  0.,  0.,  0.,  0.,  0.,  0.,\n",
      "         0.,  0.,  0.,  0.,  0.,  0.,  0.,  0., -1.,  0., -1.,  0.,  0.,  0.,\n",
      "         0.,  0.,  0.,  0.,  0.,  0.,  0.,  0.,  0.,  0.,  0.,  0.,  0.,  0.,\n",
      "         0.,  0.,  0.,  0.,  0.,  0.,  0.,  0.,  0., -1.,  0.,  0.,  0.,  0.,\n",
      "         0.,  0.,  0.,  0.,  0.,  0.,  0.,  0.,  0.,  0.,  0.,  0.,  0.,  0.,\n",
      "         0., -1.,  0.,  0.,  0.,  0.,  0.,  0.,  0.,  0.,  0.,  0.,  0.,  0.,\n",
      "         0.,  0.,  0.,  0.,  0.,  0.,  0.,  0.,  0.,  0.,  0.,  0.,  0.,  0.,\n",
      "         0.,  0.,  0.,  0.,  0.,  0.,  0.,  0.,  0.,  0.,  0.,  0., -1.,  0.,\n",
      "         0.,  0.,  0.,  0.,  0.,  0.,  0.,  0.,  0.,  0.,  0.,  0.,  0.,  0.,\n",
      "         1.,  1.,  0.,  0.,  0.,  0.,  0.,  0.,  0.,  0.,  1.,  0.,  0.,  0.,\n",
      "         0.,  0.,  0.,  0.,  0.,  0.,  0.,  0.,  0.,  0.,  0.,  0.,  0.,  0.,\n",
      "         0.,  0.,  0.,  0., -1.,  0.,  0., -1.,  0.,  0.,  0.,  0., -1.,  0.,\n",
      "         0.,  0.,  0.,  0.,  0.,  0.,  0.,  0.,  0.,  0., -1.,  0.,  0., -1.,\n",
      "         0.,  0.,  0.,  0.,  0.,  0.,  0., -1.,  0.,  0.,  0.,  0.,  0.,  0.,\n",
      "         0., -1.,  0.,  0.,  0.,  0.,  0.,  0.,  0.,  0.,  1.,  1.,  0.,  1.,\n",
      "         0.,  0.,  1.,  0.,  0.,  0.,  1.,  1.,  0.,  1.,  0.,  0.,  0.,  0.,\n",
      "         1.,  0.,  1.,  0.,  0.,  0.,  1.,  0.,  0.,  0.,  0.,  0.,  0.,  0.,\n",
      "         0.,  0.,  0.,  0.,  0.,  0.,  0.,  0.,  0.,  0.,  0.,  0.,  0.,  0.,\n",
      "         0.,  0.,  0.,  0.,  0.,  0.,  0.,  0.,  0.,  0.,  0.,  0.,  0.,  0.,\n",
      "         0.,  0.,  0.,  0.,  0.,  0., -1., -1.,  0.,  0.,  0.,  0.,  0.,  0.,\n",
      "         0.,  0.,  0.,  0.,  0.,  0.,  0.,  0.,  0.,  0.,  0.,  0.])\n",
      "mnet total line count difference:  tensor(28.)\n",
      "21\n"
     ]
    },
    {
     "data": {
      "image/png": "[encoded data removed]",
      "text/plain": [
       "<Figure size 360x360 with 1 Axes>"
      ]
     },
     "metadata": {
      "needs_background": "light"
     },
     "output_type": "display_data"
    },
    {
     "name": "stdout",
     "output_type": "stream",
     "text": [
      "direct input difference:  tensor([[[[ 0.0356,  0.0260,  0.0249,  ..., -0.0260, -0.0001,  0.0069],\n",
      "          [-0.0064, -0.0033, -0.0401,  ...,  0.0158,  0.0057, -0.0134],\n",
      "          [-0.0100, -0.0240, -0.0117,  ..., -0.0177, -0.0025, -0.0231],\n",
      "          ...,\n",
      "          [ 0.0131,  0.0405,  0.0247,  ...,  0.0301,  0.0012,  0.0090],\n",
      "          [-0.0100, -0.0231, -0.0025,  ..., -0.0083, -0.0117, -0.0240],\n",
      "          [-0.0064, -0.0134,  0.0057,  ..., -0.0212, -0.0401, -0.0033]],\n",
      "\n",
      "         [[-0.0073, -0.0015,  0.0269,  ..., -0.0308,  0.0221,  0.0305],\n",
      "          [-0.0212, -0.0282,  0.0024,  ..., -0.0223, -0.0182, -0.0076],\n",
      "          [-0.0024,  0.0361,  0.0260,  ..., -0.0184, -0.0637, -0.0445],\n",
      "          ...,\n",
      "          [ 0.0190,  0.0222,  0.0177,  ...,  0.0190,  0.0043,  0.0072],\n",
      "          [ 0.0024,  0.0445,  0.0637,  ...,  0.0165, -0.0260, -0.0361],\n",
      "          [ 0.0212,  0.0076,  0.0182,  ..., -0.0134, -0.0024,  0.0282]]]])\n",
      "sigmoid mnet output difference:  tensor([[-3.0565e-23, -1.4716e-16, -1.0353e-19, -6.1906e-13, -1.4494e-10,\n",
      "         -1.4155e-18, -1.8716e-05, -4.3760e-17, -1.4637e-16, -6.1431e-24,\n",
      "         -7.0991e-18, -2.4551e-19, -3.3718e-12, -3.6183e-19, -1.0493e-17,\n",
      "         -3.4587e-10, -2.0720e-19, -2.6920e-20, -3.9825e-13, -8.5720e-21,\n",
      "         -3.7702e-16, -4.2300e-27, -6.2477e-22, -3.1772e-19, -4.3698e-14,\n",
      "         -5.4602e-23, -1.8024e-17, -6.3575e-13, -7.6798e-20, -3.4139e-26,\n",
      "         -1.7761e-15, -1.1371e-17, -9.2842e-22, -3.7953e-13, -7.2898e-19,\n",
      "         -2.4224e-10, -8.9421e-18, -2.7343e-19, -5.5839e-19, -3.8810e-09,\n",
      "         -1.1454e-18, -1.5887e-24, -2.0406e-08, -3.6194e-13, -1.0464e-27,\n",
      "         -4.7550e-14, -8.7168e-22, -5.4713e-21, -4.4300e-12, -1.1937e-09,\n",
      "         -3.1404e-06, -2.9234e-18, -9.9921e-01, -1.8390e-26, -6.0745e-11,\n",
      "         -2.0003e-18, -1.1647e-16, -6.9401e-15, -1.7199e-26, -1.3671e-15,\n",
      "         -6.6287e-19, -1.3444e-15, -3.6140e-10, -8.9412e-10, -1.7803e-13,\n",
      "         -3.4216e-13, -8.7139e-08, -1.2043e-16, -1.1302e-18, -1.0426e-19,\n",
      "         -1.1345e-13, -4.6878e-20, -2.1901e-18, -1.2298e-18, -8.4792e-21,\n",
      "         -5.7191e-04, -1.1193e-11, -6.6796e-09, -4.7508e-21, -3.3233e-10,\n",
      "         -1.9075e-27, -7.7037e-21, -5.5737e-16, -3.6731e-09, -2.6696e-07,\n",
      "         -1.2682e-30, -3.4683e-19, -3.0018e-21, -1.5958e-11, -6.0161e-27,\n",
      "         -3.4885e-13, -2.5234e-19, -9.9986e-01, -6.0911e-26, -2.3443e-27,\n",
      "         -4.2896e-10, -7.1227e-11, -3.1179e-12, -5.7054e-30, -2.3799e-07,\n",
      "         -5.4448e-19, -2.2975e-24, -5.3448e-09, -2.9812e-14, -7.9908e-27,\n",
      "         -3.4695e-11, -7.1526e-07, -2.4280e-11, -4.3402e-18, -4.0434e-16,\n",
      "         -3.1947e-25, -4.1765e-15, -4.8493e-14, -8.1923e-22, -1.7569e-15,\n",
      "         -2.5253e-09, -9.9940e-01, -3.2763e-09, -2.4430e-08, -1.8794e-31,\n",
      "         -1.2506e-11, -1.4394e-25, -9.9999e-01, -4.0823e-11, -6.6384e-14,\n",
      "         -2.2205e-12, -6.0600e-24, -8.7355e-24, -4.5820e-14, -8.4021e-21,\n",
      "         -9.9223e-01, -3.2120e-29, -1.8175e-24, -1.6732e-29, -2.9822e-16,\n",
      "         -3.2371e-12, -1.6189e-21, -9.1481e-16, -1.7966e-04, -9.8016e-18,\n",
      "         -1.5596e-18, -2.1419e-11, -1.7237e-23, -3.1410e-13, -9.2364e-18,\n",
      "         -3.2490e-10, -1.8615e-11, -4.4415e-20, -2.9041e-16, -6.7949e-06,\n",
      "         -4.8226e-20, -3.4110e-06, -2.8690e-20, -1.7512e-10, -3.1075e-01,\n",
      "         -1.2040e-05, -5.9605e-07, -2.5791e-11, -1.1768e-07, -1.6260e-09,\n",
      "         -5.2342e-16, -1.3191e-13, -3.9940e-13, -3.4483e-14, -5.9327e-14,\n",
      "         -4.3069e-17, -6.4139e-14, -4.7860e-22, -1.7234e-14, -3.5013e-20,\n",
      "         -2.4358e-22, -9.5713e-08, -1.5305e-21, -1.3180e-18, -1.1060e-24,\n",
      "         -4.5966e-16, -2.2819e-15, -1.6173e-16, -2.2825e-06, -4.4541e-26,\n",
      "         -4.5270e-08, -6.7953e-11, -2.3972e-09, -6.0871e-35, -1.4928e-25,\n",
      "         -4.1399e-11, -4.1842e-04, -1.2140e-23, -1.1674e-11,  1.0768e-05,\n",
      "         -6.1875e-10, -5.8785e-22, -6.6785e-02, -1.9981e-15, -4.4210e-16,\n",
      "         -3.5897e-10, -3.6512e-02, -7.5788e-11, -4.3031e-04, -3.0106e-20,\n",
      "         -5.1444e-13, -3.1381e-02, -1.3090e-19, -2.5944e-15, -1.7301e-23,\n",
      "         -2.9068e-12, -5.2203e-19, -1.5691e-16, -9.2761e-06, -7.3082e-12,\n",
      "         -3.5658e-10,  0.0000e+00, -1.8692e-19, -4.3622e-14, -4.8491e-15,\n",
      "         -2.2399e-24, -6.3683e-17, -4.9416e-06, -7.4014e-07, -2.4068e-18,\n",
      "         -8.3969e-32,  0.0000e+00, -3.6804e-19, -2.0648e-10, -6.5597e-12,\n",
      "         -1.4428e-12,  5.5194e-02,  0.0000e+00, -1.1316e-14,  2.0134e-05,\n",
      "         -1.0185e-11, -4.3664e-13,  0.0000e+00,  0.0000e+00, -2.6110e-12,\n",
      "          1.1921e-07,  7.0200e-01,  6.8855e-04,  1.3527e-06, -1.1162e-02,\n",
      "          0.0000e+00, -1.2927e-03,  7.5933e-13,  3.5763e-07,  9.6155e-01,\n",
      "         -1.1760e-12,  2.3365e-05,  0.0000e+00,  7.1526e-07,  0.0000e+00,\n",
      "         -8.9228e-05, -1.4994e-15, -9.1486e-13, -2.0578e-10, -2.2703e-02,\n",
      "         -3.1725e-11, -6.0395e-20, -2.9967e-11, -1.9418e-28, -2.7707e-20,\n",
      "         -7.0938e-22, -4.4773e-14, -8.5724e-12, -3.9735e-12, -2.6238e-19,\n",
      "         -7.5196e-20, -1.2733e-19, -1.3123e-13, -3.8249e-21, -1.1916e-24,\n",
      "         -2.0220e-20, -1.4375e-18, -4.4690e-20, -1.5932e-08, -9.4204e-16,\n",
      "         -3.4426e-20, -2.2686e-19, -5.1745e-20, -1.1899e-06, -2.8702e-08,\n",
      "         -2.9070e-21, -6.9534e-12, -9.4859e-10, -6.4436e-22, -1.5790e-27,\n",
      "         -3.0990e-15, -2.1484e-19, -4.1948e-19, -1.0820e-21, -4.1533e-14,\n",
      "         -2.7691e-11, -4.3190e-16, -9.9876e-01, -4.6399e-02, -4.2767e-17,\n",
      "         -3.3480e-18, -5.5384e-19, -1.0722e-16, -3.9605e-19, -3.7261e-17,\n",
      "         -7.6516e-13, -4.5741e-20, -8.4377e-16, -4.9162e-13, -1.9632e-13,\n",
      "         -5.6312e-14, -2.9144e-08, -5.4535e-13, -2.8639e-09, -3.3974e-13,\n",
      "         -2.2387e-20, -5.9114e-17]], grad_fn=<SubBackward0>)\n",
      "mask difference:  tensor([ 0.,  0.,  0.,  0.,  0.,  0.,  0.,  0.,  0.,  0.,  0.,  0.,  0.,  0.,\n",
      "         0.,  0.,  0.,  0.,  0.,  0.,  0.,  0.,  0.,  0.,  0.,  0.,  0.,  0.,\n",
      "         0.,  0.,  0.,  0.,  0.,  0.,  0.,  0.,  0.,  0.,  0.,  0.,  0.,  0.,\n",
      "         0.,  0.,  0.,  0.,  0.,  0.,  0.,  0.,  0.,  0., -1.,  0.,  0.,  0.,\n",
      "         0.,  0.,  0.,  0.,  0.,  0.,  0.,  0.,  0.,  0.,  0.,  0.,  0.,  0.,\n",
      "         0.,  0.,  0.,  0.,  0.,  0.,  0.,  0.,  0.,  0.,  0.,  0.,  0.,  0.,\n",
      "         0.,  0.,  0.,  0.,  0.,  0.,  0.,  0.,  0.,  0.,  0.,  0.,  0.,  0.,\n",
      "         0.,  0.,  0.,  0.,  0.,  0.,  0.,  0.,  0.,  0.,  0.,  0.,  0.,  0.,\n",
      "         0.,  0.,  0.,  0.,  0.,  0.,  0.,  0.,  0.,  0., -1.,  0.,  0.,  0.,\n",
      "         0.,  0.,  0.,  0.,  0.,  0.,  0.,  0.,  0.,  0.,  0.,  0.,  0.,  0.,\n",
      "         0.,  0.,  0.,  0.,  0.,  0.,  0.,  0.,  0.,  0.,  0.,  0.,  0.,  0.,\n",
      "         0.,  0.,  0.,  0.,  0.,  0.,  0.,  0.,  0.,  0.,  0.,  0.,  0.,  0.,\n",
      "         0.,  0.,  0.,  0.,  0.,  0.,  0.,  0.,  0.,  0.,  0.,  0.,  0.,  0.,\n",
      "         0.,  0.,  0.,  0.,  0.,  0.,  0.,  0.,  0.,  0.,  0.,  0.,  0.,  0.,\n",
      "         0.,  0.,  0.,  0.,  0.,  0.,  0.,  0.,  0.,  0.,  0.,  0.,  0.,  0.,\n",
      "         0.,  0.,  0.,  0.,  0.,  0.,  0.,  0.,  0.,  0.,  0.,  0.,  0.,  0.,\n",
      "         0.,  0.,  0.,  0.,  0.,  0.,  0.,  0.,  0.,  0.,  0.,  0.,  0.,  1.,\n",
      "         0.,  0.,  0.,  0.,  0.,  0.,  1.,  0.,  0.,  0.,  0.,  0.,  0.,  0.,\n",
      "         1.,  0.,  0.,  0.,  0.,  0.,  0.,  0.,  0.,  0.,  0.,  0.,  0.,  0.,\n",
      "         0.,  0.,  0.,  0.,  0.,  0.,  0.,  0.,  0.,  0.,  0.,  0.,  0.,  0.,\n",
      "         0.,  0.,  0.,  0.,  0.,  0.,  0.,  0.,  0.,  0.,  0.,  0.,  0.,  0.,\n",
      "         0.,  0.,  0.,  0.,  0.,  0., -1.,  0.,  0.,  0.,  0.,  0.,  0.,  0.,\n",
      "         0.,  0.,  0.,  0.,  0.,  0.,  0.,  0.,  0.,  0.,  0.,  0.])\n",
      "mnet total line count difference:  tensor(6.)\n",
      "919\n"
     ]
    },
    {
     "data": {
      "image/png": "[encoded data removed]",
      "text/plain": [
       "<Figure size 360x360 with 1 Axes>"
      ]
     },
     "metadata": {
      "needs_background": "light"
     },
     "output_type": "display_data"
    },
    {
     "name": "stdout",
     "output_type": "stream",
     "text": [
      "direct input difference:  tensor([[[[ 0.0616,  0.0521,  0.0005,  ..., -0.0004,  0.0345,  0.0080],\n",
      "          [-0.0157, -0.0206, -0.0279,  ...,  0.0074, -0.0175, -0.0237],\n",
      "          [ 0.0104, -0.0138,  0.0070,  ...,  0.0233,  0.0219, -0.0075],\n",
      "          ...,\n",
      "          [-0.0139, -0.0115, -0.0143,  ...,  0.0282, -0.0128,  0.0047],\n",
      "          [ 0.0104, -0.0075,  0.0219,  ..., -0.0106,  0.0070, -0.0138],\n",
      "          [-0.0157, -0.0237, -0.0175,  ..., -0.0208, -0.0279, -0.0206]],\n",
      "\n",
      "         [[ 0.0034,  0.0227,  0.0107,  ..., -0.0230, -0.0003,  0.0232],\n",
      "          [-0.0054,  0.0060,  0.0267,  ..., -0.0254,  0.0075,  0.0078],\n",
      "          [ 0.0341,  0.0629,  0.0498,  ...,  0.0027, -0.0112,  0.0253],\n",
      "          ...,\n",
      "          [-0.0059,  0.0148, -0.0358,  ..., -0.0136,  0.0064,  0.0022],\n",
      "          [-0.0341, -0.0253,  0.0112,  ...,  0.0066, -0.0498, -0.0629],\n",
      "          [ 0.0054, -0.0078, -0.0075,  ..., -0.0274, -0.0267, -0.0060]]]])\n",
      "sigmoid mnet output difference:  tensor([[-1.2748e-23, -1.6447e-14, -5.0321e-14, -7.9079e-09, -4.8897e-11,\n",
      "         -8.1792e-18,  2.6137e-04, -2.9529e-17, -1.5431e-16, -3.5357e-23,\n",
      "         -2.2622e-17, -8.0355e-16, -2.9545e-08, -3.2701e-18, -8.9599e-21,\n",
      "         -5.0011e-10, -3.0855e-13, -5.3636e-17, -5.4173e-05, -1.6297e-24,\n",
      "         -5.6850e-13, -6.6844e-24, -8.4602e-21, -6.6623e-18, -9.0436e-13,\n",
      "         -1.1830e-20, -7.2571e-15, -4.5656e-14, -6.1270e-12, -1.1820e-22,\n",
      "         -6.8855e-12, -1.9372e-15, -1.8250e-27, -8.6115e-12, -2.9103e-17,\n",
      "         -6.2621e-09, -2.5561e-16, -3.4313e-16, -6.2425e-18, -1.7847e-03,\n",
      "         -2.9201e-23, -2.1428e-21, -4.9493e-04, -7.8383e-14, -1.0177e-26,\n",
      "         -9.7593e-20, -1.9412e-17, -2.2863e-19, -4.9646e-12, -1.1986e-05,\n",
      "         -9.9885e-01, -5.5574e-17, -1.0000e+00, -5.0444e-22, -5.4794e-13,\n",
      "         -1.0020e-16, -4.3389e-19, -2.3536e-09, -5.0611e-25, -6.7848e-17,\n",
      "         -5.0237e-13, -4.0596e-16, -3.3259e-11, -2.7489e-09, -1.3819e-06,\n",
      "         -1.1563e-12, -1.2376e-06, -7.8527e-14, -1.5743e-11, -3.0354e-17,\n",
      "         -8.0372e-10, -1.1650e-18, -1.5633e-15, -1.1453e-15, -2.9924e-24,\n",
      "         -5.7203e-04, -8.9209e-05, -3.0030e-10, -1.6988e-18, -3.9883e-06,\n",
      "         -1.1780e-24, -6.3864e-16, -1.1956e-17, -9.6327e-08, -2.8150e-09,\n",
      "         -2.0532e-26, -6.4917e-16, -1.6902e-20, -2.3816e-06, -7.4657e-24,\n",
      "         -1.2550e-12, -1.3921e-14, -9.9983e-01, -6.0832e-23, -4.4278e-23,\n",
      "         -4.7813e-07, -4.2747e-10, -1.6495e-05, -6.9707e-27, -4.7881e-05,\n",
      "         -6.3765e-25, -7.2145e-28, -2.0517e-09, -5.8972e-16, -4.3217e-19,\n",
      "         -2.1062e-13, -7.1526e-07, -6.6843e-12, -5.0671e-17, -1.9391e-19,\n",
      "         -1.0037e-22, -3.0112e-15, -1.5576e-16, -8.0654e-21, -3.0644e-16,\n",
      "         -1.7037e-05, -9.9986e-01, -1.0542e-06, -3.8891e-05, -1.1219e-31,\n",
      "         -2.0266e-13, -1.6166e-31, -9.9978e-01, -7.5619e-12, -1.6722e-11,\n",
      "         -1.4131e-14, -2.0255e-18, -2.0173e-19, -1.5588e-15, -3.6576e-18,\n",
      "         -9.9223e-01, -4.0586e-25, -8.6628e-28, -2.5967e-22, -3.7487e-11,\n",
      "         -1.1795e-10, -6.3266e-18, -6.5064e-15, -9.8086e-01, -2.2122e-18,\n",
      "         -6.4578e-14, -6.2020e-07, -2.4717e-18, -2.9070e-12, -1.1587e-14,\n",
      "         -4.1651e-11, -1.8168e-08, -7.8524e-21, -9.0744e-17, -6.7949e-06,\n",
      "         -9.3292e-23, -7.5353e-08, -3.3365e-19, -7.1421e-11,  6.3513e-01,\n",
      "          1.3591e-02, -2.3842e-07, -2.8941e-11, -6.1555e-13, -6.6927e-08,\n",
      "         -6.9541e-14, -1.9755e-12, -7.8975e-11, -1.9070e-15, -5.9995e-14,\n",
      "         -3.0176e-15, -1.1325e-15, -1.0004e-17, -7.4043e-14, -1.3313e-22,\n",
      "         -2.0774e-23, -7.9929e-12, -3.5246e-17, -2.0010e-15, -6.6800e-22,\n",
      "         -3.1235e-08, -1.8726e-13, -1.0632e-15, -5.5825e-05, -9.5512e-26,\n",
      "         -3.0703e-08, -2.6001e-06, -9.1143e-12, -1.4007e-30, -7.2959e-20,\n",
      "         -2.0409e-10, -9.7105e-01, -9.7250e-19, -1.4626e-05,  1.1082e-05,\n",
      "         -1.7011e-08, -1.9416e-18, -6.6785e-02, -5.2611e-21, -3.6707e-11,\n",
      "         -1.0548e-12, -3.6513e-02, -2.5995e-07, -7.4628e-03, -6.9289e-18,\n",
      "         -2.1667e-11, -1.0000e+00, -3.3128e-18, -1.0044e-16, -1.3874e-15,\n",
      "         -6.4670e-12, -2.1200e-18, -7.9421e-13, -1.4496e-07, -5.4841e-09,\n",
      "          2.1103e-12,  0.0000e+00, -6.1198e-17, -8.2310e-18, -1.2164e-15,\n",
      "         -2.2742e-27, -1.4569e-16, -9.7805e-01, -6.7501e-06, -8.7435e-19,\n",
      "         -4.5323e-31,  0.0000e+00, -1.1973e-18, -8.6887e-09, -1.8581e-14,\n",
      "          5.6089e-17,  9.9986e-01,  1.1921e-07, -2.4548e-17,  2.9679e-05,\n",
      "         -3.0874e-11, -7.9358e-13,  1.4913e-04,  0.0000e+00, -3.4034e-16,\n",
      "          4.3392e-05,  7.0371e-01,  9.7260e-01,  2.0538e-06,  9.6793e-01,\n",
      "          1.1921e-07,  4.7138e-06, -9.2914e-10,  0.0000e+00,  9.6278e-01,\n",
      "         -4.2376e-12,  9.8776e-01,  0.0000e+00,  5.9605e-07,  0.0000e+00,\n",
      "          9.8934e-01, -5.3782e-16, -5.3513e-15,  4.8885e-14, -2.2708e-02,\n",
      "         -5.4238e-10, -1.2318e-10, -1.0307e-09, -1.5659e-29, -6.8958e-17,\n",
      "         -5.9299e-21, -1.1855e-10, -1.2542e-14, -1.1290e-10, -6.8121e-14,\n",
      "         -2.4342e-24, -3.1159e-16, -3.2181e-14, -3.2106e-15, -5.8884e-22,\n",
      "         -3.1090e-18, -8.7261e-20, -1.5451e-18, -1.1489e-08, -5.8867e-15,\n",
      "         -2.4770e-15, -1.1429e-20, -1.1234e-19, -8.9368e-07, -4.2050e-06,\n",
      "         -6.8650e-16, -3.7094e-13, -2.5834e-04, -7.4581e-18, -1.0293e-20,\n",
      "         -1.7144e-16, -2.3117e-20, -1.2258e-19, -9.3266e-18, -2.2186e-16,\n",
      "         -2.8947e-08, -6.7547e-15, -1.0000e+00, -1.0000e+00, -1.4492e-16,\n",
      "         -1.4930e-21, -5.4716e-20, -1.6896e-16, -4.7763e-19, -1.5415e-14,\n",
      "         -1.6641e-14, -4.7754e-12, -1.4071e-13, -3.7952e-12, -1.9745e-12,\n",
      "         -5.1486e-10, -7.6637e-04, -1.2164e-12, -1.8845e-10, -8.8467e-12,\n",
      "         -7.7609e-19, -8.9028e-16]], grad_fn=<SubBackward0>)\n",
      "mask difference:  tensor([ 0.,  0.,  0.,  0.,  0.,  0.,  0.,  0.,  0.,  0.,  0.,  0.,  0.,  0.,\n",
      "         0.,  0.,  0.,  0.,  0.,  0.,  0.,  0.,  0.,  0.,  0.,  0.,  0.,  0.,\n",
      "         0.,  0.,  0.,  0.,  0.,  0.,  0.,  0.,  0.,  0.,  0.,  0.,  0.,  0.,\n",
      "         0.,  0.,  0.,  0.,  0.,  0.,  0.,  0., -1.,  0., -1.,  0.,  0.,  0.,\n",
      "         0.,  0.,  0.,  0.,  0.,  0.,  0.,  0.,  0.,  0.,  0.,  0.,  0.,  0.,\n",
      "         0.,  0.,  0.,  0.,  0.,  0.,  0.,  0.,  0.,  0.,  0.,  0.,  0.,  0.,\n",
      "         0.,  0.,  0.,  0.,  0.,  0.,  0.,  0.,  0.,  0.,  0.,  0.,  0.,  0.,\n",
      "         0.,  0.,  0.,  0.,  0.,  0.,  0.,  0.,  0.,  0.,  0.,  0.,  0.,  0.,\n",
      "         0.,  0.,  0.,  0.,  0.,  0.,  0.,  0.,  0.,  0., -1.,  0.,  0.,  0.,\n",
      "         0.,  0.,  0.,  0.,  0.,  0.,  0.,  0.,  0.,  0.,  0.,  0., -1.,  0.,\n",
      "         0.,  0.,  0.,  0.,  0.,  0.,  0.,  0.,  0.,  0.,  0.,  0.,  0.,  0.,\n",
      "         1.,  0.,  0.,  0.,  0.,  0.,  0.,  0.,  0.,  0.,  0.,  0.,  0.,  0.,\n",
      "         0.,  0.,  0.,  0.,  0.,  0.,  0.,  0.,  0.,  0.,  0.,  0.,  0.,  0.,\n",
      "         0.,  0.,  0.,  0.,  0.,  0.,  0.,  0.,  0.,  0.,  0.,  0., -1.,  0.,\n",
      "         0.,  0.,  0.,  0.,  0.,  0.,  0.,  0.,  0.,  0.,  0.,  0.,  0., -1.,\n",
      "         0.,  0.,  0.,  0.,  0.,  0.,  0.,  0.,  0.,  0.,  0.,  0.,  0.,  0.,\n",
      "         0., -1.,  0.,  0.,  0.,  0.,  0.,  0.,  0.,  0.,  1.,  0.,  0.,  1.,\n",
      "         0.,  0.,  0.,  0.,  0.,  0.,  1.,  1.,  0.,  1.,  0.,  0.,  0.,  0.,\n",
      "         1.,  0.,  1.,  0.,  0.,  0.,  1.,  0.,  0.,  0.,  0.,  0.,  0.,  0.,\n",
      "         0.,  0.,  0.,  0.,  0.,  0.,  0.,  0.,  0.,  0.,  0.,  0.,  0.,  0.,\n",
      "         0.,  0.,  0.,  0.,  0.,  0.,  0.,  0.,  0.,  0.,  0.,  0.,  0.,  0.,\n",
      "         0.,  0.,  0.,  0.,  0.,  0., -1., -1.,  0.,  0.,  0.,  0.,  0.,  0.,\n",
      "         0.,  0.,  0.,  0.,  0.,  0.,  0.,  0.,  0.,  0.,  0.,  0.])\n",
      "mnet total line count difference:  tensor(18.)\n"
     ]
    }
   ],
   "source": [
    "for imgind_2 in np.random.choice(imgs.shape[0],size=5,replace=False):\n",
    "# for imgind_2 in range(len(imgs)):\n",
    "# imgind_2 = 693\n",
    "    print(imgind_2)\n",
    "    img_2 = imgs[imgind_2,:,:].view(1,1,heg,wid)/torch.max(torch.abs(imgs[imgind_2,:,:]))\n",
    "    kimg_2 = F.fftshift(F.fftn(img_2,dim=(2,3),norm='ortho').to(torch.cfloat)) # kspace shifted\n",
    "\n",
    "    kimg_lf_2 = torch.zeros(1,2,heg,wid)    \n",
    "    kimg_lf_2[:,0,lfmask==1,:] = torch.real(kimg_2[:,:,lfmask==1,:])\n",
    "    kimg_lf_2[:,1,lfmask==1,:] = torch.imag(kimg_2[:,:,lfmask==1,:])\n",
    "\n",
    "    mnet_mask_2 = mnet_wrapper(mnet,kimg_lf_2,budget=int(heg*sparsity)-preselect_num,\\\n",
    "                                 imgshape=[heg,wid],normalize=True,detach=True)\n",
    "    mnet_mask_2 = torch.squeeze(mnet_mask_2)\n",
    "\n",
    "#   greedy_mask_2 = labels[imgind_2,:]    \n",
    "#   kplot(greedy_mask_2,roll=False,img_name='greedy mask 2')\n",
    "\n",
    "    slope = 1\n",
    "    if (mnet_mask_1 - mnet_mask_2).abs().sum() > 0:\n",
    "        kplot(mnet_mask_2,roll=False,img_name='mnet mask 2')\n",
    "        print('direct input difference: ',kimg_lf_1[:,:,lfmask==1,:] - kimg_lf_2[:,:,lfmask==1,:])\n",
    "        print('sigmoid mnet output difference: ',torch.sigmoid(slope * mnet(kimg_lf_1)) - torch.sigmoid(slope * mnet(kimg_lf_2)))\n",
    "        print('mask difference: ', mnet_mask_1 - mnet_mask_2) \n",
    "        print('mnet total line count difference: ', (mnet_mask_1 - mnet_mask_2).abs().sum())\n",
    "    else:\n",
    "        print('no diff')"
   ]
  },
  {
   "cell_type": "code",
   "execution_count": null,
   "id": "92a95684",
   "metadata": {
    "scrolled": false
   },
   "outputs": [],
   "source": [
    "# image reconstruction\n",
    "kimg_mn_1 = torch.zeros(1,1,heg,wid).to(torch.cfloat)   \n",
    "kimg_mn_1[:,:,mnet_mask_1==1,:] = kimg_1[:,:,mnet_mask_1==1,:]\n",
    "xifft_mn_1 = torch.abs( F.ifftn(F.ifftshift(kimg_mn_1),dim=(2,3),norm='ortho') ) # kspace shifted\n",
    "\n",
    "kimg_rd_1 = torch.zeros(1,1,heg,wid).to(torch.cfloat)   \n",
    "kimg_rd_1[:,:,rdmask==1,:] = kimg_1[:,:,rdmask==1,:]\n",
    "xifft_rd_1 = torch.abs( F.ifftn(F.ifftshift(kimg_rd_1),dim=(2,3),norm='ortho') )\n",
    "\n",
    "# kimg_gr_1 = torch.zeros(1,1,heg,wid).to(torch.cfloat)  \n",
    "# kimg_gr_1[:,:,greedy_mask_1==1,:] = kimg_1[:,:,greedy_mask_1==1,:]\n",
    "# xifft_gr_1 = torch.abs( F.ifftn(F.ifftshift(kimg_gr_1),dim=(2,3),norm='ortho') )\n",
    "\n",
    "mode = 'unet'\n",
    "# mode = 'sigpy'\n",
    "if mode == 'unet':\n",
    "    print(f'mode is {mode}')\n",
    "    xrecon_mn_1 = unet_recon(xifft_mn_1).detach()\n",
    "    xrecon_rd_1 = unet_recon(xifft_rd_1).detach()\n",
    "#     xrecon_gr_1 = unet_recon(xifft_gr_1).detach()\n",
    "    kplot(xrecon_mn_1[0,0,:,:],img_name='mnet-masked recon by unet')\n",
    "    kplot(xrecon_rd_1[0,0,:,:],img_name='random-masked recon by unet')\n",
    "#     kplot(xrecon_gr_1[0,0,:,:],img_name='greedy-masked recon by unet')\n",
    "    kplot(torch.abs(xrecon_mn_1[0,0,:,:] - img_1[0,0,:,:]),img_name='mnet-recon error')\n",
    "    kplot(torch.abs(xrecon_rd_1[0,0,:,:] - img_1[0,0,:,:]),img_name='random-recon error')\n",
    "#     kplot(torch.abs(xrecon_gr_1[0,0,:,:] - img_1[0,0,:,:]),img_name='greedy-recon error')\n",
    "    print(f'mode is {mode}')\n",
    "    print('mnet   recon psnr: ',compute_psnr(xrecon_mn_1.view(-1,320,320), img_1.view(-1,320,320)))\n",
    "    print('random recon psnr: ',compute_psnr(xrecon_rd_1.view(-1,320,320), img_1.view(-1,320,320)))\n",
    "#     print('greedy recon psnr: ',compute_psnr(xrecon_gr_1.view(-1,320,320), img_1.view(-1,320,320)))\n",
    "    print('\\n')\n",
    "    print('mnet   recon ssim: ',compute_ssim(xrecon_mn_1.view(-1,320,320), img_1.view(-1,320,320)))\n",
    "    print('random recon ssim: ',compute_ssim(xrecon_rd_1.view(-1,320,320), img_1.view(-1,320,320)))\n",
    "#     print('greedy recon ssim: ',compute_ssim(xrecon_gr_1.view(-1,320,320), img_1.view(-1,320,320)))\n",
    "    print('\\n')\n",
    "    print('mnet   recon l2 err: ',(torch.norm(xrecon_mn_1-img_1)/torch.norm(img_1)).item())\n",
    "    print('random recon l2 err: ',(torch.norm(xrecon_rd_1-img_1)/torch.norm(img_1)).item())\n",
    "#     print('greedy recon l2 err: ',(torch.norm(xrecon_gr_1-img_1)/torch.norm(img_1)).item())\n",
    "    print('\\n')\n",
    "    print('mnet   recon l1 err: ',(torch.norm(xrecon_mn_1-img_1,p=1)/torch.norm(img_1,p=1)).item())\n",
    "    print('random recon l1 err: ',(torch.norm(xrecon_rd_1-img_1,p=1)/torch.norm(img_1,p=1)).item())\n",
    "#     print('greedy recon l1 err: ',(torch.norm(xrecon_gr_1-img_1,p=1)/torch.norm(img_1,p=1)).item())\n",
    "    \n",
    "elif mode == 'sigpy':\n",
    "    print(f'mode is {mode}')\n",
    "    mps = np.ones((1,320,320))\n",
    "    Lambda = 1e-4\n",
    "    kimg_mn_1 = kimg_mn_1.view(-1,320,320).numpy()\n",
    "    xrecon_mn_1 = np.fft.ifftshift( np.abs(TotalVariationRecon(kimg_mn_1, mps, Lambda,show_pbar=False).run()) )\n",
    "    \n",
    "    kimg_rd_1 = kimg_rd_1.view(-1,320,320).numpy()\n",
    "    xrecon_rd_1 = np.fft.ifftshift( np.abs(TotalVariationRecon(kimg_rd_1, mps, Lambda,show_pbar=False).run()) )\n",
    "    \n",
    "    kimg_gr_1 = kimg_gr_1.view(-1,320,320).numpy()\n",
    "    xrecon_gr_1 = np.fft.ifftshift( np.abs(TotalVariationRecon(kimg_gr_1, mps, Lambda,show_pbar=False).run()) )\n",
    "    \n",
    "    kplot(xrecon_mn_1,img_name='mnet-masked recon by sigpy')\n",
    "    kplot(xrecon_rd_1,img_name='random-masked recon by sigpy')\n",
    "    kplot(xrecon_gr_1,img_name='greedy-masked recon by sigpy')\n",
    "    kplot(np.abs(xrecon_mn_1 - img_1[0,0,:,:].numpy()),img_name='mnet-recon error')\n",
    "    kplot(np.abs(xrecon_rd_1 - img_1[0,0,:,:].numpy()),img_name='random-recon error')\n",
    "    kplot(np.abs(xrecon_gr_1 - img_1[0,0,:,:].numpy()),img_name='greedy-recon error')\n",
    "    print(f'mode is {mode}')\n",
    "    print('mnet   recon psnr: ',compute_psnr(torch.tensor(xrecon_mn_1).view(-1,320,320), img_1.view(-1,320,320)))\n",
    "    print('random recon psnr: ',compute_psnr(torch.tensor(xrecon_rd_1).view(-1,320,320), img_1.view(-1,320,320)))\n",
    "    print('greedy recon psnr: ',compute_psnr(torch.tensor(xrecon_gr_1).view(-1,320,320), img_1.view(-1,320,320)))\n",
    "    print('\\n')\n",
    "    print('mnet   recon ssim: ',compute_ssim(torch.tensor(xrecon_mn_1).view(-1,320,320), img_1.view(-1,320,320)))\n",
    "    print('random recon ssim: ',compute_ssim(torch.tensor(xrecon_rd_1).view(-1,320,320), img_1.view(-1,320,320)))\n",
    "    print('greedy recon ssim: ',compute_ssim(torch.tensor(xrecon_gr_1).view(-1,320,320), img_1.view(-1,320,320)))\n",
    "    print('\\n')\n",
    "    print('mnet   recon l2 err: ',(torch.norm(torch.tensor(xrecon_mn_1).view(img_1.shape)-img_1)/torch.norm(img_1)).item())\n",
    "    print('random recon l2 err: ',(torch.norm(torch.tensor(xrecon_rd_1).view(img_1.shape)-img_1)/torch.norm(img_1)).item())\n",
    "    print('greedy recon l2 err: ',(torch.norm(torch.tensor(xrecon_gr_1).view(img_1.shape)-img_1)/torch.norm(img_1)).item())\n",
    "    print('\\n')\n",
    "    print('mnet   recon l1 err: ',(torch.norm(torch.tensor(xrecon_mn_1).view(img_1.shape)-img_1,p=1)/torch.norm(img_1,p=1)).item())\n",
    "    print('random recon l1 err: ',(torch.norm(torch.tensor(xrecon_rd_1).view(img_1.shape)-img_1,p=1)/torch.norm(img_1,p=1)).item())\n",
    "    print('greedy recon l1 err: ',(torch.norm(torch.tensor(xrecon_gr_1).view(img_1.shape)-img_1,p=1)/torch.norm(img_1,p=1)).item())\n",
    "    "
   ]
  },
  {
   "cell_type": "markdown",
   "id": "3a6fdb2e",
   "metadata": {},
   "source": [
    "# mnet and loupe training error check"
   ]
  },
  {
   "cell_type": "code",
   "execution_count": null,
   "id": "2e2e5b48",
   "metadata": {},
   "outputs": [],
   "source": [
    "rec = np.load('/home/huangz78/checkpoints/mnet_train_history.npz')\n",
    "print(rec.files)"
   ]
  },
  {
   "cell_type": "code",
   "execution_count": null,
   "id": "48527897",
   "metadata": {},
   "outputs": [],
   "source": [
    "wid1 = 10\n",
    "wid2 = 5\n",
    "plt.figure()\n",
    "plt.plot(rolling_mean(rec['precision_train'],wid1),label='precision')\n",
    "plt.plot(rolling_mean(rec['recall_train'],wid1),label='recall')\n",
    "plt.title('training accuracy')\n",
    "plt.legend()\n",
    "plt.show()\n",
    "\n",
    "plt.figure()\n",
    "plt.title('testing accuracy')\n",
    "plt.plot(rolling_mean(rec['precision_test'],wid2),label='precision')\n",
    "plt.plot(rolling_mean(rec['recall_test'],wid2),label='recall')\n",
    "plt.legend()\n",
    "plt.show()\n",
    "\n",
    "plt.figure()\n",
    "plt.title('train loss in cross entropy')\n",
    "plt.plot(rolling_mean(rec['loss_train'],20),label='train')\n",
    "plt.legend()\n",
    "plt.show()\n",
    "\n",
    "plt.figure()\n",
    "plt.title('test loss in cross entropy')\n",
    "plt.plot(rolling_mean(rec['loss'],8),color='orange',label='test')\n",
    "plt.legend()\n",
    "plt.show()\n"
   ]
  },
  {
   "cell_type": "code",
   "execution_count": null,
   "id": "91278dbd",
   "metadata": {},
   "outputs": [],
   "source": [
    "rec = np.load('/home/huangz78/checkpoints/loupe_history.npz')"
   ]
  },
  {
   "cell_type": "code",
   "execution_count": null,
   "id": "deb4b687",
   "metadata": {},
   "outputs": [],
   "source": [
    "loss_train = rec['loss_train']\n",
    "loss_val = rec['loss_val']\n",
    "plt.figure()\n",
    "plt.plot(loss_train)\n",
    "plt.xscale('log')\n",
    "plt.yscale('log')\n",
    "plt.title('training loss')\n",
    "plt.show()\n",
    "plt.figure()\n",
    "plt.plot(loss_val)\n",
    "plt.yscale('log')\n",
    "plt.title('validation loss')\n",
    "plt.show()"
   ]
  },
  {
   "cell_type": "code",
   "execution_count": 2,
   "id": "de7b6f95",
   "metadata": {},
   "outputs": [],
   "source": [
    "def rolling_mean(x,window):\n",
    "    window = int(window)\n",
    "#   y = np.zeros(x.size-window)\n",
    "#   for ind in range(y.size):\n",
    "#       y[ind] = np.mean(x[ind:ind+window])\n",
    "\n",
    "    # Stephen: for large data, the above gets a bit slow, so we can do this:\n",
    "#   y = np.convolve(x, np.ones(window)/window, mode='valid')\n",
    "#   return y\n",
    "    # or https://stackoverflow.com/a/27681394\n",
    "    cumsum = np.cumsum(np.insert(x, 0, 0))\n",
    "    return (cumsum[window:] - cumsum[:-window]) / float(window)"
   ]
  },
  {
   "cell_type": "code",
   "execution_count": 5,
   "id": "217dab57",
   "metadata": {},
   "outputs": [
    {
     "name": "stdout",
     "output_type": "stream",
     "text": [
      "['loss_rand', 'loss_after', 'loss_before', 'loss_val']\n",
      "(3821,)\n"
     ]
    }
   ],
   "source": [
    "rec = np.load('/home/huangz78/checkpoints/alternating_update_error_track_8fold_unet_in_chan_1.npz')\n",
    "print(rec.files)\n",
    "\n",
    "burn = 0\n",
    "loss_rand   = rec['loss_rand'][burn:]\n",
    "loss_before = rec['loss_before'][burn:]\n",
    "loss_after  = rec['loss_after'][burn:]\n",
    "\n",
    "print(loss_rand.shape)"
   ]
  },
  {
   "cell_type": "code",
   "execution_count": 4,
   "id": "23c0eaf1",
   "metadata": {},
   "outputs": [
    {
     "name": "stdout",
     "output_type": "stream",
     "text": [
      "['loss_rand', 'loss_after', 'loss_before', 'loss_val']\n"
     ]
    },
    {
     "data": {
      "image/png": "[encoded data removed]",
      "text/plain": [
       "<Figure size 720x432 with 1 Axes>"
      ]
     },
     "metadata": {
      "needs_background": "light"
     },
     "output_type": "display_data"
    },
    {
     "data": {
      "image/png": "[encoded data removed]",
      "text/plain": [
       "<Figure size 720x432 with 1 Axes>"
      ]
     },
     "metadata": {
      "needs_background": "light"
     },
     "output_type": "display_data"
    },
    {
     "data": {
      "image/png": "[encoded data removed]",
      "text/plain": [
       "<Figure size 720x432 with 1 Axes>"
      ]
     },
     "metadata": {
      "needs_background": "light"
     },
     "output_type": "display_data"
    }
   ],
   "source": [
    "rec = np.load('/home/huangz78/checkpoints/alternating_update_error_track_8fold_unet_in_chan_1.npz')\n",
    "print(rec.files)\n",
    "# loss_vals = list(rec['loss_val'])\n",
    "# loss_vals.append(0.10742834150791167)\n",
    "# print(loss_vals)\n",
    "\n",
    "figsize=(10,6)\n",
    "window = 200\n",
    "burn = 0\n",
    "loss_rand   = rec['loss_rand'][burn:]\n",
    "loss_before = rec['loss_before'][burn:]\n",
    "loss_after  = rec['loss_after'][burn:]\n",
    "\n",
    "binds = np.logical_and((loss_before!=np.inf) , np.logical_not(np.isnan(loss_before)))\n",
    "ainds = np.logical_and((loss_after !=np.inf) , np.logical_not(np.isnan(loss_after )))\n",
    "rinds = np.logical_and((loss_rand  !=np.inf) , np.logical_not(np.isnan(loss_rand  )))\n",
    "inds  = np.logical_and(np.logical_and(binds,ainds),rinds)\n",
    "\n",
    "plt.figure(figsize=figsize)\n",
    "plt.plot(rolling_mean(loss_rand[inds]  ,window), label='loss random')\n",
    "plt.plot(rolling_mean(loss_before[inds],window), label='loss mnet_pred')\n",
    "plt.plot(rolling_mean(loss_after[inds] ,window), label='loss mask_backward')\n",
    "plt.title('training mask loss')\n",
    "# plt.xscale('log')\n",
    "# plt.yscale('log')\n",
    "plt.legend(loc='best')\n",
    "plt.show()\n",
    "\n",
    "\n",
    "plt.figure(figsize=figsize)\n",
    "plt.plot(rolling_mean(loss_before[inds] - loss_rand[inds] , window), label='mnet_pred - random')\n",
    "plt.plot(rolling_mean(loss_before[inds] - loss_after[inds], window), label='mnet_pred - mask_backward')\n",
    "zero_line = np.zeros((len(loss_rand[inds])))\n",
    "plt.plot(zero_line,'--',label='zero threshold',color='r',linewidth=5)\n",
    "plt.title('training mask loss difference comparison')\n",
    "# plt.xscale('log')\n",
    "# plt.yscale('log')\n",
    "plt.legend(loc='best')\n",
    "plt.show()\n",
    "\n",
    "plt.figure(figsize=figsize)\n",
    "plt.plot(rec['loss_val'])\n",
    "plt.title('validation loss')\n",
    "# plt.xscale('log')\n",
    "plt.yscale('log')\n",
    "plt.show()"
   ]
  },
  {
   "cell_type": "markdown",
   "id": "27f899fc",
   "metadata": {},
   "source": [
    "# mnet quality check: y"
   ]
  },
  {
   "cell_type": "code",
   "execution_count": null,
   "id": "2cc438fc",
   "metadata": {
    "scrolled": true
   },
   "outputs": [],
   "source": [
    "net = MNet(beta=1,in_channels=2,out_size=320-24,\\\n",
    "                   imgsize=(320,320),poolk=3)\n",
    "checkpoint = torch.load('/home/huangz78/checkpoints/mnet.pth')\n",
    "net.load_state_dict(checkpoint['model_state_dict'])\n",
    "print('MNet loaded successfully from: ' + '/home/huangz78/checkpoints/mnet.pth')\n",
    "net.eval()\n",
    "\n",
    "imgs = torch.tensor( np.load('/home/huangz78/data/data_gt.npz')['imgdata'] ).permute(2,0,1)\n",
    "base = 24\n",
    "mask_lf,_,_ = mask_naiveRand(imgs.shape[1],fix=base,other=0,roll=True)\n",
    "\n",
    "yfulls = torch.zeros((imgs.shape[0],2,imgs.shape[1],imgs.shape[2]),dtype=torch.float)\n",
    "ys     = torch.zeros((imgs.shape[0],2,imgs.shape[1],imgs.shape[2]),dtype=torch.float)\n",
    "xs     = torch.zeros((imgs.shape[0],1,imgs.shape[1],imgs.shape[2]),dtype=torch.float)\n",
    "for ind in range(imgs.shape[0]):\n",
    "    imgs[ind,:,:] = imgs[ind,:,:]/torch.max(torch.abs(imgs[ind,:,:]))\n",
    "    y = torch.fft.fftshift(F.fftn(imgs[ind,:,:],dim=(0,1),norm='ortho'))\n",
    "    ysub = torch.zeros(y.shape,dtype=y.dtype)\n",
    "    ysub[mask_lf==1,:] = y[mask_lf==1,:]\n",
    "    xs[ind,0,:,:] = torch.abs(F.ifftn(torch.fft.ifftshift(ysub),dim=(0,1),norm='ortho')) \n",
    "\n",
    "    yfulls[ind,0,:,:] = torch.real(y)\n",
    "    yfulls[ind,1,:,:] = torch.imag(y)\n",
    "    ys[ind,:,mask_lf==1,:] = yfulls[ind,:,mask_lf==1,:]\n",
    "\n",
    "labels = torch.tensor( np.load('/home/huangz78/data/data_gt_greedymask.npz')['mask'].T ) # labels are already rolled\n",
    "\n",
    "imgNum = imgs.shape[0]\n",
    "traininds, testinds = train_test_split(np.arange(imgNum),random_state=0,shuffle=True,train_size=round(imgNum*0.8))\n",
    "test_total  = testinds.size\n",
    "\n",
    "traindata   = ys[traininds,:,:,:]\n",
    "valdata     = ys[testinds[0:test_total//2],:,:,:]\n",
    "\n",
    "trainlabels = mask_filter(labels[traininds,:],base=base)\n",
    "vallabels   = mask_filter(labels[testinds[0:test_total//2],:],base=base)"
   ]
  },
  {
   "cell_type": "code",
   "execution_count": null,
   "id": "d79ddbfa",
   "metadata": {
    "scrolled": true
   },
   "outputs": [],
   "source": [
    "imgind = 19\n",
    "testimg  = valdata[imgind,:,:,:]\n",
    "output_1 = net(testimg.view(-1,2,320,320))\n",
    "binary_1 = sigmoid_binarize(output_1)[0,:]\n",
    "greedy_1 = vallabels[imgind,:]\n",
    "\n",
    "imgind = 13\n",
    "testimg = valdata[imgind,:,:,:]\n",
    "output_2 = net(testimg.view(-1,2,320,320))\n",
    "binary_2 = sigmoid_binarize(output_2)[0,:]\n",
    "greedy_2 = vallabels[imgind,:]\n",
    "\n",
    "print(torch.sum(torch.abs(binary_1-binary_2)))\n",
    "print(output_1 - output_2)\n",
    "# sigmoid_binarize(output)[0,:]"
   ]
  },
  {
   "cell_type": "code",
   "execution_count": null,
   "id": "7855b178",
   "metadata": {},
   "outputs": [],
   "source": [
    "from utils import mask_complete"
   ]
  },
  {
   "cell_type": "code",
   "execution_count": null,
   "id": "c9eeb620",
   "metadata": {},
   "outputs": [],
   "source": [
    "mask_1 = mask_complete(binary_1.view(1,-1),320,rolled=True)\n",
    "kplot(mask_1.view(-1))\n",
    "kplot(greedy_1)"
   ]
  },
  {
   "cell_type": "markdown",
   "id": "5ba19ac7",
   "metadata": {},
   "source": [
    "# mnet quality check: x"
   ]
  },
  {
   "cell_type": "code",
   "execution_count": null,
   "id": "7a364236",
   "metadata": {},
   "outputs": [],
   "source": [
    "def mnet_weights_init(m):\n",
    "    classname = m.__class__.__name__\n",
    "    print(m)\n",
    "    if classname.find('Conv2d') != -1:\n",
    "        nn.init.normal_(m.weight.data, 0.0, 0.02)\n",
    "    elif classname.find('BatchNorm2d') != -1:\n",
    "        nn.init.normal_(m.weight.data, 1.0, 0.02)\n",
    "        nn.init.constant_(m.bias.data, 0)\n",
    "    elif classname.find('Linear') != -1:\n",
    "        nn.init.normal_(m.weight.data, 0.0, 0.02)\n",
    "        nn.init.constant_(m.bias.data, 0)"
   ]
  },
  {
   "cell_type": "code",
   "execution_count": null,
   "id": "9d7bd977",
   "metadata": {
    "scrolled": true
   },
   "outputs": [],
   "source": [
    "# generate a mnet mask as an example\n",
    "\n",
    "mnet = MNet(out_size=320-24)\n",
    "checkpoint = torch.load('/home/huangz78/checkpoints/mnet_split_trained.pth')\n",
    "mnet.load_state_dict(checkpoint['model_state_dict'])\n",
    "print('MNet loaded successfully from: ' + '/home/huangz78/checkpoints/mnet_split_trained.pth')\n",
    "\n",
    "test_dir = '/home/huangz78/data/testdata_x.npz'\n",
    "# testimg  = torch.tensor(np.load(test_dir)['x']) \n",
    "# print(testimg.shape)\n",
    "# test_sub  = test_sub[0:10,:,:]\n",
    "test_full = torch.tensor(np.load(test_dir)['xfull']) \n",
    "mask_greedy = np.load('/home/huangz78/data/data_gt_greedymask.npz')\n",
    "mask_greedy = mask_greedy['mask'].T # this greedy mask is rolled"
   ]
  },
  {
   "cell_type": "code",
   "execution_count": null,
   "id": "f22d5813",
   "metadata": {},
   "outputs": [],
   "source": [
    "reload(utils)\n",
    "from utils import mnet_wrapper"
   ]
  },
  {
   "cell_type": "code",
   "execution_count": null,
   "id": "871331a2",
   "metadata": {},
   "outputs": [],
   "source": [
    "# imgind = np.random.randint(test_full.shape[0])\n",
    "mnet.train()\n",
    "imgind1 = np.random.randint(199)\n",
    "print('current selected image is indexed: ',imgind1)\n",
    "img1 = test_full[imgind1,:,:]\n",
    "imgind2 = np.random.randint(199)\n",
    "print('current selected image is indexed: ',imgind2)\n",
    "img2 = test_full[imgind2,:,:]\n",
    "# plt.imshow(img)\n",
    "# plt.show()\n",
    "\n",
    "budget = 56\n",
    "lowfreqmask,_,_ = mask_naiveRand(img1.shape[0],fix=24,other=0,roll=True)\n",
    "# randmask,_,_ = mask_naiveRand(img.shape[0],fix=24,other=budget,roll=True)\n",
    "# kplot(randmask)\n",
    "\n",
    "yfull1 = torch.fft.fftshift(F.fftn(img1,dim=(0,1),norm='ortho')) # y is ROLLED in this line!\n",
    "yfull2 = torch.fft.fftshift(F.fftn(img2,dim=(0,1),norm='ortho')) # y is ROLLED!\n",
    "yfull  = torch.stack((yfull1,yfull2),dim=0)\n",
    "# x_lf_minus      = -x_lf.clone()\n",
    "x_lf   = get_x_f_from_yfull(lowfreqmask,yfull,DTyp=torch.cfloat)"
   ]
  },
  {
   "cell_type": "code",
   "execution_count": null,
   "id": "269518e1",
   "metadata": {},
   "outputs": [],
   "source": [
    "mnet( x_lf.view(x_lf.shape[0],1,img1.shape[0],img1.shape[1]) ).shape"
   ]
  },
  {
   "cell_type": "code",
   "execution_count": null,
   "id": "b52d8927",
   "metadata": {},
   "outputs": [],
   "source": [
    "yfull1.shape"
   ]
  },
  {
   "cell_type": "code",
   "execution_count": null,
   "id": "8912735e",
   "metadata": {},
   "outputs": [],
   "source": [
    "mnet.eval()\n",
    "mnetmask = mnet( 1e3*torch.randn(10,1,img1.shape[0],img1.shape[1]) )\n",
    "# x_lf =  1e3*torch.randn(10,img1.shape[0],img1.shape[1]) \n",
    "# highmask_raw = mnet( x_lf.view(x_lf.shape[0],1,img1.shape[0],img1.shape[1]) )\n",
    "# mnetmask = mnet_wrapper(mnet,x_lf,budget,img1.shape)\n",
    "print(mnetmask.shape)\n",
    "\n",
    "torch.sum( torch.abs( mnetmask[0,:] - mnetmask[1,:] ) )"
   ]
  },
  {
   "cell_type": "code",
   "execution_count": null,
   "id": "8cb24d4b",
   "metadata": {},
   "outputs": [],
   "source": [
    "a = torch.randn(2,2,4,5)\n",
    "b = torch.randn(2,2,4,5)\n",
    "c = a[:,0,:,:] + b[:,1,:,:]\n",
    "print(c.shape)"
   ]
  },
  {
   "cell_type": "code",
   "execution_count": null,
   "id": "4e06eabc",
   "metadata": {
    "scrolled": false
   },
   "outputs": [],
   "source": [
    "highmask_raw  = mnet( x_lf.view(x_lf.shape[0],1,img1.shape[0],img1.shape[1]) ).view(-1)  # no sigmoid \n",
    "# highmask_raw  = mnet( 1e10*torch.randn(1,1,img.shape[0],img.shape[1]) ).view(-1)  # no sigmoid \n",
    "# print('highmask_raw = ', highmask_raw)\n",
    "plt.plot(highmask_raw.detach().numpy())\n",
    "plt.show()\n",
    "mnetmask = mnet_wrapper(mnet,x_lf,budget,img.shape)\n",
    "kplot(mnetmask)\n",
    "kplot(mask_greedy[imgind,:])"
   ]
  },
  {
   "cell_type": "code",
   "execution_count": null,
   "id": "399dde60",
   "metadata": {
    "scrolled": true
   },
   "outputs": [],
   "source": [
    "print(mnet.)"
   ]
  },
  {
   "cell_type": "code",
   "execution_count": null,
   "id": "41918855",
   "metadata": {
    "scrolled": true
   },
   "outputs": [],
   "source": [
    "for param in mnet.named_parameters():\n",
    "      print(param)"
   ]
  },
  {
   "cell_type": "code",
   "execution_count": null,
   "id": "6dc375fe",
   "metadata": {},
   "outputs": [],
   "source": [
    "mnetmask_old = mnetmask.clone()\n",
    "mnetmask - mnetmask_old"
   ]
  },
  {
   "cell_type": "code",
   "execution_count": null,
   "id": "fd6ad22a",
   "metadata": {
    "scrolled": true
   },
   "outputs": [],
   "source": [
    "randqual[1:]"
   ]
  },
  {
   "cell_type": "code",
   "execution_count": null,
   "id": "50a4e7dd",
   "metadata": {},
   "outputs": [],
   "source": [
    "# show quality of mnet\n",
    "filepath = '/home/huangz78/checkpoints/alternating_update_error_track.npz'\n",
    "data_loss = np.load(filepath)\n",
    "\n",
    "print(data_loss.files)\n",
    "\n",
    "randqual   = data_loss['randqual']\n",
    "mnetqual   = data_loss['mnetqual']\n",
    "greedyqual = data_loss['greedyqual']\n",
    "randspar   = data_loss['randspar']\n",
    "mnetspar   = data_loss['mnetspar']\n",
    "\n",
    "try:\n",
    "    visualization(randqual[1:],mnetqual[1:],greedyqual=greedyqual,\\\n",
    "             randspar=randspar,mnetspar=mnetspar,greedyspar=greedyspar*np.ones(len(greedyqual)))\n",
    "except Exception:\n",
    "    visualization(randqual[1:],mnetqual[1:],randspar=randspar,mnetspar=mnetspar,log1=True)"
   ]
  }
 ],
 "metadata": {
  "kernelspec": {
   "display_name": "Python 3",
   "language": "python",
   "name": "python3"
  },
  "language_info": {
   "codemirror_mode": {
    "name": "ipython",
    "version": 3
   },
   "file_extension": ".py",
   "mimetype": "text/x-python",
   "name": "python",
   "nbconvert_exporter": "python",
   "pygments_lexer": "ipython3",
   "version": "3.7.5"
  }
 },
 "nbformat": 4,
 "nbformat_minor": 5
}
