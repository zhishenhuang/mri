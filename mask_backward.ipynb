{
 "cells": [
  {
   "cell_type": "code",
   "execution_count": 5,
   "id": "dfa76b76",
   "metadata": {},
   "outputs": [],
   "source": [
    "import numpy as np\n",
    "import argparse\n",
    "import os\n",
    "import sys\n",
    "import random\n",
    "import torch\n",
    "import torch.fft as F\n",
    "from importlib import reload\n",
    "from torch.nn.functional import relu\n",
    "import torch.nn as nn\n",
    "import torch.nn.functional as Func\n",
    "import torch.optim as optim\n",
    "import utils,mask_backward_new\n",
    "import matplotlib.pyplot as plt\n",
    "# from maskbackward import mask_backward\n",
    "from mask_backward_new import mask_backward, mask_eval\n",
    "from utils import mask_complete , mask_makebinary,kplot, mask_filter\n",
    "from utils import get_x_f_from_yfull,mask_naiveRand, apply_mask, sigmoid_binarize\n",
    "\n",
    "sys.path.insert(0,'/home/huangz78/mri/unet/')\n",
    "from unet_model import UNet\n",
    "\n",
    "torch.manual_seed(0)\n",
    "np.random.seed(0)\n",
    "random.seed(0)"
   ]
  },
  {
   "cell_type": "markdown",
   "id": "96b48107",
   "metadata": {},
   "source": [
    "#### import data to test mask_backward function"
   ]
  },
  {
   "cell_type": "code",
   "execution_count": 2,
   "id": "f8e7e8d8",
   "metadata": {},
   "outputs": [],
   "source": [
    "# data_gt = np.load('/home/huangz78/data/data_gt.npz')\n",
    "# datafornn = np.load('/home/huangz78/data/datafornn.npz')\n",
    "data = np.load('/home/huangz78/data/traindata_x.npz')\n",
    "dtyp = torch.float\n",
    "xfull = torch.tensor(data['xfull'],dtype=dtyp)\n",
    "fullmask = torch.tensor(data['mask'])"
   ]
  },
  {
   "cell_type": "code",
   "execution_count": 3,
   "id": "7f42ef74",
   "metadata": {
    "scrolled": true
   },
   "outputs": [
    {
     "name": "stdout",
     "output_type": "stream",
     "text": [
      "MNet loaded successfully from: /home/huangz78/checkpoints/mnet.pth\n",
      "Unet loaded successfully from: /home/huangz78/checkpoints/unet_1.pth\n",
      "nn's are ready\n"
     ]
    }
   ],
   "source": [
    "# load a mnet\n",
    "from mnet import MNet\n",
    "# mnet = MNet(out_size=320-24)\n",
    "mnet = MNet(beta=1,in_channels=2,out_size=320-24, imgsize=(320,320),poolk=3)\n",
    "checkpoint = torch.load('/home/huangz78/checkpoints/mnet.pth')\n",
    "mnet.load_state_dict(checkpoint['model_state_dict'])\n",
    "print('MNet loaded successfully from: ' + '/home/huangz78/checkpoints/mnet.pth')\n",
    "mnet.eval()\n",
    "# load a unet for maskbackward\n",
    "UNET =  UNet(n_channels=1,n_classes=1,bilinear=True,skip=False)\n",
    "checkpoint = torch.load('/home/huangz78/checkpoints/unet_'+ str(UNET.n_channels) +'.pth')\n",
    "UNET.load_state_dict(checkpoint['model_state_dict'])\n",
    "print('Unet loaded successfully from: ' + '/home/huangz78/checkpoints/unet_'+ str(UNET.n_channels) +'.pth' )\n",
    "UNET.train()\n",
    "print('nn\\'s are ready')"
   ]
  },
  {
   "cell_type": "code",
   "execution_count": 18,
   "id": "790022b5",
   "metadata": {},
   "outputs": [],
   "source": [
    "# reload(utils)\n",
    "# from utils import sigmoid_binarize\n",
    "reload(mask_backward_new)\n",
    "from mask_backward_new import mask_backward"
   ]
  },
  {
   "cell_type": "code",
   "execution_count": null,
   "id": "90bc1ed2",
   "metadata": {
    "scrolled": false
   },
   "outputs": [
    {
     "name": "stdout",
     "output_type": "stream",
     "text": [
      "Unet loaded successfully from: /home/huangz78/checkpoints/unet_1.pth\n",
      "nn's are ready\n",
      "iter: 1, upper level loss: 0.14010527729988098\n",
      " changed rows in this batch: 0.0, loss of current mask: 10.832851380109787%\n",
      "samp. ratio: 0.30875, Recon. rel. err: 0.13314367830753326 \n",
      "\n",
      "Iter 6, rows added: 0.4, rows reducted: 0.8\n",
      "Iter 7, rows added: 3.2, rows reducted: 0.8\n",
      "Iter 8, rows added: 9.2, rows reducted: 2.4\n",
      "Iter 9, rows added: 14.8, rows reducted: 0.4\n",
      "\n",
      "return at Iter ind:  10\n",
      "loss of returned mask: 7.964694499969482%\n",
      "samp. ratio: 0.38125, Recon. rel. err: 0.03140556439757347 \n",
      "\n",
      "Unet loaded successfully from: /home/huangz78/checkpoints/unet_1.pth\n",
      "nn's are ready\n",
      "iter: 1, upper level loss: 0.1401774138212204\n",
      " changed rows in this batch: 0.0, loss of current mask: 10.832851380109787%\n",
      "samp. ratio: 0.30875, Recon. rel. err: 0.13314367830753326 \n",
      "\n",
      "Iter 6, rows added: 0.4, rows reducted: 0.8\n",
      "Iter 7, rows added: 3.2, rows reducted: 0.8\n",
      "Iter 8, rows added: 9.2, rows reducted: 2.4\n",
      "Iter 9, rows added: 14.8, rows reducted: 0.4\n",
      "\n",
      "return at Iter ind:  10\n",
      "loss of returned mask: 7.969547808170319%\n",
      "samp. ratio: 0.38125, Recon. rel. err: 0.03138461709022522 \n",
      "\n",
      "Unet loaded successfully from: /home/huangz78/checkpoints/unet_1.pth\n",
      "nn's are ready\n",
      "iter: 1, upper level loss: 0.14038865268230438\n",
      " changed rows in this batch: 0.0, loss of current mask: 10.832851380109787%\n",
      "samp. ratio: 0.30875, Recon. rel. err: 0.13314367830753326 \n",
      "\n",
      "Iter 6, rows added: 0.4, rows reducted: 0.8\n",
      "Iter 7, rows added: 3.2, rows reducted: 0.8\n",
      "Iter 8, rows added: 9.2, rows reducted: 2.4\n",
      "Iter 9, rows added: 14.8, rows reducted: 0.4\n",
      "\n",
      "return at Iter ind:  10\n",
      "loss of returned mask: 7.980001717805862%\n",
      "samp. ratio: 0.38125, Recon. rel. err: 0.03133498504757881 \n",
      "\n",
      "Unet loaded successfully from: /home/huangz78/checkpoints/unet_1.pth\n",
      "nn's are ready\n",
      "iter: 1, upper level loss: 0.14100731909275055\n",
      " changed rows in this batch: 0.0, loss of current mask: 10.832851380109787%\n",
      "samp. ratio: 0.30875, Recon. rel. err: 0.13314367830753326 \n",
      "\n",
      "Iter 6, rows added: 0.4, rows reducted: 0.8\n",
      "Iter 7, rows added: 3.2, rows reducted: 0.8\n",
      "Iter 8, rows added: 9.0, rows reducted: 3.2\n",
      "Iter 9, rows added: 13.0, rows reducted: 0.4\n",
      "\n",
      "return at Iter ind:  10\n",
      "loss of returned mask: 8.036719262599945%\n",
      "samp. ratio: 0.3725, Recon. rel. err: 0.03162892535328865 \n",
      "\n",
      "Unet loaded successfully from: /home/huangz78/checkpoints/unet_1.pth\n",
      "nn's are ready\n",
      "iter: 1, upper level loss: 0.14281918108463287\n",
      " changed rows in this batch: 0.0, loss of current mask: 10.832851380109787%\n",
      "samp. ratio: 0.30875, Recon. rel. err: 0.13314367830753326 \n",
      "\n",
      "Iter 6, rows added: 0.4, rows reducted: 1.6\n",
      "Iter 7, rows added: 3.2, rows reducted: 0.8\n",
      "Iter 8, rows added: 6.2, rows reducted: 2.8\n",
      "Iter 9, rows added: 13.2, rows reducted: 0.4\n",
      "\n",
      "return at Iter ind:  10\n",
      "loss of returned mask: 8.110889047384262%\n",
      "samp. ratio: 0.363125, Recon. rel. err: 0.03197109326720238 \n",
      "\n",
      "Unet loaded successfully from: /home/huangz78/checkpoints/unet_1.pth\n",
      "nn's are ready\n",
      "iter: 1, upper level loss: 0.14812545478343964\n",
      " changed rows in this batch: 0.0, loss of current mask: 10.832851380109787%\n",
      "samp. ratio: 0.30875, Recon. rel. err: 0.13314367830753326 \n",
      "\n",
      "Iter 6, rows added: 0.4, rows reducted: 2.0\n",
      "Iter 7, rows added: 2.8, rows reducted: 1.4\n",
      "Iter 8, rows added: 2.0, rows reducted: 8.2\n",
      "Iter 9, rows added: 8.2, rows reducted: 0.2\n",
      "\n",
      "return at Iter ind:  10\n",
      "loss of returned mask: 8.512847125530243%\n",
      "samp. ratio: 0.31375, Recon. rel. err: 0.033702921122312546 \n",
      "\n",
      "Unet loaded successfully from: /home/huangz78/checkpoints/unet_1.pth\n",
      "nn's are ready\n",
      "iter: 1, upper level loss: 0.16366568207740784\n",
      " changed rows in this batch: 0.0, loss of current mask: 10.832851380109787%\n",
      "samp. ratio: 0.30875, Recon. rel. err: 0.13314367830753326 \n",
      "\n",
      "Iter 5, rows added: 0.0, rows reducted: 0.2\n",
      "Iter 6, rows added: 0.0, rows reducted: 5.6\n",
      "Iter 7, rows added: 0.4, rows reducted: 8.6\n",
      "Iter 8, rows added: 0.4, rows reducted: 8.8\n",
      "Iter 9, rows added: 1.8, rows reducted: 1.8\n",
      "\n",
      "return at Iter ind:  10\n",
      "loss of returned mask: 9.726911038160324%\n",
      "samp. ratio: 0.23875, Recon. rel. err: 0.0399818979203701 \n",
      "\n",
      "Unet loaded successfully from: /home/huangz78/checkpoints/unet_1.pth\n",
      "nn's are ready\n",
      "iter: 1, upper level loss: 0.20917744934558868\n",
      " changed rows in this batch: 0.0, loss of current mask: 10.832851380109787%\n",
      "samp. ratio: 0.30875, Recon. rel. err: 0.13314367830753326 \n",
      "\n",
      "No change in row selections after 7 iters, ending iteration~\n",
      "\n",
      "return at Iter ind:  6\n",
      "loss of returned mask: 8.574988692998886%\n",
      "samp. ratio: 0.30875, Recon. rel. err: 0.07155357301235199 \n",
      "\n",
      "Unet loaded successfully from: /home/huangz78/checkpoints/unet_1.pth\n",
      "nn's are ready\n",
      "iter: 1, upper level loss: 0.34246525168418884\n",
      " changed rows in this batch: 0.0, loss of current mask: 10.832851380109787%\n",
      "samp. ratio: 0.30875, Recon. rel. err: 0.13314367830753326 \n",
      "\n",
      "No change in row selections after 7 iters, ending iteration~\n",
      "\n",
      "return at Iter ind:  6\n",
      "loss of returned mask: 8.517930656671524%\n",
      "samp. ratio: 0.30875, Recon. rel. err: 0.07709711790084839 \n",
      "\n",
      "Unet loaded successfully from: /home/huangz78/checkpoints/unet_1.pth\n",
      "nn's are ready\n",
      "iter: 1, upper level loss: 0.7328179478645325\n",
      " changed rows in this batch: 0.0, loss of current mask: 10.832851380109787%\n",
      "samp. ratio: 0.30875, Recon. rel. err: 0.13314367830753326 \n",
      "\n",
      "No change in row selections after 7 iters, ending iteration~\n",
      "\n",
      "return at Iter ind:  6\n",
      "loss of returned mask: 8.54271724820137%\n",
      "samp. ratio: 0.30875, Recon. rel. err: 0.0792161077260971 \n",
      "\n",
      "Unet loaded successfully from: /home/huangz78/checkpoints/unet_1.pth\n",
      "nn's are ready\n",
      "iter: 1, upper level loss: 1.8760219812393188\n",
      " changed rows in this batch: 0.0, loss of current mask: 10.832851380109787%\n",
      "samp. ratio: 0.30875, Recon. rel. err: 0.13314367830753326 \n",
      "\n"
     ]
    }
   ],
   "source": [
    "batchsize = 5\n",
    "xstar = xfull[0:batchsize,:,:]\n",
    "\n",
    "corefreq = 24\n",
    "yfull = torch.fft.fftshift(F.fftn(xstar,dim=(1,2),norm='ortho')) # y is ROLLED!\n",
    "lowfreqmask,_,_ = mask_naiveRand(xstar.shape[1],fix=corefreq,other=0,roll=True)\n",
    "\n",
    "z        = apply_mask(lowfreqmask,yfull)\n",
    "highmask = sigmoid_binarize(mnet(z))\n",
    "# x_lf     = get_x_f_from_yfull(lowfreqmask,yfull)\n",
    "# highmask = sigmoid_binarize(mnet(x_lf.view(batchsize,1,xstar.shape[1],xstar.shape[2])))\n",
    "\n",
    "NN    = 16\n",
    "alpha_grid = 10**(np.linspace(-7,0,NN))\n",
    "maskloss = np.zeros((NN))\n",
    "sparsity = np.zeros((NN))\n",
    "########################################  \n",
    "## (1) mask_backward\n",
    "########################################    \n",
    "maxIter_mb = 10; lr_mb = 1e-2; \n",
    "budget = 56\n",
    "# alpha = 1e-5\n",
    "c = 1e-2\n",
    "ind = 0\n",
    "for alpha in alpha_grid:\n",
    "    # load a unet for maskbackward\n",
    "    UNET =  UNet(n_channels=1,n_classes=1,bilinear=True,skip=False)\n",
    "    checkpoint = torch.load('/home/huangz78/checkpoints/unet_'+ str(UNET.n_channels) +'.pth')\n",
    "    UNET.load_state_dict(checkpoint['model_state_dict'])\n",
    "    print('Unet loaded successfully from: ' + '/home/huangz78/checkpoints/unet_'+ str(UNET.n_channels) +'.pth' )\n",
    "    UNET.train()\n",
    "    print('nn\\'s are ready')\n",
    "# highmask_refined,unet = mask_backward(highmask,xstar,unet=UNET, mnet=mnet,\\\n",
    "#                   beta=1.,alpha=alpha,c=c,\\\n",
    "#                   maxIter=maxIter_mb,seed=0,break_limit=maxIter_mb*3//5,\\\n",
    "#                   lr=lr_mb,mode='UNET',budget=budget,normalize=False,\\\n",
    "#                   verbose=True,dtyp=torch.float)\n",
    "    maskloss[ind],sparsity[ind] = mask_backward(highmask,xstar,unet=UNET, mnet=mnet,\\\n",
    "                      beta=1.,alpha=alpha,c=c,\\\n",
    "                      maxIter=maxIter_mb,seed=0,break_limit=maxIter_mb*3//5,\\\n",
    "                      lr=lr_mb,mode='UNET',budget=budget,normalize=False,\\\n",
    "                      verbose=True,dtyp=torch.float,testmode=True)\n",
    "    ind += 1"
   ]
  },
  {
   "cell_type": "code",
   "execution_count": null,
   "id": "0ad6cd24",
   "metadata": {},
   "outputs": [],
   "source": [
    "plt.figure()\n",
    "plt.plot(alpha_grid,maskloss)\n",
    "plt.title('mask loss')\n",
    "plt.xscale('log')\n",
    "\n",
    "plt.figure()\n",
    "plt.plot(alpha_grid,sparsity,label='actual')\n",
    "plt.plot(alpha_grid,(corefreq+budget)/320*np.ones(alpha_grid.shape),label='target')\n",
    "plt.title('mask sparsity')\n",
    "plt.xscale('log')"
   ]
  },
  {
   "cell_type": "code",
   "execution_count": null,
   "id": "c77b24a2",
   "metadata": {},
   "outputs": [],
   "source": [
    "(highmask_refined - highmask).abs().sum()"
   ]
  },
  {
   "cell_type": "code",
   "execution_count": null,
   "id": "658f4bc0",
   "metadata": {},
   "outputs": [],
   "source": [
    "ind = 0\n",
    "highmask_refined[ind,:] - highmask[ind,:]"
   ]
  },
  {
   "cell_type": "markdown",
   "id": "926e4f4e",
   "metadata": {},
   "source": [
    "### old tests"
   ]
  },
  {
   "cell_type": "code",
   "execution_count": null,
   "id": "5591f7d8",
   "metadata": {
    "scrolled": false
   },
   "outputs": [],
   "source": [
    "data_gt = np.load('/home/huangz78/data/data_gt.npz')\n",
    "picind = np.random.randint(199)\n",
    "xstar = data_gt['imgdata'][:,:,27]\n",
    "xstar = xstar/np.max(np.abs(xstar))\n",
    "# highmask = datafornn['labels'][picind,:]\n",
    "plt.figure()\n",
    "plt.imshow(xstar)\n",
    "plt.colorbar()\n",
    "plt.show()"
   ]
  },
  {
   "cell_type": "code",
   "execution_count": null,
   "id": "020b39ec",
   "metadata": {},
   "outputs": [],
   "source": [
    "# reload(maskbackward)\n",
    "# from maskbackward import mask_backward\n",
    "\n",
    "#mode UNET:\n",
    "\n",
    "reload(mask_backward_new)\n",
    "from mask_backward_new import mask_backward,mask_eval\n",
    "\n",
    "dtyp = torch.float\n",
    "# unroll_block = 8; Lambda=6.1e-4; rho=1e1\n",
    "\n",
    "# base = .05; expand = .15\n",
    "# highmask = torch.zeros((round(320*(1-base))),dtype=torch.double)\n",
    "# highmask[np.random.choice(round(320*(1-base)),round(320*expand),replace=False)] = 1\n",
    "\n",
    "highmask = mask_filter(fullmask,base=round(320*0.05),roll=True)\n",
    "print(highmask.shape)"
   ]
  },
  {
   "cell_type": "code",
   "execution_count": null,
   "id": "c66bcb26",
   "metadata": {},
   "outputs": [],
   "source": [
    "n_channels = 1\n",
    "UNET =  UNet(n_channels=n_channels,n_classes=n_channels,bilinear=True,skip=False)\n",
    "checkpoint = torch.load('/home/huangz78/checkpoints/unet_' + str(n_channels) + '.pth')\n",
    "UNET.load_state_dict(checkpoint['model_state_dict'])\n",
    "UNET.eval()"
   ]
  },
  {
   "cell_type": "code",
   "execution_count": null,
   "id": "ab94d2e1",
   "metadata": {},
   "outputs": [],
   "source": [
    "## quick comparison between ifft recon and unet recon\n",
    "imgHeg = 320; imgWid = 320\n",
    "fullmask = torch.tensor( mask_complete(highmask,imgHeg,dtyp=torch.float) )\n",
    "kplot(fullmask)\n",
    "print('sparsity of fullmask = ',fullmask.sum().item()/imgHeg)"
   ]
  },
  {
   "cell_type": "code",
   "execution_count": null,
   "id": "30fba5e4",
   "metadata": {
    "scrolled": true
   },
   "outputs": [],
   "source": [
    "xstar = torch.tensor(xstar,dtype=dtyp)\n",
    "DTyp = torch.cfloat if dtyp==torch.float else torch.cdouble\n",
    "y = torch.fft.fftshift(F.fftn(xstar,dim=(0,1),norm='ortho'))\n",
    "z = torch.fft.ifftshift(torch.tensordot(torch.diag(fullmask).to(DTyp),y,dims=([1],[0])))\n",
    "kplot(y,roll=False,log=True)\n",
    "kplot(z,roll=True,log=True)"
   ]
  },
  {
   "cell_type": "code",
   "execution_count": null,
   "id": "6820a17c",
   "metadata": {},
   "outputs": [],
   "source": [
    "imgHeg = 320; imgWid = 320\n",
    "x_ifft = torch.abs(F.ifftn(z,dim=(0,1),norm='ortho')).to(dtyp)\n",
    "x_unet = UNET(x_ifft.view(1,1,imgHeg,imgWid)).detach()\n",
    "\n",
    "print('error of x_ifft = ', torch.norm(torch.flatten(x_ifft)-torch.flatten(xstar),'fro')/torch.norm(xstar,'fro') )\n",
    "print('error of x_unet = ', torch.norm(torch.flatten(x_unet)-torch.flatten(xstar),'fro')/torch.norm(xstar,'fro') )"
   ]
  },
  {
   "cell_type": "code",
   "execution_count": null,
   "id": "76d0a34f",
   "metadata": {},
   "outputs": [],
   "source": [
    "from sigpy.mri.app import TotalVariationRecon\n",
    "NN = 50\n",
    "Lambda_grid = 10**np.linspace(-3.5,-3,NN)\n",
    "errRec = np.zeros((NN))\n",
    "ind = 1\n",
    "\n",
    "mps  = np.ones((1,imgHeg,imgWid))\n",
    "y_sp = np.reshape(z.numpy(),(-1,imgHeg,imgWid))\n",
    "for Lambda in Lambda_grid:\n",
    "# Lambda = 10**(-6.31) \n",
    "# Lambda = 10**(-3.2755) # np.log10(Lambda_grid[np.argmin(errRec)])\n",
    "    print('{} out of {}'.format(ind,NN))\n",
    "    x_sp = np.fft.fftshift( np.abs(TotalVariationRecon(y_sp, mps, Lambda,show_pbar=False).run()) ) \n",
    "    x_sp = torch.tensor(x_sp)\n",
    "    errRec[ind-1] = torch.norm(torch.flatten(x_sp)-torch.flatten(xstar),'fro')/torch.norm(xstar,'fro')\n",
    "    ind += 1\n",
    "#     print('error of x_sp = ', torch.norm(torch.flatten(x_sp)-torch.flatten(xstar),'fro')/torch.norm(xstar,'fro'))\n",
    "\n",
    "plt.figure()\n",
    "plt.xscale('log')\n",
    "plt.plot(Lambda_grid,errRec)"
   ]
  },
  {
   "cell_type": "code",
   "execution_count": null,
   "id": "24b9b20a",
   "metadata": {
    "scrolled": true
   },
   "outputs": [],
   "source": [
    "np.linspace(-6,-4,gridnum)[8]"
   ]
  },
  {
   "cell_type": "code",
   "execution_count": null,
   "id": "35a5c9b9",
   "metadata": {
    "scrolled": true
   },
   "outputs": [],
   "source": [
    "reload(mask_backward_new)\n",
    "from mask_backward_new import mask_backward,mask_eval\n",
    "\n",
    "maxIter = 200\n",
    "gridnum = 10\n",
    "alpha_grid = 10**np.linspace(-4.6,-4.5,gridnum)\n",
    "sr_rec = np.zeros((gridnum))\n",
    "mloss_rec = np.zeros(gridnum)\n",
    "\n",
    "ind = 0\n",
    "for alpha in alpha_grid:\n",
    "    print('[{}/{}]  alpha {}'.format(ind+1,gridnum,alpha))\n",
    "    highmask_refined,refine_mloss,init_loss = mask_backward(highmask,xstar,\\\n",
    "                          beta=1., alpha=alpha,maxIter=maxIter,seed=0,break_limit=maxIter//2,\\\n",
    "                          lr=5e-4,mode='UNET',\\\n",
    "                          verbose=False,dtyp=dtyp)\n",
    "    print('Difference between masks: \\n',highmask_refined - highmask)\n",
    "#     print('Refined mask is: \\n',highmask_refined)\n",
    "    mloss_rec[ind] = refine_mloss\n",
    "    sr_rec[ind] = (torch.sum(highmask_refined).item() + 24)/320\n",
    "    ind += 1"
   ]
  },
  {
   "cell_type": "code",
   "execution_count": null,
   "id": "e8c19c58",
   "metadata": {},
   "outputs": [],
   "source": [
    "plt.figure()\n",
    "plt.scatter(alpha_grid,mloss_rec,label='refined')\n",
    "plt.scatter(alpha_grid,init_loss*np.ones(mloss_rec.shape),label='init.')\n",
    "plt.title('mask loss')\n",
    "plt.xscale('log')\n",
    "plt.legend(loc='best')\n",
    "plt.show()\n",
    "\n",
    "plt.figure()\n",
    "plt.scatter(alpha_grid,sr_rec,label='refined')\n",
    "plt.scatter(alpha_grid,0.25*np.ones(mloss_rec.shape),label='init.')\n",
    "plt.title('mask sampling ratio')\n",
    "plt.xscale('log')\n",
    "plt.legend(loc='best')\n",
    "plt.show()"
   ]
  },
  {
   "cell_type": "markdown",
   "id": "ef866205",
   "metadata": {},
   "source": [
    "### arXiv"
   ]
  },
  {
   "cell_type": "code",
   "execution_count": null,
   "id": "dc78d94a",
   "metadata": {},
   "outputs": [],
   "source": [
    "reload(mask_backward_new)\n",
    "from mask_backward_new import mask_backward\n",
    "\n",
    "# mode ADMM:\n",
    "\n",
    "highmask = torch.zeros((round(320*0.9)))\n",
    "highmask[np.random.choice(round(320*0.9),int(320*.1),replace=False)] = 1\n",
    "\n",
    "naive_mloss = mask_eval(mask_complete(highmask.to(torch.double),320),xstar,unroll_block=unroll_block,Lambda=Lambda,rho=rho) * 100\n",
    "highmask_refined,refine_mloss = mask_backward(highmask,xstar,\\\n",
    "                          beta=1., alpha=1e1,maxIter=200,unroll_block=unroll_block,seed=0,break_limit=100,\\\n",
    "                          lr=5e-4,mode='ADMM',Lambda=Lambda,rho=rho,\\\n",
    "                          verbose=True,perturb=False,perturb_freq=5,eps=1e-2)"
   ]
  },
  {
   "cell_type": "code",
   "execution_count": null,
   "id": "3855d74a",
   "metadata": {},
   "outputs": [],
   "source": [
    "# vary sampling ratio, observe RMSE for the same image.\n",
    "reload(mask_backward_new)\n",
    "from mask_backward_new import mask_backward\n",
    "\n",
    "base=0.1\n",
    "r_grid = np.array([0.1,0.15,0.2])\n",
    "naive_mloss = np.zeros((r_grid.size))\n",
    "refine_mloss = np.zeros((r_grid.size))\n",
    "\n",
    "sampRatio = np.zeros((r_grid.size))\n",
    "\n",
    "unroll_block = 6; Lambda=6.1e-4; rho=1e1; lr = 5e-2\n",
    "maxIter = 300; break_limit = round(maxIter/3)\n",
    "\n",
    "np.random.seed(0)\n",
    "\n",
    "ind = 0\n",
    "for r in r_grid:\n",
    "    print('\\n r {}, the {} item out of {}'.format(r,ind+1,r_grid.size))\n",
    "    highmask = torch.zeros((round(320*(1-base))))\n",
    "    highmask[np.random.choice(round(320*(1-base)),int(320*r),replace=False)] = 1\n",
    "    \n",
    "    naive_mloss[ind] = mask_eval(mask_complete(highmask.to(torch.double),320),xstar,unroll_block=unroll_block,Lambda=Lambda,rho=rho) * 100\n",
    "    highmask_refined,refine_mloss[ind] = mask_backward(highmask,xstar,seed=0,\\\n",
    "                              beta=1., alpha=9.5e0,maxIter=maxIter,unroll_block=unroll_block,break_limit=break_limit,\\\n",
    "                              lr=lr,mode='ADMM',Lambda=Lambda,rho=rho,\\\n",
    "                              verbose=True,perturb=False,perturb_freq=5,eps=1e-2)\n",
    "    sampRatio[ind] = (highmask_refined.sum().item() + round(320*0.1))/320\n",
    "    ind += 1"
   ]
  },
  {
   "cell_type": "code",
   "execution_count": null,
   "id": "465d2fea",
   "metadata": {
    "scrolled": true
   },
   "outputs": [],
   "source": [
    "print('sampRatio: ',sampRatio)\n",
    "plt.figure()\n",
    "plt.scatter(r_grid,naive_mloss,label='naive')\n",
    "plt.scatter(sampRatio,refine_mloss,label='refined')\n",
    "plt.legend(bbox_to_anchor=(1.04,0.5), loc=\"center left\")"
   ]
  },
  {
   "cell_type": "code",
   "execution_count": null,
   "id": "b28afa9d",
   "metadata": {
    "scrolled": true
   },
   "outputs": [],
   "source": [
    "## find a good alpha for l1 penalty\n",
    "reload(mask_backward_new); reload(utils);\n",
    "from mask_backward_new import mask_backward\n",
    "alpha_grid = np.linspace(1,10,10)\n",
    "sparsity_ = np.zeros(alpha_grid.size)\n",
    "change_count = np.zeros(alpha_grid.size)\n",
    "\n",
    "unroll_block = 6; Lambda=6.1e-4; rho=1e1; lr = 5e-2\n",
    "maxIter = 300; break_limit = round(maxIter/2)\n",
    "# add samp. ratio. = .1 ---> best alpha = ?\n",
    "# add samp. ratio. = .2 ---> best alpha = ?\n",
    "# add samp. ratio. = .2 ---> best alpha = ?\n",
    "\n",
    "base = 0.05\n",
    "additional = 0.125\n",
    "\n",
    "highmask = torch.zeros((round(320*(1-base))))\n",
    "highmask[np.random.choice(round(320*(1-base)),round(320*additional),replace=False)] = 1\n",
    "\n",
    "ind = 0\n",
    "for alpha in alpha_grid:\n",
    "    print('\\n\\talpha = {}'.format(alpha))\n",
    "    highmask_refined,_ = mask_backward(highmask,xstar,\\\n",
    "                  beta=1, alpha=alpha,maxIter=maxIter,unroll_block=unroll_block,seed=0,break_limit=break_limit,\\\n",
    "                  lr=lr,mode='ADMM',Lambda=Lambda,rho=rho,\\\n",
    "                  perturb=False,perturb_freq=10,verbose=True)\n",
    "    sparsity_[ind] = mask_complete(highmask_refined.to(torch.double),320).sum().item()/320\n",
    "    change_count[ind] = torch.abs(highmask_refined - highmask).sum().item()\n",
    "    ind += 1"
   ]
  },
  {
   "cell_type": "code",
   "execution_count": null,
   "id": "f1314e87",
   "metadata": {},
   "outputs": [],
   "source": [
    "plt.figure()\n",
    "plt.scatter(alpha_grid,sparsity_,label='end')\n",
    "plt.scatter(alpha_grid,(base+additional)*np.ones(alpha_grid.size),label='start')\n",
    "plt.title('sparsity')\n",
    "# plt.xscale('log')\n",
    "plt.legend(bbox_to_anchor=(1.04,0.5), loc=\"center left\")\n",
    "\n",
    "plt.figure()\n",
    "plt.scatter(alpha_grid,change_count)\n",
    "# plt.xscale('log')\n",
    "plt.title('change count')"
   ]
  },
  {
   "cell_type": "code",
   "execution_count": null,
   "id": "94c36cf4",
   "metadata": {},
   "outputs": [],
   "source": [
    "naive_mloss = mask_eval(mask_complete(highmask,imgHeg,dtyp=dtyp),xstar,mode='UNET',UNET=UNET,dtyp=dtyp) * 100\n",
    "print('naive mask loss = ',naive_mloss)"
   ]
  }
 ],
 "metadata": {
  "kernelspec": {
   "display_name": "Python 3",
   "language": "python",
   "name": "python3"
  },
  "language_info": {
   "codemirror_mode": {
    "name": "ipython",
    "version": 3
   },
   "file_extension": ".py",
   "mimetype": "text/x-python",
   "name": "python",
   "nbconvert_exporter": "python",
   "pygments_lexer": "ipython3",
   "version": "3.7.5"
  }
 },
 "nbformat": 4,
 "nbformat_minor": 5
}
