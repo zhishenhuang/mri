{
 "cells": [
  {
   "cell_type": "code",
   "execution_count": 1,
   "id": "1b084152",
   "metadata": {},
   "outputs": [],
   "source": [
    "import numpy as np\n",
    "import argparse\n",
    "import os\n",
    "import sys\n",
    "import torch\n",
    "import torch.fft as F\n",
    "from importlib import reload\n",
    "from torch.nn.functional import relu\n",
    "import torch.nn as nn\n",
    "import torch.nn.functional as Func\n",
    "import torch.optim as optim\n",
    "import utils\n",
    "from utils import *\n",
    "\n",
    "from matplotlib import pyplot as plt\n",
    "import random\n",
    "import copy\n",
    "from sklearn.model_selection import train_test_split\n",
    "\n",
    "import skimage\n",
    "from mnet import MNet\n",
    "from loupe_env.loupe_wrap import *\n",
    "from mask_backward_v1 import mask_backward, mask_eval\n",
    "from sigpy.mri.app import TotalVariationRecon\n",
    "\n",
    "sys.path.insert(0,'/home/huangz78/mri/unet/')\n",
    "from unet_model import UNet\n",
    "\n",
    "torch.manual_seed(0)\n",
    "np.random.seed(0)\n",
    "random.seed(0)"
   ]
  },
  {
   "cell_type": "markdown",
   "id": "6ad2a692",
   "metadata": {},
   "source": [
    "# comparison between MNet and Loupe"
   ]
  },
  {
   "cell_type": "code",
   "execution_count": 2,
   "id": "8322f577",
   "metadata": {},
   "outputs": [],
   "source": [
    "dtyp = torch.float\n",
    "testxdata  = np.load('/home/huangz78/data/testdata_x.npz')\n",
    "testydata  = np.load('/home/huangz78/data/testdata_y.npz')\n",
    "testxfull = torch.tensor(testxdata['xfull'],dtype=dtyp)\n",
    "testyfull = torch.tensor(testydata['yfull'],dtype=torch.cfloat)"
   ]
  },
  {
   "cell_type": "code",
   "execution_count": null,
   "id": "69efa196",
   "metadata": {},
   "outputs": [],
   "source": [
    "# sparsity = .25\n",
    "# preselect_num = 24\n",
    "# unet_skip = True\n",
    "\n",
    "sparsity = .125\n",
    "preselect_num = 8\n",
    "unet_skip = True"
   ]
  },
  {
   "cell_type": "code",
   "execution_count": null,
   "id": "90a72c6b",
   "metadata": {},
   "outputs": [],
   "source": [
    "# load mnet\n",
    "mnet = MNet(beta=1,in_channels=2,out_size=320-preselect_num, imgsize=(320,320),poolk=3)\n",
    "# mnetpath = '/home/huangz78/checkpoints/mnet.pth'\n",
    "mnetpath = '/home/huangz78/checkpoints/mnet_split_trained_cf8_bg_32.pt'\n",
    "checkpoint = torch.load(mnetpath)\n",
    "mnet.load_state_dict(checkpoint['model_state_dict'])\n",
    "mnet.eval()\n",
    "print('MNet loaded successfully from: ' + mnetpath)\n",
    "\n",
    "unet_recon = UNet(n_channels=1,n_classes=1,bilinear=(not unet_skip),skip=unet_skip)\n",
    "unetpath = '/home/huangz78/checkpoints/unet_1_True.pth'\n",
    "checkpoint = torch.load(unetpath)\n",
    "unet_recon.load_state_dict(checkpoint['model_state_dict'])\n",
    "print('Unet loaded successfully from: ' + unetpath )\n",
    "unet_recon.eval()\n",
    "print('nn\\'s are ready')"
   ]
  },
  {
   "cell_type": "code",
   "execution_count": null,
   "id": "a38be2df",
   "metadata": {},
   "outputs": [],
   "source": [
    "def mnet_eval(mnet,unet,testdata,preselect_num,sparsity,\\\n",
    "             batchsize=5,mode='unet',\\\n",
    "             Lambda=1e-4,\\\n",
    "             normalize=False):\n",
    "    \n",
    "    # prepare test data for mnet input\n",
    "    nimgs = testdata.shape[0]; heg = testdata.shape[1]; wid = testdata.shape[2]\n",
    "    \n",
    "    data = torch.zeros(nimgs,2,heg,wid)    \n",
    "    lf_mask = mask_naiveRand(heg,fix=preselect_num,other=0,roll=False)\n",
    "    data[:,0,lf_mask==1,:] = torch.real(testdata[:,lf_mask==1,:])\n",
    "    data[:,1,lf_mask==1,:] = torch.imag(testdata[:,lf_mask==1,:])\n",
    "    \n",
    "    pred_mnet = torch.zeros((nimgs,heg))\n",
    "    batchnums = int(np.ceil(nimgs/batchsize))\n",
    "    batchind = 0\n",
    "    while batchind < batchnums:\n",
    "        batch = np.arange(batchsize*batchind, min(batchsize*(batchind+1),nimgs))\n",
    "        databatch = data[batch]\n",
    "        preds = mnet_wrapper(mnet,databatch,budget=int(heg*sparsity)-preselect_num,\\\n",
    "                             imgshape=[heg,wid],normalize=True,detach=True)\n",
    "        pred_mnet[batch] = F.ifftshift(preds,dim=1)\n",
    "        batchind += 1\n",
    "    \n",
    "    observed_kspace = torch.zeros_like(testdata)\n",
    "    for ind in range(len(data)):\n",
    "        observed_kspace[ind,pred_mnet[ind,:]==1,:] = testdata[ind,pred_mnet[ind,:]==1,:]\n",
    "    imgs_recon = torch.zeros(testdata.shape)\n",
    "    \n",
    "    if mode == 'unet':\n",
    "        input_unet = F.ifftn(observed_kspace,dim=(1,2),norm='ortho').abs().view(nimgs,1,heg,wid)\n",
    "        batchind = 0\n",
    "        while batchind < batchnums:\n",
    "            batch = np.arange(batchsize*batchind, min(batchsize*(batchind+1),nimgs))\n",
    "            databatch = input_unet[batch]\n",
    "            if not normalize:\n",
    "                imgs_recon[batch] = torch.squeeze(unet(databatch).detach())\n",
    "            else:\n",
    "                recon_batch = unet(databatch).detach()\n",
    "                for ind in range(len(recon_batch)):\n",
    "                    recon_batch[ind] = recon_batch[ind]/torch.max(torch.abs(torch.flatten(recon_batch[ind])))\n",
    "                imgs_recon[batch] = torch.squeeze(recon_batch)\n",
    "            batchind += 1\n",
    "    elif mode == 'sigpy':\n",
    "        mps = np.ones((1,heg,wid))\n",
    "        for ind in range(len(observed_kspace)):\n",
    "            y_tmp = observed_kspace[ind,:,:].view(-1,heg,wid).numpy()\n",
    "            imgs_recon[ind,:,:] = torch.tensor(\\\n",
    "                       np.fft.ifftshift(np.abs(TotalVariationRecon(y_tmp, mps, Lambda,show_pbar=False).run())) )\n",
    "\n",
    "    ssim = compute_ssim(imgs_recon,testdata)\n",
    "    psnr = compute_psnr(imgs_recon,testdata)\n",
    "    hfen = np.zeros((nimgs))\n",
    "    for ind in range(nimgs):\n",
    "        hfen[ind] = compute_hfen(imgs_recon[ind,:,:].to(torch.cfloat),testdata[ind,:,:].to(torch.cfloat))\n",
    "    rmse = np.zeros((nimgs))\n",
    "    for ind in range(nimgs):\n",
    "        rmse[ind] = torch.norm(imgs_recon[ind,:,:] - testdata[ind,:,:],2)/torch.norm(testdata[ind,:,:],2)\n",
    "    \n",
    "    return ssim,psnr,hfen,rmse"
   ]
  },
  {
   "cell_type": "code",
   "execution_count": null,
   "id": "b4d011f0",
   "metadata": {
    "scrolled": false
   },
   "outputs": [],
   "source": [
    "mnet_test_mode = 'sigpy'\n",
    "ssim_mnet,psnr_mnet,hfen_mnet,rmse_mnet = mnet_eval(mnet,unet_recon,testyfull,preselect_num=24,sparsity=.25,\\\n",
    "                               batchsize=5,mode=mnet_test_mode,normalize=False)"
   ]
  },
  {
   "cell_type": "code",
   "execution_count": null,
   "id": "409b8034",
   "metadata": {},
   "outputs": [],
   "source": [
    "print('mnet test mode: ',mnet_test_mode)\n",
    "print('ssim mnet: ',np.mean(ssim_mnet))\n",
    "print('psnr mnet: ',np.mean(psnr_mnet))\n",
    "print('hfen mnet: ',np.mean(hfen_mnet))\n",
    "print('rmse mnet: ',np.mean(rmse_mnet))"
   ]
  },
  {
   "cell_type": "code",
   "execution_count": null,
   "id": "980516a8",
   "metadata": {},
   "outputs": [],
   "source": [
    "# load unet\n",
    "unet_skip = False\n",
    "UNET = UNet(n_channels=1,n_classes=1,bilinear=(not unet_skip),skip=unet_skip)\n",
    "# load loupe model\n",
    "loupepath = '/home/huangz78/checkpoints/loupe_skipTrue.pt'\n",
    "loupe = LOUPE(n_channels=1,unet_skip=True,shape=[320,320],slope=5,sparsity=sparsity,\\\n",
    "                  preselect=True,preselect_num=preselect_num,\\\n",
    "                  sampler=None,unet=UNET)"
   ]
  },
  {
   "cell_type": "code",
   "execution_count": null,
   "id": "2825025b",
   "metadata": {},
   "outputs": [],
   "source": [
    "def loupe_eval(loupe,testdata,preselect_num,sparsity,\\\n",
    "               batchsize=5,mode='unet',\\\n",
    "               Lambda=1e-4):\n",
    "    loupe.eval()\n",
    "    if preselect_num > 0:\n",
    "        assert loupe.preselect\n",
    "        assert loupe.preselect_num == preselect_num\n",
    "    # prepare test data for mnet input\n",
    "    nimgs = testdata.shape[0]; heg = testdata.shape[1]; wid = testdata.shape[2]    \n",
    "    data = torch.reshape(testdata,(nimgs,1,heg,wid))\n",
    "    \n",
    "    pred_loupe = torch.zeros((nimgs,heg,wid)) \n",
    "    batchnums = int(np.ceil(nimgs/batchsize))\n",
    "    batchind = 0    \n",
    "    if mode == 'unet':           \n",
    "        while batchind < batchnums:\n",
    "            batch = np.arange(batchsize*batchind, min(batchsize*(batchind+1),nimgs))\n",
    "            databatch = data[batch]\n",
    "            preds,_ = loupe(databatch)\n",
    "            pred_loupe[batch] = torch.squeeze( preds.detach() )\n",
    "            batchind += 1\n",
    "    elif mode == 'sigpy':\n",
    "        masks_loupe = torch.zeros((batchnums,heg))\n",
    "        while batchind < batchnums:\n",
    "            batch = np.arange(batchsize*batchind, min(batchsize*(batchind+1),nimgs))\n",
    "            databatch = data[batch]\n",
    "            _,mask = loupe.samplers[0](databatch,sparsity)\n",
    "\n",
    "            mask = torch.squeeze(mask.detach())\n",
    "            masks_loupe[batchind,:] = mask\n",
    "            observed_kspace = torch.zeros_like(databatch)\n",
    "            imgs_recon = torch.zeros((len(databatch),heg,wid))\n",
    "            observed_kspace[:,:,mask==1,:] = databatch[:,:,mask==1,:]\n",
    "            \n",
    "            mps = np.ones((1,heg,wid))\n",
    "            for ind in range(len(observed_kspace)):\n",
    "                y_tmp = observed_kspace[ind,0,:,:].view(-1,heg,wid).numpy()\n",
    "                imgs_recon[ind,:,:] = torch.tensor(\\\n",
    "                           np.fft.ifftshift(np.abs(TotalVariationRecon(y_tmp, mps, Lambda,show_pbar=False).run())) )\n",
    "            pred_loupe[batch] = imgs_recon\n",
    "            batchind += 1\n",
    "        \n",
    "    ssim = compute_ssim(pred_loupe,testdata)\n",
    "    psnr = compute_psnr(pred_loupe,testdata)\n",
    "    hfen = np.zeros((nimgs))\n",
    "    for ind in range(nimgs):\n",
    "        hfen[ind] = compute_hfen(pred_loupe[ind,:,:].to(torch.cfloat),testdata[ind,:,:].to(torch.cfloat))\n",
    "    rmse = np.zeros((nimgs))\n",
    "    for ind in range(nimgs):\n",
    "        rmse[ind] = torch.norm(pred_loupe[ind,:,:] - testdata[ind,:,:],2)/torch.norm(testdata[ind,:,:],2)\n",
    "    \n",
    "    return ssim,psnr,hfen,rmse"
   ]
  },
  {
   "cell_type": "code",
   "execution_count": null,
   "id": "c0e84689",
   "metadata": {},
   "outputs": [],
   "source": [
    "loupe_test_mode = 'unet'\n",
    "ssim_loupe,psnr_loupe,hfen_loupe,rmse_loupe = loupe_eval(loupe,testyfull,preselect_num=24,sparsity=.25,\\\n",
    "                               batchsize=5,mode=loupe_test_mode)"
   ]
  },
  {
   "cell_type": "code",
   "execution_count": null,
   "id": "6c38a0ea",
   "metadata": {},
   "outputs": [],
   "source": [
    "print('mnet test mode: ',mnet_test_mode)\n",
    "print('ssim loupe: ',np.mean(ssim_loupe))\n",
    "print('psnr loupe: ',np.mean(psnr_loupe))\n",
    "print('hfen loupe: ',np.mean(hfen_loupe))\n",
    "print('rmse loupe: ',np.mean(rmse_loupe))"
   ]
  },
  {
   "cell_type": "markdown",
   "id": "d7f4702b",
   "metadata": {},
   "source": [
    "# main demo: show masks and triviality check"
   ]
  },
  {
   "cell_type": "code",
   "execution_count": 3,
   "id": "dc3fd47f",
   "metadata": {},
   "outputs": [
    {
     "name": "stdout",
     "output_type": "stream",
     "text": [
      "budget is 32\n"
     ]
    }
   ],
   "source": [
    "heg = 320\n",
    "wid = 320\n",
    "sparsity = .125\n",
    "preselect_num = 8 #24\n",
    "budget = int(heg * sparsity - preselect_num)\n",
    "unet_skip = True\n",
    "print(f'budget is {budget}')"
   ]
  },
  {
   "cell_type": "code",
   "execution_count": null,
   "id": "912e1fb2",
   "metadata": {},
   "outputs": [],
   "source": [
    "def mnet_weights_init(m):\n",
    "    classname = m.__class__.__name__\n",
    "    print(m)\n",
    "    if classname.find('Conv2d') != -1:\n",
    "        nn.init.normal_(m.weight.data, 0.0, 0.02)\n",
    "    elif classname.find('BatchNorm2d') != -1:\n",
    "        nn.init.normal_(m.weight.data, 1.0, 0.02)\n",
    "        nn.init.constant_(m.bias.data, 0)\n",
    "    elif classname.find('Linear') != -1:\n",
    "        nn.init.normal_(m.weight.data, 0.0, 0.02)\n",
    "        nn.init.constant_(m.bias.data, 0)"
   ]
  },
  {
   "cell_type": "code",
   "execution_count": 4,
   "id": "2e3115bd",
   "metadata": {},
   "outputs": [
    {
     "name": "stdout",
     "output_type": "stream",
     "text": [
      "MNet loaded successfully from: /home/huangz78/checkpoints/mnet_split_trained_cf8_bg_32.pt\n",
      "Unet loaded successfully from: /home/huangz78/checkpoints/unet_split_trained_cf8_bg_32.pt\n",
      "nn's are ready\n"
     ]
    }
   ],
   "source": [
    "# load mnet\n",
    "mnet = MNet(beta=1,in_channels=2,out_size=320-preselect_num, imgsize=(320,320),poolk=3)\n",
    "# mnetpath = '/home/huangz78/checkpoints/mnet.pth'\n",
    "mnetpath = '/home/huangz78/checkpoints/mnet_split_trained_cf8_bg_32.pt'\n",
    "checkpoint = torch.load(mnetpath)\n",
    "mnet.load_state_dict(checkpoint['model_state_dict'])\n",
    "# mnet.apply(mnet_weights_init)\n",
    "mnet.eval()\n",
    "print('MNet loaded successfully from: ' + mnetpath)\n",
    "\n",
    "unet_recon = UNet(n_channels=1,n_classes=1,bilinear=(not unet_skip),skip=unet_skip)\n",
    "unetpath = '/home/huangz78/checkpoints/unet_split_trained_cf8_bg_32.pt'\n",
    "# unetpath = '/home/huangz78/checkpoints/unet_1_True.pth'\n",
    "checkpoint = torch.load(unetpath)\n",
    "unet_recon.load_state_dict(checkpoint['model_state_dict'])\n",
    "print('Unet loaded successfully from: ' + unetpath )\n",
    "unet_recon.eval()\n",
    "print('nn\\'s are ready')"
   ]
  },
  {
   "cell_type": "code",
   "execution_count": null,
   "id": "b85e3d23",
   "metadata": {},
   "outputs": [],
   "source": [
    "imgind = 126\n",
    "kimg = testyfull[imgind].view(1,1,heg,heg)\n",
    "\n",
    "_,loupe_mask = loupe.samplers[0](kimg,sparsity)\n",
    "loupe_mask = torch.squeeze(loupe_mask.detach())\n",
    "kplot(loupe_mask,roll=True)"
   ]
  },
  {
   "cell_type": "code",
   "execution_count": 5,
   "id": "ecedd53e",
   "metadata": {},
   "outputs": [],
   "source": [
    "# load data\n",
    "imgs = torch.tensor( np.load('/home/huangz78/data/data_gt.npz')['imgdata'] ).permute(2,0,1)\n",
    "labels = torch.tensor( np.load('/home/huangz78/data/data_gt_greedymask.npz')['mask'].T ) # labels are already rolled"
   ]
  },
  {
   "cell_type": "code",
   "execution_count": 9,
   "id": "9aaf36ec",
   "metadata": {},
   "outputs": [
    {
     "data": {
      "image/png": "[encoded data removed]",
      "text/plain": [
       "<Figure size 360x360 with 1 Axes>"
      ]
     },
     "metadata": {
      "needs_background": "light"
     },
     "output_type": "display_data"
    },
    {
     "name": "stdout",
     "output_type": "stream",
     "text": [
      "quality of mnet mask for image 1:  0.17455160420063562\n"
     ]
    },
    {
     "data": {
      "image/png": "[encoded data removed]",
      "text/plain": [
       "<Figure size 360x360 with 1 Axes>"
      ]
     },
     "metadata": {
      "needs_background": "light"
     },
     "output_type": "display_data"
    },
    {
     "name": "stdout",
     "output_type": "stream",
     "text": [
      "quality of greedy mask for image 1:  0.1261505494631635\n"
     ]
    }
   ],
   "source": [
    "imgind_1 = 89\n",
    "img_1 = imgs[imgind_1,:,:].view(1,1,heg,wid)/torch.max(torch.abs(imgs[imgind_1,:,:]))\n",
    "kimg_1 = F.fftshift(F.fftn(img_1,dim=(2,3),norm='ortho').to(torch.cfloat)) # kspace shifted\n",
    "lfmask,_,_ = mask_naiveRand(heg,fix=preselect_num,other=0,roll=True)\n",
    "rdmask,_,_ = mask_naiveRand(heg,fix=preselect_num,other=budget,roll=True)\n",
    "\n",
    "kimg_lf_1 = torch.zeros(1,2,heg,wid)    \n",
    "kimg_lf_1[:,0,lfmask==1,:] = torch.real(kimg_1[:,:,lfmask==1,:])\n",
    "kimg_lf_1[:,1,lfmask==1,:] = torch.imag(kimg_1[:,:,lfmask==1,:])\n",
    "\n",
    "# _,loupe_mask = loupe.samplers[0](kimg,sparsity)\n",
    "# loupe_mask = torch.squeeze(loupe_mask.detach())\n",
    "# kplot(loupe_mask,roll=True)\n",
    "\n",
    "mnet_mask_1 = mnet_wrapper(mnet,kimg_lf_1,budget=int(heg*sparsity)-preselect_num,\\\n",
    "                             imgshape=[heg,wid],normalize=True,detach=True)\n",
    "mnet_mask_1 = torch.squeeze(mnet_mask_1)\n",
    "\n",
    "greedy_mask_1 = labels[imgind_1,:]\n",
    "\n",
    "kplot(mnet_mask_1,roll=False,img_name='mnet mask 1')\n",
    "print('quality of mnet mask for image 1: ', mask_eval(mnet_mask_1.view(-1,320),img_1.view(1,heg,wid),\\\n",
    "              mode='UNET',UNET=unet_recon,dtyp=torch.float,\\\n",
    "              Lambda=10**(-4.3),hfen=False))\n",
    "\n",
    "kplot(greedy_mask_1,roll=False,img_name='greedy mask 1')\n",
    "print('quality of greedy mask for image 1: ',mask_eval(greedy_mask_1.view(-1,320),img_1.view(1,heg,wid),\\\n",
    "              mode='UNET',UNET=unet_recon,dtyp=torch.float,\\\n",
    "              Lambda=10**(-4.3),hfen=False))"
   ]
  },
  {
   "cell_type": "code",
   "execution_count": 16,
   "id": "cca3bc6a",
   "metadata": {
    "scrolled": false
   },
   "outputs": [
    {
     "data": {
      "image/png": "[encoded data removed]",
      "text/plain": [
       "<Figure size 360x360 with 1 Axes>"
      ]
     },
     "metadata": {
      "needs_background": "light"
     },
     "output_type": "display_data"
    },
    {
     "name": "stdout",
     "output_type": "stream",
     "text": [
      "direct input difference:  tensor([[[[ 0.0017, -0.0111,  0.0319,  ...,  0.0102, -0.0005,  0.0111],\n",
      "          [ 0.0252,  0.0240,  0.0247,  ...,  0.0272,  0.0335,  0.0167],\n",
      "          [-0.0170, -0.0139, -0.0126,  ..., -0.0198, -0.0033, -0.0022],\n",
      "          ...,\n",
      "          [-0.0009, -0.0099, -0.0023,  ..., -0.0143, -0.0049, -0.0097],\n",
      "          [-0.0170, -0.0022, -0.0033,  ..., -0.0054, -0.0126, -0.0139],\n",
      "          [ 0.0252,  0.0167,  0.0335,  ...,  0.0196,  0.0247,  0.0240]],\n",
      "\n",
      "         [[-0.0098, -0.0279, -0.0238,  ..., -0.0016, -0.0100, -0.0136],\n",
      "          [-0.0146, -0.0212, -0.0273,  ..., -0.0191, -0.0107, -0.0068],\n",
      "          [-0.0327, -0.0358, -0.0462,  ..., -0.0384, -0.0510, -0.0567],\n",
      "          ...,\n",
      "          [-0.0096, -0.0130, -0.0123,  ..., -0.0090, -0.0294, -0.0166],\n",
      "          [ 0.0327,  0.0567,  0.0510,  ...,  0.0433,  0.0462,  0.0358],\n",
      "          [ 0.0146,  0.0068,  0.0107,  ...,  0.0193,  0.0273,  0.0212]]]])\n",
      "sigmoid mnet output difference:  tensor([[-1.9832e-08, -3.0569e-07, -6.1693e-08, -2.0417e-06, -3.0090e-07,\n",
      "         -3.0363e-07, -7.1730e-07, -2.1001e-07, -6.2229e-06, -6.6944e-07,\n",
      "         -1.6191e-06, -1.7246e-07, -8.8944e-09, -1.1077e-06, -1.2034e-06,\n",
      "         -1.9416e-07, -2.3337e-07, -1.3646e-06, -2.2166e-08, -2.7869e-06,\n",
      "         -1.4843e-06, -3.8822e-06, -2.3922e-07, -1.1458e-06, -1.0587e-07,\n",
      "         -7.2725e-06, -1.7396e-06, -1.6548e-07, -7.2678e-09, -3.8474e-07,\n",
      "         -7.1784e-08, -4.2551e-06, -1.0433e-06, -1.2371e-07, -4.2417e-07,\n",
      "         -4.6865e-07, -1.6350e-06, -7.0921e-08, -2.2625e-07, -1.5202e-07,\n",
      "         -1.2318e-06, -1.5399e-07, -8.8941e-08, -1.2682e-06, -2.2907e-07,\n",
      "         -4.4628e-06, -8.5603e-08, -3.1909e-07, -1.0285e-06, -1.3867e-06,\n",
      "         -2.7477e-06, -5.7184e-08, -9.0113e-07, -4.1102e-05, -4.7132e-08,\n",
      "         -3.8563e-07, -3.1871e-07, -5.2726e-05, -1.1287e-07, -8.6986e-06,\n",
      "         -6.2231e-05, -4.9745e-03, -1.1830e-06, -6.1310e-07, -6.8725e-03,\n",
      "         -2.2143e-03, -4.5645e-06, -3.6092e-06, -1.1819e-02, -4.1798e-06,\n",
      "         -6.9779e-06, -3.6885e-08, -6.3405e-05, -3.6594e-07, -6.8706e-08,\n",
      "         -9.3147e-06, -2.5619e-05, -6.5385e-05, -5.0507e-08, -5.4002e-07,\n",
      "         -6.5746e-06, -1.0472e-04, -8.0517e-06, -1.9682e-03, -2.7325e-06,\n",
      "         -4.4230e-07, -8.2123e-03, -1.3136e-05, -2.4024e-06, -4.0527e-03,\n",
      "         -2.3331e-04, -3.6374e-07, -1.8096e-05, -8.6470e-06, -9.1164e-05,\n",
      "         -1.9174e-06, -1.4094e-04, -2.7411e-07, -2.6466e-06, -5.7655e-03,\n",
      "         -4.9247e-06, -1.9300e-05,  6.2139e-04, -1.2793e-05, -4.1020e-07,\n",
      "         -4.8047e-06, -2.5021e-06, -3.4657e-07, -6.1459e-03,  5.7095e-04,\n",
      "         -1.2817e-06, -6.0233e-04, -1.3357e-06, -2.0631e-06, -1.0131e-03,\n",
      "         -1.0703e-04, -2.1965e-09, -4.3664e-05, -1.5396e-03, -9.6503e-04,\n",
      "          2.2147e-03, -3.1942e-06, -5.2915e-07, -7.9219e-07,  4.2778e-04,\n",
      "         -4.2593e-05, -1.4343e-04, -8.0722e-04, -3.6030e-06, -2.1808e-06,\n",
      "         -4.5531e-07, -8.4222e-03, -4.0441e-07, -1.9847e-06, -1.4279e-04,\n",
      "         -4.5212e-05,  1.1688e-03, -1.3271e-05, -1.1385e-05,  4.6972e-04,\n",
      "         -9.1425e-06,  8.9447e-03, -2.2394e-06,  7.7140e-04,  3.3542e-03,\n",
      "         -2.4228e-07,  3.0995e-03,  5.7561e-03,  3.0792e-04, -6.0543e-05,\n",
      "          2.1017e-03, -1.7838e-03,  7.1759e-03,  5.3490e-05, -1.4622e-04,\n",
      "          8.7619e-06,  1.2793e-03,  3.3783e-03,  2.4402e-03,  1.1485e-03,\n",
      "          6.4649e-03,  6.0085e-04, -9.6184e-06,  3.4167e-03,  6.2798e-03,\n",
      "          1.4744e-03, -8.9319e-05,  4.9239e-03, -2.2226e-04, -8.8341e-05,\n",
      "          4.6611e-05, -4.8511e-05,  1.8523e-03, -8.6707e-04,  5.2146e-03,\n",
      "         -5.7001e-05, -7.4880e-04,  1.4840e-03, -1.7048e-05, -5.1816e-06,\n",
      "          6.6429e-04, -7.4587e-06, -3.2446e-07, -1.4084e-04,  6.1053e-04,\n",
      "         -6.4868e-05, -1.5079e-08, -1.8529e-04, -5.2420e-08,  9.1791e-05,\n",
      "         -3.2505e-08, -4.8725e-03, -1.0470e-09,  2.5125e-06, -2.0317e-06,\n",
      "          3.2732e-05, -2.7125e-03, -7.5046e-08, -8.9125e-07, -3.9271e-04,\n",
      "          2.8127e-04, -1.3802e-06, -2.4526e-07, -1.4890e-07, -7.7914e-05,\n",
      "         -3.6539e-04,  1.9294e-04, -2.1563e-05, -1.0557e-05, -6.0587e-06,\n",
      "         -8.3756e-06, -4.7682e-05, -2.2481e-07, -3.6279e-07, -1.0454e-04,\n",
      "         -2.9317e-06, -2.7276e-06,  1.1125e-05, -1.1457e-04, -4.2280e-08,\n",
      "         -1.4878e-05, -1.2800e-06, -2.6580e-06, -6.6190e-07, -7.2635e-06,\n",
      "         -9.7894e-06, -1.1480e-05, -1.0166e-03, -2.0908e-07, -2.7514e-07,\n",
      "         -2.0274e-06, -3.2452e-06, -2.0574e-06, -1.2003e-05, -1.2561e-07,\n",
      "         -2.0111e-07, -8.6664e-06, -3.2438e-07, -1.0803e-05, -1.7423e-06,\n",
      "         -3.3164e-05, -7.8986e-03, -5.0622e-03, -4.7157e-05, -8.2005e-06,\n",
      "         -3.0654e-07, -6.1600e-03, -4.5982e-06, -1.0414e-05, -8.7647e-05,\n",
      "         -5.9387e-08, -5.7790e-06, -7.0684e-07, -1.0346e-02, -1.0697e-07,\n",
      "         -2.7529e-06, -5.9403e-06, -1.1549e-06, -2.7744e-07, -1.3758e-06,\n",
      "         -2.3649e-07, -3.5222e-07, -7.6994e-07, -1.2097e-07, -2.1446e-05,\n",
      "         -7.0212e-03, -3.3711e-06, -4.8328e-07, -1.4994e-06, -6.2102e-07,\n",
      "         -4.9658e-07, -5.9935e-08, -2.7749e-05, -1.7662e-07, -1.5817e-04,\n",
      "         -2.4042e-08, -4.5006e-08, -7.6237e-07, -6.1627e-07, -9.8426e-08,\n",
      "         -4.7014e-08, -9.5905e-07, -5.0619e-07, -1.3518e-06, -4.0036e-06,\n",
      "         -5.9830e-07, -6.6292e-08, -1.3048e-07, -6.1543e-07, -4.7327e-08,\n",
      "         -6.0671e-07, -5.3309e-07, -2.4655e-07, -3.5017e-07, -9.4632e-07,\n",
      "         -6.7177e-07, -6.3785e-06, -1.7206e-07, -7.1179e-07, -2.1314e-07,\n",
      "         -2.2256e-07, -3.1752e-08, -3.4897e-08, -2.5157e-07, -4.9519e-08,\n",
      "         -1.9681e-09, -7.1292e-07, -8.0299e-08, -1.7576e-06, -1.1030e-07,\n",
      "         -2.4722e-09, -2.7830e-09]], grad_fn=<SubBackward0>)\n",
      "mask difference:  tensor([0., 0., 0., 0., 0., 0., 0., 0., 0., 0., 0., 0., 0., 0., 0., 0., 0., 0., 0., 0., 0., 0., 0., 0.,\n",
      "        0., 0., 0., 0., 0., 0., 0., 0., 0., 0., 0., 0., 0., 0., 0., 0., 0., 0., 0., 0., 0., 0., 0., 0.,\n",
      "        0., 0., 0., 0., 0., 0., 0., 0., 0., 0., 0., 0., 0., 0., 0., 0., 0., 0., 0., 0., 0., 0., 0., 0.,\n",
      "        0., 0., 0., 0., 0., 0., 0., 0., 0., 0., 0., 0., 0., 0., 0., 0., 0., 0., 0., 0., 0., 0., 0., 0.,\n",
      "        0., 0., 0., 0., 0., 0., 0., 0., 0., 0., 0., 0., 0., 0., 0., 0., 0., 0., 0., 0., 0., 0., 0., 0.,\n",
      "        0., 0., 0., 0., 0., 0., 0., 0., 0., 0., 0., 0., 0., 0., 0., 0., 0., 0., 0., 0., 0., 0., 0., 0.,\n",
      "        0., 0., 0., 0., 0., 0., 0., 0., 0., 0., 0., 0., 0., 0., 0., 0., 0., 0., 0., 0., 0., 0., 0., 0.,\n",
      "        0., 0., 0., 0., 0., 0., 0., 0., 0., 0., 0., 0., 0., 0., 0., 0., 0., 0., 0., 0., 0., 0., 0., 0.,\n",
      "        0., 0., 0., 0., 0., 0., 0., 0., 0., 0., 0., 0., 0., 0., 0., 0., 0., 0., 0., 0., 0., 0., 0., 0.,\n",
      "        0., 0., 0., 0., 0., 0., 0., 0., 0., 0., 0., 0., 0., 0., 0., 0., 0., 0., 0., 0., 0., 0., 0., 0.,\n",
      "        0., 0., 0., 0., 0., 0., 0., 0., 0., 0., 0., 0., 0., 0., 0., 0., 0., 0., 0., 0., 0., 0., 0., 0.,\n",
      "        0., 0., 0., 0., 0., 0., 0., 0., 0., 0., 0., 0., 0., 0., 0., 0., 0., 0., 0., 0., 0., 0., 0., 0.,\n",
      "        0., 0., 0., 0., 0., 0., 0., 0., 0., 0., 0., 0., 0., 0., 0., 0., 0., 0., 0., 0., 0., 0., 0., 0.,\n",
      "        0., 0., 0., 0., 0., 0., 0., 0.])\n",
      "mnet total line count difference:  tensor(0.)\n"
     ]
    }
   ],
   "source": [
    "imgind_2 = 167\n",
    "img_2 = imgs[imgind_2,:,:].view(1,1,heg,wid)/torch.max(torch.abs(imgs[imgind_2,:,:]))\n",
    "kimg_2 = F.fftshift(F.fftn(img_2,dim=(2,3),norm='ortho').to(torch.cfloat)) # kspace shifted\n",
    "\n",
    "kimg_lf_2 = torch.zeros(1,2,heg,wid)    \n",
    "kimg_lf_2[:,0,lfmask==1,:] = torch.real(kimg_2[:,:,lfmask==1,:])\n",
    "kimg_lf_2[:,1,lfmask==1,:] = torch.imag(kimg_2[:,:,lfmask==1,:])\n",
    "\n",
    "mnet_mask_2 = mnet_wrapper(mnet,kimg_lf_2,budget=int(heg*sparsity)-preselect_num,\\\n",
    "                             imgshape=[heg,wid],normalize=True,detach=True)\n",
    "mnet_mask_2 = torch.squeeze(mnet_mask_2)\n",
    "\n",
    "greedy_mask_2 = labels[imgind_2,:]\n",
    "\n",
    "kplot(mnet_mask_2,roll=False,img_name='mnet mask 2')\n",
    "# kplot(greedy_mask_2,roll=False,img_name='greedy mask 2')\n",
    "\n",
    "slope = 1\n",
    "\n",
    "print('direct input difference: ',kimg_lf_1[:,:,lfmask==1,:] - kimg_lf_2[:,:,lfmask==1,:])\n",
    "print('sigmoid mnet output difference: ',torch.sigmoid(slope * mnet(kimg_lf_1)) - torch.sigmoid(slope * mnet(kimg_lf_2)))\n",
    "print('mask difference: ', mnet_mask_1 - mnet_mask_2) \n",
    "print('mnet total line count difference: ', (mnet_mask_1 - mnet_mask_2).abs().sum())"
   ]
  },
  {
   "cell_type": "code",
   "execution_count": null,
   "id": "1a68c17e",
   "metadata": {
    "scrolled": false
   },
   "outputs": [],
   "source": [
    "# image reconstruction\n",
    "kimg_mn_1 = torch.zeros(1,1,heg,wid).to(torch.cfloat)   \n",
    "kimg_mn_1[:,:,mnet_mask_1==1,:] = kimg_1[:,:,mnet_mask_1==1,:]\n",
    "xifft_mn_1 = torch.abs( F.ifftn(F.ifftshift(kimg_mn_1),dim=(2,3),norm='ortho') ) # kspace shifted\n",
    "\n",
    "kimg_rd_1 = torch.zeros(1,1,heg,wid).to(torch.cfloat)   \n",
    "kimg_rd_1[:,:,rdmask==1,:] = kimg_1[:,:,rdmask==1,:]\n",
    "xifft_rd_1 = torch.abs( F.ifftn(F.ifftshift(kimg_rd_1),dim=(2,3),norm='ortho') )\n",
    "\n",
    "kimg_gr_1 = torch.zeros(1,1,heg,wid).to(torch.cfloat)  \n",
    "kimg_gr_1[:,:,greedy_mask_1==1,:] = kimg_1[:,:,greedy_mask_1==1,:]\n",
    "xifft_gr_1 = torch.abs( F.ifftn(F.ifftshift(kimg_gr_1),dim=(2,3),norm='ortho') )\n",
    "\n",
    "mode = 'unet'\n",
    "# mode = 'sigpy'\n",
    "if mode == 'unet':\n",
    "    print(f'mode is {mode}')\n",
    "    xrecon_mn_1 = unet_recon(xifft_mn_1).detach()\n",
    "    xrecon_rd_1 = unet_recon(xifft_rd_1).detach()\n",
    "    xrecon_gr_1 = unet_recon(xifft_gr_1).detach()\n",
    "    kplot(xrecon_mn_1[0,0,:,:],img_name='mnet-masked recon by unet')\n",
    "    kplot(xrecon_rd_1[0,0,:,:],img_name='random-masked recon by unet')\n",
    "    kplot(xrecon_gr_1[0,0,:,:],img_name='greedy-masked recon by unet')\n",
    "    kplot(torch.abs(xrecon_mn_1[0,0,:,:] - img_1[0,0,:,:]),img_name='mnet-recon error')\n",
    "    kplot(torch.abs(xrecon_rd_1[0,0,:,:] - img_1[0,0,:,:]),img_name='random-recon error')\n",
    "    kplot(torch.abs(xrecon_gr_1[0,0,:,:] - img_1[0,0,:,:]),img_name='greedy-recon error')\n",
    "    \n",
    "    print('mnet   recon psnr: ',compute_psnr(xrecon_mn_1.view(-1,320,320), img_1.view(-1,320,320)))\n",
    "    print('random recon psnr: ',compute_psnr(xrecon_rd_1.view(-1,320,320), img_1.view(-1,320,320)))\n",
    "    print('greedy recon psnr: ',compute_psnr(xrecon_gr_1.view(-1,320,320), img_1.view(-1,320,320)))\n",
    "    \n",
    "    print('mnet   recon ssim: ',compute_ssim(xrecon_mn_1.view(-1,320,320), img_1.view(-1,320,320)))\n",
    "    print('random recon ssim: ',compute_ssim(xrecon_rd_1.view(-1,320,320), img_1.view(-1,320,320)))\n",
    "    print('greedy recon ssim: ',compute_ssim(xrecon_gr_1.view(-1,320,320), img_1.view(-1,320,320)))\n",
    "    \n",
    "elif mode == 'sigpy':\n",
    "    print(f'mode is {mode}')\n",
    "    mps = np.ones((1,320,320))\n",
    "    Lambda = 1e-4\n",
    "    kimg_mn_1 = kimg_mn_1.view(-1,320,320).numpy()\n",
    "    xrecon_mn_1 = np.fft.ifftshift( np.abs(TotalVariationRecon(kimg_mn_1, mps, Lambda,show_pbar=False).run()) )\n",
    "    \n",
    "    kimg_rd_1 = kimg_rd_1.view(-1,320,320).numpy()\n",
    "    xrecon_rd_1 = np.fft.ifftshift( np.abs(TotalVariationRecon(kimg_rd_1, mps, Lambda,show_pbar=False).run()) )\n",
    "    \n",
    "    kimg_gr_1 = kimg_gr_1.view(-1,320,320).numpy()\n",
    "    xrecon_gr_1 = np.fft.ifftshift( np.abs(TotalVariationRecon(kimg_gr_1, mps, Lambda,show_pbar=False).run()) )\n",
    "    \n",
    "    kplot(xrecon_mn_1,img_name='mnet-masked recon by unet')\n",
    "    kplot(xrecon_rd_1,img_name='random-masked recon by unet')\n",
    "    kplot(xrecon_gr_1,img_name='greedy-masked recon by unet')\n",
    "    kplot(np.abs(xrecon_mn_1 - img_1[0,0,:,:].numpy()),img_name='mnet-recon error')\n",
    "    kplot(np.abs(xrecon_rd_1 - img_1[0,0,:,:].numpy()),img_name='random-recon error')\n",
    "    kplot(np.abs(xrecon_gr_1 - img_1[0,0,:,:].numpy()),img_name='greedy-recon error')\n",
    "    \n",
    "    print('mnet   recon psnr: ',compute_psnr(torch.tensor(xrecon_mn_1).view(-1,320,320), img_1.view(-1,320,320)))\n",
    "    print('random recon psnr: ',compute_psnr(torch.tensor(xrecon_rd_1).view(-1,320,320), img_1.view(-1,320,320)))\n",
    "    print('greedy recon psnr: ',compute_psnr(torch.tensor(xrecon_gr_1).view(-1,320,320), img_1.view(-1,320,320)))\n",
    "    \n",
    "    print('mnet   recon ssim: ',compute_ssim(torch.tensor(xrecon_mn_1).view(-1,320,320), img_1.view(-1,320,320)))\n",
    "    print('random recon ssim: ',compute_ssim(torch.tensor(xrecon_rd_1).view(-1,320,320), img_1.view(-1,320,320)))\n",
    "    print('greedy recon ssim: ',compute_ssim(torch.tensor(xrecon_gr_1).view(-1,320,320), img_1.view(-1,320,320)))"
   ]
  },
  {
   "cell_type": "markdown",
   "id": "e6f91ea3",
   "metadata": {},
   "source": [
    "# mnet and loupe training error check"
   ]
  },
  {
   "cell_type": "code",
   "execution_count": null,
   "id": "fd352b06",
   "metadata": {},
   "outputs": [],
   "source": [
    "rec = np.load('/home/huangz78/checkpoints/mnet_train_history.npz')\n",
    "print(rec.files)"
   ]
  },
  {
   "cell_type": "code",
   "execution_count": null,
   "id": "6f60e9e6",
   "metadata": {},
   "outputs": [],
   "source": [
    "wid1 = 10\n",
    "wid2 = 5\n",
    "plt.figure()\n",
    "plt.plot(rolling_mean(rec['precision_train'],wid1),label='precision')\n",
    "plt.plot(rolling_mean(rec['recall_train'],wid1),label='recall')\n",
    "plt.title('training accuracy')\n",
    "plt.legend()\n",
    "plt.show()\n",
    "\n",
    "plt.figure()\n",
    "plt.title('testing accuracy')\n",
    "plt.plot(rolling_mean(rec['precision_test'],wid2),label='precision')\n",
    "plt.plot(rolling_mean(rec['recall_test'],wid2),label='recall')\n",
    "plt.legend()\n",
    "plt.show()\n",
    "\n",
    "plt.figure()\n",
    "plt.title('train loss in cross entropy')\n",
    "plt.plot(rolling_mean(rec['loss_train'],20),label='train')\n",
    "plt.legend()\n",
    "plt.show()\n",
    "\n",
    "plt.figure()\n",
    "plt.title('test loss in cross entropy')\n",
    "plt.plot(rolling_mean(rec['loss'],8),color='orange',label='test')\n",
    "plt.legend()\n",
    "plt.show()\n"
   ]
  },
  {
   "cell_type": "code",
   "execution_count": null,
   "id": "eafdfbba",
   "metadata": {},
   "outputs": [],
   "source": [
    "rec = np.load('/home/huangz78/checkpoints/loupe_history.npz')"
   ]
  },
  {
   "cell_type": "code",
   "execution_count": null,
   "id": "a06fe498",
   "metadata": {},
   "outputs": [],
   "source": [
    "loss_train = rec['loss_train']\n",
    "loss_val = rec['loss_val']\n",
    "plt.figure()\n",
    "plt.plot(loss_train)\n",
    "plt.xscale('log')\n",
    "plt.yscale('log')\n",
    "plt.title('training loss')\n",
    "plt.show()\n",
    "plt.figure()\n",
    "plt.plot(loss_val)\n",
    "plt.yscale('log')\n",
    "plt.title('validation loss')\n",
    "plt.show()"
   ]
  },
  {
   "cell_type": "code",
   "execution_count": null,
   "id": "d1e6abf6",
   "metadata": {},
   "outputs": [],
   "source": [
    "rec = np.load('/home/huangz78/checkpoints/alternating_update_error_track_4fold.npz')\n",
    "print(rec.files)"
   ]
  },
  {
   "cell_type": "code",
   "execution_count": null,
   "id": "a1cb3c24",
   "metadata": {},
   "outputs": [],
   "source": [
    "plt.figure()\n",
    "plt.plot(rec['loss_rand']   ,label='loss rand')\n",
    "plt.plot(rec['loss_before'] ,label='loss before')\n",
    "plt.plot(rec['loss_after']  ,label='loss after')\n",
    "plt.title('training mask loss')\n",
    "# plt.xscale('log')\n",
    "# plt.yscale('log')\n",
    "plt.legend(loc='best')\n",
    "plt.show()\n",
    "\n",
    "plt.figure()\n",
    "plt.plot(rec['loss_before'] - rec['loss_rand']   ,label='before - rand')\n",
    "plt.plot(rec['loss_before'] - rec['loss_after']  ,label='before - after')\n",
    "zero_line = np.zeros((len(rec['loss_rand'])))\n",
    "plt.plot(zero_line,'--',label='zero threshold')\n",
    "plt.title('training mask loss')\n",
    "# plt.xscale('log')\n",
    "# plt.yscale('log')\n",
    "plt.legend(loc='best')\n",
    "plt.show()\n",
    "\n",
    "plt.figure()\n",
    "plt.plot(rec['loss_val'])\n",
    "plt.title('validation loss')\n",
    "# plt.xscale('log')\n",
    "plt.yscale('log')\n",
    "plt.show()"
   ]
  },
  {
   "cell_type": "markdown",
   "id": "f793ff93",
   "metadata": {},
   "source": [
    "# mnet quality check: y"
   ]
  },
  {
   "cell_type": "code",
   "execution_count": null,
   "id": "6f824570",
   "metadata": {
    "scrolled": true
   },
   "outputs": [],
   "source": [
    "net = MNet(beta=1,in_channels=2,out_size=320-24,\\\n",
    "                   imgsize=(320,320),poolk=3)\n",
    "checkpoint = torch.load('/home/huangz78/checkpoints/mnet.pth')\n",
    "net.load_state_dict(checkpoint['model_state_dict'])\n",
    "print('MNet loaded successfully from: ' + '/home/huangz78/checkpoints/mnet.pth')\n",
    "net.eval()\n",
    "\n",
    "imgs = torch.tensor( np.load('/home/huangz78/data/data_gt.npz')['imgdata'] ).permute(2,0,1)\n",
    "base = 24\n",
    "mask_lf,_,_ = mask_naiveRand(imgs.shape[1],fix=base,other=0,roll=True)\n",
    "\n",
    "yfulls = torch.zeros((imgs.shape[0],2,imgs.shape[1],imgs.shape[2]),dtype=torch.float)\n",
    "ys     = torch.zeros((imgs.shape[0],2,imgs.shape[1],imgs.shape[2]),dtype=torch.float)\n",
    "xs     = torch.zeros((imgs.shape[0],1,imgs.shape[1],imgs.shape[2]),dtype=torch.float)\n",
    "for ind in range(imgs.shape[0]):\n",
    "    imgs[ind,:,:] = imgs[ind,:,:]/torch.max(torch.abs(imgs[ind,:,:]))\n",
    "    y = torch.fft.fftshift(F.fftn(imgs[ind,:,:],dim=(0,1),norm='ortho'))\n",
    "    ysub = torch.zeros(y.shape,dtype=y.dtype)\n",
    "    ysub[mask_lf==1,:] = y[mask_lf==1,:]\n",
    "    xs[ind,0,:,:] = torch.abs(F.ifftn(torch.fft.ifftshift(ysub),dim=(0,1),norm='ortho')) \n",
    "\n",
    "    yfulls[ind,0,:,:] = torch.real(y)\n",
    "    yfulls[ind,1,:,:] = torch.imag(y)\n",
    "    ys[ind,:,mask_lf==1,:] = yfulls[ind,:,mask_lf==1,:]\n",
    "\n",
    "labels = torch.tensor( np.load('/home/huangz78/data/data_gt_greedymask.npz')['mask'].T ) # labels are already rolled\n",
    "\n",
    "imgNum = imgs.shape[0]\n",
    "traininds, testinds = train_test_split(np.arange(imgNum),random_state=0,shuffle=True,train_size=round(imgNum*0.8))\n",
    "test_total  = testinds.size\n",
    "\n",
    "traindata   = ys[traininds,:,:,:]\n",
    "valdata     = ys[testinds[0:test_total//2],:,:,:]\n",
    "\n",
    "trainlabels = mask_filter(labels[traininds,:],base=base)\n",
    "vallabels   = mask_filter(labels[testinds[0:test_total//2],:],base=base)"
   ]
  },
  {
   "cell_type": "code",
   "execution_count": null,
   "id": "0fceb23c",
   "metadata": {
    "scrolled": true
   },
   "outputs": [],
   "source": [
    "imgind = 19\n",
    "testimg  = valdata[imgind,:,:,:]\n",
    "output_1 = net(testimg.view(-1,2,320,320))\n",
    "binary_1 = sigmoid_binarize(output_1)[0,:]\n",
    "greedy_1 = vallabels[imgind,:]\n",
    "\n",
    "imgind = 13\n",
    "testimg = valdata[imgind,:,:,:]\n",
    "output_2 = net(testimg.view(-1,2,320,320))\n",
    "binary_2 = sigmoid_binarize(output_2)[0,:]\n",
    "greedy_2 = vallabels[imgind,:]\n",
    "\n",
    "print(torch.sum(torch.abs(binary_1-binary_2)))\n",
    "print(output_1 - output_2)\n",
    "# sigmoid_binarize(output)[0,:]"
   ]
  },
  {
   "cell_type": "code",
   "execution_count": null,
   "id": "db803129",
   "metadata": {},
   "outputs": [],
   "source": [
    "from utils import mask_complete"
   ]
  },
  {
   "cell_type": "code",
   "execution_count": null,
   "id": "9de2e55f",
   "metadata": {},
   "outputs": [],
   "source": [
    "mask_1 = mask_complete(binary_1.view(1,-1),320,rolled=True)\n",
    "kplot(mask_1.view(-1))\n",
    "kplot(greedy_1)"
   ]
  },
  {
   "cell_type": "markdown",
   "id": "0df04bef",
   "metadata": {},
   "source": [
    "# mnet quality check: x"
   ]
  },
  {
   "cell_type": "code",
   "execution_count": null,
   "id": "680fefd6",
   "metadata": {
    "scrolled": true
   },
   "outputs": [],
   "source": [
    "# generate a mnet mask as an example\n",
    "\n",
    "mnet = MNet(out_size=320-24)\n",
    "checkpoint = torch.load('/home/huangz78/checkpoints/mnet_split_trained.pth')\n",
    "mnet.load_state_dict(checkpoint['model_state_dict'])\n",
    "print('MNet loaded successfully from: ' + '/home/huangz78/checkpoints/mnet_split_trained.pth')\n",
    "\n",
    "test_dir = '/home/huangz78/data/testdata_x.npz'\n",
    "# testimg  = torch.tensor(np.load(test_dir)['x']) \n",
    "# print(testimg.shape)\n",
    "# test_sub  = test_sub[0:10,:,:]\n",
    "test_full = torch.tensor(np.load(test_dir)['xfull']) \n",
    "mask_greedy = np.load('/home/huangz78/data/data_gt_greedymask.npz')\n",
    "mask_greedy = mask_greedy['mask'].T # this greedy mask is rolled"
   ]
  },
  {
   "cell_type": "code",
   "execution_count": null,
   "id": "85246042",
   "metadata": {},
   "outputs": [],
   "source": [
    "reload(utils)\n",
    "from utils import mnet_wrapper"
   ]
  },
  {
   "cell_type": "code",
   "execution_count": null,
   "id": "68a30791",
   "metadata": {},
   "outputs": [],
   "source": [
    "# imgind = np.random.randint(test_full.shape[0])\n",
    "mnet.train()\n",
    "imgind1 = np.random.randint(199)\n",
    "print('current selected image is indexed: ',imgind1)\n",
    "img1 = test_full[imgind1,:,:]\n",
    "imgind2 = np.random.randint(199)\n",
    "print('current selected image is indexed: ',imgind2)\n",
    "img2 = test_full[imgind2,:,:]\n",
    "# plt.imshow(img)\n",
    "# plt.show()\n",
    "\n",
    "budget = 56\n",
    "lowfreqmask,_,_ = mask_naiveRand(img1.shape[0],fix=24,other=0,roll=True)\n",
    "# randmask,_,_ = mask_naiveRand(img.shape[0],fix=24,other=budget,roll=True)\n",
    "# kplot(randmask)\n",
    "\n",
    "yfull1 = torch.fft.fftshift(F.fftn(img1,dim=(0,1),norm='ortho')) # y is ROLLED in this line!\n",
    "yfull2 = torch.fft.fftshift(F.fftn(img2,dim=(0,1),norm='ortho')) # y is ROLLED!\n",
    "yfull  = torch.stack((yfull1,yfull2),dim=0)\n",
    "# x_lf_minus      = -x_lf.clone()\n",
    "x_lf   = get_x_f_from_yfull(lowfreqmask,yfull,DTyp=torch.cfloat)"
   ]
  },
  {
   "cell_type": "code",
   "execution_count": null,
   "id": "33bd0108",
   "metadata": {},
   "outputs": [],
   "source": [
    "mnet( x_lf.view(x_lf.shape[0],1,img1.shape[0],img1.shape[1]) ).shape"
   ]
  },
  {
   "cell_type": "code",
   "execution_count": null,
   "id": "5f0d639c",
   "metadata": {},
   "outputs": [],
   "source": [
    "yfull1.shape"
   ]
  },
  {
   "cell_type": "code",
   "execution_count": null,
   "id": "f1024aeb",
   "metadata": {},
   "outputs": [],
   "source": [
    "mnet.eval()\n",
    "mnetmask = mnet( 1e3*torch.randn(10,1,img1.shape[0],img1.shape[1]) )\n",
    "# x_lf =  1e3*torch.randn(10,img1.shape[0],img1.shape[1]) \n",
    "# highmask_raw = mnet( x_lf.view(x_lf.shape[0],1,img1.shape[0],img1.shape[1]) )\n",
    "# mnetmask = mnet_wrapper(mnet,x_lf,budget,img1.shape)\n",
    "print(mnetmask.shape)\n",
    "\n",
    "torch.sum( torch.abs( mnetmask[0,:] - mnetmask[1,:] ) )"
   ]
  },
  {
   "cell_type": "code",
   "execution_count": null,
   "id": "e0da645e",
   "metadata": {},
   "outputs": [],
   "source": [
    "a = torch.randn(2,2,4,5)\n",
    "b = torch.randn(2,2,4,5)\n",
    "c = a[:,0,:,:] + b[:,1,:,:]\n",
    "print(c.shape)"
   ]
  },
  {
   "cell_type": "code",
   "execution_count": null,
   "id": "c2692850",
   "metadata": {
    "scrolled": false
   },
   "outputs": [],
   "source": [
    "highmask_raw  = mnet( x_lf.view(x_lf.shape[0],1,img1.shape[0],img1.shape[1]) ).view(-1)  # no sigmoid \n",
    "# highmask_raw  = mnet( 1e10*torch.randn(1,1,img.shape[0],img.shape[1]) ).view(-1)  # no sigmoid \n",
    "# print('highmask_raw = ', highmask_raw)\n",
    "plt.plot(highmask_raw.detach().numpy())\n",
    "plt.show()\n",
    "mnetmask = mnet_wrapper(mnet,x_lf,budget,img.shape)\n",
    "kplot(mnetmask)\n",
    "kplot(mask_greedy[imgind,:])"
   ]
  },
  {
   "cell_type": "code",
   "execution_count": null,
   "id": "54078c70",
   "metadata": {
    "scrolled": true
   },
   "outputs": [],
   "source": [
    "print(mnet.)"
   ]
  },
  {
   "cell_type": "code",
   "execution_count": null,
   "id": "ed1b7ea8",
   "metadata": {
    "scrolled": true
   },
   "outputs": [],
   "source": [
    "for param in mnet.named_parameters():\n",
    "      print(param)"
   ]
  },
  {
   "cell_type": "code",
   "execution_count": null,
   "id": "1112bedb",
   "metadata": {},
   "outputs": [],
   "source": [
    "mnetmask_old = mnetmask.clone()\n",
    "mnetmask - mnetmask_old"
   ]
  },
  {
   "cell_type": "code",
   "execution_count": null,
   "id": "7027236a",
   "metadata": {
    "scrolled": true
   },
   "outputs": [],
   "source": [
    "randqual[1:]"
   ]
  },
  {
   "cell_type": "code",
   "execution_count": null,
   "id": "e0c98c95",
   "metadata": {},
   "outputs": [],
   "source": [
    "# show quality of mnet\n",
    "filepath = '/home/huangz78/checkpoints/alternating_update_error_track.npz'\n",
    "data_loss = np.load(filepath)\n",
    "\n",
    "print(data_loss.files)\n",
    "\n",
    "randqual   = data_loss['randqual']\n",
    "mnetqual   = data_loss['mnetqual']\n",
    "greedyqual = data_loss['greedyqual']\n",
    "randspar   = data_loss['randspar']\n",
    "mnetspar   = data_loss['mnetspar']\n",
    "\n",
    "try:\n",
    "    visualization(randqual[1:],mnetqual[1:],greedyqual=greedyqual,\\\n",
    "             randspar=randspar,mnetspar=mnetspar,greedyspar=greedyspar*np.ones(len(greedyqual)))\n",
    "except Exception:\n",
    "    visualization(randqual[1:],mnetqual[1:],randspar=randspar,mnetspar=mnetspar,log1=True)"
   ]
  }
 ],
 "metadata": {
  "kernelspec": {
   "display_name": "Python 3",
   "language": "python",
   "name": "python3"
  },
  "language_info": {
   "codemirror_mode": {
    "name": "ipython",
    "version": 3
   },
   "file_extension": ".py",
   "mimetype": "text/x-python",
   "name": "python",
   "nbconvert_exporter": "python",
   "pygments_lexer": "ipython3",
   "version": "3.7.5"
  }
 },
 "nbformat": 4,
 "nbformat_minor": 5
}
