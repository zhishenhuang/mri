{
 "cells": [
  {
   "cell_type": "code",
   "execution_count": 1,
   "id": "65744487",
   "metadata": {},
   "outputs": [],
   "source": [
    "import numpy as np\n",
    "# import argparse\n",
    "import os\n",
    "import sys\n",
    "import torch\n",
    "import torch.fft as F\n",
    "from importlib import reload\n",
    "# from torch.nn.functional import /relu\n",
    "import torch.nn as nn\n",
    "# import torch.nn.functional as Func\n",
    "# import torch.optim as optim\n",
    "import utils\n",
    "from utils import *\n",
    "from loupe_env.loupe_wrap import LOUPE\n",
    "from MoDL.MoDL import MoDL\n",
    "from matplotlib import pyplot as plt\n",
    "import random\n",
    "import copy\n",
    "# from sklearn.model_selection import train_test_split\n",
    "\n",
    "# import skimage\n",
    "from mnet.mnet_v2 import MNet\n",
    "from unet.unet_model import UNet\n",
    "from unet.unet_model_fbr import Unet\n",
    "from unet.unet_model_banding_removal_fbr import UnetModel\n",
    "# from mask_backward_v4 import *\n",
    "# from sigpy.mri.app import TotalVariationRecon\n",
    "\n",
    "# torch.manual_seed(0)\n",
    "# np.random.seed(0)\n",
    "# random.seed(0)"
   ]
  },
  {
   "cell_type": "code",
   "execution_count": 2,
   "id": "17b4a246",
   "metadata": {},
   "outputs": [
    {
     "name": "stdout",
     "output_type": "stream",
     "text": [
      "test data shape: torch.Size([1300, 320, 320])\n",
      "test data size: torch.Size([1300, 320, 320])\n"
     ]
    }
   ],
   "source": [
    "testdata = torch.tensor(np.load('/mnt/shared_a/fastMRI/knee_singlecoil_test.npz')['data'])\n",
    "print('test data shape:',testdata.shape)\n",
    "\n",
    "for ind in range(testdata.shape[0]):\n",
    "    testdata[ind,:,:] = testdata[ind,:,:]/torch.max(torch.abs(testdata[ind,:,:]))\n",
    "print('test data size:', testdata.shape)\n",
    "\n",
    "device = torch.device('cuda:0')\n",
    "# device = torch.device('cpu')"
   ]
  },
  {
   "cell_type": "code",
   "execution_count": 3,
   "id": "ab78f8e5",
   "metadata": {},
   "outputs": [
    {
     "name": "stdout",
     "output_type": "stream",
     "text": [
      "base corefreq is 8, sampling budget is 32\n"
     ]
    }
   ],
   "source": [
    "# specify sampling parameters\n",
    "heg = 320\n",
    "wid = 320\n",
    "sparsity = .125\n",
    "preselect_num = 8\n",
    "budget = int(heg * sparsity - preselect_num)\n",
    "\n",
    "print(f'base corefreq is {preselect_num}, sampling budget is {budget}')"
   ]
  },
  {
   "cell_type": "markdown",
   "id": "507dcb52",
   "metadata": {},
   "source": [
    "# Evaluation"
   ]
  },
  {
   "cell_type": "markdown",
   "id": "789f0d08",
   "metadata": {},
   "source": [
    "## evaluate MNet - UNet"
   ]
  },
  {
   "cell_type": "code",
   "execution_count": null,
   "id": "95f86988",
   "metadata": {},
   "outputs": [],
   "source": [
    "# specify sampling parameters\n",
    "heg = 320\n",
    "wid = 320\n",
    "sparsity = .125\n",
    "preselect_num = 8\n",
    "budget = int(heg * sparsity - preselect_num)\n",
    "\n",
    "print(f'base corefreq is {preselect_num}, sampling budget is {budget}')\n",
    "\n",
    "# load mnet\n",
    "mnet = MNet(beta=1,in_chans=2,out_size=320-preselect_num, imgsize=(heg,wid),poolk=3)\n",
    "mnetpath = '/mnt/shared_a/checkpoints/leo/mri/mnet_v2_split_trained_cf_8_bg_32_unet_in_chan_1_epoch9.pt'\n",
    "\n",
    "checkpoint = torch.load(mnetpath)\n",
    "mnet.load_state_dict(checkpoint['model_state_dict'])\n",
    "# mnet.apply(mnet_weights_init)\n",
    "mnet.eval()\n",
    "print('MNet loaded successfully from: ' + mnetpath)"
   ]
  },
  {
   "cell_type": "code",
   "execution_count": null,
   "id": "07e9348c",
   "metadata": {
    "scrolled": false
   },
   "outputs": [],
   "source": [
    "# load unet-SEP\n",
    "unet_inchannels = 2\n",
    "unet_recon = Unet(in_chans=unet_inchannels,out_chans=1,chans=64)\n",
    "unetpath = '/mnt/shared_a/checkpoints/leo/recon/unet_fbr_2_chans_64_epoch_39.pt'\n",
    "\n",
    "checkpoint = torch.load(unetpath)\n",
    "unet_recon.load_state_dict(checkpoint['model_state_dict'])\n",
    "print('Unet loaded successfully from: ' + unetpath )\n",
    "unet_recon.eval()\n",
    "print('nn\\'s are ready')"
   ]
  },
  {
   "cell_type": "code",
   "execution_count": null,
   "id": "1d60e454",
   "metadata": {
    "scrolled": true
   },
   "outputs": [],
   "source": [
    "l1err,l2err,hfens,ssims,psnrs = mnet_eval(testdata,mnet,unet_recon,\\\n",
    "                                          base=preselect_num,budget=budget,batchsize=10,device=device)\n",
    "\n",
    "plt.boxplot(ssims.numpy())\n",
    "plt.title(f'SSIM mean={ssims.numpy().mean():.4f}')\n",
    "plt.show()\n",
    "\n",
    "plt.boxplot(psnrs.numpy())\n",
    "plt.title(f'PSNR mean={psnrs.numpy().mean():.4f}')\n",
    "plt.show()\n",
    "\n",
    "plt.boxplot(l1err.numpy())\n",
    "plt.title(f'l1err mean={l1err.numpy().mean():.4f}')\n",
    "plt.show()\n",
    "\n",
    "plt.boxplot(l2err.numpy())\n",
    "plt.title(f'l2err mean={l2err.numpy().mean():.4f}')\n",
    "plt.show()\n",
    "\n",
    "plt.boxplot(hfens.numpy())\n",
    "plt.title(f'HFEN mean={hfens.numpy().mean():.4f}')\n",
    "plt.show()\n",
    "\n",
    "filename = '/mnt/shared_a/checkpoints/leo/mri/8fold_mnetunet.npz'\n",
    "np.savez(filename,l1err=l1err,l2err=l2err,hfens=hfens,ssims=ssims,psnrs=psnrs)"
   ]
  },
  {
   "cell_type": "code",
   "execution_count": null,
   "id": "190cfaa4",
   "metadata": {},
   "outputs": [],
   "source": [
    "# specify sampling parameters\n",
    "heg = 320\n",
    "wid = 320\n",
    "sparsity = .125\n",
    "preselect_num = 8\n",
    "budget = int(heg * sparsity - preselect_num)\n",
    "\n",
    "print(f'base corefreq is {preselect_num}, sampling budget is {budget}')\n",
    "\n",
    "# load mnet\n",
    "mnet = MNet(beta=1,in_chans=2,out_size=320-preselect_num, imgsize=(heg,wid),poolk=3)\n",
    "mnetpath = '/mnt/shared_a/checkpoints/leo/mri/mnet_v2_split_trained_cf_8_bg_32_unet_in_chan_1_epoch9.pt'\n",
    "\n",
    "checkpoint = torch.load(mnetpath)\n",
    "mnet.load_state_dict(checkpoint['model_state_dict'])\n",
    "# mnet.apply(mnet_weights_init)\n",
    "mnet.eval()\n",
    "print('MNet loaded successfully from: ' + mnetpath)\n",
    "\n",
    "# load unet-CO\n",
    "unet_recon = unet = UNet(in_chans=1,n_classes=1,bilinear=False,skip=True)\n",
    "unetpath = '/mnt/shared_a/checkpoints/leo/mri/unet_v2_split_trained_cf_8_bg_32_unet_in_chan_1_epoch9.pt'\n",
    "\n",
    "checkpoint = torch.load(unetpath)\n",
    "unet_recon.load_state_dict(checkpoint['model_state_dict'])\n",
    "print('Unet loaded successfully from: ' + unetpath )\n",
    "unet_recon.eval()\n",
    "print('nn\\'s are ready')"
   ]
  },
  {
   "cell_type": "code",
   "execution_count": null,
   "id": "a29caff5",
   "metadata": {},
   "outputs": [],
   "source": [
    "l1err,l2err,hfens,ssims,psnrs = mnet_eval(testdata,mnet,unet_recon,\\\n",
    "                                          base=preselect_num,budget=budget,batchsize=10,device='cuda:0')\n",
    "\n",
    "plt.boxplot(ssims.numpy())\n",
    "plt.title(f'SSIM mean={ssims.numpy().mean():.4f}')\n",
    "plt.show()\n",
    "\n",
    "plt.boxplot(psnrs.numpy())\n",
    "plt.title(f'PSNR mean={psnrs.numpy().mean():.4f}')\n",
    "plt.show()\n",
    "\n",
    "plt.boxplot(l1err.numpy())\n",
    "plt.title(f'l1err mean={l1err.numpy().mean():.4f}')\n",
    "plt.show()\n",
    "\n",
    "plt.boxplot(l2err.numpy())\n",
    "plt.title(f'l2err mean={l2err.numpy().mean():.4f}')\n",
    "plt.show()\n",
    "\n",
    "plt.boxplot(hfens.numpy())\n",
    "plt.title(f'HFEN mean={hfens.numpy().mean():.4f}')\n",
    "plt.show()\n",
    "\n",
    "filename = '/mnt/shared_a/checkpoints/leo/mri/8fold_mnetunet_direct.npz'\n",
    "np.savez(filename,l1err=l1err,l2err=l2err,hfens=hfens,ssims=ssims,psnrs=psnrs)"
   ]
  },
  {
   "cell_type": "markdown",
   "id": "9b40be81",
   "metadata": {},
   "source": [
    "## evaluate fix_loupe - Unet (Mar, for review response)"
   ]
  },
  {
   "cell_type": "code",
   "execution_count": 4,
   "id": "f0001a26",
   "metadata": {},
   "outputs": [
    {
     "name": "stdout",
     "output_type": "stream",
     "text": [
      "Unet loaded successfully from: /mnt/shared_a/checkpoints/leo/recon/unet_fbr_2_chans_64_aug_False_fix_base8_budget32_epoch_37.pt\n",
      "nn's are ready\n"
     ]
    }
   ],
   "source": [
    "# load unet\n",
    "unet_inchannels = 2\n",
    "unet_recon = Unet(in_chans=unet_inchannels,out_chans=1,chans=64).to(device)\n",
    "unetpath = '/mnt/shared_a/checkpoints/leo/recon/unet_fbr_2_chans_64_aug_False_fix_base8_budget32_epoch_37.pt'\n",
    "\n",
    "checkpoint = torch.load(unetpath)\n",
    "unet_recon.load_state_dict(checkpoint['model_state_dict'])\n",
    "print('Unet loaded successfully from: ' + unetpath )\n",
    "unet_recon.eval()\n",
    "print('nn\\'s are ready')"
   ]
  },
  {
   "cell_type": "code",
   "execution_count": 5,
   "id": "bbc2c50e",
   "metadata": {},
   "outputs": [],
   "source": [
    "maskfile = '/mnt/shared_a/checkpoints/leo/mri/loupe_mask_8fold.pt'\n",
    "fix_mask = torch.load(maskfile)['mask']"
   ]
  },
  {
   "cell_type": "code",
   "execution_count": null,
   "id": "3c6ede73",
   "metadata": {},
   "outputs": [],
   "source": [
    "l1err,l2err,hfens,ssims,psnrs = baseline_eval(testdata,model=unet_recon,mode='fix',\\\n",
    "                                          base=preselect_num,budget=budget,batchsize=10,device=device,\\\n",
    "                                          fix_mask=fix_mask)"
   ]
  },
  {
   "cell_type": "code",
   "execution_count": 13,
   "id": "3ed30d00",
   "metadata": {},
   "outputs": [
    {
     "data": {
      "text/plain": [
       "<Figure size 432x288 with 0 Axes>"
      ]
     },
     "metadata": {},
     "output_type": "display_data"
    },
    {
     "data": {
      "image/png": "[encoded data removed]",
      "text/plain": [
       "<Figure size 1080x576 with 4 Axes>"
      ]
     },
     "metadata": {
      "needs_background": "light"
     },
     "output_type": "display_data"
    }
   ],
   "source": [
    "plt.clf()\n",
    "\n",
    "figsize = (15,8)\n",
    "fig, axs = plt.subplots(nrows=2, ncols=2, sharex=False, figsize=figsize)\n",
    "\n",
    "axs[0,0].boxplot(ssims.numpy())\n",
    "axs[0,0].set_title(f'SSIM mean={ssims.numpy().mean():.4f}')\n",
    "\n",
    "# plt.boxplot(psnrs.numpy())\n",
    "# plt.title(f'PSNR mean={psnrs.numpy().mean():.4f}')\n",
    "# plt.show()\n",
    "\n",
    "axs[0,1].boxplot(l1err.numpy())\n",
    "axs[0,1].set_title(f'l1err mean={l1err.numpy().mean():.4f}')\n",
    "\n",
    "axs[1,0].boxplot(l2err.numpy())\n",
    "axs[1,0].set_title(f'l2err mean={l2err.numpy().mean():.4f}')\n",
    "\n",
    "axs[1,1].boxplot(hfens.numpy())\n",
    "axs[1,1].set_title(f'HFEN mean={hfens.numpy().mean():.4f}')\n",
    "plt.title('fixed LOUPE mask - UNET - SET')\n",
    "plt.show()"
   ]
  },
  {
   "cell_type": "code",
   "execution_count": 6,
   "id": "b30d131f",
   "metadata": {
    "scrolled": true
   },
   "outputs": [
    {
     "name": "stdout",
     "output_type": "stream",
     "text": [
      "test data size: torch.Size([1300, 320, 320])\n"
     ]
    },
    {
     "data": {
      "image/png": "[encoded data removed]",
      "text/plain": [
       "<Figure size 432x288 with 1 Axes>"
      ]
     },
     "metadata": {
      "needs_background": "light"
     },
     "output_type": "display_data"
    },
    {
     "data": {
      "image/png": "[encoded data removed]",
      "text/plain": [
       "<Figure size 432x288 with 1 Axes>"
      ]
     },
     "metadata": {
      "needs_background": "light"
     },
     "output_type": "display_data"
    },
    {
     "data": {
      "image/png": "[encoded data removed]",
      "text/plain": [
       "<Figure size 432x288 with 1 Axes>"
      ]
     },
     "metadata": {
      "needs_background": "light"
     },
     "output_type": "display_data"
    },
    {
     "data": {
      "image/png": "[encoded data removed]",
      "text/plain": [
       "<Figure size 432x288 with 1 Axes>"
      ]
     },
     "metadata": {
      "needs_background": "light"
     },
     "output_type": "display_data"
    }
   ],
   "source": [
    "filename = '/mnt/shared_a/checkpoints/leo/mri/8fold_loupe_fix.npz'\n",
    "np.savez(filename,l1err=l1err,l2err=l2err,hfens=hfens,ssims=ssims,psnrs=psnrs)"
   ]
  },
  {
   "cell_type": "markdown",
   "id": "74a0bb71",
   "metadata": {},
   "source": [
    "## evaluate Rand - MoDL (Feb, for review response)"
   ]
  },
  {
   "cell_type": "code",
   "execution_count": 7,
   "id": "8f0adbdc",
   "metadata": {},
   "outputs": [
    {
     "name": "stdout",
     "output_type": "stream",
     "text": [
      "MoDL model loaded successfully from /mnt/shared_a/checkpoints/leo/recon/MoDL_2_chans_64_epoch_39.pt\n"
     ]
    }
   ],
   "source": [
    "modl = MoDL(in_chans=2,out_chans=2,chans=64,num_pool_layers=4,drop_prob=0,CG_steps=6) # CG_steps=6 not 4\n",
    "modlpath = '/mnt/shared_a/checkpoints/leo/recon/MoDL_2_chans_64_epoch_39.pt' # for rand, previous ones were overwritten\n",
    "checkpoint = torch.load(modlpath)\n",
    "modl.load_state_dict(checkpoint['model_state_dict'])\n",
    "print(f'MoDL model loaded successfully from {modlpath}')"
   ]
  },
  {
   "cell_type": "code",
   "execution_count": 8,
   "id": "b5c882b6",
   "metadata": {},
   "outputs": [
    {
     "name": "stdout",
     "output_type": "stream",
     "text": [
      "test data size: torch.Size([1300, 320, 320])\n"
     ]
    }
   ],
   "source": [
    "l1err,l2err,hfens,ssims,psnrs = baseline_eval(testdata,modl,\\\n",
    "                                          base=preselect_num,budget=budget,batchsize=5,mode='rand',device=device)"
   ]
  },
  {
   "cell_type": "code",
   "execution_count": 10,
   "id": "3f8fcd35",
   "metadata": {},
   "outputs": [
    {
     "data": {
      "text/plain": [
       "<Figure size 432x288 with 0 Axes>"
      ]
     },
     "metadata": {},
     "output_type": "display_data"
    },
    {
     "data": {
      "image/png": "[encoded data removed]",
      "text/plain": [
       "<Figure size 1080x576 with 4 Axes>"
      ]
     },
     "metadata": {
      "needs_background": "light"
     },
     "output_type": "display_data"
    }
   ],
   "source": [
    "plt.clf()\n",
    "figsize = (15,8)\n",
    "fig, axs = plt.subplots(nrows=2, ncols=2, sharex=False, figsize=figsize)\n",
    "\n",
    "axs[0,0].boxplot(ssims.numpy())\n",
    "axs[0,0].set_title(f'SSIM mean={ssims.numpy().mean():.4f}')\n",
    "\n",
    "# axs[0,1].boxplot(psnrs.numpy())\n",
    "# axs[0,1].set_title(f'PSNR mean={psnrs.numpy().mean():.4f}')\n",
    "\n",
    "axs[0,1].boxplot(l1err.numpy())\n",
    "axs[0,1].set_title(f'l1err mean={l1err.numpy().mean():.4f}')\n",
    "\n",
    "axs[1,0].boxplot(l2err.numpy())\n",
    "axs[1,0].set_title(f'l2err mean={l2err.numpy().mean():.4f}')\n",
    "\n",
    "axs[1,1].boxplot(hfens.numpy())\n",
    "axs[1,1].set_title(f'HFEN mean={hfens.numpy().mean():.4f}')\n",
    "\n",
    "# axs[1,2].axis('off')\n",
    "\n",
    "fig.suptitle('rand-MoDL', fontsize=16)\n",
    "plt.show()"
   ]
  },
  {
   "cell_type": "code",
   "execution_count": 9,
   "id": "28fa819d",
   "metadata": {},
   "outputs": [
    {
     "data": {
      "text/plain": [
       "<Figure size 432x288 with 0 Axes>"
      ]
     },
     "metadata": {},
     "output_type": "display_data"
    },
    {
     "data": {
      "image/png": "[encoded data removed]",
      "text/plain": [
       "<Figure size 1080x576 with 6 Axes>"
      ]
     },
     "metadata": {
      "needs_background": "light"
     },
     "output_type": "display_data"
    }
   ],
   "source": [
    "filename = '/mnt/shared_a/checkpoints/leo/mri/8fold_rand__modl_chans64.npz'\n",
    "np.savez(filename,l1err=l1err,l2err=l2err,hfens=hfens,ssims=ssims,psnrs=psnrs)"
   ]
  },
  {
   "cell_type": "markdown",
   "id": "ca0b4e08",
   "metadata": {},
   "source": [
    "## evaluate MNet - MoDL"
   ]
  },
  {
   "cell_type": "code",
   "execution_count": null,
   "id": "f0ef2917",
   "metadata": {},
   "outputs": [],
   "source": [
    "modl = MoDL(in_chans=2,out_chans=2,chans=64,num_pool_layers=4,drop_prob=0,CG_steps=4)\n",
    "modlpath = '/mnt/shared_a/checkpoints/leo/recon/MoDL_2_chans_64_epoch_39.pt'\n",
    "checkpoint = torch.load(modlpath)\n",
    "modl.load_state_dict(checkpoint['model_state_dict'])\n",
    "print(f'MoDL model loaded successfully from {modlpath}')"
   ]
  },
  {
   "cell_type": "code",
   "execution_count": null,
   "id": "b1e226c1",
   "metadata": {
    "scrolled": false
   },
   "outputs": [],
   "source": [
    "l1err,l2err,hfens,ssims,psnrs = mnet_eval(testdata,mnet,modl,\\\n",
    "                                          base=preselect_num,budget=budget,batchsize=5,device=device)\n",
    "\n",
    "plt.boxplot(ssims.numpy())\n",
    "plt.title(f'SSIM mean={ssims.numpy().mean():.4f}')\n",
    "plt.show()\n",
    "\n",
    "plt.boxplot(psnrs.numpy())\n",
    "plt.title(f'PSNR mean={psnrs.numpy().mean():.4f}')\n",
    "plt.show()\n",
    "\n",
    "plt.boxplot(l1err.numpy())\n",
    "plt.title(f'l1err mean={l1err.numpy().mean():.4f}')\n",
    "plt.show()\n",
    "\n",
    "plt.boxplot(l2err.numpy())\n",
    "plt.title(f'l2err mean={l2err.numpy().mean():.4f}')\n",
    "plt.show()\n",
    "\n",
    "plt.boxplot(hfens.numpy())\n",
    "plt.title(f'HFEN mean={hfens.numpy().mean():.4f}')\n",
    "plt.show()\n",
    "\n",
    "# filename = '/mnt/shared_a/checkpoints/leo/mri/8fold_mnetmodl_chans64.npz'\n",
    "# np.savez(filename,l1err=l1err,l2err=l2err,hfens=hfens,ssims=ssims,psnrs=psnrs)"
   ]
  },
  {
   "cell_type": "markdown",
   "id": "b1174b31",
   "metadata": {},
   "source": [
    "## evaluate baseline --- prob"
   ]
  },
  {
   "cell_type": "code",
   "execution_count": null,
   "id": "c146d3a8",
   "metadata": {},
   "outputs": [],
   "source": [
    "# load unet\n",
    "unet_inchannels = 2\n",
    "unet_recon = Unet(in_chans=unet_inchannels,out_chans=1,chans=64).to(device)\n",
    "# unetpath = '/mnt/shared_a/checkpoints/leo/recon/unet_fbr_2_chans_64_prob_epoch_39.pt'\n",
    "unetpath = '/mnt/shared_a/checkpoints/leo/recon/unet_fbr_2_chans_64_prob_epoch_39.pt'\n",
    "\n",
    "checkpoint = torch.load(unetpath)\n",
    "unet_recon.load_state_dict(checkpoint['model_state_dict'])\n",
    "print('Unet loaded successfully from: ' + unetpath )\n",
    "unet_recon.eval()\n",
    "print('nn\\'s are ready')"
   ]
  },
  {
   "cell_type": "code",
   "execution_count": null,
   "id": "909e5f15",
   "metadata": {},
   "outputs": [],
   "source": [
    "# compute energy distribution from train data\n",
    "traindata = torch.tensor(np.load('/mnt/shared_a/fastMRI/knee_singlecoil_train.npz')['data'])\n",
    "for ind in range(traindata.shape[0]):\n",
    "    traindata[ind,:,:] = traindata[ind,:,:]/torch.max(torch.abs(traindata[ind,:,:]))\n",
    "print('train data shape:',traindata.shape)\n",
    "\n",
    "num_pts = traindata.shape[0]\n",
    "imgHeg  = traindata.shape[1]\n",
    "\n",
    "y_full  = F.fftn(traindata,dim=(1,2),norm='ortho')\n",
    "del traindata\n",
    "y_full  = F.fftshift(y_full,dim=(1,2))\n",
    "\n",
    "energy_vec = torch.zeros(imgHeg)\n",
    "for img_fft in y_full:\n",
    "    energy_vec += torch.sum(torch.square(torch.abs(img_fft)).to(torch.float),dim=1)\n",
    "energy_vec /= num_pts       # average by total amount of samples\n",
    "energy_vec /= torch.sum(energy_vec) # normalized by total energy\n",
    "del y_full\n",
    "\n",
    "plt.figure()\n",
    "plt.scatter(range(len(energy_vec)),energy_vec)\n",
    "plt.yscale('log')\n",
    "plt.show()\n",
    "energy_vec.sum()\n",
    "filename = '/mnt/shared_a/checkpoints/leo/mri/8fold_prob_energy_vec.npz'\n",
    "np.savez(filename,energy_vec=energy_vec)"
   ]
  },
  {
   "cell_type": "code",
   "execution_count": null,
   "id": "2e1954be",
   "metadata": {},
   "outputs": [],
   "source": [
    "filename = '/home/huangz78/mri/energy_vec_base16_budget64_.pt' # this file is wrong, Feb 26, 13:43\n",
    "energy_vec = torch.load(filename)['energy_vec']"
   ]
  },
  {
   "cell_type": "code",
   "execution_count": 2,
   "id": "7bafbf8b",
   "metadata": {},
   "outputs": [],
   "source": [
    "filename = '/mnt/shared_a/checkpoints/leo/mri/8fold_prob_energy_vec.npz'\n",
    "energy_vec = np.load(filename)['energy_vec']"
   ]
  },
  {
   "cell_type": "code",
   "execution_count": 11,
   "id": "2157841c",
   "metadata": {},
   "outputs": [
    {
     "data": {
      "image/png": "[encoded data removed]",
      "text/plain": [
       "<Figure size 432x288 with 1 Axes>"
      ]
     },
     "metadata": {
      "needs_background": "light"
     },
     "output_type": "display_data"
    }
   ],
   "source": [
    "plt.figure()\n",
    "plt.scatter(range(len(energy_vec)),energy_vec,s=2)\n",
    "plt.xticks([])\n",
    "plt.yscale('log')\n",
    "plt.title('energy sampling distribution - low frequency in the middle')\n",
    "plt.show()"
   ]
  },
  {
   "cell_type": "code",
   "execution_count": null,
   "id": "e8f4d73c",
   "metadata": {},
   "outputs": [],
   "source": [
    "l1err,l2err,hfens,ssims,psnrs = baseline_eval(testdata,model=unet_recon,mode='prob',energy_vec=energy_vec,\\\n",
    "                                          base=preselect_num,budget=budget,batchsize=10,device=device)\n",
    "\n",
    "plt.boxplot(ssims.numpy())\n",
    "plt.title(f'SSIM mean={ssims.numpy().mean():.4f}')\n",
    "plt.show()\n",
    "\n",
    "plt.boxplot(psnrs.numpy())\n",
    "plt.title(f'PSNR mean={psnrs.numpy().mean():.4f}')\n",
    "plt.show()\n",
    "\n",
    "plt.boxplot(l1err.numpy())\n",
    "plt.title(f'l1err mean={l1err.numpy().mean():.4f}')\n",
    "plt.show()\n",
    "\n",
    "plt.boxplot(l2err.numpy())\n",
    "plt.title(f'l2err mean={l2err.numpy().mean():.4f}')\n",
    "plt.show()\n",
    "\n",
    "plt.boxplot(hfens.numpy())\n",
    "plt.title(f'HFEN mean={hfens.numpy().mean():.4f}')\n",
    "plt.show()\n",
    "\n",
    "filename = '/mnt/shared_a/checkpoints/leo/mri/8fold_prob.npz'\n",
    "np.savez(filename,l1err=l1err,l2err=l2err,hfens=hfens,ssims=ssims,psnrs=psnrs)"
   ]
  },
  {
   "cell_type": "markdown",
   "id": "b83549c5",
   "metadata": {},
   "source": [
    "## evaluate baseline --- rand and equidist"
   ]
  },
  {
   "cell_type": "code",
   "execution_count": null,
   "id": "de25aa6a",
   "metadata": {},
   "outputs": [],
   "source": [
    "# load unet\n",
    "unet_inchannels = 2\n",
    "unet_recon = Unet(in_chans=unet_inchannels,out_chans=1,chans=64)\n",
    "unetpath = '/mnt/shared_a/checkpoints/leo/recon/unet_fbr_2_chans_64_rand_epoch_38.pt'\n",
    "\n",
    "checkpoint = torch.load(unetpath)\n",
    "unet_recon.load_state_dict(checkpoint['model_state_dict'])\n",
    "print('Unet loaded successfully from: ' + unetpath )\n",
    "unet_recon.eval()\n",
    "print('nn\\'s are ready')"
   ]
  },
  {
   "cell_type": "code",
   "execution_count": null,
   "id": "e3fd48e8",
   "metadata": {
    "scrolled": true
   },
   "outputs": [],
   "source": [
    "l1err,l2err,hfens,ssims,psnrs = baseline_eval(testdata,model=unet_recon,mode='rand',\\\n",
    "                                          base=preselect_num,budget=budget,batchsize=10,device=device)\n",
    "\n",
    "plt.boxplot(ssims.numpy())\n",
    "plt.title(f'SSIM mean={ssims.numpy().mean():.4f}')\n",
    "plt.show()\n",
    "\n",
    "plt.boxplot(psnrs.numpy())\n",
    "plt.title(f'PSNR mean={psnrs.numpy().mean():.4f}')\n",
    "plt.show()\n",
    "\n",
    "plt.boxplot(l1err.numpy())\n",
    "plt.title(f'l1err mean={l1err.numpy().mean():.4f}')\n",
    "plt.show()\n",
    "\n",
    "plt.boxplot(l2err.numpy())\n",
    "plt.title(f'l2err mean={l2err.numpy().mean():.4f}')\n",
    "plt.show()\n",
    "\n",
    "plt.boxplot(hfens.numpy())\n",
    "plt.title(f'HFEN mean={hfens.numpy().mean():.4f}')\n",
    "plt.show()\n",
    "\n",
    "filename = '/mnt/shared_a/checkpoints/leo/mri/8fold_rand.npz'\n",
    "np.savez(filename,l1err=l1err,l2err=l2err,hfens=hfens,ssims=ssims,psnrs=psnrs)"
   ]
  },
  {
   "cell_type": "code",
   "execution_count": null,
   "id": "513c876a",
   "metadata": {
    "scrolled": true
   },
   "outputs": [],
   "source": [
    "# load unet\n",
    "unet_inchannels = 2\n",
    "unet_recon = Unet(in_chans=unet_inchannels,out_chans=1,chans=64)\n",
    "unetpath = '/mnt/shared_a/checkpoints/leo/recon/unet_fbr_2_chans_64_aug_True_equidist_epoch_38.pt'\n",
    "# unet_fbr_2_chans_64_equidist_epoch_39.pt\n",
    "checkpoint = torch.load(unetpath)\n",
    "unet_recon.load_state_dict(checkpoint['model_state_dict'])\n",
    "print('Unet loaded successfully from: ' + unetpath )\n",
    "unet_recon.eval()\n",
    "print('nn\\'s are ready')"
   ]
  },
  {
   "cell_type": "code",
   "execution_count": null,
   "id": "0be9e78a",
   "metadata": {},
   "outputs": [],
   "source": [
    "l1err,l2err,hfens,ssims,psnrs = baseline_eval(testdata,model=unet_recon,mode='equidist',\\\n",
    "                                          base=preselect_num,budget=budget,batchsize=10,device=device)\n",
    "\n",
    "plt.boxplot(ssims.numpy())\n",
    "plt.title(f'SSIM mean={ssims.numpy().mean():.4f}')\n",
    "plt.show()\n",
    "\n",
    "plt.boxplot(psnrs.numpy())\n",
    "plt.title(f'PSNR mean={psnrs.numpy().mean():.4f}')\n",
    "plt.show()\n",
    "\n",
    "plt.boxplot(l1err.numpy())\n",
    "plt.title(f'l1err mean={l1err.numpy().mean():.4f}')\n",
    "plt.show()\n",
    "\n",
    "plt.boxplot(l2err.numpy())\n",
    "plt.title(f'l2err mean={l2err.numpy().mean():.4f}')\n",
    "plt.show()\n",
    "\n",
    "plt.boxplot(hfens.numpy())\n",
    "plt.title(f'HFEN mean={hfens.numpy().mean():.4f}')\n",
    "plt.show()\n",
    "\n",
    "filename = '/mnt/shared_a/checkpoints/leo/mri/8fold_equidist.npz'\n",
    "np.savez(filename,l1err=l1err,l2err=l2err,hfens=hfens,ssims=ssims,psnrs=psnrs)"
   ]
  },
  {
   "cell_type": "code",
   "execution_count": null,
   "id": "32f140e8",
   "metadata": {
    "scrolled": true
   },
   "outputs": [],
   "source": [
    "# load unet\n",
    "unet_inchannels = 2\n",
    "unet_recon = Unet(in_chans=unet_inchannels,out_chans=1,chans=64)\n",
    "unetpath = '/mnt/shared_a/checkpoints/leo/recon/unet_fbr_2_chans_64_equidist_epoch_39.pt'\n",
    "checkpoint = torch.load(unetpath)\n",
    "unet_recon.load_state_dict(checkpoint['model_state_dict'])\n",
    "print('Unet loaded successfully from: ' + unetpath )\n",
    "unet_recon.eval()\n",
    "print('nn\\'s are ready')"
   ]
  },
  {
   "cell_type": "code",
   "execution_count": null,
   "id": "c33ce700",
   "metadata": {},
   "outputs": [],
   "source": [
    "l1err,l2err,hfens,ssims,psnrs = baseline_eval(testdata,model=unet_recon,mode='equidist',\\\n",
    "                                          base=preselect_num,budget=budget,batchsize=10,device=device)\n",
    "\n",
    "plt.boxplot(ssims.numpy())\n",
    "plt.title(f'SSIM mean={ssims.numpy().mean():.4f}')\n",
    "plt.show()\n",
    "\n",
    "plt.boxplot(psnrs.numpy())\n",
    "plt.title(f'PSNR mean={psnrs.numpy().mean():.4f}')\n",
    "plt.show()\n",
    "\n",
    "plt.boxplot(l1err.numpy())\n",
    "plt.title(f'l1err mean={l1err.numpy().mean():.4f}')\n",
    "plt.show()\n",
    "\n",
    "plt.boxplot(l2err.numpy())\n",
    "plt.title(f'l2err mean={l2err.numpy().mean():.4f}')\n",
    "plt.show()\n",
    "\n",
    "plt.boxplot(hfens.numpy())\n",
    "plt.title(f'HFEN mean={hfens.numpy().mean():.4f}')\n",
    "plt.show()\n",
    "\n",
    "filename = '/mnt/shared_a/checkpoints/leo/mri/8fold_equidist.npz'\n",
    "np.savez(filename,l1err=l1err,l2err=l2err,hfens=hfens,ssims=ssims,psnrs=psnrs)"
   ]
  },
  {
   "cell_type": "markdown",
   "id": "4243ae35",
   "metadata": {},
   "source": [
    "## evaluate LOUPE"
   ]
  },
  {
   "cell_type": "code",
   "execution_count": null,
   "id": "1016de9c",
   "metadata": {},
   "outputs": [],
   "source": [
    "# load loupe model\n",
    "loupepath = '/mnt/shared_a/checkpoints/leo/mri/loupe_8fold_base_8_epoch_39.pt'\n",
    "loupe = LOUPE(in_chans=1,unet_skip=False,shape=[heg,wid],sparsity=sparsity,\\\n",
    "                  preselect=True,preselect_num=preselect_num)\n",
    "\n",
    "checkpoint = torch.load(loupepath)\n",
    "loupe.load_state_dict(checkpoint['model_state_dict'])\n",
    "loupe.eval()\n",
    "print(f'loupe model is successfully imported from : {loupepath}')"
   ]
  },
  {
   "cell_type": "code",
   "execution_count": null,
   "id": "ef8dc83a",
   "metadata": {},
   "outputs": [],
   "source": [
    "loupe_mask_highfreq = torch.sigmoid(loupe.samplers[0].gen_mask.slope * loupe.samplers[0].gen_mask.mask)\n",
    "\n",
    "help(mask_complete)\n",
    "\n",
    "if len(loupe_mask_highfreq.shape) == 1:\n",
    "    loupe_mask_highfreq = loupe_mask_highfreq.view(1,-1)\n",
    "loupe_mask_full = mask_complete(loupe_mask_highfreq,320,rolled=False)\n",
    "\n",
    "_,indices = torch.sort(loupe_mask_full[0],descending=True)\n",
    "\n",
    "loupe_mask_fixed = torch.zeros_like(loupe_mask_full)\n",
    "loupe_mask_fixed[0,indices[0:preselect_num+budget]] = 1\n",
    "\n",
    "kplot(loupe_mask_fixed[0,:].detach().numpy(),roll=True)\n",
    "\n",
    "filename = '/mnt/shared_a/checkpoints/leo/mri/loupe_mask_8fold.pt'\n",
    "torch.save({'mask':loupe_mask_fixed},filename)"
   ]
  },
  {
   "cell_type": "code",
   "execution_count": null,
   "id": "353aad2d",
   "metadata": {
    "scrolled": true
   },
   "outputs": [],
   "source": [
    "l1err,l2err,hfens,ssims,psnrs = loupe_eval(loupe,testdata,\\\n",
    "                                           preselect_num=preselect_num,sparsity=sparsity,\\\n",
    "                                           batchsize=10,device=torch.device('cuda:0'))\n",
    "\n",
    "plt.boxplot(ssims.numpy())\n",
    "plt.title(f'SSIM mean={ssims.numpy().mean():.4f}')\n",
    "plt.show()\n",
    "\n",
    "plt.boxplot(psnrs.numpy())\n",
    "plt.title(f'PSNR mean={psnrs.numpy().mean():.4f}')\n",
    "plt.show()\n",
    "\n",
    "plt.boxplot(l1err.numpy())\n",
    "plt.title(f'l1err mean={l1err.numpy().mean():.4f}')\n",
    "plt.show()\n",
    "\n",
    "plt.boxplot(l2err.numpy())\n",
    "plt.title(f'l2err mean={l2err.numpy().mean():.4f}')\n",
    "plt.show()\n",
    "\n",
    "plt.boxplot(hfens.numpy())\n",
    "plt.title(f'HFEN mean={hfens.numpy().mean():.4f}')\n",
    "plt.show()\n",
    "\n",
    "filename = '/mnt/shared_a/checkpoints/leo/mri/8fold_loupe.npz'\n",
    "np.savez(filename,l1err=l1err,l2err=l2err,hfens=hfens,ssims=ssims,psnrs=psnrs)"
   ]
  },
  {
   "cell_type": "markdown",
   "id": "ce1dff3e",
   "metadata": {},
   "source": [
    "# Make figures"
   ]
  },
  {
   "cell_type": "markdown",
   "id": "d851603c",
   "metadata": {},
   "source": [
    "## Accuracy plots"
   ]
  },
  {
   "cell_type": "code",
   "execution_count": null,
   "id": "5a8e9e4a",
   "metadata": {},
   "outputs": [],
   "source": [
    "dir_rec1 = '/mnt/shared_a/checkpoints/leo/mri/8fold_mnetunet_direct.npz'\n",
    "dir_rec2 = '/mnt/shared_a/checkpoints/leo/mri/8fold_mnetunet.npz'\n",
    "dir_rec3 = '/mnt/shared_a/checkpoints/leo/mri/8fold_mnetmodl_chans64.npz'\n",
    "dir_rec4 = '/mnt/shared_a/checkpoints/leo/mri/8fold_loupe.npz'\n",
    "dir_rec5 = '/mnt/shared_a/checkpoints/leo/mri/8fold_rand.npz'\n",
    "dir_rec6 = '/mnt/shared_a/checkpoints/leo/mri/8fold_equidist.npz'\n",
    "dir_rec7 = '/mnt/shared_a/checkpoints/leo/mri/8fold_prob.npz'"
   ]
  },
  {
   "cell_type": "code",
   "execution_count": null,
   "id": "3c0bcb0b",
   "metadata": {},
   "outputs": [],
   "source": [
    "rec1 = np.load(dir_rec1)\n",
    "l1err_mnetunet_dir,l2err_mnetunet_dir,hfens_mnetunet_dir,ssims_mnetunet_dir,psnrs_mnetunet_dir = \\\n",
    "rec1['l1err'], rec1['l2err'], rec1['hfens'], rec1['ssims'], rec1['psnrs']\n",
    "\n",
    "rec2 = np.load(dir_rec2)\n",
    "l1err_mnetunet,l2err_mnetunet,hfens_mnetunet,ssims_mnetunet,psnrs_mnetunet = \\\n",
    "rec2['l1err'], rec2['l2err'], rec2['hfens'], rec2['ssims'], rec2['psnrs']\n",
    "\n",
    "rec3 = np.load(dir_rec3)\n",
    "l1err_mnetmodl,l2err_mnetmodl,hfens_mnetmodl,ssims_mnetmodl,psnrs_mnetmodl = \\\n",
    "rec3['l1err'], rec3['l2err'], rec3['hfens'], rec3['ssims'], rec3['psnrs']\n",
    "\n",
    "rec4 = np.load(dir_rec4)\n",
    "l1err_loupe,l2err_loupe,hfens_loupe,ssims_loupe,psnrs_loupe = \\\n",
    "rec4['l1err'], rec4['l2err'], rec4['hfens'], rec4['ssims'], rec4['psnrs']\n",
    "\n",
    "rec5 = np.load(dir_rec5)\n",
    "l1err_rand,l2err_rand,hfens_rand,ssims_rand,psnrs_rand = \\\n",
    "rec5['l1err'], rec5['l2err'], rec5['hfens'], rec5['ssims'], rec5['psnrs']\n",
    "\n",
    "rec6 = np.load(dir_rec6)\n",
    "l1err_equidist,l2err_equidist,hfens_equidist,ssims_equidist,psnrs_equidist = \\\n",
    "rec6['l1err'], rec6['l2err'], rec6['hfens'], rec6['ssims'], rec6['psnrs']\n",
    "\n",
    "rec7 = np.load(dir_rec7)\n",
    "l1err_prob,l2err_prob,hfens_prob,ssims_prob,psnrs_prob = \\\n",
    "rec7['l1err'], rec7['l2err'], rec7['hfens'], rec7['ssims'], rec7['psnrs']"
   ]
  },
  {
   "cell_type": "code",
   "execution_count": null,
   "id": "57fe7a26",
   "metadata": {},
   "outputs": [],
   "source": [
    "file = rec6\n",
    "for key in file.files:\n",
    "    print(f'{key}: {np.mean(file[key])}')"
   ]
  },
  {
   "cell_type": "code",
   "execution_count": null,
   "id": "694d8943",
   "metadata": {},
   "outputs": [],
   "source": [
    "file = rec6\n",
    "key = 'l2err'\n",
    "print(f'NMSE: { np.mean(file[key]**2) }')"
   ]
  },
  {
   "cell_type": "code",
   "execution_count": null,
   "id": "5a1c1b0d",
   "metadata": {
    "scrolled": false
   },
   "outputs": [],
   "source": [
    "# Figure: Accuracy comparison\n",
    "\n",
    "figsize=(29,17)\n",
    "label_fontsize = 26\n",
    "xtick_fontsize  = 19\n",
    "ytick_fontsize  = 26\n",
    "rotation_angle = 19\n",
    "nrows=2\n",
    "ncols=2\n",
    "\n",
    "plt.clf()\n",
    "fig, axs = plt.subplots(nrows=nrows, ncols=ncols, sharex=False, figsize=figsize)\n",
    "labels = ['MNet-Unet-co', 'MNet-Unet-sep','MNet-MoDL','LOUPE','Energy-Unet','Rand.-Unet', 'Equidist.-Unet']\n",
    "\n",
    "data = [l1err_mnetunet_dir,l1err_mnetunet,l1err_mnetmodl,l1err_loupe,l1err_prob,l1err_rand,l1err_equidist]\n",
    "axs[0,0].boxplot(data,notch=True,showmeans=True)\n",
    "axs[0,0].set_xticklabels(labels,fontsize=label_fontsize)\n",
    "axs[0,0].set_ylabel(r\"Rel. $\\ell_1$ error\",fontsize=label_fontsize)\n",
    "axs[0,0].set_ylim([0, 0.5])\n",
    "axs[0,0].tick_params(axis='x', which='major', labelsize=xtick_fontsize,rotation=rotation_angle)\n",
    "axs[0,0].tick_params(axis='y', which='major', labelsize=ytick_fontsize,rotation=0)\n",
    "\n",
    "data = [l2err_mnetunet_dir**2,l2err_mnetunet**2,l2err_mnetmodl**2,l2err_loupe**2,l2err_prob**2,l2err_rand**2,l2err_equidist**2]\n",
    "axs[0,1].boxplot(data,notch=True,showmeans=True)\n",
    "axs[0,1].set_xticklabels(labels,fontsize=label_fontsize)\n",
    "axs[0,1].set_ylabel(r\"NMSE\",fontsize=label_fontsize)\n",
    "# axs[0,1].set_ylabel(r\"Rel. $\\ell_2$ error\",fontsize=label_fontsize)\n",
    "axs[0,1].set_ylim([0, 0.1])\n",
    "axs[0,1].tick_params(axis='x', which='major', labelsize=xtick_fontsize,rotation=rotation_angle)\n",
    "axs[0,1].tick_params(axis='y', which='major', labelsize=ytick_fontsize,rotation=0)\n",
    "\n",
    "data = [hfens_mnetunet_dir,hfens_mnetunet,hfens_mnetmodl,hfens_loupe,hfens_prob,hfens_rand,hfens_equidist]\n",
    "axs[1,0].boxplot(data,notch=True,showmeans=True)\n",
    "axs[1,0].set_xticklabels(labels,fontsize=label_fontsize)\n",
    "axs[1,0].set_ylabel(r\"HFEN\",fontsize=label_fontsize)\n",
    "axs[1,0].set_ylim([0, 1])\n",
    "axs[1,0].tick_params(axis='x', which='major', labelsize=xtick_fontsize,rotation=rotation_angle)\n",
    "axs[1,0].tick_params(axis='y', which='major', labelsize=ytick_fontsize,rotation=0)\n",
    "\n",
    "data = [ssims_mnetunet_dir,ssims_mnetunet,ssims_mnetmodl,ssims_loupe,ssims_prob,ssims_rand,ssims_equidist]\n",
    "axs[1,1].boxplot(data,notch=True,showmeans=True)\n",
    "axs[1,1].set_xticklabels(labels,fontsize=label_fontsize)\n",
    "axs[1,1].set_ylabel(r\"SSIM\",fontsize=label_fontsize)\n",
    "axs[1,1].tick_params(axis='x', which='major', labelsize=xtick_fontsize,rotation=rotation_angle)\n",
    "axs[1,1].tick_params(axis='y', which='major', labelsize=ytick_fontsize,rotation=0)\n",
    "\n",
    "# data = [psnrs_mnetunet_dir/2,psnrs_mnetunet/2,psnrs_mnetmodl,psnrs_loupe/2,psnrs_rand/2,psnrs_equidist/2]\n",
    "# axs[1,1].boxplot(data,notch=True,showmeans=True)\n",
    "# axs[1,1].set_xticklabels(labels,fontsize=label_fontsize)\n",
    "# axs[1,1].set_ylabel(r\"PSNR\",fontsize=label_fontsize)\n",
    "# axs[1,1].tick_params(axis='x', which='major', labelsize=xtick_fontsize,rotation=rotation_angle)\n",
    "# axs[1,1].tick_params(axis='y', which='major', labelsize=ytick_fontsize,rotation=0)\n",
    "\n",
    "# axs[-1, -1].axis('off')\n",
    "fig_curr = plt.gcf()\n",
    "plt.show()\n",
    "plt.draw()\n",
    "dir_fig = '/home/huangz78/mri/figures/accuracy_8fold.eps'\n",
    "fig_curr.savefig(dir_fig,format='eps',dpi=600,transparent=True,bbox_inches='tight')"
   ]
  },
  {
   "cell_type": "markdown",
   "id": "2108d4c1",
   "metadata": {},
   "source": [
    "## Recon example plots"
   ]
  },
  {
   "cell_type": "code",
   "execution_count": null,
   "id": "194651dc",
   "metadata": {
    "scrolled": true
   },
   "outputs": [],
   "source": [
    "# specify sampling parameters\n",
    "heg = 320\n",
    "wid = 320\n",
    "sparsity = .125\n",
    "preselect_num = 8\n",
    "budget = int(heg * sparsity - preselect_num)\n",
    "\n",
    "print(f'base corefreq is {preselect_num}, sampling budget is {budget}')\n",
    "\n",
    "# load mnet\n",
    "mnet = MNet(beta=1,in_chans=2,out_size=320-preselect_num, imgsize=(heg,wid),poolk=3)\n",
    "mnetpath = '/mnt/shared_a/checkpoints/leo/mri/mnet_v2_split_trained_cf_8_bg_32_unet_in_chan_1_epoch9.pt'\n",
    "\n",
    "checkpoint = torch.load(mnetpath)\n",
    "mnet.load_state_dict(checkpoint['model_state_dict'])\n",
    "# mnet.apply(mnet_weights_init)\n",
    "mnet.eval()\n",
    "print('MNet loaded successfully from: ' + mnetpath)\n",
    "\n",
    "## load Unet-CO\n",
    "unet_co = UNet(in_chans=1,n_classes=1,bilinear=False,skip=True)\n",
    "unet_co_path = '/mnt/shared_a/checkpoints/leo/mri/unet_v2_split_trained_cf_8_bg_32_unet_in_chan_1_epoch9.pt'\n",
    "\n",
    "checkpoint = torch.load(unet_co_path)\n",
    "unet_co.load_state_dict(checkpoint['model_state_dict'])\n",
    "unet_co.eval()\n",
    "print('Unet_co loaded successfully from: ' + unet_co_path )\n",
    "\n",
    "# load unet-SEP\n",
    "unet_inchannels = 2\n",
    "unet_sep = Unet(in_chans=unet_inchannels,out_chans=1,chans=64)\n",
    "unet_sep_path = '/mnt/shared_a/checkpoints/leo/recon/unet_fbr_2_chans_64_epoch_39.pt'\n",
    "\n",
    "checkpoint = torch.load(unet_sep_path)\n",
    "unet_sep.load_state_dict(checkpoint['model_state_dict'])\n",
    "unet_sep.eval()\n",
    "print('Unet_sep loaded successfully from: ' + unet_sep_path )\n",
    "\n",
    "# load MoDL\n",
    "modl = MoDL(in_chans=2,out_chans=2,chans=64,num_pool_layers=4,drop_prob=0,CG_steps=4)\n",
    "modlpath = '/mnt/shared_a/checkpoints/leo/recon/MoDL_mnet_2_chans_64_base8_budget32_epoch_39.pt'\n",
    "checkpoint = torch.load(modlpath)\n",
    "modl.load_state_dict(checkpoint['model_state_dict'])\n",
    "modl.eval()\n",
    "print(f'MoDL model loaded successfully from {modlpath}')\n",
    "\n",
    "# load loupe model\n",
    "loupepath = '/mnt/shared_a/checkpoints/leo/mri/loupe_8fold_base_8_epoch_39.pt'\n",
    "loupe = LOUPE(in_chans=1,unet_skip=False,shape=[heg,wid],sparsity=sparsity,\\\n",
    "                  preselect=True,preselect_num=preselect_num)\n",
    "\n",
    "checkpoint = torch.load(loupepath)\n",
    "loupe.load_state_dict(checkpoint['model_state_dict'])\n",
    "loupe.eval()\n",
    "print(f'loupe model is successfully imported from : {loupepath}')\n",
    "\n",
    "# load baseline - Unet_Rand\n",
    "unet_inchannels = 2\n",
    "unet_rand = Unet(in_chans=unet_inchannels,out_chans=1,chans=64)\n",
    "unet_rand_path = '/mnt/shared_a/checkpoints/leo/recon/unet_fbr_2_chans_64_rand_epoch_38.pt'\n",
    "\n",
    "checkpoint = torch.load(unet_rand_path)\n",
    "unet_rand.load_state_dict(checkpoint['model_state_dict'])\n",
    "unet_rand.eval()\n",
    "print('Unet_rand loaded successfully from: ' + unet_rand_path )\n",
    "\n",
    "# load baseline - Unet-Equidist\n",
    "unet_inchannels = 2\n",
    "unet_equidist = Unet(in_chans=unet_inchannels,out_chans=1,chans=64)\n",
    "unet_equidist_path = '/mnt/shared_a/checkpoints/leo/recon/unet_fbr_2_chans_64_equidist_epoch_39.pt'\n",
    "\n",
    "checkpoint = torch.load(unet_equidist_path)\n",
    "unet_equidist.load_state_dict(checkpoint['model_state_dict'])\n",
    "unet_equidist.eval()\n",
    "print('Unet loaded successfully from: ' + unet_equidist_path )\n",
    "\n",
    "# load baseline - Unet-Energy\n",
    "# load unet\n",
    "unet_inchannels = 2\n",
    "unet_prob = Unet(in_chans=unet_inchannels,out_chans=1,chans=64)\n",
    "unet_prob_path = '/mnt/shared_a/checkpoints/leo/recon/unet_fbr_2_chans_64_prob_epoch_39.pt'\n",
    "\n",
    "checkpoint = torch.load(unet_prob_path)\n",
    "unet_prob.load_state_dict(checkpoint['model_state_dict'])\n",
    "unet_prob.eval()\n",
    "energy_filepath = '/mnt/shared_a/checkpoints/leo/mri/8fold_prob_energy_vec.npz'\n",
    "energy_vec = np.load(energy_filepath)['energy_vec']\n",
    "print('Unet loaded successfully from: ' + unet_prob_path )"
   ]
  },
  {
   "cell_type": "code",
   "execution_count": null,
   "id": "c6f43696",
   "metadata": {},
   "outputs": [],
   "source": [
    "imgind = 648 # np.random.randint(testdata.shape[0]) # val 684, 1153, 648, test 648\n",
    "print(f'current image index: {imgind}')\n",
    "img    = testdata[imgind,:,:].unsqueeze(0).to(torch.float)\n",
    "batchsize = 1\n",
    "print(f'shape of img: {img.shape}')\n",
    "\n",
    "plt.figure()\n",
    "plt.imshow(img[0,:,:],origin='lower')\n",
    "plt.title('ground truth')\n",
    "plt.colorbar()\n",
    "plt.show()\n",
    "\n",
    "model_in_chans = 1\n",
    "with torch.no_grad():\n",
    "    test_1ch, mask_1ch = mnet_getinput(mnet,img,base=preselect_num,budget=budget,batchsize=batchsize,\\\n",
    "                                  unet_channels=model_in_chans,return_mask=True,device=device)\n",
    "print(f'shape of test_1ch: {test_1ch.shape}')\n",
    "print(f'shape of mask_1ch: {mask_1ch.shape}')\n",
    "\n",
    "model_in_chans = 2\n",
    "with torch.no_grad():\n",
    "    test_2ch, mask_2ch = mnet_getinput(mnet,img,base=preselect_num,budget=budget,batchsize=batchsize,\\\n",
    "                                  unet_channels=model_in_chans,return_mask=True,device=device)\n",
    "print(f'shape of test_2ch: {test_2ch.shape}')\n",
    "print(f'shape of mask_2ch: {mask_2ch.shape}')\n",
    "\n",
    "model_in_chans = 2\n",
    "with torch.no_grad():\n",
    "    test_rand, mask_rand = base_getinput(img,base=preselect_num,budget=budget,batchsize=batchsize,\\\n",
    "                                  unet_channels=model_in_chans,mode='rand',return_mask=True)\n",
    "print(f'shape of test_rand: {test_rand.shape}')\n",
    "print(f'shape of mask_rand: {mask_rand.shape}')\n",
    "\n",
    "model_in_chans = 2\n",
    "with torch.no_grad():\n",
    "    test_equidist, mask_equidist = base_getinput(img,base=preselect_num,budget=budget,batchsize=batchsize,\\\n",
    "                            unet_channels=model_in_chans,mode='equidist',return_mask=True)\n",
    "print(f'shape of test_equidist: {test_equidist.shape}')\n",
    "print(f'shape of mask_equidist: {mask_equidist.shape}')\n",
    "\n",
    "model_in_chans = 2\n",
    "with torch.no_grad():\n",
    "    test_prob, mask_prob = energydist_getinput(img,base=preselect_num,budget=budget,\\\n",
    "                                               unet_channels=model_in_chans,energy_vec=energy_vec,return_dist=True)\n",
    "print(f'shape of test_prob: {test_prob.shape}')\n",
    "print(f'shape of mask_prob: {mask_prob.shape}')"
   ]
  },
  {
   "cell_type": "code",
   "execution_count": null,
   "id": "f23fa78a",
   "metadata": {},
   "outputs": [],
   "source": [
    "kplot(mask_prob[0,:],roll=False)"
   ]
  },
  {
   "cell_type": "markdown",
   "id": "48c4097c",
   "metadata": {},
   "source": [
    " - Mnet-Unet-Co"
   ]
  },
  {
   "cell_type": "code",
   "execution_count": null,
   "id": "b447fa36",
   "metadata": {},
   "outputs": [],
   "source": [
    "with torch.no_grad():\n",
    "    recon_co = unet_co(test_1ch).detach()\n",
    "    nmse_co  = lpnorm(recon_co,img.unsqueeze(1))**2\n",
    "    ssim_co  = ssim_uniform(recon_co,img.unsqueeze(1))\n",
    "    psnr_co  = compute_psnr(recon_co,img.unsqueeze(1))\n",
    "    recon_co = recon_co[0,0,:,:] # 2D image\n",
    "    print(f'nmse_co = {nmse_co}')\n",
    "    print(f'ssim_co = {ssim_co}')\n",
    "    print(f'psnr_co = {psnr_co.item()}')"
   ]
  },
  {
   "cell_type": "code",
   "execution_count": null,
   "id": "75b92df6",
   "metadata": {},
   "outputs": [],
   "source": [
    "plt.figure()\n",
    "plt.imshow(recon_co,origin='lower')\n",
    "plt.colorbar()\n",
    "plt.show()"
   ]
  },
  {
   "cell_type": "markdown",
   "id": "6ff798d9",
   "metadata": {},
   "source": [
    " - Mnet-Unet-Sep"
   ]
  },
  {
   "cell_type": "code",
   "execution_count": null,
   "id": "766557fe",
   "metadata": {},
   "outputs": [],
   "source": [
    "with torch.no_grad():\n",
    "    recon_sep = unet_sep(test_2ch).detach()\n",
    "    nmse_sep  = lpnorm(recon_sep,img.unsqueeze(1))**2\n",
    "    ssim_sep  = ssim_uniform(recon_sep,img.unsqueeze(1))\n",
    "    psnr_sep  = compute_psnr(recon_sep,img.unsqueeze(1))\n",
    "    recon_sep = recon_sep[0,0,:,:] # 2D image\n",
    "    print(f'nmse_sep = {nmse_sep}')\n",
    "    print(f'ssim_sep = {ssim_sep}')\n",
    "    print(f'psnr_sep = {psnr_sep.item()}')"
   ]
  },
  {
   "cell_type": "code",
   "execution_count": null,
   "id": "c0c25e3c",
   "metadata": {},
   "outputs": [],
   "source": [
    "plt.figure()\n",
    "plt.imshow(recon_sep,origin='lower')\n",
    "plt.colorbar()\n",
    "plt.show()"
   ]
  },
  {
   "cell_type": "markdown",
   "id": "d5fd748e",
   "metadata": {},
   "source": [
    " - Mnet-MoDL"
   ]
  },
  {
   "cell_type": "code",
   "execution_count": null,
   "id": "419a46d2",
   "metadata": {
    "scrolled": true
   },
   "outputs": [],
   "source": [
    "mask = torch.zeros_like(img,dtype=torch.float)\n",
    "mask[0] = mask_2ch[0].unsqueeze(1).repeat(1,img.shape[2])\n",
    "mask = mask.unsqueeze(1).repeat(1,2,1,1)\n",
    "\n",
    "smap = torch.ones(test_2ch.shape).unsqueeze(1)\n",
    "with torch.no_grad():\n",
    "    recon_modl = modl(test_2ch,smap,mask).detach()\n",
    "    nmse_modl  = lpnorm(recon_modl[0:1,0:1,:,:],img.unsqueeze(1))**2\n",
    "    ssim_modl  = ssim_uniform(recon_modl[0:1,0:1,:,:],img.unsqueeze(1))\n",
    "    psnr_modl  = compute_psnr(recon_modl[0:1,0:1,:,:],img.unsqueeze(1))\n",
    "    recon_modl = recon_modl[0,0,:,:] # 2D image\n",
    "    print(f'nmse_modl = {nmse_modl}')\n",
    "    print(f'ssim_modl = {ssim_modl}')\n",
    "    print(f'psnr_modl = {psnr_modl.item()}')"
   ]
  },
  {
   "cell_type": "code",
   "execution_count": null,
   "id": "cbe32007",
   "metadata": {},
   "outputs": [],
   "source": [
    "plt.figure()\n",
    "plt.imshow(recon_modl,origin='lower')\n",
    "plt.colorbar()\n",
    "plt.show()"
   ]
  },
  {
   "cell_type": "markdown",
   "id": "0882f0c7",
   "metadata": {},
   "source": [
    " - LOUPE"
   ]
  },
  {
   "cell_type": "code",
   "execution_count": null,
   "id": "cc584480",
   "metadata": {},
   "outputs": [],
   "source": [
    "xstar = img.unsqueeze(1).to(torch.float)\n",
    "ystar = F.fftn(xstar,dim=(2,3),norm='ortho')\n",
    "\n",
    "with torch.no_grad():\n",
    "    recon_loupe,mask_loupe = loupe(ystar)\n",
    "    nmse_loupe  = lpnorm(recon_loupe,img.unsqueeze(1))**2\n",
    "    ssim_loupe  = ssim_uniform(recon_loupe,img.unsqueeze(1))\n",
    "    psnr_loupe  = compute_psnr(recon_loupe,img.unsqueeze(1))\n",
    "    recon_loupe = recon_loupe.detach()[0,0,:,:]\n",
    "\n",
    "    mask_loupe = torch.squeeze(mask_loupe.detach())\n",
    "\n",
    "    print(f'shape of mask_loupe: {mask_loupe.shape}')\n",
    "    print(f'nmse_modl = {nmse_loupe}')\n",
    "    print(f'ssim_loupe = {ssim_loupe}')\n",
    "    print(f'psnr_loupe = {psnr_loupe.item()}')"
   ]
  },
  {
   "cell_type": "code",
   "execution_count": null,
   "id": "cbc06924",
   "metadata": {},
   "outputs": [],
   "source": [
    "plt.figure()\n",
    "plt.imshow(recon_loupe,origin='lower')\n",
    "plt.colorbar()\n",
    "plt.show()"
   ]
  },
  {
   "cell_type": "markdown",
   "id": "2e3ec83e",
   "metadata": {},
   "source": [
    " - rand, baseline"
   ]
  },
  {
   "cell_type": "code",
   "execution_count": null,
   "id": "1b7fc205",
   "metadata": {},
   "outputs": [],
   "source": [
    "with torch.no_grad():\n",
    "    recon_rand = unet_rand(test_rand).detach()\n",
    "    nmse_rand  = lpnorm(recon_rand,img.unsqueeze(1))**2\n",
    "    ssim_rand  = ssim_uniform(recon_rand,img.unsqueeze(1))\n",
    "    psnr_rand  = compute_psnr(recon_rand,img.unsqueeze(1))\n",
    "    recon_rand = recon_rand[0,0,:,:] # 2D image\n",
    "    print(f'nmse_rand = {nmse_rand}')\n",
    "    print(f'ssim_rand = {ssim_rand}')\n",
    "    print(f'psnr_rand = {psnr_rand.item()}')"
   ]
  },
  {
   "cell_type": "code",
   "execution_count": null,
   "id": "b697d681",
   "metadata": {},
   "outputs": [],
   "source": [
    "plt.figure()\n",
    "plt.imshow(recon_rand,origin='lower')\n",
    "plt.colorbar()\n",
    "plt.show()"
   ]
  },
  {
   "cell_type": "markdown",
   "id": "c506af10",
   "metadata": {},
   "source": [
    " - equidist., baseline"
   ]
  },
  {
   "cell_type": "code",
   "execution_count": null,
   "id": "d3296ab4",
   "metadata": {},
   "outputs": [],
   "source": [
    "with torch.no_grad():\n",
    "    recon_equidist = unet_equidist(test_equidist).detach()\n",
    "    nmse_equidist  = lpnorm(recon_equidist,img.unsqueeze(1))**2\n",
    "    ssim_equidist  = ssim_uniform(recon_equidist,img.unsqueeze(1))\n",
    "    psnr_equidist  = compute_psnr(recon_equidist,img.unsqueeze(1))\n",
    "    recon_equidist = recon_equidist[0,0,:,:] # 2D image\n",
    "    print(f'nmse_equidist = {nmse_equidist}')\n",
    "    print(f'ssim_equidist = {ssim_equidist}')\n",
    "    print(f'psnr_equidist = {psnr_equidist.item()}')"
   ]
  },
  {
   "cell_type": "code",
   "execution_count": null,
   "id": "e7761d1d",
   "metadata": {},
   "outputs": [],
   "source": [
    "plt.figure()\n",
    "plt.imshow(recon_equidist,origin='lower')\n",
    "plt.colorbar()\n",
    "plt.show()"
   ]
  },
  {
   "cell_type": "markdown",
   "id": "e793ba7d",
   "metadata": {},
   "source": [
    "- prob., baseline"
   ]
  },
  {
   "cell_type": "code",
   "execution_count": null,
   "id": "3fb4ff34",
   "metadata": {},
   "outputs": [],
   "source": [
    "model_in_chans = 2\n",
    "with torch.no_grad():\n",
    "    test_prob, mask_prob = energydist_getinput(img,base=preselect_num,budget=budget,\\\n",
    "                                               unet_channels=model_in_chans,energy_vec=energy_vec,return_dist=True)\n",
    "\n",
    "with torch.no_grad():\n",
    "    recon_prob = unet_prob(test_prob).detach()\n",
    "    nmse_prob  = lpnorm(recon_prob,img.unsqueeze(1))**2\n",
    "    ssim_prob  = ssim_uniform(recon_prob,img.unsqueeze(1))\n",
    "    psnr_prob  = compute_psnr(recon_prob,img.unsqueeze(1))\n",
    "    recon_prob = recon_prob[0,0,:,:] # 2D image\n",
    "    print(f'nmse_prob = {nmse_prob}')\n",
    "    print(f'ssim_prob = {ssim_prob}')\n",
    "    print(f'psnr_prob = {psnr_prob.item()}')"
   ]
  },
  {
   "cell_type": "code",
   "execution_count": null,
   "id": "71d35746",
   "metadata": {},
   "outputs": [],
   "source": [
    "imgFile = '/mnt/shared_a/checkpoints/leo/recon/recon_imgs.pt'\n",
    "torch.save({'recon_co':recon_co,'recon_sep':recon_sep,'recon_modl':recon_modl,'recon_loupe':recon_loupe,\\\n",
    "            'recon_rand':recon_rand,'recon_equidist':recon_equidist,'prob':recon_prob},imgFile)"
   ]
  },
  {
   "cell_type": "markdown",
   "id": "638cf84d",
   "metadata": {},
   "source": [
    "- make plots"
   ]
  },
  {
   "cell_type": "code",
   "execution_count": null,
   "id": "60ee4d6d",
   "metadata": {},
   "outputs": [],
   "source": [
    "figsize=(21,15)\n",
    "label_fontsize  = 15\n",
    "\n",
    "nrows=2; \n",
    "ncols=4\n",
    "\n",
    "plt.clf()\n",
    "fig, axs = plt.subplots(nrows=nrows, ncols=ncols, sharex=False, figsize=figsize)\n",
    "labels = ['MNet-Unet-co', 'MNet-Unet-sep','MNet-MoDL','LOUPE','Prob.-Unet','Rand.-Unet', 'Equidist.-Unet']\n",
    "\n",
    "axs[0,0].imshow(img[0,:,:],cmap='gray',origin='lower',vmin=0, vmax=1)\n",
    "axs[0,0].set_xticks([])\n",
    "axs[0,0].set_yticks([])\n",
    "axs[0,0].set_title('Ground truth,  SSIM,  NMSE',fontsize=label_fontsize) #, PSNR\n",
    "\n",
    "# axs[0,0].axis('off')\n",
    "# axs[1,0].axis('off')\n",
    "\n",
    "axs[0,1].imshow(recon_co,cmap='gray',origin='lower',vmin=0, vmax=1)\n",
    "axs[0,1].set_xticks([])\n",
    "axs[0,1].set_yticks([])\n",
    "axs[0,1].set_title(f'MNet-Unet-CO,  {ssim_co:.4f},  {nmse_co.item():.5f}',fontsize=label_fontsize) #, {psnr_co.item():.4f}\n",
    "\n",
    "axs[0,2].imshow(recon_sep,cmap='gray',origin='lower',vmin=0, vmax=1)\n",
    "axs[0,2].set_xticks([])\n",
    "axs[0,2].set_yticks([])\n",
    "axs[0,2].set_title(f'MNet-Unet-SEP,  {ssim_sep:.4f},  {nmse_sep.item():.5f}',fontsize=label_fontsize) #, {psnr_sep.item():.4f}\n",
    "\n",
    "axs[0,3].imshow(recon_modl,cmap='gray',origin='lower',vmin=0, vmax=1)\n",
    "axs[0,3].set_xticks([])\n",
    "axs[0,3].set_yticks([])\n",
    "# axs[0,3].set_title(f'MNet-MoDL,  {ssim_modl:.4f},  {nmse_modl.item():.5f}',fontsize=label_fontsize) #, {psnr_modl.item():.4f}\n",
    "axs[0,3].set_title(f'MNet-MoDL,  {0.8319:.4f},  {0.01013:.5f}',fontsize=label_fontsize) #, {psnr_modl.item():.4f}\n",
    "\n",
    "\n",
    "axs[1,0].imshow(recon_loupe,cmap='gray',origin='lower',vmin=0, vmax=1)\n",
    "axs[1,0].set_xticks([])\n",
    "axs[1,0].set_yticks([])\n",
    "axs[1,0].set_title(f'LOUPE, {ssim_loupe:.4f}, {nmse_loupe.item():.5f}',fontsize=label_fontsize) #, {psnr_loupe.item():.4f}\n",
    "\n",
    "axs[1,1].imshow(recon_prob,cmap='gray',origin='lower',vmin=0, vmax=1)\n",
    "axs[1,1].set_xticks([])\n",
    "axs[1,1].set_yticks([])\n",
    "axs[1,1].set_title(f'prob.-Unet, {ssim_prob:.4f}, {nmse_prob.item():.5f}',fontsize=label_fontsize) #, {psnr_loupe.item():.4f}\n",
    "\n",
    "axs[1,2].imshow(recon_rand,cmap='gray',origin='lower',vmin=0, vmax=1)\n",
    "axs[1,2].set_xticks([])\n",
    "axs[1,2].set_yticks([])\n",
    "axs[1,2].set_title(f'rand.-Unet,  {ssim_rand:.4f},  {nmse_rand.item():.5f}',fontsize=label_fontsize) #, {psnr_rand.item():.4f}\n",
    "\n",
    "axs[1,3].imshow(recon_equidist,cmap='gray',origin='lower',vmin=0, vmax=1)\n",
    "axs[1,3].set_xticks([])\n",
    "axs[1,3].set_yticks([])\n",
    "axs[1,3].set_title(f'equidist.-Unet,  {ssim_equidist:.4f},  {nmse_equidist.item():.5f}',fontsize=label_fontsize) #, {psnr_rand.item():.4f}\n",
    "\n",
    "plt.subplots_adjust(wspace=.02, hspace=-.35)\n",
    "fig_curr = plt.gcf()\n",
    "plt.show()\n",
    "plt.draw()\n",
    "dir_fig = '/home/huangz78/mri/figures/8fold_recon_examples_new.eps'\n",
    "fig_curr.savefig(dir_fig,format='eps',dpi=600,transparent=True,bbox_inches='tight')"
   ]
  },
  {
   "cell_type": "markdown",
   "id": "60284f17",
   "metadata": {},
   "source": [
    "## Mask example plots"
   ]
  },
  {
   "cell_type": "markdown",
   "id": "cbdf5d7c",
   "metadata": {},
   "source": [
    "- masks for this image: MNet, LOUPE, rand, equidist"
   ]
  },
  {
   "cell_type": "code",
   "execution_count": null,
   "id": "14a4175b",
   "metadata": {},
   "outputs": [],
   "source": [
    "def mask_1dTo2d(masks,heg=320,wid=320):\n",
    "    '''\n",
    "    the input masks have the shape NH\n",
    "    '''\n",
    "    masks2d = torch.zeros(len(masks),heg,wid,dtype=torch.float)\n",
    "    for ind in range(len(masks)):\n",
    "        mask1d = masks[ind]\n",
    "        masks2d[ind] = mask1d.unsqueeze(1).repeat(1,wid)\n",
    "    return masks2d"
   ]
  },
  {
   "cell_type": "code",
   "execution_count": null,
   "id": "24b9b787",
   "metadata": {},
   "outputs": [],
   "source": [
    "mask_mnet     = mask_1dTo2d(mask_1ch)\n",
    "mask_loupe    = mask_1dTo2d(mask_loupe.unsqueeze(0))\n",
    "mask_rand     = mask_1dTo2d(mask_rand)\n",
    "mask_equidist = mask_1dTo2d(mask_equidist)\n",
    "mask_prob     = mask_1dTo2d(mask_prob)\n",
    "# mask_rand     = mask_1dTo2d(mask_rand.unsqueeze(0))\n",
    "# mask_equidist = mask_1dTo2d(mask_equidist.unsqueeze(0))\n",
    "# mask_prob     = mask_1dTo2d(mask_prob.unsqueeze(0))"
   ]
  },
  {
   "cell_type": "code",
   "execution_count": null,
   "id": "212313e8",
   "metadata": {},
   "outputs": [],
   "source": [
    "figsize=(18,18)\n",
    "label_fontsize  = 15\n",
    "\n",
    "nrows=1; \n",
    "ncols=5\n",
    "\n",
    "plt.clf()\n",
    "fig, axs = plt.subplots(nrows=nrows, ncols=ncols, sharex=False, figsize=figsize)\n",
    "\n",
    "axs[0].imshow(F.fftshift(mask_mnet[0,:,:]),cmap='gray',origin='lower',vmin=0, vmax=1)\n",
    "axs[0].set_xticks([])\n",
    "axs[0].set_yticks([])\n",
    "axs[0].set_title('MNet',fontsize=label_fontsize)\n",
    "\n",
    "axs[1].imshow(F.fftshift(mask_loupe[0,:,:]),cmap='gray',origin='lower',vmin=0, vmax=1)\n",
    "axs[1].set_xticks([])\n",
    "axs[1].set_yticks([])\n",
    "axs[1].set_title('LOUPE',fontsize=label_fontsize)\n",
    "\n",
    "axs[2].imshow(F.fftshift(mask_rand[0,:,:]),cmap='gray',origin='lower',vmin=0, vmax=1)\n",
    "axs[2].set_xticks([])\n",
    "axs[2].set_yticks([])\n",
    "axs[2].set_title('Random',fontsize=label_fontsize)\n",
    "\n",
    "axs[3].imshow(F.fftshift(mask_equidist[0,:,:]),cmap='gray',origin='lower',vmin=0, vmax=1)\n",
    "axs[3].set_xticks([])\n",
    "axs[3].set_yticks([])\n",
    "axs[3].set_title('Equi-distance',fontsize=label_fontsize)\n",
    "\n",
    "axs[4].imshow(mask_prob[0,:,:],cmap='gray',origin='lower',vmin=0, vmax=1)\n",
    "axs[4].set_xticks([])\n",
    "axs[4].set_yticks([])\n",
    "axs[4].set_title('Energy-samp',fontsize=label_fontsize)\n",
    "\n",
    "\n",
    "plt.subplots_adjust(wspace=.015, hspace=0)\n",
    "fig_curr = plt.gcf()\n",
    "plt.show()\n",
    "plt.draw()\n",
    "dir_fig = '/home/huangz78/mri/figures/8fold_masks_new.eps'\n",
    "fig_curr.savefig(dir_fig,format='eps',dpi=600,transparent=True,bbox_inches='tight')"
   ]
  },
  {
   "cell_type": "markdown",
   "id": "91fa61b5",
   "metadata": {},
   "source": [
    "- Examples of multiple MNet masks "
   ]
  },
  {
   "cell_type": "code",
   "execution_count": null,
   "id": "c2448f45",
   "metadata": {},
   "outputs": [],
   "source": [
    "batchsize = 3\n",
    "imginds = np.random.randint(testdata.shape[0],size=batchsize)\n",
    "imginds = [1246 , 219 , 167]\n",
    "print(f'current image index: {imginds}')\n",
    "imgs   = testdata[imginds,:,:]\n",
    "print(f'shape of img: {imgs.shape}')\n",
    "\n",
    "_, masks = mnet_getinput(mnet,imgs,base=preselect_num,budget=budget,batchsize=batchsize,\\\n",
    "                                  unet_channels=1,return_mask=True,device=device)\n",
    "print(f'shape of masks: {masks.shape}')\n",
    "masks = mask_1dTo2d(masks)"
   ]
  },
  {
   "cell_type": "code",
   "execution_count": null,
   "id": "bd0f2e16",
   "metadata": {},
   "outputs": [],
   "source": [
    "figsize=(12,7)\n",
    "label_fontsize  = 15\n",
    "\n",
    "nrows=2 \n",
    "ncols=3\n",
    "\n",
    "plt.clf()\n",
    "fig, axs = plt.subplots(nrows=nrows, ncols=ncols, sharex=False, figsize=figsize)\n",
    "\n",
    "axs[0,0].imshow(imgs[0,:,:],cmap='gray',origin='lower',vmin=0, vmax=1)\n",
    "axs[0,0].set_xticks([])\n",
    "axs[0,0].set_yticks([])\n",
    "\n",
    "axs[1,0].imshow(F.fftshift(masks[0,:,:]),cmap='gray',origin='lower',vmin=0, vmax=1)\n",
    "axs[1,0].set_xticks([])\n",
    "axs[1,0].set_yticks([])\n",
    "\n",
    "axs[0,1].imshow(imgs[1,:,:],cmap='gray',origin='lower',vmin=0, vmax=1)\n",
    "axs[0,1].set_xticks([])\n",
    "axs[0,1].set_yticks([])\n",
    "\n",
    "axs[1,1].imshow(F.fftshift(masks[1,:,:]),cmap='gray',origin='lower',vmin=0, vmax=1)\n",
    "axs[1,1].set_xticks([])\n",
    "axs[1,1].set_yticks([])\n",
    "\n",
    "axs[0,2].imshow(imgs[2,:,:],cmap='gray',origin='lower',vmin=0, vmax=1)\n",
    "axs[0,2].set_xticks([])\n",
    "axs[0,2].set_yticks([])\n",
    "\n",
    "axs[1,2].imshow(F.fftshift(masks[2,:,:]),cmap='gray',origin='lower',vmin=0, vmax=1)\n",
    "axs[1,2].set_xticks([])\n",
    "axs[1,2].set_yticks([])\n",
    "\n",
    "# axs[0,3].imshow(imgs[3,:,:],cmap='gray',origin='lower',vmin=0, vmax=1)\n",
    "# axs[0,3].set_xticks([])\n",
    "# axs[0,3].set_yticks([])\n",
    "\n",
    "# axs[1,3].imshow(F.fftshift(masks[3,:,:]),cmap='gray',origin='lower',vmin=0, vmax=1)\n",
    "# axs[1,3].set_xticks([])\n",
    "# axs[1,3].set_yticks([])\n",
    "\n",
    "# axs[0,4].imshow(imgs[4,:,:],cmap='gray',origin='lower',vmin=0, vmax=1)\n",
    "# axs[0,4].set_xticks([])\n",
    "# axs[0,4].set_yticks([])\n",
    "\n",
    "# axs[1,4].imshow(F.fftshift(masks[4,:,:]),cmap='gray',origin='lower',vmin=0, vmax=1)\n",
    "# axs[1,4].set_xticks([])\n",
    "# axs[1,4].set_yticks([])\n",
    "\n",
    "plt.subplots_adjust(wspace=-.35, hspace=.03)\n",
    "fig_curr = plt.gcf()\n",
    "plt.show()\n",
    "# plt.draw()\n",
    "# dir_fig = '/home/huangz78/mri/figures/mnet_mask_examples.eps'\n",
    "# fig_curr.savefig(dir_fig,format='eps',dpi=600,transparent=True,bbox_inches='tight')"
   ]
  },
  {
   "cell_type": "code",
   "execution_count": null,
   "id": "8d46625f",
   "metadata": {},
   "outputs": [],
   "source": []
  },
  {
   "cell_type": "code",
   "execution_count": null,
   "id": "47616110",
   "metadata": {},
   "outputs": [],
   "source": [
    "heg = 320\n",
    "wid = 320\n",
    "sparsity = .125\n",
    "preselect_num = 8\n",
    "budget = int(heg * sparsity - preselect_num)\n",
    "\n",
    "print(f'base corefreq is {preselect_num}, sampling budget is {budget}')\n",
    "\n",
    "# load mnet\n",
    "mnet = MNet(beta=1,in_chans=2,out_size=320-preselect_num, imgsize=(heg,wid),poolk=3).to(device)\n",
    "mnetpath = '/mnt/shared_a/checkpoints/leo/mri/mnet_v2_split_trained_cf_8_bg_32_unet_in_chan_1_epoch9.pt'\n",
    "\n",
    "checkpoint = torch.load(mnetpath)\n",
    "mnet.load_state_dict(checkpoint['model_state_dict'])\n",
    "# mnet.apply(mnet_weights_init)\n",
    "mnet.eval()\n",
    "print('MNet loaded successfully from: ' + mnetpath)\n",
    "\n",
    "# load MoDL\n",
    "modl = MoDL(in_chans=2,out_chans=2,chans=64,num_pool_layers=4,drop_prob=0,CG_steps=6).to(device)\n",
    "modlpath = '/mnt/shared_a/checkpoints/leo/recon/MoDL_mnet_2_chans_64_base8_budget32_epoch_21.pt'\n",
    "checkpoint = torch.load(modlpath)\n",
    "modl.load_state_dict(checkpoint['model_state_dict'])\n",
    "modl.eval()\n",
    "print(f'MoDL model loaded successfully from {modlpath}')"
   ]
  }
 ],
 "metadata": {
  "kernelspec": {
   "display_name": "Python 3 (ipykernel)",
   "language": "python",
   "name": "python3"
  },
  "language_info": {
   "codemirror_mode": {
    "name": "ipython",
    "version": 3
   },
   "file_extension": ".py",
   "mimetype": "text/x-python",
   "name": "python",
   "nbconvert_exporter": "python",
   "pygments_lexer": "ipython3",
   "version": "3.8.11"
  }
 },
 "nbformat": 4,
 "nbformat_minor": 5
}
