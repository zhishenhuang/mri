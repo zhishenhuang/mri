{
 "cells": [
  {
   "cell_type": "code",
   "execution_count": null,
   "id": "65744487",
   "metadata": {},
   "outputs": [],
   "source": [
    "import numpy as np\n",
    "# import argparse\n",
    "import os\n",
    "import sys\n",
    "import torch\n",
    "import torch.fft as F\n",
    "from importlib import reload\n",
    "# from torch.nn.functional import /relu\n",
    "import torch.nn as nn\n",
    "# import torch.nn.functional as Func\n",
    "# import torch.optim as optim\n",
    "import utils\n",
    "from utils import *\n",
    "from loupe_env.loupe_wrap import LOUPE\n",
    "from MoDL.MoDL import MoDL\n",
    "from matplotlib import pyplot as plt\n",
    "import random\n",
    "import copy\n",
    "# from sklearn.model_selection import train_test_split\n",
    "\n",
    "# import skimage\n",
    "from mnet.mnet_v2 import MNet\n",
    "from unet.unet_model import UNet\n",
    "from unet.unet_model_fbr import Unet\n",
    "from unet.unet_model_banding_removal_fbr import UnetModel\n",
    "# from mask_backward_v4 import *\n",
    "# from sigpy.mri.app import TotalVariationRecon\n",
    "\n",
    "torch.manual_seed(0)\n",
    "np.random.seed(0)\n",
    "random.seed(0)"
   ]
  },
  {
   "cell_type": "code",
   "execution_count": null,
   "id": "17b4a246",
   "metadata": {},
   "outputs": [],
   "source": [
    "testdata = torch.tensor(np.load('/mnt/shared_a/fastMRI/knee_singlecoil_train.npz')['data'])\n",
    "print('test data shape: ',testdata.shape)"
   ]
  },
  {
   "cell_type": "markdown",
   "id": "ce1dff3e",
   "metadata": {},
   "source": [
    "## make figures"
   ]
  },
  {
   "cell_type": "markdown",
   "id": "d851603c",
   "metadata": {},
   "source": [
    "### accuracy plots"
   ]
  },
  {
   "cell_type": "code",
   "execution_count": null,
   "id": "5a8e9e4a",
   "metadata": {},
   "outputs": [],
   "source": [
    "dir_rec1 = '/mnt/shared_a/checkpoints/leo/mri/8fold_mnetunet_direct.npz'\n",
    "dir_rec2 = '/mnt/shared_a/checkpoints/leo/mri/8fold_mnetunet.npz'\n",
    "dir_rec3 = '/mnt/shared_a/checkpoints/leo/mri/8fold_mnetmodl.npz'\n",
    "dir_rec4 = '/mnt/shared_a/checkpoints/leo/mri/8fold_loupe.npz'\n",
    "dir_rec5 = '/mnt/shared_a/checkpoints/leo/mri/8fold_rand.npz'\n",
    "dir_rec6 = '/mnt/shared_a/checkpoints/leo/mri/8fold_equidist.npz'"
   ]
  },
  {
   "cell_type": "code",
   "execution_count": null,
   "id": "3c0bcb0b",
   "metadata": {},
   "outputs": [],
   "source": [
    "rec1 = np.load(dir_rec1)\n",
    "l1err_mnetunet_dir,l2err_mnetunet_dir,hfens_mnetunet_dir,ssims_mnetunet_dir,psnrs_mnetunet_dir = \\\n",
    "rec1['l1err'], rec1['l2err'], rec1['hfens'], rec1['ssims'], rec1['psnrs']\n",
    "\n",
    "rec2 = np.load(dir_rec2)\n",
    "l1err_mnetunet,l2err_mnetunet,hfens_mnetunet,ssims_mnetunet,psnrs_mnetunet = \\\n",
    "rec2['l1err'], rec2['l2err'], rec2['hfens'], rec2['ssims'], rec2['psnrs']\n",
    "\n",
    "rec3 = np.load(dir_rec3)\n",
    "l1err_mnetmodl,l2err_mnetmodl,hfens_mnetmodl,ssims_mnetmodl,psnrs_mnetmodl = \\\n",
    "rec3['l1err'], rec3['l2err'], rec3['hfens'], rec3['ssims'], rec3['psnrs']\n",
    "\n",
    "rec4 = np.load(dir_rec4)\n",
    "l1err_loupe,l2err_loupe,hfens_loupe,ssims_loupe,psnrs_loupe = \\\n",
    "rec4['l1err'], rec4['l2err'], rec4['hfens'], rec4['ssims'], rec4['psnrs']\n",
    "\n",
    "rec5 = np.load(dir_rec5)\n",
    "l1err_rand,l2err_rand,hfens_rand,ssims_rand,psnrs_rand = \\\n",
    "rec5['l1err'], rec5['l2err'], rec5['hfens'], rec5['ssims'], rec5['psnrs']\n",
    "\n",
    "rec6 = np.load(dir_rec6)\n",
    "l1err_equidist,l2err_equidist,hfens_equidist,ssims_equidist,psnrs_equidist = \\\n",
    "rec6['l1err'], rec6['l2err'], rec6['hfens'], rec6['ssims'], rec6['psnrs']\n"
   ]
  },
  {
   "cell_type": "code",
   "execution_count": null,
   "id": "5a1c1b0d",
   "metadata": {
    "scrolled": false
   },
   "outputs": [],
   "source": [
    "# Figure: Accuracy comparison\n",
    "\n",
    "figsize=(29,17)\n",
    "label_fontsize = 26\n",
    "xtick_fontsize  = 19\n",
    "ytick_fontsize  = 26\n",
    "rotation_angle = 19\n",
    "nrows=2; \n",
    "ncols=3\n",
    "\n",
    "plt.clf()\n",
    "fig, axs = plt.subplots(nrows=nrows, ncols=ncols, sharex=False, figsize=figsize)\n",
    "labels = ['MNet-Unet-co', 'MNet-Unet-sep','MNet-MoDL','LOUPE','Rand.-Unet', 'Equidist.-Unet']\n",
    "\n",
    "data = [l1err_mnetunet_dir,l1err_mnetunet,l1err_mnetmodl,l1err_loupe,l1err_rand,l1err_equidist]\n",
    "axs[0,0].boxplot(data,notch=True,showmeans=True)\n",
    "axs[0,0].set_xticklabels(labels,fontsize=label_fontsize)\n",
    "axs[0,0].set_ylabel(r\"Rel. $\\ell_1$ error\",fontsize=label_fontsize)\n",
    "axs[0,0].set_ylim([0, 0.5])\n",
    "axs[0,0].tick_params(axis='x', which='major', labelsize=xtick_fontsize,rotation=rotation_angle)\n",
    "axs[0,0].tick_params(axis='y', which='major', labelsize=ytick_fontsize,rotation=0)\n",
    "\n",
    "data = [l2err_mnetunet_dir,l2err_mnetunet,l2err_mnetmodl,l2err_loupe,l2err_rand,l2err_equidist]\n",
    "axs[0,1].boxplot(data,notch=True,showmeans=True)\n",
    "axs[0,1].set_xticklabels(labels,fontsize=label_fontsize)\n",
    "axs[0,1].set_ylabel(r\"Rel. $\\ell_2$ error\",fontsize=label_fontsize)\n",
    "axs[0,1].set_ylim([0, 0.5])\n",
    "axs[0,1].tick_params(axis='x', which='major', labelsize=xtick_fontsize,rotation=rotation_angle)\n",
    "axs[0,1].tick_params(axis='y', which='major', labelsize=ytick_fontsize,rotation=0)\n",
    "\n",
    "data = [hfens_mnetunet_dir,hfens_mnetunet,hfens_mnetmodl,hfens_loupe,hfens_rand,hfens_equidist]\n",
    "axs[0,2].boxplot(data,notch=True,showmeans=True)\n",
    "axs[0,2].set_xticklabels(labels,fontsize=label_fontsize)\n",
    "axs[0,2].set_ylabel(r\"HFEN\",fontsize=label_fontsize)\n",
    "axs[0,2].set_ylim([0, 1])\n",
    "axs[0,2].tick_params(axis='x', which='major', labelsize=xtick_fontsize,rotation=rotation_angle)\n",
    "axs[0,2].tick_params(axis='y', which='major', labelsize=ytick_fontsize,rotation=0)\n",
    "\n",
    "data = [ssims_mnetunet_dir,ssims_mnetunet,ssims_mnetmodl,ssims_loupe,ssims_rand,ssims_equidist]\n",
    "axs[1,0].boxplot(data,notch=True,showmeans=True)\n",
    "axs[1,0].set_xticklabels(labels,fontsize=label_fontsize)\n",
    "axs[1,0].set_ylabel(r\"SSIM\",fontsize=label_fontsize)\n",
    "axs[1,0].tick_params(axis='x', which='major', labelsize=xtick_fontsize,rotation=rotation_angle)\n",
    "axs[1,0].tick_params(axis='y', which='major', labelsize=ytick_fontsize,rotation=0)\n",
    "\n",
    "data = [psnrs_mnetunet_dir/2,psnrs_mnetunet/2,psnrs_mnetmodl/2,psnrs_loupe/2,psnrs_rand/2,psnrs_equidist/2]\n",
    "axs[1,1].boxplot(data,notch=True,showmeans=True)\n",
    "axs[1,1].set_xticklabels(labels,fontsize=label_fontsize)\n",
    "axs[1,1].set_ylabel(r\"PSNR\",fontsize=label_fontsize)\n",
    "axs[1,1].tick_params(axis='x', which='major', labelsize=xtick_fontsize,rotation=rotation_angle)\n",
    "axs[1,1].tick_params(axis='y', which='major', labelsize=ytick_fontsize,rotation=0)\n",
    "\n",
    "axs[-1, -1].axis('off')\n",
    "fig_curr = plt.gcf()\n",
    "plt.show()\n",
    "plt.draw()\n",
    "dir_fig = '/home/huangz78/mri/figures/accuracy_8fold.eps'\n",
    "fig_curr.savefig(dir_fig,format='eps',dpi=600,transparent=True,bbox_inches='tight')"
   ]
  },
  {
   "cell_type": "markdown",
   "id": "2108d4c1",
   "metadata": {},
   "source": [
    "### example plots"
   ]
  },
  {
   "cell_type": "code",
   "execution_count": null,
   "id": "194651dc",
   "metadata": {},
   "outputs": [],
   "source": [
    "# specify sampling parameters\n",
    "heg = 320\n",
    "wid = 320\n",
    "sparsity = .125\n",
    "preselect_num = 8\n",
    "budget = int(heg * sparsity - preselect_num)\n",
    "\n",
    "print(f'base corefreq is {preselect_num}, sampling budget is {budget}')\n",
    "\n",
    "# load mnet\n",
    "mnet = MNet(beta=1,in_chans=2,out_size=320-preselect_num, imgsize=(heg,wid),poolk=3)\n",
    "mnetpath = '/mnt/shared_a/checkpoints/leo/mri/mnet_v2_split_trained_cf_8_bg_32_unet_in_chan_1_epoch9.pt'\n",
    "\n",
    "checkpoint = torch.load(mnetpath)\n",
    "mnet.load_state_dict(checkpoint['model_state_dict'])\n",
    "# mnet.apply(mnet_weights_init)\n",
    "mnet.eval()\n",
    "print('MNet loaded successfully from: ' + mnetpath)\n",
    "\n",
    "model_in_chans = 2\n",
    "device = torch.device('cuda:0')\n",
    "for ind in range(testdata.shape[0]):\n",
    "    testdata[ind,:,:] = testdata[ind,:,:]/torch.max(torch.abs(testdata[ind,:,:]))\n",
    "print('test data size:', testdata.shape)\n",
    "test_in, mask_in = mnet_getinput(mnet,testdata,base=preselect_num,budget=budget,batchsize=10,\\\n",
    "                                  unet_channels=model_in_chans,return_mask=True,device=device)"
   ]
  },
  {
   "cell_type": "code",
   "execution_count": null,
   "id": "c6f43696",
   "metadata": {},
   "outputs": [],
   "source": [
    "imgind = np.random.randint(test_in.shape[0])\n",
    "print(f'current image index: {imgind}')"
   ]
  },
  {
   "cell_type": "code",
   "execution_count": null,
   "id": "b447fa36",
   "metadata": {},
   "outputs": [],
   "source": [
    "## Unet-co\n",
    "unet_inchannels = 2\n",
    "unet_recon = Unet(in_chans=unet_inchannels,out_chans=1,chans=64)\n",
    "unetpath = '/mnt/shared_a/checkpoints/leo/recon/unet_fbr_2_chans_64_epoch_39.pt'\n",
    "\n",
    "checkpoint = torch.load(unetpath)\n",
    "unet_recon.load_state_dict(checkpoint['model_state_dict'])\n",
    "print('Unet loaded successfully from: ' + unetpath )\n",
    "unet_recon.eval()\n",
    "print('nn\\'s are ready')"
   ]
  },
  {
   "cell_type": "code",
   "execution_count": null,
   "id": "766557fe",
   "metadata": {},
   "outputs": [],
   "source": [
    "img = test_in[imgind]\n",
    "recon_unet_co = unet_recon(img.unsqueeze(0)).detach()\n",
    "recon_unet_co.shape"
   ]
  },
  {
   "cell_type": "code",
   "execution_count": null,
   "id": "57299ae5",
   "metadata": {},
   "outputs": [],
   "source": [
    "plt.figure()\n",
    "plt.imshow(img[0,:,:])\n",
    "plt.colorbar()"
   ]
  },
  {
   "cell_type": "code",
   "execution_count": null,
   "id": "60ee4d6d",
   "metadata": {},
   "outputs": [],
   "source": [
    "figsize=(29,17)\n",
    "\n",
    "nrows=2 \n",
    "ncols=3\n",
    "\n",
    "plt.clf()\n",
    "fig, axs = plt.subplots(nrows=nrows, ncols=ncols, sharex=False, figsize=figsize)\n"
   ]
  },
  {
   "cell_type": "markdown",
   "id": "53cf692f",
   "metadata": {},
   "source": [
    "## evaluate MNet - UNet"
   ]
  },
  {
   "cell_type": "code",
   "execution_count": null,
   "id": "451a63db",
   "metadata": {
    "scrolled": false
   },
   "outputs": [],
   "source": [
    "# specify sampling parameters\n",
    "heg = 320\n",
    "wid = 320\n",
    "sparsity = .125\n",
    "preselect_num = 8\n",
    "budget = int(heg * sparsity - preselect_num)\n",
    "\n",
    "print(f'base corefreq is {preselect_num}, sampling budget is {budget}')\n",
    "\n",
    "# load mnet\n",
    "mnet = MNet(beta=1,in_chans=2,out_size=320-preselect_num, imgsize=(heg,wid),poolk=3)\n",
    "mnetpath = '/mnt/shared_a/checkpoints/leo/mri/mnet_v2_split_trained_cf_8_bg_32_unet_in_chan_1_epoch9.pt'\n",
    "\n",
    "checkpoint = torch.load(mnetpath)\n",
    "mnet.load_state_dict(checkpoint['model_state_dict'])\n",
    "# mnet.apply(mnet_weights_init)\n",
    "mnet.eval()\n",
    "print('MNet loaded successfully from: ' + mnetpath)\n",
    "\n",
    "# load unet\n",
    "unet_inchannels = 2\n",
    "unet_recon = Unet(in_chans=unet_inchannels,out_chans=1,chans=64)\n",
    "unetpath = '/mnt/shared_a/checkpoints/leo/recon/unet_fbr_2_chans_64_epoch_39.pt'\n",
    "\n",
    "checkpoint = torch.load(unetpath)\n",
    "unet_recon.load_state_dict(checkpoint['model_state_dict'])\n",
    "print('Unet loaded successfully from: ' + unetpath )\n",
    "unet_recon.eval()\n",
    "print('nn\\'s are ready')\n"
   ]
  },
  {
   "cell_type": "code",
   "execution_count": null,
   "id": "bd82f80d",
   "metadata": {
    "scrolled": true
   },
   "outputs": [],
   "source": [
    "l1err,l2err,hfens,ssims,psnrs = mnet_eval(testdata,mnet,unet_recon,\\\n",
    "                                          base=preselect_num,budget=budget,batchsize=10,device='cuda:0')\n",
    "\n",
    "plt.boxplot(ssims.numpy())\n",
    "plt.title(f'SSIM mean={ssims.numpy().mean():.4f}')\n",
    "plt.show()\n",
    "\n",
    "plt.boxplot(psnrs.numpy())\n",
    "plt.title(f'PSNR mean={psnrs.numpy().mean():.4f}')\n",
    "plt.show()\n",
    "\n",
    "plt.boxplot(l1err.numpy())\n",
    "plt.title(f'l1err mean={l1err.numpy().mean():.4f}')\n",
    "plt.show()\n",
    "\n",
    "plt.boxplot(l2err.numpy())\n",
    "plt.title(f'l2err mean={l2err.numpy().mean():.4f}')\n",
    "plt.show()\n",
    "\n",
    "plt.boxplot(hfens.numpy())\n",
    "plt.title(f'HFEN mean={hfens.numpy().mean():.4f}')\n",
    "plt.show()\n",
    "\n",
    "filename = '/mnt/shared_a/checkpoints/leo/mri/8fold_mnetunet.npz'\n",
    "np.savez(filename,l1err=l1err,l2err=l2err,hfens=hfens,ssims=ssims,psnrs=psnrs)"
   ]
  },
  {
   "cell_type": "code",
   "execution_count": null,
   "id": "ea146e3d",
   "metadata": {},
   "outputs": [],
   "source": [
    "# specify sampling parameters\n",
    "heg = 320\n",
    "wid = 320\n",
    "sparsity = .125\n",
    "preselect_num = 8\n",
    "budget = int(heg * sparsity - preselect_num)\n",
    "\n",
    "print(f'base corefreq is {preselect_num}, sampling budget is {budget}')\n",
    "\n",
    "# load mnet\n",
    "mnet = MNet(beta=1,in_chans=2,out_size=320-preselect_num, imgsize=(heg,wid),poolk=3)\n",
    "mnetpath = '/mnt/shared_a/checkpoints/leo/mri/mnet_v2_split_trained_cf_8_bg_32_unet_in_chan_1_epoch9.pt'\n",
    "\n",
    "checkpoint = torch.load(mnetpath)\n",
    "mnet.load_state_dict(checkpoint['model_state_dict'])\n",
    "# mnet.apply(mnet_weights_init)\n",
    "mnet.eval()\n",
    "print('MNet loaded successfully from: ' + mnetpath)\n",
    "\n",
    "# load unet\n",
    "unet_recon = unet = UNet(in_chans=1,n_classes=1,bilinear=False,skip=True)\n",
    "unetpath = '/mnt/shared_a/checkpoints/leo/mri/unet_v2_split_trained_cf_8_bg_32_unet_in_chan_1_epoch9.pt'\n",
    "\n",
    "checkpoint = torch.load(unetpath)\n",
    "unet_recon.load_state_dict(checkpoint['model_state_dict'])\n",
    "print('Unet loaded successfully from: ' + unetpath )\n",
    "unet_recon.eval()\n",
    "print('nn\\'s are ready')"
   ]
  },
  {
   "cell_type": "code",
   "execution_count": null,
   "id": "3d1d43ca",
   "metadata": {},
   "outputs": [],
   "source": [
    "l1err,l2err,hfens,ssims,psnrs = mnet_eval(testdata,mnet,unet_recon,\\\n",
    "                                          base=preselect_num,budget=budget,batchsize=10,device='cuda:0')\n",
    "\n",
    "plt.boxplot(ssims.numpy())\n",
    "plt.title(f'SSIM mean={ssims.numpy().mean():.4f}')\n",
    "plt.show()\n",
    "\n",
    "plt.boxplot(psnrs.numpy())\n",
    "plt.title(f'PSNR mean={psnrs.numpy().mean():.4f}')\n",
    "plt.show()\n",
    "\n",
    "plt.boxplot(l1err.numpy())\n",
    "plt.title(f'l1err mean={l1err.numpy().mean():.4f}')\n",
    "plt.show()\n",
    "\n",
    "plt.boxplot(l2err.numpy())\n",
    "plt.title(f'l2err mean={l2err.numpy().mean():.4f}')\n",
    "plt.show()\n",
    "\n",
    "plt.boxplot(hfens.numpy())\n",
    "plt.title(f'HFEN mean={hfens.numpy().mean():.4f}')\n",
    "plt.show()\n",
    "\n",
    "filename = '/mnt/shared_a/checkpoints/leo/mri/8fold_mnetunet_direct.npz'\n",
    "np.savez(filename,l1err=l1err,l2err=l2err,hfens=hfens,ssims=ssims,psnrs=psnrs)"
   ]
  },
  {
   "cell_type": "markdown",
   "id": "63822900",
   "metadata": {},
   "source": [
    "## evaluate MNet - MoDL"
   ]
  },
  {
   "cell_type": "code",
   "execution_count": null,
   "id": "4a556fa8",
   "metadata": {},
   "outputs": [],
   "source": [
    "modl = MoDL(in_chans=2,out_chans=2,chans=32,num_pool_layers=4,drop_prob=0)\n",
    "modlpath = '/mnt/shared_a/checkpoints/leo/recon/MoDL_2_chans_32_epoch_39.pt'\n",
    "checkpoint = torch.load(modlpath)\n",
    "modl.load_state_dict(checkpoint['model_state_dict'])\n",
    "print(f'MoDL model loaded successfully from {modlpath}')"
   ]
  },
  {
   "cell_type": "code",
   "execution_count": null,
   "id": "6cb3c69c",
   "metadata": {
    "scrolled": false
   },
   "outputs": [],
   "source": [
    "l1err,l2err,hfens,ssims,psnrs = mnet_eval(testdata,mnet,modl,\\\n",
    "                                          base=preselect_num,budget=budget,batchsize=5,device='cuda:0')\n",
    "\n",
    "plt.boxplot(ssims.numpy())\n",
    "plt.title(f'SSIM mean={ssims.numpy().mean():.4f}')\n",
    "plt.show()\n",
    "\n",
    "plt.boxplot(psnrs.numpy())\n",
    "plt.title(f'PSNR mean={psnrs.numpy().mean():.4f}')\n",
    "plt.show()\n",
    "\n",
    "plt.boxplot(l1err.numpy())\n",
    "plt.title(f'l1err mean={l1err.numpy().mean():.4f}')\n",
    "plt.show()\n",
    "\n",
    "plt.boxplot(l2err.numpy())\n",
    "plt.title(f'l2err mean={l2err.numpy().mean():.4f}')\n",
    "plt.show()\n",
    "\n",
    "plt.boxplot(hfens.numpy())\n",
    "plt.title(f'HFEN mean={hfens.numpy().mean():.4f}')\n",
    "plt.show()\n",
    "\n",
    "filename = '/mnt/shared_a/checkpoints/leo/mri/8fold_mnetmodl.npz'\n",
    "np.savez(filename,l1err=l1err,l2err=l2err,hfens=hfens,ssims=ssims,psnrs=psnrs)"
   ]
  },
  {
   "cell_type": "markdown",
   "id": "aa8554fa",
   "metadata": {},
   "source": [
    "## evaluate baseline --- rand and equidist"
   ]
  },
  {
   "cell_type": "code",
   "execution_count": null,
   "id": "b18c079c",
   "metadata": {},
   "outputs": [],
   "source": [
    "# load unet\n",
    "unet_inchannels = 2\n",
    "unet_recon = Unet(in_chans=unet_inchannels,out_chans=1,chans=64)\n",
    "unetpath = '/mnt/shared_a/checkpoints/leo/recon/unet_fbr_2_chans_64_rand_epoch_38.pt'\n",
    "\n",
    "checkpoint = torch.load(unetpath)\n",
    "unet_recon.load_state_dict(checkpoint['model_state_dict'])\n",
    "print('Unet loaded successfully from: ' + unetpath )\n",
    "unet_recon.eval()\n",
    "print('nn\\'s are ready')"
   ]
  },
  {
   "cell_type": "code",
   "execution_count": null,
   "id": "e1e6c15d",
   "metadata": {
    "scrolled": true
   },
   "outputs": [],
   "source": [
    "l1err,l2err,hfens,ssims,psnrs = baseline_eval(testdata,model=unet_recon,mode='rand',\\\n",
    "                                          base=preselect_num,budget=budget,batchsize=10,device='cuda:0')\n",
    "\n",
    "plt.boxplot(ssims.numpy())\n",
    "plt.title(f'SSIM mean={ssims.numpy().mean():.4f}')\n",
    "plt.show()\n",
    "\n",
    "plt.boxplot(psnrs.numpy())\n",
    "plt.title(f'PSNR mean={psnrs.numpy().mean():.4f}')\n",
    "plt.show()\n",
    "\n",
    "plt.boxplot(l1err.numpy())\n",
    "plt.title(f'l1err mean={l1err.numpy().mean():.4f}')\n",
    "plt.show()\n",
    "\n",
    "plt.boxplot(l2err.numpy())\n",
    "plt.title(f'l2err mean={l2err.numpy().mean():.4f}')\n",
    "plt.show()\n",
    "\n",
    "plt.boxplot(hfens.numpy())\n",
    "plt.title(f'HFEN mean={hfens.numpy().mean():.4f}')\n",
    "plt.show()\n",
    "\n",
    "filename = '/mnt/shared_a/checkpoints/leo/mri/8fold_rand.npz'\n",
    "np.savez(filename,l1err=l1err,l2err=l2err,hfens=hfens,ssims=ssims,psnrs=psnrs)"
   ]
  },
  {
   "cell_type": "code",
   "execution_count": null,
   "id": "00db55fc",
   "metadata": {},
   "outputs": [],
   "source": [
    "# load unet\n",
    "unet_inchannels = 2\n",
    "unet_recon = Unet(in_chans=unet_inchannels,out_chans=1,chans=64)\n",
    "unetpath = '/mnt/shared_a/checkpoints/leo/recon/unet_fbr_2_chans_64_equidist_epoch_39.pt'\n",
    "\n",
    "checkpoint = torch.load(unetpath)\n",
    "unet_recon.load_state_dict(checkpoint['model_state_dict'])\n",
    "print('Unet loaded successfully from: ' + unetpath )\n",
    "unet_recon.eval()\n",
    "print('nn\\'s are ready')"
   ]
  },
  {
   "cell_type": "code",
   "execution_count": null,
   "id": "fe4376cf",
   "metadata": {},
   "outputs": [],
   "source": [
    "l1err,l2err,hfens,ssims,psnrs = baseline_eval(testdata,model=unet_recon,mode='rand',\\\n",
    "                                          base=preselect_num,budget=budget,batchsize=10,device='cuda:0')\n",
    "\n",
    "plt.boxplot(ssims.numpy())\n",
    "plt.title(f'SSIM mean={ssims.numpy().mean():.4f}')\n",
    "plt.show()\n",
    "\n",
    "plt.boxplot(psnrs.numpy())\n",
    "plt.title(f'PSNR mean={psnrs.numpy().mean():.4f}')\n",
    "plt.show()\n",
    "\n",
    "plt.boxplot(l1err.numpy())\n",
    "plt.title(f'l1err mean={l1err.numpy().mean():.4f}')\n",
    "plt.show()\n",
    "\n",
    "plt.boxplot(l2err.numpy())\n",
    "plt.title(f'l2err mean={l2err.numpy().mean():.4f}')\n",
    "plt.show()\n",
    "\n",
    "plt.boxplot(hfens.numpy())\n",
    "plt.title(f'HFEN mean={hfens.numpy().mean():.4f}')\n",
    "plt.show()\n",
    "\n",
    "filename = '/mnt/shared_a/checkpoints/leo/mri/8fold_equidist.npz'\n",
    "np.savez(filename,l1err=l1err,l2err=l2err,hfens=hfens,ssims=ssims,psnrs=psnrs)"
   ]
  },
  {
   "cell_type": "markdown",
   "id": "3f34abe0",
   "metadata": {},
   "source": [
    "## evaluate LOUPE"
   ]
  },
  {
   "cell_type": "code",
   "execution_count": null,
   "id": "d8f1a555",
   "metadata": {},
   "outputs": [],
   "source": [
    "# load loupe model\n",
    "loupepath = '/mnt/shared_a/checkpoints/leo/mri/loupe_8fold_base_8_epoch_39.pt'\n",
    "loupe = LOUPE(in_chans=1,unet_skip=False,shape=[heg,wid],sparsity=sparsity,\\\n",
    "                  preselect=True,preselect_num=preselect_num)\n",
    "\n",
    "checkpoint = torch.load(loupepath)\n",
    "loupe.load_state_dict(checkpoint['model_state_dict'])\n",
    "loupe.eval()\n",
    "print(f'loupe model is successfully imported from : {loupepath}')\n"
   ]
  },
  {
   "cell_type": "code",
   "execution_count": null,
   "id": "9ad860b1",
   "metadata": {
    "scrolled": true
   },
   "outputs": [],
   "source": [
    "l1err,l2err,hfens,ssims,psnrs = loupe_eval(loupe,testdata,\\\n",
    "                                           preselect_num=preselect_num,sparsity=sparsity,\\\n",
    "                                           batchsize=10,device=torch.device('cuda:0'))\n",
    "\n",
    "plt.boxplot(ssims.numpy())\n",
    "plt.title(f'SSIM mean={ssims.numpy().mean():.4f}')\n",
    "plt.show()\n",
    "\n",
    "plt.boxplot(psnrs.numpy())\n",
    "plt.title(f'PSNR mean={psnrs.numpy().mean():.4f}')\n",
    "plt.show()\n",
    "\n",
    "plt.boxplot(l1err.numpy())\n",
    "plt.title(f'l1err mean={l1err.numpy().mean():.4f}')\n",
    "plt.show()\n",
    "\n",
    "plt.boxplot(l2err.numpy())\n",
    "plt.title(f'l2err mean={l2err.numpy().mean():.4f}')\n",
    "plt.show()\n",
    "\n",
    "plt.boxplot(hfens.numpy())\n",
    "plt.title(f'HFEN mean={hfens.numpy().mean():.4f}')\n",
    "plt.show()\n",
    "\n",
    "filename = '/mnt/shared_a/checkpoints/leo/mri/8fold_loupe.npz'\n",
    "np.savez(filename,l1err=l1err,l2err=l2err,hfens=hfens,ssims=ssims,psnrs=psnrs)"
   ]
  }
 ],
 "metadata": {
  "kernelspec": {
   "display_name": "Python 3 (ipykernel)",
   "language": "python",
   "name": "python3"
  },
  "language_info": {
   "codemirror_mode": {
    "name": "ipython",
    "version": 3
   },
   "file_extension": ".py",
   "mimetype": "text/x-python",
   "name": "python",
   "nbconvert_exporter": "python",
   "pygments_lexer": "ipython3",
   "version": "3.8.11"
  }
 },
 "nbformat": 4,
 "nbformat_minor": 5
}
