{
 "cells": [
  {
   "cell_type": "code",
   "execution_count": null,
   "id": "b437eb62",
   "metadata": {},
   "outputs": [],
   "source": [
    "import torch\n",
    "import sys,os\n",
    "import matplotlib.pyplot as plt\n",
    "import numpy as np\n",
    "from torch import nn\n",
    "from torch.nn import functional as Func\n",
    "from importlib import reload\n",
    "import loupe_env.line_sampler\n",
    "from loupe_env.line_sampler import *\n",
    "from loupe_env.loupe_wrap import *\n",
    "import utils\n",
    "from utils import kplot\n",
    "from typing import List\n",
    "\n",
    "from unet.unet_model import UNet\n",
    "\n",
    "import torch.optim as optim"
   ]
  },
  {
   "cell_type": "code",
   "execution_count": null,
   "id": "601f1802",
   "metadata": {},
   "outputs": [],
   "source": [
    "reload(loupe_env.loupe_wrap)\n",
    "from loupe_env.loupe_wrap import *"
   ]
  },
  {
   "cell_type": "code",
   "execution_count": null,
   "id": "0aac7935",
   "metadata": {},
   "outputs": [],
   "source": [
    "reload(loupe_env.line_sampler)\n",
    "from loupe_env.line_sampler import *"
   ]
  },
  {
   "cell_type": "code",
   "execution_count": null,
   "id": "ccd1d5ef",
   "metadata": {},
   "outputs": [],
   "source": [
    "shape = [320,320]\n",
    "slope = 1\n",
    "sparsity = .25\n",
    "preselect = True\n",
    "preselect_num = 24\n",
    "sampler = LOUPESampler(shape, slope, sparsity, preselect, preselect_num)"
   ]
  },
  {
   "cell_type": "markdown",
   "id": "1ce3bb8b",
   "metadata": {},
   "source": [
    "### loupe run test"
   ]
  },
  {
   "cell_type": "code",
   "execution_count": null,
   "id": "76cbf2e2",
   "metadata": {
    "scrolled": false
   },
   "outputs": [],
   "source": [
    "%run loupe_train_v2.py -ngpu 1"
   ]
  },
  {
   "cell_type": "markdown",
   "id": "c72a68b0",
   "metadata": {},
   "source": [
    "### sampler test"
   ]
  },
  {
   "cell_type": "code",
   "execution_count": null,
   "id": "9842486b",
   "metadata": {},
   "outputs": [],
   "source": [
    "traindata  = np.load('/home/huangz78/data/traindata_x.npz')\n",
    "dtyp       = torch.float\n",
    "trainxfull = torch.tensor(traindata['xfull'],dtype=dtyp)\n",
    "testdata   = np.load('/home/huangz78/data/testdata_x.npz')\n",
    "testxfull  = torch.tensor(testdata['xfull'],dtype=dtyp)\n",
    "# fullmask = torch.tensor(data['mask'])"
   ]
  },
  {
   "cell_type": "code",
   "execution_count": null,
   "id": "464e0df7",
   "metadata": {},
   "outputs": [],
   "source": [
    "xstar = trainxfull[0:10,:,:].view(10,1,320,320)\n",
    "ystar = torch.fft.fftn(xstar,dim=(2,3),norm='ortho')\n",
    "# y = torch.fft.fftn(xfull[0:3,:,:],dim=(0,1),norm='ortho')\n",
    "# y = torch.reshape(y,(y.shape[0],-1,y.shape[1],y.shape[2]))\n",
    "print(ystar.shape)"
   ]
  },
  {
   "cell_type": "code",
   "execution_count": null,
   "id": "c52b0127",
   "metadata": {},
   "outputs": [],
   "source": [
    "sampler = LOUPESampler(shape=shape,slope=slope,sparsity=sparsity,preselect=preselect,preselect_num=preselect_num)\n",
    "sampler.eval()\n",
    "x_recon, mask = sampler(ystar,sparsity)\n",
    "kplot(mask[0,0,:,0].detach().numpy(),roll=True)"
   ]
  },
  {
   "cell_type": "code",
   "execution_count": null,
   "id": "a3c88688",
   "metadata": {},
   "outputs": [],
   "source": []
  },
  {
   "cell_type": "code",
   "execution_count": null,
   "id": "909b86f6",
   "metadata": {},
   "outputs": [],
   "source": [
    "vec = torch."
   ]
  },
  {
   "cell_type": "markdown",
   "id": "360480db",
   "metadata": {},
   "source": [
    "### LOUPE pipeline"
   ]
  },
  {
   "cell_type": "code",
   "execution_count": null,
   "id": "e3e31f9e",
   "metadata": {},
   "outputs": [],
   "source": [
    "#     def loss(self, pred_dict, target_dict, loss_type):\n",
    "#         \"\"\"\n",
    "#         Args:\n",
    "#             pred_dict:\n",
    "#                 output: reconstructed image from downsampled kspace measurement\n",
    "#                 energy: negative entropy of the probability mask\n",
    "#                 mask: the binazried sampling mask (used for visualization)\n",
    "#             target_dict:\n",
    "#                 target: original fully sampled image\n",
    "#             meta:\n",
    "#                 recon_weight: weight of reconstruction loss\n",
    "#                 entropy_weight: weight of the entropy loss (to encourage exploration)\n",
    "#         \"\"\"       \n",
    "#         if loss_type == 'l1':\n",
    "#             reconstruction_loss = Func.l1_loss(pred, target, size_average=True) \n",
    "#         elif loss_type == 'ssim':\n",
    "#             reconstruction_loss = -torch.mean(compute_ssim_torch(pred, target))\n",
    "#         elif loss_type == 'psnr':\n",
    "#             reconstruction_loss = - torch.mean(compute_psnr_torch(pred, target))\n",
    "#         else:\n",
    "#             raise NotImplementedError\n",
    "#         loss = reconstruction_loss\n",
    "#         return loss"
   ]
  },
  {
   "cell_type": "code",
   "execution_count": null,
   "id": "d4d9f1af",
   "metadata": {},
   "outputs": [],
   "source": [
    "loupe = LOUPE(shape=shape,slope=slope,sparsity=sparsity,preselect_num=preselect_num)\n",
    "# img = torch.randn((1,1,320,320))\n",
    "model_path = '/home/huangz78/checkpoints/loupe_spar_0.25_base_24.pt'\n",
    "checkpoint = torch.load(model_path)\n",
    "loupe.load_state_dict(checkpoint['model_state_dict'])\n",
    "print('Loupe model is loaded successfully from: ' + model_path )\n",
    "loupe.eval()\n",
    "\n",
    "out,mask = loupe(ystar)\n",
    "# plt.imshow(out[0,0,:,:].detach().numpy())\n",
    "kplot(mask[0,0,:,0].detach().numpy(),roll=True)"
   ]
  },
  {
   "cell_type": "code",
   "execution_count": null,
   "id": "a0d0696c",
   "metadata": {},
   "outputs": [],
   "source": [
    "out,mask = loupe(ystar)\n",
    "# plt.imshow(out[0,0,:,:].detach().numpy())\n",
    "kplot(mask[0,0,:,0].detach().numpy(),roll=True)"
   ]
  },
  {
   "cell_type": "code",
   "execution_count": null,
   "id": "362d1297",
   "metadata": {},
   "outputs": [],
   "source": [
    "loupe_hist_path = '/home/huangz78/checkpoints/loupe_spar_0.25_base_24_history.npz'\n",
    "loupe_hist = np.load(loupe_hist_path)\n",
    "\n",
    "plt.figure()\n",
    "plt.plot(loupe_hist['loss_train'])\n",
    "plt.title('training L1 loss')\n",
    "plt.yscale('log')\n",
    "plt.show()\n",
    "\n",
    "plt.figure()\n",
    "plt.plot(loupe_hist['loss_val'])\n",
    "plt.title('validation L1 loss')\n",
    "plt.show()"
   ]
  },
  {
   "cell_type": "code",
   "execution_count": null,
   "id": "04a260da",
   "metadata": {},
   "outputs": [],
   "source": [
    "torch.norm(out[0,0,:,:] - img[0,0,:,:],p=1)/torch.norm(img[0,0,:,:],p=1)"
   ]
  },
  {
   "cell_type": "code",
   "execution_count": null,
   "id": "793474da",
   "metadata": {
    "scrolled": true
   },
   "outputs": [],
   "source": [
    "for name, param in loupe.samplers[0].named_parameters():\n",
    "    if param.requires_grad:\n",
    "        print(name, param.data)"
   ]
  },
  {
   "cell_type": "code",
   "execution_count": null,
   "id": "e42411ad",
   "metadata": {
    "scrolled": true
   },
   "outputs": [],
   "source": [
    "loupeTrain(trainxfull[0:21],testxfull[0:10],batchsize_train=5,batchsize_val=5)"
   ]
  },
  {
   "cell_type": "code",
   "execution_count": null,
   "id": "b46b75f1",
   "metadata": {},
   "outputs": [],
   "source": [
    "def normalize_data(batch):\n",
    "    for img in range(len(batch)):\n",
    "        batch[img,:,:] /= torch.max(torch.abs(batch[img,:,:]))\n",
    "    return batch\n",
    "\n",
    "def loupeTrain(traindata,valdata,\\\n",
    "               slope=5, sparsity=.25, preselect=True, preselect_num=24,\\\n",
    "               unet_skip=True, n_channels=1,\\\n",
    "               lrm=1e-3, lru=1e-4, weight_decay=0, momentum=0,\\\n",
    "               epochs=1, batchsize_train=5, batchsize_val=2, count_start=(0,0),\\\n",
    "               modelpath=None,\\\n",
    "               save_cp=True):\n",
    "    \n",
    "    '''\n",
    "    train and test data are assumed to have the shape [size, heg, wid]\n",
    "    '''\n",
    "    \n",
    "    # load sampler\n",
    "    shape   = traindata.shape[1:3]\n",
    "    \n",
    "    sampler = None\n",
    "    # load unet\n",
    "    UNET = UNet(n_channels=n_channels,n_classes=1,bilinear=(not unet_skip),skip=unet_skip)\n",
    "    unetpath = '/home/huangz78/checkpoints/unet_1_' + str(unet_skip) + '.pth'\n",
    "    checkpoint = torch.load(unetpath)\n",
    "    UNET.load_state_dict(checkpoint['model_state_dict'])\n",
    "\n",
    "    loupe = LOUPE(n_channels=n_channels,unet_skip=unet_skip,shape=shape,slope=slope,sparsity=sparsity,\\\n",
    "                  preselect=preselect,preselect_num=preselect_num,\\\n",
    "                  sampler=sampler,unet=UNET)\n",
    "    if modelpath is not None:\n",
    "        checkpoint = torch.load(modelpath)\n",
    "        loupe.load_state_dict(checkpoint['model_state_dict'])\n",
    "    loupe.train()\n",
    "    \n",
    "    # training\n",
    "    train_loss = []; val_loss = []\n",
    "    epoch_count = count_start[0];  batchind = count_start[1]\n",
    "    batch_nums  = int(np.ceil(traindata.shape[0]/batchsize_train))\n",
    "    \n",
    "    optimizer = optim.RMSprop([\n",
    "                    {'params': loupe.samplers.parameters()},\n",
    "                    {'params': loupe.unet.parameters(),'lr':lru}\n",
    "                ], lr=lrm, weight_decay=weight_decay, momentum=momentum,eps=1e-10)\n",
    "    criterion = nn.L1Loss()\n",
    "    try:\n",
    "        while epoch_count<epochs:\n",
    "            while batchind<batch_nums:\n",
    "                batch = np.arange(batchsize_train*batchind, min(batchsize_train*(batchind+1),traindata.shape[0]))\n",
    "                databatch = normalize_data(traindata[batch,:,:]) if len(batch)>1 else normalize_data(traindata[batch,:,:].view(-1,shape[0],shape[1]))\n",
    "                xstar = traindata[batch,:,:].view(batch.shape[0],-1,shape[0],shape[1])\n",
    "                ystar = F.fftn(xstar,dim=(2,3),norm='ortho')\n",
    "                x_recon = loupe(ystar)\n",
    "                breakpoint()\n",
    "                loss_train = criterion(x_recon,xstar)\n",
    "                optimizer.zero_grad()\n",
    "                loss_train.backward()\n",
    "                optimizer.step()\n",
    "                progress_str = f'[{epoch_count+1}/{epochs}][{min(batchsize_train*(batchind+1),traindata.shape[0])}/{traindata.shape[0]}]'\n",
    "                print(progress_str + f' training loss: {loss_train.item()}')\n",
    "                train_loss.append(loss_train.item())\n",
    "                batchind += 1   \n",
    "\n",
    "            # validation eval\n",
    "            valbatchind = 0\n",
    "            valbatch_nums = int(np.ceil(valdata.shape[0]/batchsize_val))\n",
    "            loupe.eval()\n",
    "            loss_val = 0\n",
    "            while (valbatchind < valbatch_nums):\n",
    "                batch = np.arange(valbatchind*batchind, min(batchsize_val*(valbatchind+1),valdata.shape[0]))\n",
    "                databatch = normalize_data(valdata[batch,:,:]) if len(batch)>1 else normalize_data(valdata[batch,:,:].view(-1,shape[0],shape[1]))\n",
    "                xstar = databatch.view(batch.shape[0],-1,shape[0],shape[1])\n",
    "                ystar = F.fftn(xstar,dim=(2,3),norm='ortho')\n",
    "                x_recon = loupe(ystar)\n",
    "                loss_val += criterion(x_recon,xstar)\n",
    "                valbatchind += 1\n",
    "            progress_str = f'[{epoch_count+1}/{epochs}]'\n",
    "            print('\\n' + progress_str + f' validation loss: {loss_val.item()/valbatch_nums}')\n",
    "            val_loss.append(loss_val.item()/valbatch_nums)\n",
    "            loupe.train()\n",
    "\n",
    "            # saving models\n",
    "            if save_cp:\n",
    "                dir_checkpoint = '/home/huangz78/checkpoints/'\n",
    "                try:\n",
    "                    os.mkdir(dir_checkpoint)\n",
    "                    print('Created checkpoint directory')\n",
    "                except OSError:\n",
    "                    pass\n",
    "                torch.save({'model_state_dict': loupe.state_dict()}, dir_checkpoint + 'loupe_model.pt')\n",
    "                np.savez(dir_checkpoint+'loupe_history.npz',loss_train=train_loss, loss_val=val_loss)\n",
    "                print(f'\\t Checkpoint for Loupe saved after epoch {epoch_count + 1}!' + '\\n')\n",
    "            epoch_count += 1\n",
    "            batchind = 0\n",
    "    except KeyboardInterrupt: # need debug\n",
    "        print('Keyboard Interrupted! Exit ~')\n",
    "        torch.save({'model_state_dict': loupe.state_dict()}, dir_checkpoint + 'loupe_model.pt')\n",
    "        np.savez(dir_checkpoint+'loupe_history.npz',loss_train=train_loss, loss_val=val_loss)\n",
    "        print('Model is saved after keyboard interruption~')\n",
    "        try:\n",
    "            sys.exit(0)\n",
    "        except SystemExit:\n",
    "            os._exit(0)"
   ]
  },
  {
   "cell_type": "code",
   "execution_count": null,
   "id": "3f988776",
   "metadata": {},
   "outputs": [],
   "source": []
  }
 ],
 "metadata": {
  "kernelspec": {
   "display_name": "Python 3 (ipykernel)",
   "language": "python",
   "name": "python3"
  },
  "language_info": {
   "codemirror_mode": {
    "name": "ipython",
    "version": 3
   },
   "file_extension": ".py",
   "mimetype": "text/x-python",
   "name": "python",
   "nbconvert_exporter": "python",
   "pygments_lexer": "ipython3",
   "version": "3.8.11"
  }
 },
 "nbformat": 4,
 "nbformat_minor": 5
}
