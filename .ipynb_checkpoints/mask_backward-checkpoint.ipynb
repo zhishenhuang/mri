{
 "cells": [
  {
   "cell_type": "code",
   "execution_count": 1,
   "id": "7c7d1007",
   "metadata": {},
   "outputs": [],
   "source": [
    "import numpy as np\n",
    "import argparse\n",
    "import os\n",
    "import sys\n",
    "import random\n",
    "import torch\n",
    "import torch.fft as F\n",
    "from importlib import reload\n",
    "from torch.nn.functional import relu\n",
    "import torch.nn as nn\n",
    "import torch.nn.functional as Func\n",
    "import torch.optim as optim\n",
    "import utils\n",
    "import mask_backward_v4\n",
    "import matplotlib.pyplot as plt\n",
    "# from mask_backward_v1 import mask_backward, mask_eval\n",
    "# from mask_backward_v2 import mask_backward, mask_eval\n",
    "from mask_backward_v4 import mask_backward, mask_eval\n",
    "from utils import *\n",
    "from mnet import MNet\n",
    "sys.path.insert(0,'/home/huangz78/mri/unet/')\n",
    "from unet_model import UNet\n",
    "\n",
    "torch.manual_seed(0)\n",
    "np.random.seed(0)\n",
    "random.seed(0)"
   ]
  },
  {
   "cell_type": "markdown",
   "id": "eb15c87b",
   "metadata": {},
   "source": [
    "#### import data to test mask_backward function"
   ]
  },
  {
   "cell_type": "code",
   "execution_count": 2,
   "id": "69b066c1",
   "metadata": {},
   "outputs": [],
   "source": [
    "# data_gt = np.load('/home/huangz78/data/data_gt.npz')\n",
    "# datafornn = np.load('/home/huangz78/data/datafornn.npz')\n",
    "data = np.load('/home/huangz78/data/traindata_x.npz')\n",
    "dtyp = torch.float\n",
    "xfull = torch.tensor(data['xfull'],dtype=dtyp)\n",
    "fullmask = torch.tensor(data['mask']) # a random mask"
   ]
  },
  {
   "cell_type": "markdown",
   "id": "f2136cfa",
   "metadata": {},
   "source": [
    "##### greedy mask and relevant data"
   ]
  },
  {
   "cell_type": "code",
   "execution_count": 3,
   "id": "14b8fb30",
   "metadata": {},
   "outputs": [],
   "source": [
    "from sklearn.model_selection import train_test_split\n",
    "\n",
    "imgs   = torch.tensor( np.load('/home/huangz78/data/data_gt.npz')['imgdata'] ).permute(2,0,1)\n",
    "masks  = torch.tensor( np.load('/home/huangz78/data/data_gt_greedymask.npz')['mask'].T ) # labels are already rolled\n",
    "imgNum = imgs.shape[0]\n",
    "traininds, testinds = train_test_split(np.arange(imgNum),random_state=0,shuffle=True,train_size=round(imgNum*0.8))"
   ]
  },
  {
   "cell_type": "code",
   "execution_count": null,
   "id": "9aa95256",
   "metadata": {},
   "outputs": [],
   "source": [
    "# reload(utils)\n",
    "# from utils import hfen\n",
    "reload(mask_backward_v3)\n",
    "from mask_backward_v3 import mask_backward, mask_eval\n",
    "# import unet_model\n",
    "# reload(unet_model)\n",
    "# from unet_model import UNet"
   ]
  },
  {
   "cell_type": "code",
   "execution_count": 4,
   "id": "2c6d0ee8",
   "metadata": {
    "scrolled": true
   },
   "outputs": [
    {
     "name": "stdout",
     "output_type": "stream",
     "text": [
      "Unet loaded successfully from: /home/huangz78/checkpoints/unet_1_True.pth\n",
      "nn's are ready\n"
     ]
    }
   ],
   "source": [
    "corefreq = 8\n",
    "budget = 32\n",
    "mnet = MNet(beta=1,in_channels=2,out_size=320-corefreq, imgsize=(320,320),poolk=3)\n",
    "# mnet.apply(weights_init)\n",
    "mnet.eval()\n",
    "### load a unet for maskbackward\n",
    "# UNET = UNet(n_channels=1,n_classes=1,bilinear=True,skip=False)\n",
    "# unetpath = '/home/huangz78/checkpoints/unet_'+ str(UNET.n_channels) +'.pth'\n",
    "# unetpath = '/home/huangz78/checkpoints/unet_1_False.pth'\n",
    "\n",
    "unet_skip = True\n",
    "UNET = UNet(n_channels=1,n_classes=1,bilinear=(not unet_skip),skip=unet_skip)\n",
    "unetpath = '/home/huangz78/checkpoints/unet_1_'+str(unet_skip)+'.pth'\n",
    "checkpoint = torch.load(unetpath)\n",
    "UNET.load_state_dict(checkpoint['model_state_dict'])\n",
    "print('Unet loaded successfully from: ' + unetpath )\n",
    "UNET.train()\n",
    "print('nn\\'s are ready')"
   ]
  },
  {
   "cell_type": "code",
   "execution_count": 20,
   "id": "a7e8441f",
   "metadata": {},
   "outputs": [
    {
     "name": "stdout",
     "output_type": "stream",
     "text": [
      "preselect_num =  8\n",
      "budget =  32\n"
     ]
    },
    {
     "data": {
      "image/png": "[encoded data removed]",
      "text/plain": [
       "<Figure size 360x360 with 1 Axes>"
      ]
     },
     "metadata": {
      "needs_background": "light"
     },
     "output_type": "display_data"
    },
    {
     "name": "stdout",
     "output_type": "stream",
     "text": [
      "loss of the input mask:  (0.19981743395328522, 0.9298848509788513)\n",
      "Iter 1, rows added: 126.0, rows reducted: 0.0, current samp. ratio: 0.56875\n",
      "Iter 2, rows added: 0.0, rows reducted: 2.0, current samp. ratio: 0.5625\n",
      "Iter 3, rows added: 2.0, rows reducted: 99.0, current samp. ratio: 0.259375\n",
      "Iter 4, rows added: 20.0, rows reducted: 0.0, current samp. ratio: 0.321875\n",
      "Iter 5, rows added: 12.0, rows reducted: 23.0, current samp. ratio: 0.2875\n",
      "Iter 6, rows added: 41.0, rows reducted: 5.0, current samp. ratio: 0.4\n",
      "Iter 7, rows added: 70.0, rows reducted: 32.0, current samp. ratio: 0.51875\n",
      "Iter 8, rows added: 45.0, rows reducted: 77.0, current samp. ratio: 0.41875\n",
      "Iter 9, rows added: 91.0, rows reducted: 36.0, current samp. ratio: 0.590625\n",
      "Iter 10, rows added: 40.0, rows reducted: 76.0, current samp. ratio: 0.478125\n",
      "Iter 11, rows added: 68.0, rows reducted: 45.0, current samp. ratio: 0.55\n",
      "Iter 12, rows added: 65.0, rows reducted: 47.0, current samp. ratio: 0.60625\n",
      "Iter 13, rows added: 50.0, rows reducted: 72.0, current samp. ratio: 0.5375\n",
      "Iter 14, rows added: 41.0, rows reducted: 43.0, current samp. ratio: 0.53125\n",
      "Iter 15, rows added: 51.0, rows reducted: 41.0, current samp. ratio: 0.5625\n",
      "Iter 16, rows added: 54.0, rows reducted: 51.0, current samp. ratio: 0.571875\n",
      "Iter 17, rows added: 54.0, rows reducted: 62.0, current samp. ratio: 0.546875\n",
      "Iter 18, rows added: 57.0, rows reducted: 48.0, current samp. ratio: 0.575\n",
      "Iter 19, rows added: 58.0, rows reducted: 54.0, current samp. ratio: 0.5875\n",
      "Iter 20, rows added: 53.0, rows reducted: 55.0, current samp. ratio: 0.58125\n",
      "Iter 21, rows added: 57.0, rows reducted: 53.0, current samp. ratio: 0.59375\n",
      "Iter 22, rows added: 44.0, rows reducted: 52.0, current samp. ratio: 0.56875\n",
      "Iter 23, rows added: 62.0, rows reducted: 42.0, current samp. ratio: 0.63125\n",
      "Iter 24, rows added: 47.0, rows reducted: 61.0, current samp. ratio: 0.5875\n",
      "Iter 25, rows added: 57.0, rows reducted: 62.0, current samp. ratio: 0.571875\n",
      "Iter 26, rows added: 60.0, rows reducted: 45.0, current samp. ratio: 0.61875\n",
      "Iter 27, rows added: 51.0, rows reducted: 54.0, current samp. ratio: 0.609375\n",
      "Iter 28, rows added: 49.0, rows reducted: 49.0, current samp. ratio: 0.609375\n",
      "Iter 29, rows added: 55.0, rows reducted: 48.0, current samp. ratio: 0.63125\n",
      "Iter 30, rows added: 37.0, rows reducted: 58.0, current samp. ratio: 0.565625\n",
      "\n",
      "return at Iter ind:  30\n",
      "samp. ratio: 0.125, loss of returned mask: (0.17356227338314056, 0.8028347492218018) \n",
      "\n"
     ]
    },
    {
     "data": {
      "image/png": "[encoded data removed]",
      "text/plain": [
       "<Figure size 360x360 with 1 Axes>"
      ]
     },
     "metadata": {
      "needs_background": "light"
     },
     "output_type": "display_data"
    }
   ],
   "source": [
    "# for (8,32) setting\n",
    "maxIter_mb = 30\n",
    "lr_mb      = 1e-2\n",
    "print('preselect_num = ',corefreq)\n",
    "print('budget = ',budget)\n",
    "\n",
    "xstar = xfull[0,:,:].view(-1,320,320)\n",
    "# xstar    = imgs[testinds[testinds.size//2:],:,:]\n",
    "for ind in range(xstar.shape[0]):\n",
    "    xstar[ind,:,:] = xstar[ind,:,:]/xstar[ind,:,:].max()\n",
    "\n",
    "# base_eq = torch.flatten( torch.tensor( [[1,0] for i in range(budget//2)] ) )\n",
    "# highmask = torch.zeros((320-corefreq))\n",
    "# highmask[(320-corefreq - budget)//2:(320-corefreq+budget)//2] = base_eq\n",
    "highmask = mask_filter(mask_naiveRand(320,fix=corefreq,other=1.5*budget,roll=True)[0],base=corefreq,roll=True)\n",
    "highmask = highmask.view(-1,320-corefreq)\n",
    "\n",
    "fullmask = mask_complete(highmask,320,dtyp=torch.float).view(-1)\n",
    "kplot(fullmask,roll=False,img_name='random mask')\n",
    "\n",
    "highmask_refined, _, mask_loss, init_mask_loss = mask_backward(highmask,xstar,unet=UNET, mnet=mnet,\\\n",
    "                  beta=1.,alpha=1e-4,c=1e-3,\\\n",
    "                  maxIter=maxIter_mb,seed=0,break_limit=np.inf,\\\n",
    "                  lr=lr_mb,mode='UNET',budget=budget,normalize=True,\\\n",
    "                  verbose=True,dtyp=torch.float,testmode='sigpy',hfen=True,return_loss_only=False,\\\n",
    "                  save_cp=False)\n",
    "\n",
    "fullmask = mask_complete(highmask_refined,320,dtyp=torch.float).view(-1)\n",
    "kplot(fullmask,roll=False,img_name='refined mask')"
   ]
  },
  {
   "cell_type": "code",
   "execution_count": null,
   "id": "d856b4ff",
   "metadata": {},
   "outputs": [],
   "source": [
    "res_path = '/home/huangz78/checkpoints/mb_rec.npz'\n",
    "res = np.load(res_path)\n",
    "l2loss   = res['l2loss']\n",
    "hfen     = res['hfen']\n",
    "sparsity = res['sparsity']"
   ]
  },
  {
   "cell_type": "code",
   "execution_count": null,
   "id": "d345497d",
   "metadata": {
    "scrolled": true
   },
   "outputs": [],
   "source": [
    "# for (24,56) setting\n",
    "mask_backward(highmask,xstar,unet=UNET, mnet=mnet,\\\n",
    "              beta=1.,alpha=10**(-9.5),c=1e-2,\\\n",
    "              maxIter=maxIter_mb,seed=0,break_limit=np.inf,\\\n",
    "              lr=lr_mb,mode='UNET',budget=budget,normalize=False,\\\n",
    "              verbose=True,dtyp=torch.float,testmode='sigpy',hfen=True,return_loss_only=True)"
   ]
  },
  {
   "cell_type": "markdown",
   "id": "f6524f6a",
   "metadata": {},
   "source": [
    "# 8-fold check"
   ]
  },
  {
   "cell_type": "code",
   "execution_count": 3,
   "id": "a30ef734",
   "metadata": {
    "scrolled": true
   },
   "outputs": [
    {
     "name": "stdout",
     "output_type": "stream",
     "text": [
      "mnet is randomly initialized by PyTorch default setting~\n"
     ]
    }
   ],
   "source": [
    "corefreq = 8\n",
    "budget   = 32\n",
    "\n",
    "mnet = MNet(beta=1,in_channels=2,out_size=320-corefreq, imgsize=(320,320),poolk=3)\n",
    "# mnet.apply(weights_init)\n",
    "mnet.eval()\n",
    "print('mnet is randomly initialized by PyTorch default setting~')"
   ]
  },
  {
   "cell_type": "code",
   "execution_count": 4,
   "id": "66cf8150",
   "metadata": {},
   "outputs": [
    {
     "name": "stdout",
     "output_type": "stream",
     "text": [
      "alpha grid:  [3.16227766e-05 4.21696503e-05 5.62341325e-05 7.49894209e-05\n",
      " 1.00000000e-04 1.33352143e-04 1.77827941e-04 2.37137371e-04\n",
      " 3.16227766e-04]\n",
      "c grid:  [0.0001 0.001  0.01   0.1   ]\n"
     ]
    }
   ],
   "source": [
    "xstar = xfull[0:5,:,:]\n",
    "for ind in range(xstar.shape[0]):\n",
    "    xstar[ind,:,:] = xstar[ind,:,:]/xstar[ind,:,:].max()\n",
    "\n",
    "NN         = 9\n",
    "# alpha_grid = 10**(np.array([-4,-3.5,-3,-2.5,-2]))\n",
    "alpha_grid = 10**(np.linspace(-4.5,-3.5,NN))\n",
    "# c_grid     = np.array([1e-4])\n",
    "c_grid     = np.array([1e-4,1e-3,1e-2,1e-1])\n",
    "print('alpha grid: ',alpha_grid)\n",
    "print('c grid: ',c_grid)\n",
    "l2loss   = np.zeros((NN,5))\n",
    "hfen     = np.zeros((NN,5))\n",
    "sparsity = np.zeros((NN,5))\n",
    "\n",
    "maxIter_mb = 30\n",
    "lr_mb      = 1e-2\n",
    "\n",
    "unet_skip = True # unet n_channels = 1\n",
    "# unet_skip = False # unet n_channels = 2"
   ]
  },
  {
   "cell_type": "code",
   "execution_count": 5,
   "id": "e3d7cc25",
   "metadata": {},
   "outputs": [
    {
     "name": "stderr",
     "output_type": "stream",
     "text": [
      "/opt/anaconda/envs/pyenv/lib/python3.7/site-packages/torch/nn/functional.py:718: UserWarning: Named tensors and all their associated APIs are an experimental feature and subject to change. Please do not use them for anything important until they are released as stable. (Triggered internally at  /opt/conda/conda-bld/pytorch_1623448224956/work/c10/core/TensorImpl.h:1156.)\n",
      "  return torch.max_pool2d(input, kernel_size, stride, padding, dilation, ceil_mode)\n"
     ]
    }
   ],
   "source": [
    "lowfreqmask = mask_naiveRand(xstar.shape[1],fix=corefreq,other=0,roll=True)[0]\n",
    "\n",
    "yfull = torch.fft.fftshift(F.fftn(xstar,dim=(1,2),norm='ortho'),dim=(1,2)) # y is ROLLED!\n",
    "y = torch.zeros((yfull.shape[0],2,yfull.shape[1],yfull.shape[2]),dtype=torch.float,device='cpu')\n",
    "y[:,0,lowfreqmask==1,:] = torch.real(yfull)[:,lowfreqmask==1,:]\n",
    "y[:,1,lowfreqmask==1,:] = torch.imag(yfull)[:,lowfreqmask==1,:]\n",
    "highmask = torch.sigmoid( mnet(y) ).detach()\n",
    "\n",
    "highmask = mask_makebinary(raw_normalize(highmask,budget,threshold=0.5),threshold=0.5,sigma=False)"
   ]
  },
  {
   "cell_type": "code",
   "execution_count": 7,
   "id": "3633d15f",
   "metadata": {},
   "outputs": [
    {
     "data": {
      "image/png": "[encoded data removed]",
      "text/plain": [
       "<Figure size 360x360 with 1 Axes>"
      ]
     },
     "metadata": {
      "needs_background": "light"
     },
     "output_type": "display_data"
    }
   ],
   "source": [
    "fullmask = mask_complete(highmask,320)\n",
    "kplot(fullmask[0,:])"
   ]
  },
  {
   "cell_type": "code",
   "execution_count": null,
   "id": "0dfbd2a5",
   "metadata": {
    "scrolled": false
   },
   "outputs": [
    {
     "name": "stdout",
     "output_type": "stream",
     "text": [
      "c_ind 1 out of 4\n",
      "alpha_ind 1 out of 9\n",
      "Unet loaded successfully from: /home/huangz78/checkpoints/unet_1_True.pth\n",
      "loss of the input mask:  (0.16864521205425262, 0.8561416506767273)\n"
     ]
    },
    {
     "name": "stderr",
     "output_type": "stream",
     "text": [
      "/opt/anaconda/envs/pyenv/lib/python3.7/site-packages/torch/autograd/__init__.py:149: UserWarning: Casting complex values to real discards the imaginary part (Triggered internally at  /opt/conda/conda-bld/pytorch_1623448224956/work/aten/src/ATen/native/Copy.cpp:240.)\n",
      "  allow_unreachable=True, accumulate_grad=True)  # allow_unreachable flag\n"
     ]
    },
    {
     "name": "stdout",
     "output_type": "stream",
     "text": [
      "Iter 1, rows added: 130.0, rows reducted: 0.0, current samp. ratio: 0.53125\n",
      "Iter 2, rows added: 0.0, rows reducted: 6.4, current samp. ratio: 0.51125\n",
      "Iter 3, rows added: 1.0, rows reducted: 85.2, current samp. ratio: 0.248125\n",
      "Iter 4, rows added: 0.6, rows reducted: 1.4, current samp. ratio: 0.245625\n",
      "Iter 5, rows added: 2.8, rows reducted: 6.0, current samp. ratio: 0.235625\n",
      "Iter 6, rows added: 2.6, rows reducted: 0.0, current samp. ratio: 0.24375\n",
      "Iter 7, rows added: 12.2, rows reducted: 2.4, current samp. ratio: 0.274375\n",
      "Iter 8, rows added: 1.6, rows reducted: 1.2, current samp. ratio: 0.275625\n",
      "Iter 9, rows added: 13.6, rows reducted: 7.4, current samp. ratio: 0.295\n",
      "Iter 10, rows added: 4.4, rows reducted: 2.8, current samp. ratio: 0.3\n",
      "Iter 11, rows added: 14.0, rows reducted: 23.8, current samp. ratio: 0.269375\n",
      "Iter 12, rows added: 17.2, rows reducted: 4.2, current samp. ratio: 0.31\n",
      "Iter 13, rows added: 16.2, rows reducted: 31.2, current samp. ratio: 0.263125\n",
      "Iter 14, rows added: 20.2, rows reducted: 5.0, current samp. ratio: 0.310625\n",
      "Iter 15, rows added: 23.0, rows reducted: 34.0, current samp. ratio: 0.27625\n",
      "Iter 16, rows added: 30.4, rows reducted: 4.0, current samp. ratio: 0.35875\n",
      "Iter 17, rows added: 20.2, rows reducted: 46.2, current samp. ratio: 0.2775\n",
      "Iter 18, rows added: 34.6, rows reducted: 9.2, current samp. ratio: 0.356875\n",
      "Iter 19, rows added: 31.0, rows reducted: 47.2, current samp. ratio: 0.30625\n",
      "Iter 20, rows added: 41.2, rows reducted: 18.2, current samp. ratio: 0.378125\n",
      "Iter 21, rows added: 34.4, rows reducted: 48.4, current samp. ratio: 0.334375\n",
      "Iter 22, rows added: 38.2, rows reducted: 27.2, current samp. ratio: 0.36875\n",
      "Iter 23, rows added: 37.8, rows reducted: 39.4, current samp. ratio: 0.36375\n",
      "Iter 24, rows added: 41.4, rows reducted: 40.0, current samp. ratio: 0.368125\n",
      "Iter 25, rows added: 35.6, rows reducted: 33.0, current samp. ratio: 0.37625\n",
      "Iter 26, rows added: 35.2, rows reducted: 42.4, current samp. ratio: 0.35375\n",
      "Iter 27, rows added: 41.8, rows reducted: 34.8, current samp. ratio: 0.375625\n",
      "Iter 28, rows added: 43.4, rows reducted: 41.4, current samp. ratio: 0.381875\n",
      "Iter 29, rows added: 36.0, rows reducted: 44.2, current samp. ratio: 0.35625\n",
      "Iter 30, rows added: 40.8, rows reducted: 44.8, current samp. ratio: 0.34375\n",
      "\n",
      "return at Iter ind:  30\n",
      "samp. ratio: 0.34375, loss of returned mask: (0.08396139442920685, 0.5484795928001404) \n",
      "\n",
      "alpha_ind 2 out of 9\n",
      "Unet loaded successfully from: /home/huangz78/checkpoints/unet_1_True.pth\n",
      "loss of the input mask:  (0.1686452090740204, 0.8561416149139405)\n",
      "Iter 1, rows added: 94.2, rows reducted: 0.0, current samp. ratio: 0.419375\n",
      "Iter 2, rows added: 0.0, rows reducted: 4.8, current samp. ratio: 0.404375\n",
      "Iter 3, rows added: 1.4, rows reducted: 60.2, current samp. ratio: 0.220625\n",
      "Iter 4, rows added: 0.0, rows reducted: 2.0, current samp. ratio: 0.214375\n",
      "Iter 5, rows added: 2.2, rows reducted: 5.6, current samp. ratio: 0.20375\n",
      "Iter 6, rows added: 2.8, rows reducted: 0.0, current samp. ratio: 0.2125\n",
      "Iter 7, rows added: 13.8, rows reducted: 2.0, current samp. ratio: 0.249375\n",
      "Iter 8, rows added: 0.4, rows reducted: 1.6, current samp. ratio: 0.245625\n",
      "Iter 9, rows added: 7.4, rows reducted: 9.4, current samp. ratio: 0.239375\n",
      "Iter 10, rows added: 5.0, rows reducted: 1.4, current samp. ratio: 0.250625\n",
      "Iter 11, rows added: 14.0, rows reducted: 17.6, current samp. ratio: 0.239375\n",
      "Iter 12, rows added: 9.4, rows reducted: 3.2, current samp. ratio: 0.25875\n",
      "Iter 13, rows added: 16.4, rows reducted: 19.4, current samp. ratio: 0.249375\n",
      "Iter 14, rows added: 16.4, rows reducted: 5.0, current samp. ratio: 0.285\n",
      "Iter 15, rows added: 15.8, rows reducted: 29.6, current samp. ratio: 0.241875\n",
      "Iter 16, rows added: 24.0, rows reducted: 6.0, current samp. ratio: 0.298125\n",
      "Iter 17, rows added: 16.2, rows reducted: 29.6, current samp. ratio: 0.25625\n",
      "Iter 18, rows added: 20.2, rows reducted: 9.0, current samp. ratio: 0.29125\n",
      "Iter 19, rows added: 25.0, rows reducted: 32.2, current samp. ratio: 0.26875\n",
      "Iter 20, rows added: 25.8, rows reducted: 12.0, current samp. ratio: 0.311875\n",
      "Iter 21, rows added: 23.4, rows reducted: 31.0, current samp. ratio: 0.288125\n",
      "Iter 22, rows added: 27.4, rows reducted: 17.2, current samp. ratio: 0.32\n",
      "Iter 23, rows added: 25.6, rows reducted: 31.6, current samp. ratio: 0.30125\n",
      "Iter 24, rows added: 28.6, rows reducted: 29.0, current samp. ratio: 0.3\n",
      "Iter 25, rows added: 31.0, rows reducted: 20.0, current samp. ratio: 0.334375\n",
      "Iter 26, rows added: 21.8, rows reducted: 41.6, current samp. ratio: 0.2725\n",
      "Iter 27, rows added: 37.0, rows reducted: 15.0, current samp. ratio: 0.34125\n",
      "Iter 28, rows added: 24.2, rows reducted: 47.0, current samp. ratio: 0.27\n",
      "Iter 29, rows added: 35.4, rows reducted: 26.4, current samp. ratio: 0.298125\n"
     ]
    }
   ],
   "source": [
    "# highmask = mask_filter(mask_naiveRand(320,fix=corefreq,other=1.5*budget,roll=True)[0],base=corefreq,roll=True)\n",
    "# highmask = highmask.repeat(5,1)\n",
    "\n",
    "c_ind = 0\n",
    "for c in c_grid:\n",
    "    print(f'c_ind {c_ind+1} out of {len(c_grid)}')\n",
    "    a_ind = 0\n",
    "    for alpha in alpha_grid:\n",
    "        print(f'alpha_ind {a_ind+1} out of {len(alpha_grid)}')\n",
    "        # load a unet for maskbackward\n",
    "#         UNET = UNet(n_channels=2,n_classes=1,bilinear=(not unet_skip),skip=unet_skip)\n",
    "#         unetpath = '/home/huangz78/checkpoints/unet_2_'+str(unet_skip)+'.pt'\n",
    "        UNET = UNet(n_channels=1,n_classes=1,bilinear=(not unet_skip),skip=unet_skip)\n",
    "        unetpath = '/home/huangz78/checkpoints/unet_1_'+str(unet_skip)+'.pth'\n",
    "        checkpoint = torch.load(unetpath)\n",
    "        UNET.load_state_dict(checkpoint['model_state_dict'])\n",
    "        print('Unet loaded successfully from: ' + unetpath )\n",
    "        UNET.train()\n",
    "        (l2loss[a_ind,c_ind],hfen[a_ind,c_ind]),sparsity[a_ind,c_ind] =\\\n",
    "                        mask_backward(highmask,xstar,unet=UNET, mnet=mnet,\\\n",
    "                          beta=1.,alpha=alpha,c=c,\\\n",
    "                          maxIter=maxIter_mb,seed=0,break_limit=np.inf,\\\n",
    "                          lr=lr_mb,mode='UNET',budget=budget,normalize=False,\\\n",
    "                          dtyp=torch.float,verbose=True,testmode='sigpy',hfen=True,\\\n",
    "                          return_loss_only=True)\n",
    "        a_ind += 1\n",
    "    print('\\n')\n",
    "    c_ind += 1"
   ]
  },
  {
   "cell_type": "code",
   "execution_count": 33,
   "id": "62621079",
   "metadata": {},
   "outputs": [],
   "source": [
    "# highmask = sigmoid_binarize(raw_normalize(mnet(z),budget=budget))\n",
    "randmask = torch.zeros(highmask.shape)\n",
    "for ind in range(highmask.shape[0]):\n",
    "    sampinds = np.random.choice(highmask.shape[1],budget,replace=False)\n",
    "    randmask[ind,sampinds] = 1\n",
    "lowfmask,_,_ = mask_naiveRand(xstar.shape[1]-corefreq,fix=budget,other=0,roll=True)\n",
    "lowfmask = lowfmask.repeat(highmask.shape[0],1)"
   ]
  },
  {
   "cell_type": "code",
   "execution_count": 34,
   "id": "e4e2d8f6",
   "metadata": {},
   "outputs": [
    {
     "name": "stdout",
     "output_type": "stream",
     "text": [
      "mode = sigpy\n",
      "0.1780722737312317\n",
      "0.10690502524375915\n"
     ]
    }
   ],
   "source": [
    "# full_highmask = mask_complete(highmask,320)\n",
    "full_randmask = mask_complete(randmask,320)\n",
    "full_lowfmask = mask_complete(lowfmask,320)\n",
    "\n",
    "(rand_l2,rand_hfen) = mask_eval(full_randmask,xstar,mode='sigpy',hfen=True)\n",
    "(lowf_l2,lowf_hfen) = mask_eval(full_lowfmask,xstar,mode='sigpy',hfen=True)\n",
    "# (gred_l2,gred_hfen) = mask_eval(full_gredmask.to(torch.float),xstar,mode='sigpy',hfen=True)\n",
    "print('mode = sigpy')\n",
    "\n",
    "print(rand_l2)\n",
    "print(lowf_l2)\n",
    "# print(gred_l2)"
   ]
  },
  {
   "cell_type": "code",
   "execution_count": 23,
   "id": "d3ba1c97",
   "metadata": {},
   "outputs": [
    {
     "data": {
      "text/plain": [
       "-3.9"
      ]
     },
     "execution_count": 23,
     "metadata": {},
     "output_type": "execute_result"
    }
   ],
   "source": [
    "np.log10(alpha_grid[1])"
   ]
  },
  {
   "cell_type": "code",
   "execution_count": 35,
   "id": "40153eee",
   "metadata": {},
   "outputs": [
    {
     "data": {
      "text/plain": [
       "Text(0.5, 0, 'alpha')"
      ]
     },
     "execution_count": 35,
     "metadata": {},
     "output_type": "execute_result"
    },
    {
     "data": {
      "image/png": "[encoded data removed]",
      "text/plain": [
       "<Figure size 720x576 with 1 Axes>"
      ]
     },
     "metadata": {
      "needs_background": "light"
     },
     "output_type": "display_data"
    },
    {
     "data": {
      "image/png": "[encoded data removed]",
      "text/plain": [
       "<Figure size 720x576 with 1 Axes>"
      ]
     },
     "metadata": {
      "needs_background": "light"
     },
     "output_type": "display_data"
    },
    {
     "data": {
      "image/png": "[encoded data removed]",
      "text/plain": [
       "<Figure size 720x576 with 1 Axes>"
      ]
     },
     "metadata": {
      "needs_background": "light"
     },
     "output_type": "display_data"
    }
   ],
   "source": [
    "markers = ['H', 'D', 'P', 'X','+']\n",
    "plt.figure(figsize=(10,8))\n",
    "for c_ind in range(len(c_grid)):\n",
    "    plt.plot(alpha_grid,l2loss[:,c_ind],label='c='+str(c_grid[c_ind]),marker=markers[c_ind],markersize=7)\n",
    "plt.plot(alpha_grid,np.ones(alpha_grid.shape)*rand_l2,color='r',label='rand',linestyle = 'dotted')\n",
    "plt.plot(alpha_grid,np.ones(alpha_grid.shape)*lowf_l2,color='g',label='low freq.',linestyle = 'dotted')\n",
    "plt.title('l2 loss of masks')\n",
    "plt.xlabel('alpha')\n",
    "plt.xscale('log')\n",
    "plt.legend(loc='best')\n",
    "\n",
    "plt.figure(figsize=(10,8))\n",
    "for c_ind in range(len(c_grid)):\n",
    "    plt.plot(alpha_grid,hfen[:,c_ind],label='c='+str(c_grid[c_ind]),marker=markers[c_ind],markersize=7)\n",
    "plt.plot(alpha_grid,np.ones(alpha_grid.shape)*rand_hfen,color='r',label='rand',linestyle = 'dotted')\n",
    "plt.plot(alpha_grid,np.ones(alpha_grid.shape)*lowf_hfen,color='g',label='low freq.',linestyle = 'dotted')\n",
    "plt.title('HFEN of masks')\n",
    "plt.xscale('log')\n",
    "plt.legend(loc='best')\n",
    "\n",
    "plt.figure(figsize=(10,8))\n",
    "for c_ind in range(len(c_grid)):\n",
    "    plt.plot(alpha_grid,sparsity[:,c_ind],label='c='+str(c_grid[c_ind]),marker=markers[c_ind],markersize=7)\n",
    "plt.plot(alpha_grid,(corefreq+budget)/320*np.ones(alpha_grid.shape),'-.',label='target')\n",
    "plt.title('mask sparsity')\n",
    "plt.xscale('log')\n",
    "plt.legend(loc='best')\n",
    "plt.xlabel('alpha')"
   ]
  },
  {
   "cell_type": "markdown",
   "id": "cb1adeae",
   "metadata": {},
   "source": [
    "# 4-fold check"
   ]
  },
  {
   "cell_type": "code",
   "execution_count": null,
   "id": "357d267c",
   "metadata": {
    "scrolled": true
   },
   "outputs": [],
   "source": [
    "corefreq = 16\n",
    "budget   = 64\n",
    "from mnet import MNet\n",
    "mnet = MNet(beta=1,in_channels=2,out_size=320-corefreq, imgsize=(320,320),poolk=3)\n",
    "mnet.apply(weights_init)\n",
    "mnet.eval()\n",
    "print('mnet is initialized')"
   ]
  },
  {
   "cell_type": "code",
   "execution_count": null,
   "id": "d4cb0a42",
   "metadata": {},
   "outputs": [],
   "source": [
    "xstar = xfull[0:5,:,:]\n",
    "for ind in range(xstar.shape[0]):\n",
    "    xstar[ind,:,:] = xstar[ind,:,:]/xstar[ind,:,:].max()\n",
    "\n",
    "NN         = 11\n",
    "alpha_grid = 10**(np.linspace(-4.5,-3.5,NN))\n",
    "c_grid     = np.array([1e-4,1e-3,1e-2,1e-1])\n",
    "\n",
    "l2loss   = np.zeros((NN,5))\n",
    "hfen     = np.zeros((NN,5))\n",
    "sparsity = np.zeros((NN,5))\n",
    "\n",
    "maxIter_mb = 30\n",
    "lr_mb      = 1e-2\n",
    "\n",
    "unet_skip = True"
   ]
  },
  {
   "cell_type": "code",
   "execution_count": null,
   "id": "63b151f8",
   "metadata": {
    "scrolled": true
   },
   "outputs": [],
   "source": [
    "highmask = mask_filter(mask_naiveRand(320,fix=corefreq,other=1.5*budget,roll=True)[0],base=corefreq,roll=True)\n",
    "highmask = highmask.repeat(5,1)\n",
    "\n",
    "c_ind = 0\n",
    "for c in c_grid:\n",
    "    print(f'c_ind {c_ind+1} out of {len(c_grid)}')\n",
    "    a_ind = 0\n",
    "    for alpha in alpha_grid:\n",
    "        print(f'alpha_ind {a_ind+1} out of {len(alpha_grid)}')\n",
    "        # load a unet for maskbackward\n",
    "        UNET = UNet(n_channels=1,n_classes=1,bilinear=True,skip=False)\n",
    "        unetpath = '/home/huangz78/checkpoints/unet_1_False.pth'\n",
    "        checkpoint = torch.load(unetpath)\n",
    "        UNET.load_state_dict(checkpoint['model_state_dict'])\n",
    "        UNET.train()\n",
    "    # highmask_refined,unet = mask_backward(highmask,xstar,unet=UNET, mnet=mnet,\\\n",
    "    #                   beta=1.,alpha=alpha,c=c,\\\n",
    "    #                   maxIter=maxIter_mb,seed=0,break_limit=maxIter_mb*3//5,\\\n",
    "    #                   lr=lr_mb,mode='UNET',budget=budget,normalize=False,\\\n",
    "    #                   verbose=True,dtyp=torch.float)\n",
    "        (l2loss[a_ind,c_ind],hfen[a_ind,c_ind]),sparsity[a_ind,c_ind] =\\\n",
    "                        mask_backward(highmask,xstar,unet=UNET, mnet=mnet,\\\n",
    "                          beta=1.,alpha=alpha,c=c,\\\n",
    "                          maxIter=maxIter_mb,seed=0,break_limit=np.inf,\\\n",
    "                          lr=lr_mb,mode='UNET',budget=budget,normalize=False,\\\n",
    "                          dtyp=torch.float,verbose=True,testmode='sigpy',hfen=True,\\\n",
    "                          return_loss_only=True)\n",
    "        a_ind += 1\n",
    "    print('\\n')\n",
    "    c_ind += 1"
   ]
  },
  {
   "cell_type": "code",
   "execution_count": null,
   "id": "5c504359",
   "metadata": {},
   "outputs": [],
   "source": [
    "# highmask = sigmoid_binarize(raw_normalize(mnet(z),budget=budget))\n",
    "randmask = torch.zeros(highmask.shape)\n",
    "for ind in range(highmask.shape[0]):\n",
    "    sampinds = np.random.choice(highmask.shape[1],budget,replace=False)\n",
    "    randmask[ind,sampinds] = 1\n",
    "lowfmask,_,_ = mask_naiveRand(xstar.shape[1]-corefreq,fix=budget,other=0,roll=True)\n",
    "lowfmask = lowfmask.repeat(highmask.shape[0],1)"
   ]
  },
  {
   "cell_type": "code",
   "execution_count": null,
   "id": "1d28570a",
   "metadata": {
    "scrolled": true
   },
   "outputs": [],
   "source": [
    "# full_highmask = mask_complete(highmask,320)\n",
    "full_randmask = mask_complete(randmask,320)\n",
    "full_lowfmask = mask_complete(lowfmask,320)\n",
    "\n",
    "(rand_l2,rand_hfen) = mask_eval(full_randmask,xstar,mode='sigpy',hfen=True)\n",
    "(lowf_l2,lowf_hfen) = mask_eval(full_lowfmask,xstar,mode='sigpy',hfen=True)\n",
    "# (gred_l2,gred_hfen) = mask_eval(full_gredmask.to(torch.float),xstar,mode='sigpy',hfen=True)\n",
    "print('mode = sigpy')\n",
    "\n",
    "print(rand_l2)\n",
    "print(lowf_l2)\n",
    "# print(gred_l2)"
   ]
  },
  {
   "cell_type": "code",
   "execution_count": null,
   "id": "f49f5879",
   "metadata": {},
   "outputs": [],
   "source": [
    "# mnet_loss = mask_eval(full_highmask,xstar,mode='UNET',UNET=UNET)\n",
    "# rand_loss = mask_eval(full_randmask,xstar,mode='UNET',UNET=UNET)\n",
    "# lowf_loss = mask_eval(full_lowfmask,xstar,mode='UNET',UNET=UNET)\n",
    "# print('mode = UNet')\n",
    "# mnet_loss = mask_eval(full_highmask,xstar,mode='sigpy')\n",
    "(rand_l2,rand_hfen) = mask_eval(full_randmask,xstar,mode='sigpy',hfen=True)\n",
    "(lowf_l2,lowf_hfen) = mask_eval(full_lowfmask,xstar,mode='sigpy',hfen=True)\n",
    "(gred_l2,gred_hfen) = mask_eval(full_gredmask.to(torch.float),xstar,mode='sigpy',hfen=True)\n",
    "print('mode = sigpy')\n",
    "# print(mnet_loss)\n",
    "\n",
    "print(rand_l2)\n",
    "print(lowf_l2)\n",
    "print(gred_l2)"
   ]
  },
  {
   "cell_type": "code",
   "execution_count": null,
   "id": "7ef3b987",
   "metadata": {
    "scrolled": true
   },
   "outputs": [],
   "source": [
    "plt.figure()\n",
    "plt.plot(alpha_grid,l2loss)\n",
    "plt.plot(alpha_grid,np.ones(alpha_grid.shape)*rand_l2,label='rand')\n",
    "plt.plot(alpha_grid,np.ones(alpha_grid.shape)*lowf_l2,label='low freq.')\n",
    "plt.plot(alpha_grid,np.ones(alpha_grid.shape)*gred_l2,label='greedy')\n",
    "plt.title('l2 loss of masks')\n",
    "plt.xscale('log')\n",
    "plt.legend(loc='best')\n",
    "\n",
    "plt.figure()\n",
    "plt.plot(alpha_grid,hfen)\n",
    "plt.plot(alpha_grid,np.ones(alpha_grid.shape)*rand_hfen,label='rand')\n",
    "plt.plot(alpha_grid,np.ones(alpha_grid.shape)*lowf_hfen,label='low freq.')\n",
    "plt.plot(alpha_grid,np.ones(alpha_grid.shape)*gred_hfen,label='greedy')\n",
    "plt.title('HFEN of masks')\n",
    "plt.xscale('log')\n",
    "plt.legend(loc='best')\n",
    "\n",
    "plt.figure()\n",
    "plt.plot(alpha_grid,sparsity,label='actual')\n",
    "plt.plot(alpha_grid,(corefreq+budget)/320*np.ones(alpha_grid.shape),label='target')\n",
    "plt.title('mask sparsity')\n",
    "plt.xscale('log')\n",
    "plt.legend(loc='best')"
   ]
  },
  {
   "cell_type": "code",
   "execution_count": null,
   "id": "12a5e9ba",
   "metadata": {},
   "outputs": [],
   "source": [
    "markers = ['H', 'D', 'P', 'X','+']\n",
    "plt.figure(figsize=(10,8))\n",
    "for c_ind in range(len(c_grid)):\n",
    "    plt.plot(alpha_grid,l2loss[:,c_ind],label='c='+str(c_grid[c_ind]),marker=markers[c_ind],markersize=7)\n",
    "plt.plot(alpha_grid,np.ones(alpha_grid.shape)*rand_l2,color='r',label='rand')\n",
    "plt.plot(alpha_grid,np.ones(alpha_grid.shape)*lowf_l2,color='g',label='low freq.')\n",
    "# plt.plot(alpha_grid,np.ones(alpha_grid.shape)*gred_l2,color='k',label='greedy')\n",
    "plt.title('l2 loss of masks')\n",
    "plt.xlabel('alpha')\n",
    "plt.xscale('log')\n",
    "plt.legend(loc='best')\n",
    "\n",
    "plt.figure(figsize=(10,8))\n",
    "for c_ind in range(len(c_grid)):\n",
    "    plt.plot(alpha_grid,hfen[:,c_ind],label='c='+str(c_grid[c_ind]),marker=markers[c_ind],markersize=7)\n",
    "plt.plot(alpha_grid,np.ones(alpha_grid.shape)*rand_hfen,color='r',label='rand')\n",
    "plt.plot(alpha_grid,np.ones(alpha_grid.shape)*lowf_hfen,color='g',label='low freq.')\n",
    "# plt.plot(alpha_grid,np.ones(alpha_grid.shape)*gred_hfen,color='k',label='greedy')\n",
    "plt.title('HFEN of masks')\n",
    "plt.xscale('log')\n",
    "plt.legend(loc='best')\n",
    "\n",
    "plt.figure(figsize=(10,8))\n",
    "for c_ind in range(len(c_grid)):\n",
    "    plt.plot(alpha_grid,sparsity[:,c_ind],label='c='+str(c_grid[c_ind]),marker=markers[c_ind],markersize=7)\n",
    "plt.plot(alpha_grid,(corefreq+budget)/320*np.ones(alpha_grid.shape),'-.',label='target')\n",
    "plt.title('mask sparsity')\n",
    "plt.xscale('log')\n",
    "plt.legend(loc='best')\n",
    "plt.xlabel('alpha')"
   ]
  },
  {
   "cell_type": "code",
   "execution_count": null,
   "id": "baa447b7",
   "metadata": {},
   "outputs": [],
   "source": [
    "np.log10(alpha_grid[-5])"
   ]
  },
  {
   "cell_type": "code",
   "execution_count": null,
   "id": "6ad08383",
   "metadata": {},
   "outputs": [],
   "source": [
    "from sigpy.mri.app import TotalVariationRecon\n",
    "xstar = imgs[0,:,:]/torch.max(torch.abs(imgs[0,:,:].flatten()))\n",
    "imgHeg, imgWid = xstar.shape[0], xstar.shape[1]\n",
    "mps = np.ones((1,imgHeg,imgWid))\n",
    "imgind = 15\n",
    "\n",
    "NN = 15\n",
    "Lambda_grid = 10**(np.linspace(-4,-2.5,NN))\n",
    "errors = np.zeros((NN))\n",
    "\n",
    "y = torch.fft.fftshift(F.fftn(xstar,dim=(0,1),norm='ortho'),dim=(0,1))    \n",
    "z = torch.zeros(y.shape).to(y.dtype)\n",
    "z[masks[imgind,:]==1,:] = y[masks[imgind,:]==1,:]  \n",
    "y_tmp = z.view(-1,imgHeg,imgWid).numpy()\n",
    "\n",
    "xstar = xstar.numpy()\n",
    "\n",
    "ind = 0\n",
    "for Lambda in Lambda_grid:    \n",
    "    x_tmp = np.fft.ifftshift( np.abs(TotalVariationRecon(y_tmp, mps, Lambda, show_pbar=False).run()) )  \n",
    "    errors[ind] = np.linalg.norm(x_tmp - xstar,'fro')/np.linalg.norm(xstar,'fro')\n",
    "    ind += 1\n",
    "    \n",
    "plt.figure()\n",
    "plt.plot(Lambda_grid,errors)\n",
    "plt.xscale('log')\n",
    "plt.show()"
   ]
  },
  {
   "cell_type": "markdown",
   "id": "c94de01d",
   "metadata": {},
   "source": [
    "### tune weight initialization function"
   ]
  },
  {
   "cell_type": "code",
   "execution_count": null,
   "id": "bef38636",
   "metadata": {},
   "outputs": [],
   "source": [
    "def mnet_weights_init(m):\n",
    "    classname = m.__class__.__name__\n",
    "    print(m)\n",
    "    if classname.find('Conv2d') != -1:\n",
    "        nn.init.normal_(m.weight.data, 0.0, 0.02)\n",
    "    elif classname.find('BatchNorm2d') != -1:\n",
    "        nn.init.normal_(m.weight.data, 1.0, 0.02)\n",
    "        nn.init.constant_(m.bias.data, 0)\n",
    "    elif classname.find('Linear') != -1:\n",
    "        nn.init.normal_(m.weight.data, 0.0, 0.02)\n",
    "        nn.init.constant_(m.bias.data, 0)"
   ]
  },
  {
   "cell_type": "code",
   "execution_count": null,
   "id": "757f12eb",
   "metadata": {},
   "outputs": [],
   "source": [
    "# reload(utils)\n",
    "# from utils import mnet_weights_init"
   ]
  },
  {
   "cell_type": "code",
   "execution_count": null,
   "id": "dfeb6eba",
   "metadata": {},
   "outputs": [],
   "source": [
    "corefreq = 8\n",
    "budget = 32\n",
    "\n",
    "mnet = MNet(beta=1,in_channels=2,out_size=320-corefreq, imgsize=(320,320),poolk=3)\n",
    "# mnet.apply(mnet_weights_init)\n",
    "# mnet.eval()\n",
    "mnet(torch.randn(1,2,320,320))"
   ]
  },
  {
   "cell_type": "markdown",
   "id": "e8ea2847",
   "metadata": {},
   "source": [
    "### old tests"
   ]
  },
  {
   "cell_type": "code",
   "execution_count": null,
   "id": "109f1b34",
   "metadata": {},
   "outputs": [],
   "source": [
    "from mask_backward_v3 import ThresholdBinarizeMask"
   ]
  },
  {
   "cell_type": "code",
   "execution_count": null,
   "id": "3646d351",
   "metadata": {},
   "outputs": [],
   "source": [
    "binarize = ThresholdBinarizeMask.apply\n",
    "x = torch.tensor([0.5,-0.5],requires_grad=True)"
   ]
  },
  {
   "cell_type": "code",
   "execution_count": null,
   "id": "6b4dda7b",
   "metadata": {},
   "outputs": [],
   "source": [
    "y = binarize(torch.sigmoid(3*x))\n",
    "ystar = torch.tensor([0.,1.])\n",
    "print(y)"
   ]
  },
  {
   "cell_type": "code",
   "execution_count": null,
   "id": "5bef508c",
   "metadata": {},
   "outputs": [],
   "source": [
    "loss = 1/2*torch.norm(y - ystar,p=2)\n",
    "optimizer = optim.SGD([{'params': x}], lr=1e-2, momentum=0)\n",
    "optimizer.zero_grad()\n",
    "loss.backward()"
   ]
  },
  {
   "cell_type": "code",
   "execution_count": null,
   "id": "43f6896c",
   "metadata": {},
   "outputs": [],
   "source": [
    "x.grad"
   ]
  },
  {
   "cell_type": "code",
   "execution_count": null,
   "id": "857d95e3",
   "metadata": {
    "scrolled": false
   },
   "outputs": [],
   "source": [
    "data_gt = np.load('/home/huangz78/data/data_gt.npz')\n",
    "picind = np.random.randint(199)\n",
    "xstar = data_gt['imgdata'][:,:,27]\n",
    "xstar = xstar/np.max(np.abs(xstar))\n",
    "# highmask = datafornn['labels'][picind,:]\n",
    "plt.figure()\n",
    "plt.imshow(xstar)\n",
    "plt.colorbar()\n",
    "plt.show()"
   ]
  },
  {
   "cell_type": "code",
   "execution_count": null,
   "id": "d38308c9",
   "metadata": {},
   "outputs": [],
   "source": [
    "# reload(maskbackward)\n",
    "# from maskbackward import mask_backward\n",
    "\n",
    "#mode UNET:\n",
    "\n",
    "reload(mask_backward_new)\n",
    "from mask_backward_new import mask_backward,mask_eval\n",
    "\n",
    "dtyp = torch.float\n",
    "# unroll_block = 8; Lambda=6.1e-4; rho=1e1\n",
    "\n",
    "# base = .05; expand = .15\n",
    "# highmask = torch.zeros((round(320*(1-base))),dtype=torch.double)\n",
    "# highmask[np.random.choice(round(320*(1-base)),round(320*expand),replace=False)] = 1\n",
    "\n",
    "highmask = mask_filter(fullmask,base=round(320*0.05),roll=True)\n",
    "print(highmask.shape)"
   ]
  },
  {
   "cell_type": "code",
   "execution_count": null,
   "id": "4b5e23c7",
   "metadata": {},
   "outputs": [],
   "source": [
    "n_channels = 1\n",
    "UNET =  UNet(n_channels=n_channels,n_classes=n_channels,bilinear=True,skip=False)\n",
    "checkpoint = torch.load('/home/huangz78/checkpoints/unet_' + str(n_channels) + '.pth')\n",
    "UNET.load_state_dict(checkpoint['model_state_dict'])\n",
    "UNET.eval()"
   ]
  },
  {
   "cell_type": "code",
   "execution_count": null,
   "id": "137ab9b6",
   "metadata": {},
   "outputs": [],
   "source": [
    "## quick comparison between ifft recon and unet recon\n",
    "imgHeg = 320; imgWid = 320\n",
    "fullmask = torch.tensor( mask_complete(highmask,imgHeg,dtyp=torch.float) )\n",
    "kplot(fullmask)\n",
    "print('sparsity of fullmask = ',fullmask.sum().item()/imgHeg)"
   ]
  },
  {
   "cell_type": "code",
   "execution_count": null,
   "id": "b4e35706",
   "metadata": {
    "scrolled": true
   },
   "outputs": [],
   "source": [
    "xstar = torch.tensor(xstar,dtype=dtyp)\n",
    "DTyp = torch.cfloat if dtyp==torch.float else torch.cdouble\n",
    "y = torch.fft.fftshift(F.fftn(xstar,dim=(0,1),norm='ortho'))\n",
    "z = torch.fft.ifftshift(torch.tensordot(torch.diag(fullmask).to(DTyp),y,dims=([1],[0])))\n",
    "kplot(y,roll=False,log=True)\n",
    "kplot(z,roll=True,log=True)"
   ]
  },
  {
   "cell_type": "code",
   "execution_count": null,
   "id": "16f3cb36",
   "metadata": {},
   "outputs": [],
   "source": [
    "imgHeg = 320; imgWid = 320\n",
    "x_ifft = torch.abs(F.ifftn(z,dim=(0,1),norm='ortho')).to(dtyp)\n",
    "x_unet = UNET(x_ifft.view(1,1,imgHeg,imgWid)).detach()\n",
    "\n",
    "print('error of x_ifft = ', torch.norm(torch.flatten(x_ifft)-torch.flatten(xstar),'fro')/torch.norm(xstar,'fro') )\n",
    "print('error of x_unet = ', torch.norm(torch.flatten(x_unet)-torch.flatten(xstar),'fro')/torch.norm(xstar,'fro') )"
   ]
  },
  {
   "cell_type": "code",
   "execution_count": null,
   "id": "267f7979",
   "metadata": {},
   "outputs": [],
   "source": [
    "from sigpy.mri.app import TotalVariationRecon\n",
    "NN = 50\n",
    "Lambda_grid = 10**np.linspace(-3.5,-3,NN)\n",
    "errRec = np.zeros((NN))\n",
    "ind = 1\n",
    "\n",
    "mps  = np.ones((1,imgHeg,imgWid))\n",
    "y_sp = np.reshape(z.numpy(),(-1,imgHeg,imgWid))\n",
    "for Lambda in Lambda_grid:\n",
    "# Lambda = 10**(-6.31) \n",
    "# Lambda = 10**(-3.2755) # np.log10(Lambda_grid[np.argmin(errRec)])\n",
    "    print('{} out of {}'.format(ind,NN))\n",
    "    x_sp = np.fft.fftshift( np.abs(TotalVariationRecon(y_sp, mps, Lambda,show_pbar=False).run()) ) \n",
    "    x_sp = torch.tensor(x_sp)\n",
    "    errRec[ind-1] = torch.norm(torch.flatten(x_sp)-torch.flatten(xstar),'fro')/torch.norm(xstar,'fro')\n",
    "    ind += 1\n",
    "#     print('error of x_sp = ', torch.norm(torch.flatten(x_sp)-torch.flatten(xstar),'fro')/torch.norm(xstar,'fro'))\n",
    "\n",
    "plt.figure()\n",
    "plt.xscale('log')\n",
    "plt.plot(Lambda_grid,errRec)"
   ]
  },
  {
   "cell_type": "code",
   "execution_count": null,
   "id": "2a9cbbe6",
   "metadata": {
    "scrolled": true
   },
   "outputs": [],
   "source": [
    "np.linspace(-6,-4,gridnum)[8]"
   ]
  },
  {
   "cell_type": "code",
   "execution_count": null,
   "id": "58b31e07",
   "metadata": {
    "scrolled": true
   },
   "outputs": [],
   "source": [
    "reload(mask_backward_new)\n",
    "from mask_backward_new import mask_backward,mask_eval\n",
    "\n",
    "maxIter = 200\n",
    "gridnum = 10\n",
    "alpha_grid = 10**np.linspace(-4.6,-4.5,gridnum)\n",
    "sr_rec = np.zeros((gridnum))\n",
    "mloss_rec = np.zeros(gridnum)\n",
    "\n",
    "ind = 0\n",
    "for alpha in alpha_grid:\n",
    "    print('[{}/{}]  alpha {}'.format(ind+1,gridnum,alpha))\n",
    "    highmask_refined,refine_mloss,init_loss = mask_backward(highmask,xstar,\\\n",
    "                          beta=1., alpha=alpha,maxIter=maxIter,seed=0,break_limit=maxIter//2,\\\n",
    "                          lr=5e-4,mode='UNET',\\\n",
    "                          verbose=False,dtyp=dtyp)\n",
    "    print('Difference between masks: \\n',highmask_refined - highmask)\n",
    "#     print('Refined mask is: \\n',highmask_refined)\n",
    "    mloss_rec[ind] = refine_mloss\n",
    "    sr_rec[ind] = (torch.sum(highmask_refined).item() + 24)/320\n",
    "    ind += 1"
   ]
  },
  {
   "cell_type": "code",
   "execution_count": null,
   "id": "3d67331f",
   "metadata": {},
   "outputs": [],
   "source": [
    "plt.figure()\n",
    "plt.scatter(alpha_grid,mloss_rec,label='refined')\n",
    "plt.scatter(alpha_grid,init_loss*np.ones(mloss_rec.shape),label='init.')\n",
    "plt.title('mask loss')\n",
    "plt.xscale('log')\n",
    "plt.legend(loc='best')\n",
    "plt.show()\n",
    "\n",
    "plt.figure()\n",
    "plt.scatter(alpha_grid,sr_rec,label='refined')\n",
    "plt.scatter(alpha_grid,0.25*np.ones(mloss_rec.shape),label='init.')\n",
    "plt.title('mask sampling ratio')\n",
    "plt.xscale('log')\n",
    "plt.legend(loc='best')\n",
    "plt.show()"
   ]
  },
  {
   "cell_type": "markdown",
   "id": "fb5a2164",
   "metadata": {},
   "source": [
    "### mask binarize test"
   ]
  },
  {
   "cell_type": "code",
   "execution_count": null,
   "id": "aedc86d2",
   "metadata": {},
   "outputs": [],
   "source": [
    "from torch.autograd import Function\n",
    "class ThresholdBinarizeMask(Function):\n",
    "    def __init__(self):\n",
    "        \"\"\"\n",
    "            Straight through estimator.\n",
    "            The forward step binarizes the real-valued mask.\n",
    "            The backward step estimate the non differentiable > operator using sigmoid with large slope (10).\n",
    "        \"\"\"\n",
    "        super(ThresholdBinarizeMask, self).__init__()\n",
    "\n",
    "    @staticmethod\n",
    "    def forward(ctx, input):\n",
    "        batch_size = len(input)\n",
    "        results = [] \n",
    "\n",
    "        for i in range(batch_size):\n",
    "            x = input[i:i+1]\n",
    "            result = (x > .5).float()\n",
    "            results.append(result)\n",
    "\n",
    "        results = torch.cat(results, dim=0)\n",
    "#         ctx.save_for_backward(input)\n",
    "        return results  \n",
    "\n",
    "    @staticmethod\n",
    "    def backward(ctx, grad_output):\n",
    "        slope = 1\n",
    "#         input = ctx.saved_tensors\n",
    "\n",
    "        # derivative of M\n",
    "        current_grad = slope\n",
    "\n",
    "        return current_grad * grad_output"
   ]
  },
  {
   "cell_type": "code",
   "execution_count": null,
   "id": "17b7a3a5",
   "metadata": {},
   "outputs": [],
   "source": [
    "threshold = ThresholdBinarizeMask.apply"
   ]
  },
  {
   "cell_type": "code",
   "execution_count": null,
   "id": "feaa130f",
   "metadata": {},
   "outputs": [],
   "source": [
    "x = torch.tensor([.1,.3,.7,.9,.6,.5,.21,.43])\n",
    "x.requires_grad = True\n",
    "b = threshold(x)"
   ]
  },
  {
   "cell_type": "code",
   "execution_count": null,
   "id": "8bc31801",
   "metadata": {},
   "outputs": [],
   "source": [
    "y = torch.tensor([1., 1., 1., 1., 0., 1., 0., 1.])\n",
    "loss = torch.norm((y-b),p=2)**2"
   ]
  },
  {
   "cell_type": "code",
   "execution_count": null,
   "id": "1b8e1e3e",
   "metadata": {},
   "outputs": [],
   "source": [
    "optimizer = optim.SGD([{'params': x}], lr=1e-2)"
   ]
  },
  {
   "cell_type": "code",
   "execution_count": null,
   "id": "5d07e440",
   "metadata": {},
   "outputs": [],
   "source": [
    "optimizer.zero_grad()\n",
    "loss.backward()\n",
    "print('old x: ', x)\n",
    "print('grad: ', x.grad)\n",
    "optimizer.step()\n",
    "print('updated x: ', x)"
   ]
  },
  {
   "cell_type": "markdown",
   "id": "b1924327",
   "metadata": {},
   "source": [
    "### arXiv"
   ]
  },
  {
   "cell_type": "code",
   "execution_count": null,
   "id": "ed92d80b",
   "metadata": {},
   "outputs": [],
   "source": [
    "reload(mask_backward_new)\n",
    "from mask_backward_new import mask_backward\n",
    "\n",
    "# mode ADMM:\n",
    "\n",
    "highmask = torch.zeros((round(320*0.9)))\n",
    "highmask[np.random.choice(round(320*0.9),int(320*.1),replace=False)] = 1\n",
    "\n",
    "naive_mloss = mask_eval(mask_complete(highmask.to(torch.double),320),xstar,unroll_block=unroll_block,Lambda=Lambda,rho=rho) * 100\n",
    "highmask_refined,refine_mloss = mask_backward(highmask,xstar,\\\n",
    "                          beta=1., alpha=1e1,maxIter=200,unroll_block=unroll_block,seed=0,break_limit=100,\\\n",
    "                          lr=5e-4,mode='ADMM',Lambda=Lambda,rho=rho,\\\n",
    "                          verbose=True,perturb=False,perturb_freq=5,eps=1e-2)"
   ]
  },
  {
   "cell_type": "code",
   "execution_count": null,
   "id": "7072d201",
   "metadata": {},
   "outputs": [],
   "source": [
    "# vary sampling ratio, observe RMSE for the same image.\n",
    "reload(mask_backward_new)\n",
    "from mask_backward_new import mask_backward\n",
    "\n",
    "base=0.1\n",
    "r_grid = np.array([0.1,0.15,0.2])\n",
    "naive_mloss = np.zeros((r_grid.size))\n",
    "refine_mloss = np.zeros((r_grid.size))\n",
    "\n",
    "sampRatio = np.zeros((r_grid.size))\n",
    "\n",
    "unroll_block = 6; Lambda=6.1e-4; rho=1e1; lr = 5e-2\n",
    "maxIter = 300; break_limit = round(maxIter/3)\n",
    "\n",
    "np.random.seed(0)\n",
    "\n",
    "ind = 0\n",
    "for r in r_grid:\n",
    "    print('\\n r {}, the {} item out of {}'.format(r,ind+1,r_grid.size))\n",
    "    highmask = torch.zeros((round(320*(1-base))))\n",
    "    highmask[np.random.choice(round(320*(1-base)),int(320*r),replace=False)] = 1\n",
    "    \n",
    "    naive_mloss[ind] = mask_eval(mask_complete(highmask.to(torch.double),320),xstar,unroll_block=unroll_block,Lambda=Lambda,rho=rho) * 100\n",
    "    highmask_refined,refine_mloss[ind] = mask_backward(highmask,xstar,seed=0,\\\n",
    "                              beta=1., alpha=9.5e0,maxIter=maxIter,unroll_block=unroll_block,break_limit=break_limit,\\\n",
    "                              lr=lr,mode='ADMM',Lambda=Lambda,rho=rho,\\\n",
    "                              verbose=True,perturb=False,perturb_freq=5,eps=1e-2)\n",
    "    sampRatio[ind] = (highmask_refined.sum().item() + round(320*0.1))/320\n",
    "    ind += 1"
   ]
  },
  {
   "cell_type": "code",
   "execution_count": null,
   "id": "852ae68b",
   "metadata": {
    "scrolled": true
   },
   "outputs": [],
   "source": [
    "print('sampRatio: ',sampRatio)\n",
    "plt.figure()\n",
    "plt.scatter(r_grid,naive_mloss,label='naive')\n",
    "plt.scatter(sampRatio,refine_mloss,label='refined')\n",
    "plt.legend(bbox_to_anchor=(1.04,0.5), loc=\"center left\")"
   ]
  },
  {
   "cell_type": "code",
   "execution_count": null,
   "id": "0c546e89",
   "metadata": {
    "scrolled": true
   },
   "outputs": [],
   "source": [
    "## find a good alpha for l1 penalty\n",
    "reload(mask_backward_new); reload(utils);\n",
    "from mask_backward_new import mask_backward\n",
    "alpha_grid = np.linspace(1,10,10)\n",
    "sparsity_ = np.zeros(alpha_grid.size)\n",
    "change_count = np.zeros(alpha_grid.size)\n",
    "\n",
    "unroll_block = 6; Lambda=6.1e-4; rho=1e1; lr = 5e-2\n",
    "maxIter = 300; break_limit = round(maxIter/2)\n",
    "# add samp. ratio. = .1 ---> best alpha = ?\n",
    "# add samp. ratio. = .2 ---> best alpha = ?\n",
    "# add samp. ratio. = .2 ---> best alpha = ?\n",
    "\n",
    "base = 0.05\n",
    "additional = 0.125\n",
    "\n",
    "highmask = torch.zeros((round(320*(1-base))))\n",
    "highmask[np.random.choice(round(320*(1-base)),round(320*additional),replace=False)] = 1\n",
    "\n",
    "ind = 0\n",
    "for alpha in alpha_grid:\n",
    "    print('\\n\\talpha = {}'.format(alpha))\n",
    "    highmask_refined,_ = mask_backward(highmask,xstar,\\\n",
    "                  beta=1, alpha=alpha,maxIter=maxIter,unroll_block=unroll_block,seed=0,break_limit=break_limit,\\\n",
    "                  lr=lr,mode='ADMM',Lambda=Lambda,rho=rho,\\\n",
    "                  perturb=False,perturb_freq=10,verbose=True)\n",
    "    sparsity_[ind] = mask_complete(highmask_refined.to(torch.double),320).sum().item()/320\n",
    "    change_count[ind] = torch.abs(highmask_refined - highmask).sum().item()\n",
    "    ind += 1"
   ]
  },
  {
   "cell_type": "code",
   "execution_count": null,
   "id": "5cf34f13",
   "metadata": {},
   "outputs": [],
   "source": [
    "plt.figure()\n",
    "plt.scatter(alpha_grid,sparsity_,label='end')\n",
    "plt.scatter(alpha_grid,(base+additional)*np.ones(alpha_grid.size),label='start')\n",
    "plt.title('sparsity')\n",
    "# plt.xscale('log')\n",
    "plt.legend(bbox_to_anchor=(1.04,0.5), loc=\"center left\")\n",
    "\n",
    "plt.figure()\n",
    "plt.scatter(alpha_grid,change_count)\n",
    "# plt.xscale('log')\n",
    "plt.title('change count')"
   ]
  },
  {
   "cell_type": "code",
   "execution_count": null,
   "id": "5f7dad76",
   "metadata": {},
   "outputs": [],
   "source": [
    "naive_mloss = mask_eval(mask_complete(highmask,imgHeg,dtyp=dtyp),xstar,mode='UNET',UNET=UNET,dtyp=dtyp) * 100\n",
    "print('naive mask loss = ',naive_mloss)"
   ]
  },
  {
   "cell_type": "code",
   "execution_count": null,
   "id": "debbebdf",
   "metadata": {
    "scrolled": true
   },
   "outputs": [],
   "source": [
    "### verify that UNET works fine\n",
    "z = apply_mask(full_gredmask,yfull,mode='c')\n",
    "xs = torch.abs(F.ifftn(F.ifftshift(z),dim=(1,2),norm='ortho'))\n",
    "xs = torch.reshape(xs,(xs.shape[0],1,xs.shape[1],xs.shape[2]))\n",
    "\n",
    "UNET.eval()\n",
    "imgind = 0\n",
    "xrecon = UNET(xs)\n",
    "plt.figure()\n",
    "plt.title('recon')\n",
    "plt.imshow(xrecon.detach().numpy()[imgind,0,:,:])\n",
    "plt.colorbar()\n",
    "plt.show()\n",
    "\n",
    "plt.figure()\n",
    "plt.title('gt')\n",
    "plt.imshow(xstar.detach().numpy()[imgind,:,:])\n",
    "plt.colorbar()\n",
    "plt.show()\n",
    "print(torch.norm(xrecon[imgind,0,:,:]-xstar[imgind,:,:],'fro')/torch.norm(xstar[imgind,:,:],'fro').item())"
   ]
  },
  {
   "cell_type": "code",
   "execution_count": null,
   "id": "66f24cae",
   "metadata": {},
   "outputs": [],
   "source": [
    "reload(utils)\n",
    "from utils import hfen"
   ]
  },
  {
   "cell_type": "code",
   "execution_count": null,
   "id": "c24bcd3f",
   "metadata": {},
   "outputs": [],
   "source": [
    "torch.squeeze(xrecon)[0,:,:].shape"
   ]
  },
  {
   "cell_type": "code",
   "execution_count": null,
   "id": "66395d8d",
   "metadata": {
    "scrolled": true
   },
   "outputs": [],
   "source": [
    "hfen(torch.squeeze(xrecon)[imgind,:,:],xstar[imgind,:,:],base=0)"
   ]
  }
 ],
 "metadata": {
  "kernelspec": {
   "display_name": "Python 3",
   "language": "python",
   "name": "python3"
  },
  "language_info": {
   "codemirror_mode": {
    "name": "ipython",
    "version": 3
   },
   "file_extension": ".py",
   "mimetype": "text/x-python",
   "name": "python",
   "nbconvert_exporter": "python",
   "pygments_lexer": "ipython3",
   "version": "3.7.5"
  }
 },
 "nbformat": 4,
 "nbformat_minor": 5
}
