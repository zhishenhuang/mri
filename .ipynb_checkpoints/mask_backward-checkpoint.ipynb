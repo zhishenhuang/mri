{
 "cells": [
  {
   "cell_type": "code",
   "execution_count": 1,
   "id": "20d065d5",
   "metadata": {},
   "outputs": [],
   "source": [
    "import numpy as np\n",
    "import argparse\n",
    "import os\n",
    "import sys\n",
    "import random\n",
    "import torch\n",
    "import torch.fft as F\n",
    "from importlib import reload\n",
    "from torch.nn.functional import relu\n",
    "import torch.nn as nn\n",
    "import torch.nn.functional as Func\n",
    "import torch.optim as optim\n",
    "import utils,mask_backward_new\n",
    "import matplotlib.pyplot as plt\n",
    "# from maskbackward import mask_backward\n",
    "from mask_backward_new import mask_backward, mask_eval\n",
    "from utils import mask_complete , mask_makebinary, kplot, mask_filter, raw_normalize,\\\n",
    "                    get_x_f_from_yfull, mask_naiveRand, apply_mask, sigmoid_binarize, compute_hfen\n",
    "\n",
    "sys.path.insert(0,'/home/huangz78/mri/unet/')\n",
    "from unet_model import UNet\n",
    "\n",
    "torch.manual_seed(0)\n",
    "np.random.seed(0)\n",
    "random.seed(0)"
   ]
  },
  {
   "cell_type": "code",
   "execution_count": 2,
   "id": "1dc8642b",
   "metadata": {},
   "outputs": [
    {
     "data": {
      "text/plain": [
       "array([-5.5, -5.3, -5.1, -4.9, -4.7, -4.5, -4.3, -4.1, -3.9, -3.7, -3.5])"
      ]
     },
     "execution_count": 2,
     "metadata": {},
     "output_type": "execute_result"
    }
   ],
   "source": [
    "np.linspace(-5.5,-3.5,11)"
   ]
  },
  {
   "cell_type": "markdown",
   "id": "c8012b9c",
   "metadata": {},
   "source": [
    "#### import data to test mask_backward function"
   ]
  },
  {
   "cell_type": "code",
   "execution_count": null,
   "id": "dd1440f8",
   "metadata": {},
   "outputs": [],
   "source": [
    "# data_gt = np.load('/home/huangz78/data/data_gt.npz')\n",
    "# datafornn = np.load('/home/huangz78/data/datafornn.npz')\n",
    "data = np.load('/home/huangz78/data/traindata_x.npz')\n",
    "dtyp = torch.float\n",
    "xfull = torch.tensor(data['xfull'],dtype=dtyp)\n",
    "fullmask = torch.tensor(data['mask'])"
   ]
  },
  {
   "cell_type": "markdown",
   "id": "2b82c1b5",
   "metadata": {},
   "source": [
    "##### greedy mask and relevant data"
   ]
  },
  {
   "cell_type": "code",
   "execution_count": 2,
   "id": "4143de8c",
   "metadata": {},
   "outputs": [],
   "source": [
    "from sklearn.model_selection import train_test_split\n",
    "\n",
    "imgs   = torch.tensor( np.load('/home/huangz78/data/data_gt.npz')['imgdata'] ).permute(2,0,1)\n",
    "masks  = torch.tensor( np.load('/home/huangz78/data/data_gt_greedymask.npz')['mask'].T ) # labels are already rolled\n",
    "imgNum = imgs.shape[0]\n",
    "traininds, testinds = train_test_split(np.arange(imgNum),random_state=0,shuffle=True,train_size=round(imgNum*0.8))"
   ]
  },
  {
   "cell_type": "code",
   "execution_count": 3,
   "id": "4dc59fe0",
   "metadata": {
    "scrolled": true
   },
   "outputs": [
    {
     "name": "stdout",
     "output_type": "stream",
     "text": [
      "MNet loaded successfully from: /home/huangz78/checkpoints/mnet.pth\n",
      "Unet loaded successfully from: /home/huangz78/checkpoints/unet_1_False.pth\n",
      "nn's are ready\n"
     ]
    }
   ],
   "source": [
    "### load a mnet\n",
    "from mnet import MNet\n",
    "# mnet = MNet(out_size=320-24)\n",
    "mnet = MNet(beta=1,in_channels=2,out_size=320-24, imgsize=(320,320),poolk=3)\n",
    "mnetpath = '/home/huangz78/checkpoints/mnet.pth'\n",
    "checkpoint = torch.load(mnetpath)\n",
    "mnet.load_state_dict(checkpoint['model_state_dict'])\n",
    "print('MNet loaded successfully from: ' + mnetpath)\n",
    "mnet.eval()\n",
    "\n",
    "### load a unet for maskbackward\n",
    "UNET = UNet(n_channels=1,n_classes=1,bilinear=True,skip=False)\n",
    "# unetpath = '/home/huangz78/checkpoints/unet_'+ str(UNET.n_channels) +'.pth'\n",
    "unetpath = '/home/huangz78/checkpoints/unet_1_False.pth'\n",
    "\n",
    "# UNET = UNet(n_channels=1,n_classes=1,bilinear=False,skip=True)\n",
    "# unetpath = '/home/huangz78/checkpoints/unet_1_True.pth'\n",
    "checkpoint = torch.load(unetpath)\n",
    "UNET.load_state_dict(checkpoint['model_state_dict'])\n",
    "print('Unet loaded successfully from: ' + unetpath )\n",
    "UNET.train()\n",
    "print('nn\\'s are ready')"
   ]
  },
  {
   "cell_type": "code",
   "execution_count": null,
   "id": "d0a3ef93",
   "metadata": {},
   "outputs": [],
   "source": [
    "# reload(utils)\n",
    "# from utils import hfen\n",
    "reload(mask_backward_new)\n",
    "from mask_backward_new import mask_backward, mask_eval"
   ]
  },
  {
   "cell_type": "code",
   "execution_count": 4,
   "id": "4fe8a069",
   "metadata": {},
   "outputs": [],
   "source": [
    "# batchsize = 5\n",
    "# xstar = xfull[0:batchsize,:,:]\n",
    "xstar    = imgs[testinds[testinds.size//2:],:,:]\n",
    "for ind in range(xstar.shape[0]):\n",
    "    xstar[ind,:,:] = xstar[ind,:,:]/xstar[ind,:,:].max()\n",
    "full_gredmask = masks[testinds[testinds.size//2:],:]\n",
    "corefreq = 24\n",
    "budget   = 56\n",
    "yfull = torch.fft.fftshift(F.fftn(xstar,dim=(1,2),norm='ortho')).to(torch.cfloat) # y is ROLLED!\n",
    "lowfreqmask,_,_ = mask_naiveRand(xstar.shape[1],fix=corefreq,other=0,roll=True)\n",
    "\n",
    "z = apply_mask(lowfreqmask,yfull,mode='r')\n",
    "highmask = sigmoid_binarize(raw_normalize(mnet(z),budget=budget))\n",
    "randmask = torch.zeros(highmask.shape)\n",
    "for ind in range(highmask.shape[0]):\n",
    "    sampinds = np.random.choice(highmask.shape[1],int(highmask[ind,:].sum()),replace=False)\n",
    "    randmask[ind,sampinds] = 1\n",
    "lowfmask,_,_ = mask_naiveRand(xstar.shape[1]-corefreq,fix=torch.sum(highmask[0,:]),other=0,roll=True)\n",
    "lowfmask = lowfmask.repeat(highmask.shape[0],1)\n",
    "# x_lf     = get_x_f_from_yfull(lowfreqmask,yfull)\n",
    "# highmask = sigmoid_binarize(mnet(x_lf.view(batchsize,1,xstar.shape[1],xstar.shape[2])))\n",
    "\n",
    "NN         = 9\n",
    "alpha_grid = 10**(np.linspace(-5.5,-3,NN))\n",
    "c_grid     = np.array([1e-4,1e-3,1e-2,1e-1,1e0])\n",
    "l2loss   = np.zeros((NN,5))\n",
    "hfen = np.zeros((NN,5))\n",
    "sparsity = np.zeros((NN,5))\n",
    "########################################  \n",
    "## (1) mask_backward\n",
    "########################################    \n",
    "maxIter_mb = 15\n",
    "lr_mb      = 1e-2\n",
    "\n",
    "# alpha = 1e-5\n",
    "# c = 1e-2"
   ]
  },
  {
   "cell_type": "code",
   "execution_count": null,
   "id": "3503bb6f",
   "metadata": {
    "scrolled": true
   },
   "outputs": [],
   "source": [
    "mask_backward(highmask,xstar,unet=UNET, mnet=mnet,\\\n",
    "                          beta=1.,alpha=1e-4,c=1e-2,\\\n",
    "                          maxIter=maxIter_mb+10,seed=0,break_limit=np.inf,\\\n",
    "                          lr=lr_mb,mode='UNET',budget=budget,normalize=False,\\\n",
    "                          verbose=True,dtyp=torch.float,testmode='sigpy',hfen=True)"
   ]
  },
  {
   "cell_type": "code",
   "execution_count": null,
   "id": "62e184ce",
   "metadata": {
    "scrolled": false
   },
   "outputs": [
    {
     "name": "stdout",
     "output_type": "stream",
     "text": [
      "c_ind 1 out of 5\n",
      "alpha_ind 1 out of 9\n"
     ]
    },
    {
     "name": "stderr",
     "output_type": "stream",
     "text": [
      "/opt/anaconda/envs/pyenv/lib/python3.7/site-packages/torch/autograd/__init__.py:147: UserWarning: Casting complex values to real discards the imaginary part (Triggered internally at  /opt/conda/conda-bld/pytorch_1616554786529/work/aten/src/ATen/native/Copy.cpp:219.)\n",
      "  allow_unreachable=True, accumulate_grad=True)  # allow_unreachable flag\n"
     ]
    },
    {
     "name": "stdout",
     "output_type": "stream",
     "text": [
      "Iter 10, rows added: 0.1, rows reducted: 0.0\n",
      "Iter 11, rows added: 0.7, rows reducted: 0.1\n",
      "Iter 12, rows added: 12.65, rows reducted: 0.0\n",
      "Iter 13, rows added: 130.2, rows reducted: 0.05\n",
      "Iter 14, rows added: 78.55, rows reducted: 0.0\n",
      "Iter 15, rows added: 7.45, rows reducted: 0.0\n",
      "\n",
      "return at Iter ind:  15\n",
      "loss of returned mask: (0.00915240696204989, 0.0496024175095589)\n",
      "samp. ratio: 0.9671875, Recon. rel. err: 0.060508316646377694 \n",
      "\n",
      "alpha_ind 2 out of 9\n",
      "Iter 11, rows added: 0.7, rows reducted: 0.0\n",
      "Iter 12, rows added: 14.2, rows reducted: 0.0\n",
      "Iter 13, rows added: 60.45, rows reducted: 0.0\n",
      "Iter 14, rows added: 105.1, rows reducted: 7.85\n",
      "Iter 15, rows added: 32.75, rows reducted: 0.15\n",
      "\n",
      "return at Iter ind:  15\n",
      "loss of returned mask: (0.018273703625847623, 0.09272527920854942)\n",
      "samp. ratio: 0.89125, Recon. rel. err: 0.07882034908293895 \n",
      "\n",
      "alpha_ind 3 out of 9\n",
      "Iter 12, rows added: 1.9, rows reducted: 0.0\n",
      "Iter 13, rows added: 19.3, rows reducted: 0.0\n",
      "Iter 14, rows added: 141.45, rows reducted: 0.0\n",
      "Iter 15, rows added: 46.2, rows reducted: 0.0\n",
      "\n",
      "return at Iter ind:  15\n",
      "loss of returned mask: (0.014652057682252851, 0.06857771350000107)\n",
      "samp. ratio: 0.90265625, Recon. rel. err: 0.0556601364166934 \n",
      "\n",
      "alpha_ind 4 out of 9\n",
      "Iter 13, rows added: 1.8, rows reducted: 0.0\n",
      "Iter 14, rows added: 9.9, rows reducted: 0.0\n",
      "Iter 15, rows added: 29.2, rows reducted: 0.0\n",
      "\n",
      "return at Iter ind:  15\n",
      "loss of returned mask: (0.07347042434547858, 0.4232122961747534)\n",
      "samp. ratio: 0.3778125, Recon. rel. err: 0.06368043064565687 \n",
      "\n",
      "alpha_ind 5 out of 9\n",
      "Iter 10, rows added: 0.0, rows reducted: 0.15\n",
      "Iter 11, rows added: 0.0, rows reducted: 0.9\n",
      "Iter 12, rows added: 0.0, rows reducted: 0.8\n",
      "Iter 13, rows added: 0.0, rows reducted: 0.7\n",
      "Iter 14, rows added: 0.4, rows reducted: 0.35\n",
      "Iter 15, rows added: 2.55, rows reducted: 0.05\n",
      "\n",
      "return at Iter ind:  15\n",
      "loss of returned mask: (0.0924888164786006, 0.5555059313162793)\n",
      "samp. ratio: 0.25, Recon. rel. err: 0.07254080514988934 \n",
      "\n",
      "alpha_ind 6 out of 9\n",
      "Iter 9, rows added: 0.0, rows reducted: 0.25\n",
      "Iter 10, rows added: 0.0, rows reducted: 2.25\n",
      "Iter 11, rows added: 0.0, rows reducted: 6.25\n",
      "Iter 12, rows added: 0.0, rows reducted: 2.95\n",
      "Iter 13, rows added: 0.0, rows reducted: 1.75\n",
      "Iter 14, rows added: 0.0, rows reducted: 1.05\n",
      "Iter 15, rows added: 0.0, rows reducted: 1.15\n",
      "\n",
      "return at Iter ind:  15\n",
      "loss of returned mask: (0.0995838023741911, 0.6029475782980501)\n",
      "samp. ratio: 0.20109375, Recon. rel. err: 0.09520102438677158 \n",
      "\n",
      "alpha_ind 7 out of 9\n",
      "Iter 10, rows added: 0.0, rows reducted: 10.6\n",
      "Iter 11, rows added: 0.0, rows reducted: 17.55\n",
      "Iter 12, rows added: 0.0, rows reducted: 8.3\n",
      "Iter 13, rows added: 0.0, rows reducted: 4.65\n",
      "Iter 14, rows added: 0.0, rows reducted: 2.0\n",
      "Iter 15, rows added: 0.0, rows reducted: 2.0\n",
      "\n",
      "return at Iter ind:  15\n",
      "loss of returned mask: (0.1277416909594576, 0.7327544378222961)\n",
      "samp. ratio: 0.1090625, Recon. rel. err: 0.10798013403329207 \n",
      "\n",
      "alpha_ind 8 out of 9\n",
      "Iter 10, rows added: 0.0, rows reducted: 20.85\n",
      "Iter 11, rows added: 0.0, rows reducted: 31.25\n",
      "Iter 12, rows added: 0.0, rows reducted: 2.95\n",
      "Iter 13, rows added: 0.0, rows reducted: 0.75\n",
      "Iter 14, rows added: 0.0, rows reducted: 0.1\n",
      "Iter 15, rows added: 0.0, rows reducted: 0.1\n",
      "\n",
      "return at Iter ind:  15\n",
      "loss of returned mask: (0.14851414640146404, 0.7941857366178025)\n",
      "samp. ratio: 0.075, Recon. rel. err: 0.11295434115635959 \n",
      "\n",
      "alpha_ind 9 out of 9\n",
      "Iter 10, rows added: 0.0, rows reducted: 45.45\n",
      "Iter 11, rows added: 0.0, rows reducted: 10.55\n",
      "\n",
      "return at Iter ind:  15\n",
      "loss of returned mask: (0.14851414369390986, 0.7941857073944957)\n",
      "samp. ratio: 0.075, Recon. rel. err: 0.11497222631259016 \n",
      "\n",
      "\n",
      "\n",
      "c_ind 2 out of 5\n",
      "alpha_ind 1 out of 9\n",
      "Iter 11, rows added: 0.15, rows reducted: 0.0\n",
      "Iter 12, rows added: 6.45, rows reducted: 0.0\n",
      "Iter 13, rows added: 58.25, rows reducted: 0.0\n",
      "Iter 14, rows added: 163.4, rows reducted: 0.0\n",
      "Iter 15, rows added: 8.7, rows reducted: 0.0\n",
      "\n",
      "return at Iter ind:  15\n",
      "loss of returned mask: (0.005745437903299129, 0.03963102686627769)\n",
      "samp. ratio: 0.99046875, Recon. rel. err: 0.05618118513552215 \n",
      "\n",
      "alpha_ind 2 out of 9\n",
      "Iter 11, rows added: 0.05, rows reducted: 0.0\n",
      "Iter 12, rows added: 10.55, rows reducted: 0.0\n",
      "Iter 13, rows added: 76.15, rows reducted: 0.0\n",
      "Iter 14, rows added: 137.3, rows reducted: 0.0\n",
      "Iter 15, rows added: 12.3, rows reducted: 0.0\n",
      "\n",
      "return at Iter ind:  15\n",
      "loss of returned mask: (0.006251165810288457, 0.04189652050161101)\n",
      "samp. ratio: 0.98859375, Recon. rel. err: 0.05319220422873184 \n",
      "\n",
      "alpha_ind 3 out of 9\n",
      "Iter 12, rows added: 3.65, rows reducted: 0.0\n",
      "Iter 13, rows added: 33.65, rows reducted: 0.0\n",
      "Iter 14, rows added: 149.35, rows reducted: 0.0\n",
      "Iter 15, rows added: 29.9, rows reducted: 0.0\n",
      "\n",
      "return at Iter ind:  15\n",
      "loss of returned mask: (0.012823211610969743, 0.06169060837279063)\n",
      "samp. ratio: 0.92671875, Recon. rel. err: 0.055994239445319484 \n",
      "\n",
      "alpha_ind 4 out of 9\n",
      "Iter 13, rows added: 2.2, rows reducted: 0.0\n",
      "Iter 14, rows added: 10.05, rows reducted: 0.0\n",
      "Iter 15, rows added: 30.45, rows reducted: 0.0\n",
      "\n",
      "return at Iter ind:  15\n",
      "loss of returned mask: (0.07274830326285173, 0.4168764817598925)\n",
      "samp. ratio: 0.3834375, Recon. rel. err: 0.06325900712855276 \n",
      "\n",
      "alpha_ind 5 out of 9\n",
      "Iter 10, rows added: 0.0, rows reducted: 0.2\n",
      "Iter 11, rows added: 0.0, rows reducted: 0.8\n",
      "Iter 12, rows added: 0.0, rows reducted: 0.85\n",
      "Iter 13, rows added: 0.0, rows reducted: 0.5\n",
      "Iter 14, rows added: 0.5, rows reducted: 0.5\n",
      "Iter 15, rows added: 2.4, rows reducted: 0.1\n",
      "\n",
      "return at Iter ind:  15\n",
      "loss of returned mask: (0.0924547620038638, 0.5557035772432817)\n",
      "samp. ratio: 0.24984375, Recon. rel. err: 0.07418999764798856 \n",
      "\n",
      "alpha_ind 6 out of 9\n",
      "Iter 9, rows added: 0.0, rows reducted: 0.05\n",
      "Iter 10, rows added: 0.0, rows reducted: 2.4\n",
      "Iter 11, rows added: 0.0, rows reducted: 6.2\n",
      "Iter 12, rows added: 0.0, rows reducted: 2.9\n",
      "Iter 13, rows added: 0.0, rows reducted: 1.9\n",
      "Iter 14, rows added: 0.0, rows reducted: 1.05\n",
      "Iter 15, rows added: 0.0, rows reducted: 1.15\n",
      "\n",
      "return at Iter ind:  15\n",
      "loss of returned mask: (0.09958379962615141, 0.6029475715597441)\n",
      "samp. ratio: 0.20109375, Recon. rel. err: 0.09617318958274267 \n",
      "\n",
      "alpha_ind 7 out of 9\n",
      "Iter 10, rows added: 0.0, rows reducted: 10.4\n",
      "Iter 11, rows added: 0.0, rows reducted: 17.75\n",
      "Iter 12, rows added: 0.0, rows reducted: 8.3\n",
      "Iter 13, rows added: 0.0, rows reducted: 4.65\n",
      "Iter 14, rows added: 0.0, rows reducted: 2.0\n",
      "Iter 15, rows added: 0.0, rows reducted: 2.0\n",
      "\n",
      "return at Iter ind:  15\n",
      "loss of returned mask: (0.12774170116955974, 0.7327545270831408)\n",
      "samp. ratio: 0.1090625, Recon. rel. err: 0.10807197185418707 \n",
      "\n",
      "alpha_ind 8 out of 9\n",
      "Iter 10, rows added: 0.0, rows reducted: 20.85\n",
      "Iter 11, rows added: 0.0, rows reducted: 31.25\n",
      "Iter 12, rows added: 0.0, rows reducted: 2.95\n",
      "Iter 13, rows added: 0.0, rows reducted: 0.75\n",
      "Iter 14, rows added: 0.0, rows reducted: 0.1\n",
      "Iter 15, rows added: 0.0, rows reducted: 0.1\n",
      "\n",
      "return at Iter ind:  15\n",
      "loss of returned mask: (0.1485141374415923, 0.7941856755378452)\n",
      "samp. ratio: 0.075, Recon. rel. err: 0.11294730360032966 \n",
      "\n",
      "alpha_ind 9 out of 9\n",
      "Iter 10, rows added: 0.0, rows reducted: 45.45\n",
      "Iter 11, rows added: 0.0, rows reducted: 10.55\n",
      "\n",
      "return at Iter ind:  15\n",
      "loss of returned mask: (0.1485141410505616, 0.7941856810000556)\n",
      "samp. ratio: 0.075, Recon. rel. err: 0.11498064594082766 \n",
      "\n",
      "\n",
      "\n",
      "c_ind 3 out of 5\n",
      "alpha_ind 1 out of 9\n",
      "Iter 12, rows added: 6.05, rows reducted: 0.0\n",
      "Iter 13, rows added: 56.85, rows reducted: 0.0\n",
      "Iter 14, rows added: 123.1, rows reducted: 0.0\n",
      "Iter 15, rows added: 35.15, rows reducted: 0.0\n",
      "\n",
      "return at Iter ind:  15\n",
      "loss of returned mask: (0.011345002956797714, 0.05575121160309533)\n",
      "samp. ratio: 0.94109375, Recon. rel. err: 0.052612825014771034 \n",
      "\n",
      "alpha_ind 2 out of 9\n",
      "Iter 11, rows added: 0.05, rows reducted: 0.0\n",
      "Iter 12, rows added: 5.4, rows reducted: 0.0\n",
      "Iter 13, rows added: 26.7, rows reducted: 0.0\n",
      "Iter 14, rows added: 140.25, rows reducted: 0.0\n",
      "Iter 15, rows added: 41.65, rows reducted: 0.0\n",
      "\n",
      "return at Iter ind:  15\n",
      "loss of returned mask: (0.013489814789959304, 0.06180563193910591)\n",
      "samp. ratio: 0.91890625, Recon. rel. err: 0.05249874566063257 \n",
      "\n",
      "alpha_ind 3 out of 9\n"
     ]
    }
   ],
   "source": [
    "c_ind = 0\n",
    "for c in c_grid:\n",
    "    print(f'c_ind {c_ind+1} out of {len(c_grid)}')\n",
    "    a_ind = 0\n",
    "    for alpha in alpha_grid:\n",
    "        print(f'alpha_ind {a_ind+1} out of {len(alpha_grid)}')\n",
    "        # load a unet for maskbackward\n",
    "        UNET = UNet(n_channels=1,n_classes=1,bilinear=True,skip=False)\n",
    "        unetpath = '/home/huangz78/checkpoints/unet_1_False.pth'\n",
    "        checkpoint = torch.load(unetpath)\n",
    "        UNET.load_state_dict(checkpoint['model_state_dict'])\n",
    "        UNET.train()\n",
    "    # highmask_refined,unet = mask_backward(highmask,xstar,unet=UNET, mnet=mnet,\\\n",
    "    #                   beta=1.,alpha=alpha,c=c,\\\n",
    "    #                   maxIter=maxIter_mb,seed=0,break_limit=maxIter_mb*3//5,\\\n",
    "    #                   lr=lr_mb,mode='UNET',budget=budget,normalize=False,\\\n",
    "    #                   verbose=True,dtyp=torch.float)\n",
    "        (l2loss[a_ind,c_ind],hfen[a_ind,c_ind]),sparsity[a_ind,c_ind] =\\\n",
    "                        mask_backward(highmask,xstar,unet=UNET, mnet=mnet,\\\n",
    "                          beta=1.,alpha=alpha,c=c,\\\n",
    "                          maxIter=maxIter_mb,seed=0,break_limit=np.inf,\\\n",
    "                          lr=lr_mb,mode='UNET',budget=budget,normalize=False,\\\n",
    "                          dtyp=torch.float,verbose=True,testmode='sigpy',hfen=True)\n",
    "        a_ind += 1\n",
    "    print('\\n')\n",
    "    c_ind += 1"
   ]
  },
  {
   "cell_type": "code",
   "execution_count": null,
   "id": "6f135b8d",
   "metadata": {},
   "outputs": [],
   "source": [
    "full_highmask = mask_complete(highmask,320)\n",
    "full_randmask = mask_complete(randmask,320)\n",
    "full_lowfmask = mask_complete(lowfmask,320)"
   ]
  },
  {
   "cell_type": "code",
   "execution_count": null,
   "id": "39b5fa52",
   "metadata": {
    "scrolled": false
   },
   "outputs": [],
   "source": [
    "# mnet_loss = mask_eval(full_highmask,xstar,mode='UNET',UNET=UNET)\n",
    "# rand_loss = mask_eval(full_randmask,xstar,mode='UNET',UNET=UNET)\n",
    "# lowf_loss = mask_eval(full_lowfmask,xstar,mode='UNET',UNET=UNET)\n",
    "# print('mode = UNet')\n",
    "mnet_loss = mask_eval(full_highmask,xstar,mode='sigpy')\n",
    "rand_loss = mask_eval(full_randmask,xstar,mode='sigpy')\n",
    "lowf_loss = mask_eval(full_lowfmask,xstar,mode='sigpy')\n",
    "lowg_loss = mask_eval(full_gredmask,xstar,mode='sigpy')\n",
    "print('mode = sigpy')\n",
    "print(mnet_loss)\n",
    "print(rand_loss)\n",
    "print(lowf_loss)\n",
    "print(lowg_loss)"
   ]
  },
  {
   "cell_type": "code",
   "execution_count": null,
   "id": "c5b4ea0a",
   "metadata": {},
   "outputs": [],
   "source": [
    "plt.figure()\n",
    "plt.plot(alpha_grid,maskloss)\n",
    "plt.title('mask loss')\n",
    "plt.xscale('log')\n",
    "\n",
    "plt.figure()\n",
    "plt.plot(alpha_grid,sparsity,label='actual')\n",
    "plt.plot(alpha_grid,(corefreq+budget)/320*np.ones(alpha_grid.shape),label='target')\n",
    "plt.title('mask sparsity')\n",
    "plt.xscale('log')"
   ]
  },
  {
   "cell_type": "code",
   "execution_count": null,
   "id": "3a5d0f9b",
   "metadata": {},
   "outputs": [],
   "source": [
    "markers = ['H', 'D', 'P', 'X','+']\n",
    "plt.figure(figsize=(10,8))\n",
    "for c_ind in range(len(c_grid)):\n",
    "    plt.plot(alpha_grid,maskloss[:,c_ind],label='c='+str(c_grid[c_ind]),marker=markers[c_ind],markersize=7)\n",
    "plt.xlabel('alpha')\n",
    "plt.title('mask loss')\n",
    "plt.xscale('log')\n",
    "plt.legend(loc='best')\n",
    "\n",
    "plt.figure(figsize=(10,8))\n",
    "for c_ind in range(len(c_grid)):\n",
    "    plt.plot(alpha_grid,sparsity[:,c_ind],label='c='+str(c_grid[c_ind]),marker=markers[c_ind],markersize=7)\n",
    "plt.plot(alpha_grid,(corefreq+budget)/320*np.ones(alpha_grid.shape),'-.',label='target')\n",
    "plt.title('mask sparsity')\n",
    "plt.xscale('log')\n",
    "plt.legend(loc='best')\n",
    "plt.xlabel('alpha')"
   ]
  },
  {
   "cell_type": "code",
   "execution_count": null,
   "id": "22f5393e",
   "metadata": {},
   "outputs": [],
   "source": []
  },
  {
   "cell_type": "code",
   "execution_count": null,
   "id": "75d1751c",
   "metadata": {},
   "outputs": [],
   "source": [
    "(highmask_refined - highmask).abs().sum()\n",
    "\n",
    "ind = 0\n",
    "highmask_refined[ind,:] - highmask[ind,:]"
   ]
  },
  {
   "cell_type": "markdown",
   "id": "a2df3b83",
   "metadata": {},
   "source": [
    "### old tests"
   ]
  },
  {
   "cell_type": "code",
   "execution_count": null,
   "id": "d33db28f",
   "metadata": {
    "scrolled": false
   },
   "outputs": [],
   "source": [
    "data_gt = np.load('/home/huangz78/data/data_gt.npz')\n",
    "picind = np.random.randint(199)\n",
    "xstar = data_gt['imgdata'][:,:,27]\n",
    "xstar = xstar/np.max(np.abs(xstar))\n",
    "# highmask = datafornn['labels'][picind,:]\n",
    "plt.figure()\n",
    "plt.imshow(xstar)\n",
    "plt.colorbar()\n",
    "plt.show()"
   ]
  },
  {
   "cell_type": "code",
   "execution_count": null,
   "id": "13bb646c",
   "metadata": {},
   "outputs": [],
   "source": [
    "# reload(maskbackward)\n",
    "# from maskbackward import mask_backward\n",
    "\n",
    "#mode UNET:\n",
    "\n",
    "reload(mask_backward_new)\n",
    "from mask_backward_new import mask_backward,mask_eval\n",
    "\n",
    "dtyp = torch.float\n",
    "# unroll_block = 8; Lambda=6.1e-4; rho=1e1\n",
    "\n",
    "# base = .05; expand = .15\n",
    "# highmask = torch.zeros((round(320*(1-base))),dtype=torch.double)\n",
    "# highmask[np.random.choice(round(320*(1-base)),round(320*expand),replace=False)] = 1\n",
    "\n",
    "highmask = mask_filter(fullmask,base=round(320*0.05),roll=True)\n",
    "print(highmask.shape)"
   ]
  },
  {
   "cell_type": "code",
   "execution_count": null,
   "id": "82a31102",
   "metadata": {},
   "outputs": [],
   "source": [
    "n_channels = 1\n",
    "UNET =  UNet(n_channels=n_channels,n_classes=n_channels,bilinear=True,skip=False)\n",
    "checkpoint = torch.load('/home/huangz78/checkpoints/unet_' + str(n_channels) + '.pth')\n",
    "UNET.load_state_dict(checkpoint['model_state_dict'])\n",
    "UNET.eval()"
   ]
  },
  {
   "cell_type": "code",
   "execution_count": null,
   "id": "78a5b1f2",
   "metadata": {},
   "outputs": [],
   "source": [
    "## quick comparison between ifft recon and unet recon\n",
    "imgHeg = 320; imgWid = 320\n",
    "fullmask = torch.tensor( mask_complete(highmask,imgHeg,dtyp=torch.float) )\n",
    "kplot(fullmask)\n",
    "print('sparsity of fullmask = ',fullmask.sum().item()/imgHeg)"
   ]
  },
  {
   "cell_type": "code",
   "execution_count": null,
   "id": "c1793a90",
   "metadata": {
    "scrolled": true
   },
   "outputs": [],
   "source": [
    "xstar = torch.tensor(xstar,dtype=dtyp)\n",
    "DTyp = torch.cfloat if dtyp==torch.float else torch.cdouble\n",
    "y = torch.fft.fftshift(F.fftn(xstar,dim=(0,1),norm='ortho'))\n",
    "z = torch.fft.ifftshift(torch.tensordot(torch.diag(fullmask).to(DTyp),y,dims=([1],[0])))\n",
    "kplot(y,roll=False,log=True)\n",
    "kplot(z,roll=True,log=True)"
   ]
  },
  {
   "cell_type": "code",
   "execution_count": null,
   "id": "63be7b4a",
   "metadata": {},
   "outputs": [],
   "source": [
    "imgHeg = 320; imgWid = 320\n",
    "x_ifft = torch.abs(F.ifftn(z,dim=(0,1),norm='ortho')).to(dtyp)\n",
    "x_unet = UNET(x_ifft.view(1,1,imgHeg,imgWid)).detach()\n",
    "\n",
    "print('error of x_ifft = ', torch.norm(torch.flatten(x_ifft)-torch.flatten(xstar),'fro')/torch.norm(xstar,'fro') )\n",
    "print('error of x_unet = ', torch.norm(torch.flatten(x_unet)-torch.flatten(xstar),'fro')/torch.norm(xstar,'fro') )"
   ]
  },
  {
   "cell_type": "code",
   "execution_count": null,
   "id": "fb742f81",
   "metadata": {},
   "outputs": [],
   "source": [
    "from sigpy.mri.app import TotalVariationRecon\n",
    "NN = 50\n",
    "Lambda_grid = 10**np.linspace(-3.5,-3,NN)\n",
    "errRec = np.zeros((NN))\n",
    "ind = 1\n",
    "\n",
    "mps  = np.ones((1,imgHeg,imgWid))\n",
    "y_sp = np.reshape(z.numpy(),(-1,imgHeg,imgWid))\n",
    "for Lambda in Lambda_grid:\n",
    "# Lambda = 10**(-6.31) \n",
    "# Lambda = 10**(-3.2755) # np.log10(Lambda_grid[np.argmin(errRec)])\n",
    "    print('{} out of {}'.format(ind,NN))\n",
    "    x_sp = np.fft.fftshift( np.abs(TotalVariationRecon(y_sp, mps, Lambda,show_pbar=False).run()) ) \n",
    "    x_sp = torch.tensor(x_sp)\n",
    "    errRec[ind-1] = torch.norm(torch.flatten(x_sp)-torch.flatten(xstar),'fro')/torch.norm(xstar,'fro')\n",
    "    ind += 1\n",
    "#     print('error of x_sp = ', torch.norm(torch.flatten(x_sp)-torch.flatten(xstar),'fro')/torch.norm(xstar,'fro'))\n",
    "\n",
    "plt.figure()\n",
    "plt.xscale('log')\n",
    "plt.plot(Lambda_grid,errRec)"
   ]
  },
  {
   "cell_type": "code",
   "execution_count": null,
   "id": "734e9e4f",
   "metadata": {
    "scrolled": true
   },
   "outputs": [],
   "source": [
    "np.linspace(-6,-4,gridnum)[8]"
   ]
  },
  {
   "cell_type": "code",
   "execution_count": null,
   "id": "44d1d749",
   "metadata": {
    "scrolled": true
   },
   "outputs": [],
   "source": [
    "reload(mask_backward_new)\n",
    "from mask_backward_new import mask_backward,mask_eval\n",
    "\n",
    "maxIter = 200\n",
    "gridnum = 10\n",
    "alpha_grid = 10**np.linspace(-4.6,-4.5,gridnum)\n",
    "sr_rec = np.zeros((gridnum))\n",
    "mloss_rec = np.zeros(gridnum)\n",
    "\n",
    "ind = 0\n",
    "for alpha in alpha_grid:\n",
    "    print('[{}/{}]  alpha {}'.format(ind+1,gridnum,alpha))\n",
    "    highmask_refined,refine_mloss,init_loss = mask_backward(highmask,xstar,\\\n",
    "                          beta=1., alpha=alpha,maxIter=maxIter,seed=0,break_limit=maxIter//2,\\\n",
    "                          lr=5e-4,mode='UNET',\\\n",
    "                          verbose=False,dtyp=dtyp)\n",
    "    print('Difference between masks: \\n',highmask_refined - highmask)\n",
    "#     print('Refined mask is: \\n',highmask_refined)\n",
    "    mloss_rec[ind] = refine_mloss\n",
    "    sr_rec[ind] = (torch.sum(highmask_refined).item() + 24)/320\n",
    "    ind += 1"
   ]
  },
  {
   "cell_type": "code",
   "execution_count": null,
   "id": "5935fc98",
   "metadata": {},
   "outputs": [],
   "source": [
    "plt.figure()\n",
    "plt.scatter(alpha_grid,mloss_rec,label='refined')\n",
    "plt.scatter(alpha_grid,init_loss*np.ones(mloss_rec.shape),label='init.')\n",
    "plt.title('mask loss')\n",
    "plt.xscale('log')\n",
    "plt.legend(loc='best')\n",
    "plt.show()\n",
    "\n",
    "plt.figure()\n",
    "plt.scatter(alpha_grid,sr_rec,label='refined')\n",
    "plt.scatter(alpha_grid,0.25*np.ones(mloss_rec.shape),label='init.')\n",
    "plt.title('mask sampling ratio')\n",
    "plt.xscale('log')\n",
    "plt.legend(loc='best')\n",
    "plt.show()"
   ]
  },
  {
   "cell_type": "markdown",
   "id": "9a303225",
   "metadata": {},
   "source": [
    "### arXiv"
   ]
  },
  {
   "cell_type": "code",
   "execution_count": null,
   "id": "30db1734",
   "metadata": {},
   "outputs": [],
   "source": [
    "reload(mask_backward_new)\n",
    "from mask_backward_new import mask_backward\n",
    "\n",
    "# mode ADMM:\n",
    "\n",
    "highmask = torch.zeros((round(320*0.9)))\n",
    "highmask[np.random.choice(round(320*0.9),int(320*.1),replace=False)] = 1\n",
    "\n",
    "naive_mloss = mask_eval(mask_complete(highmask.to(torch.double),320),xstar,unroll_block=unroll_block,Lambda=Lambda,rho=rho) * 100\n",
    "highmask_refined,refine_mloss = mask_backward(highmask,xstar,\\\n",
    "                          beta=1., alpha=1e1,maxIter=200,unroll_block=unroll_block,seed=0,break_limit=100,\\\n",
    "                          lr=5e-4,mode='ADMM',Lambda=Lambda,rho=rho,\\\n",
    "                          verbose=True,perturb=False,perturb_freq=5,eps=1e-2)"
   ]
  },
  {
   "cell_type": "code",
   "execution_count": null,
   "id": "62ae4570",
   "metadata": {},
   "outputs": [],
   "source": [
    "# vary sampling ratio, observe RMSE for the same image.\n",
    "reload(mask_backward_new)\n",
    "from mask_backward_new import mask_backward\n",
    "\n",
    "base=0.1\n",
    "r_grid = np.array([0.1,0.15,0.2])\n",
    "naive_mloss = np.zeros((r_grid.size))\n",
    "refine_mloss = np.zeros((r_grid.size))\n",
    "\n",
    "sampRatio = np.zeros((r_grid.size))\n",
    "\n",
    "unroll_block = 6; Lambda=6.1e-4; rho=1e1; lr = 5e-2\n",
    "maxIter = 300; break_limit = round(maxIter/3)\n",
    "\n",
    "np.random.seed(0)\n",
    "\n",
    "ind = 0\n",
    "for r in r_grid:\n",
    "    print('\\n r {}, the {} item out of {}'.format(r,ind+1,r_grid.size))\n",
    "    highmask = torch.zeros((round(320*(1-base))))\n",
    "    highmask[np.random.choice(round(320*(1-base)),int(320*r),replace=False)] = 1\n",
    "    \n",
    "    naive_mloss[ind] = mask_eval(mask_complete(highmask.to(torch.double),320),xstar,unroll_block=unroll_block,Lambda=Lambda,rho=rho) * 100\n",
    "    highmask_refined,refine_mloss[ind] = mask_backward(highmask,xstar,seed=0,\\\n",
    "                              beta=1., alpha=9.5e0,maxIter=maxIter,unroll_block=unroll_block,break_limit=break_limit,\\\n",
    "                              lr=lr,mode='ADMM',Lambda=Lambda,rho=rho,\\\n",
    "                              verbose=True,perturb=False,perturb_freq=5,eps=1e-2)\n",
    "    sampRatio[ind] = (highmask_refined.sum().item() + round(320*0.1))/320\n",
    "    ind += 1"
   ]
  },
  {
   "cell_type": "code",
   "execution_count": null,
   "id": "fec8e3f2",
   "metadata": {
    "scrolled": true
   },
   "outputs": [],
   "source": [
    "print('sampRatio: ',sampRatio)\n",
    "plt.figure()\n",
    "plt.scatter(r_grid,naive_mloss,label='naive')\n",
    "plt.scatter(sampRatio,refine_mloss,label='refined')\n",
    "plt.legend(bbox_to_anchor=(1.04,0.5), loc=\"center left\")"
   ]
  },
  {
   "cell_type": "code",
   "execution_count": null,
   "id": "c7a52d1b",
   "metadata": {
    "scrolled": true
   },
   "outputs": [],
   "source": [
    "## find a good alpha for l1 penalty\n",
    "reload(mask_backward_new); reload(utils);\n",
    "from mask_backward_new import mask_backward\n",
    "alpha_grid = np.linspace(1,10,10)\n",
    "sparsity_ = np.zeros(alpha_grid.size)\n",
    "change_count = np.zeros(alpha_grid.size)\n",
    "\n",
    "unroll_block = 6; Lambda=6.1e-4; rho=1e1; lr = 5e-2\n",
    "maxIter = 300; break_limit = round(maxIter/2)\n",
    "# add samp. ratio. = .1 ---> best alpha = ?\n",
    "# add samp. ratio. = .2 ---> best alpha = ?\n",
    "# add samp. ratio. = .2 ---> best alpha = ?\n",
    "\n",
    "base = 0.05\n",
    "additional = 0.125\n",
    "\n",
    "highmask = torch.zeros((round(320*(1-base))))\n",
    "highmask[np.random.choice(round(320*(1-base)),round(320*additional),replace=False)] = 1\n",
    "\n",
    "ind = 0\n",
    "for alpha in alpha_grid:\n",
    "    print('\\n\\talpha = {}'.format(alpha))\n",
    "    highmask_refined,_ = mask_backward(highmask,xstar,\\\n",
    "                  beta=1, alpha=alpha,maxIter=maxIter,unroll_block=unroll_block,seed=0,break_limit=break_limit,\\\n",
    "                  lr=lr,mode='ADMM',Lambda=Lambda,rho=rho,\\\n",
    "                  perturb=False,perturb_freq=10,verbose=True)\n",
    "    sparsity_[ind] = mask_complete(highmask_refined.to(torch.double),320).sum().item()/320\n",
    "    change_count[ind] = torch.abs(highmask_refined - highmask).sum().item()\n",
    "    ind += 1"
   ]
  },
  {
   "cell_type": "code",
   "execution_count": null,
   "id": "ae3f1e5f",
   "metadata": {},
   "outputs": [],
   "source": [
    "plt.figure()\n",
    "plt.scatter(alpha_grid,sparsity_,label='end')\n",
    "plt.scatter(alpha_grid,(base+additional)*np.ones(alpha_grid.size),label='start')\n",
    "plt.title('sparsity')\n",
    "# plt.xscale('log')\n",
    "plt.legend(bbox_to_anchor=(1.04,0.5), loc=\"center left\")\n",
    "\n",
    "plt.figure()\n",
    "plt.scatter(alpha_grid,change_count)\n",
    "# plt.xscale('log')\n",
    "plt.title('change count')"
   ]
  },
  {
   "cell_type": "code",
   "execution_count": null,
   "id": "7f45eeb4",
   "metadata": {},
   "outputs": [],
   "source": [
    "naive_mloss = mask_eval(mask_complete(highmask,imgHeg,dtyp=dtyp),xstar,mode='UNET',UNET=UNET,dtyp=dtyp) * 100\n",
    "print('naive mask loss = ',naive_mloss)"
   ]
  },
  {
   "cell_type": "code",
   "execution_count": null,
   "id": "6e473b41",
   "metadata": {
    "scrolled": true
   },
   "outputs": [],
   "source": [
    "### verify that UNET works fine\n",
    "z = apply_mask(full_gredmask,yfull,mode='c')\n",
    "xs = torch.abs(F.ifftn(F.ifftshift(z),dim=(1,2),norm='ortho'))\n",
    "xs = torch.reshape(xs,(xs.shape[0],1,xs.shape[1],xs.shape[2]))\n",
    "\n",
    "UNET.eval()\n",
    "imgind = 0\n",
    "xrecon = UNET(xs)\n",
    "plt.figure()\n",
    "plt.title('recon')\n",
    "plt.imshow(xrecon.detach().numpy()[imgind,0,:,:])\n",
    "plt.colorbar()\n",
    "plt.show()\n",
    "\n",
    "plt.figure()\n",
    "plt.title('gt')\n",
    "plt.imshow(xstar.detach().numpy()[imgind,:,:])\n",
    "plt.colorbar()\n",
    "plt.show()\n",
    "print(torch.norm(xrecon[imgind,0,:,:]-xstar[imgind,:,:],'fro')/torch.norm(xstar[imgind,:,:],'fro').item())"
   ]
  },
  {
   "cell_type": "code",
   "execution_count": null,
   "id": "13a7e454",
   "metadata": {},
   "outputs": [],
   "source": [
    "reload(utils)\n",
    "from utils import hfen"
   ]
  },
  {
   "cell_type": "code",
   "execution_count": null,
   "id": "d56083b4",
   "metadata": {},
   "outputs": [],
   "source": [
    "torch.squeeze(xrecon)[0,:,:].shape"
   ]
  },
  {
   "cell_type": "code",
   "execution_count": null,
   "id": "2021b5e2",
   "metadata": {
    "scrolled": true
   },
   "outputs": [],
   "source": [
    "hfen(torch.squeeze(xrecon)[imgind,:,:],xstar[imgind,:,:],base=0)"
   ]
  }
 ],
 "metadata": {
  "kernelspec": {
   "display_name": "Python 3",
   "language": "python",
   "name": "python3"
  },
  "language_info": {
   "codemirror_mode": {
    "name": "ipython",
    "version": 3
   },
   "file_extension": ".py",
   "mimetype": "text/x-python",
   "name": "python",
   "nbconvert_exporter": "python",
   "pygments_lexer": "ipython3",
   "version": "3.7.5"
  }
 },
 "nbformat": 4,
 "nbformat_minor": 5
}
